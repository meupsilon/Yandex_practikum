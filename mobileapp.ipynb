{
 "cells": [
  {
   "cell_type": "markdown",
   "metadata": {},
   "source": [
    "# Анализ поведения пользователей в приложении по продаже продуктов. "
   ]
  },
  {
   "cell_type": "markdown",
   "metadata": {},
   "source": [
    "## Введение"
   ]
  },
  {
   "cell_type": "markdown",
   "metadata": {},
   "source": [
    "Цель: \n",
    "- для приложения по продаже продуктов питания определить пользовательское поведение\n",
    "- определить влияние изменения шрифта в приложении на изменение поведения пользователей"
   ]
  },
  {
   "cell_type": "markdown",
   "metadata": {},
   "source": [
    "План:\n",
    "- провести выгрузку и предобработку данных\n",
    "- изучить и проверить данные\n",
    "- изучить воронку событий\n",
    "- оценить результаты эксперимента"
   ]
  },
  {
   "cell_type": "markdown",
   "metadata": {},
   "source": [
    "## Выгрузка и предобработка данных "
   ]
  },
  {
   "cell_type": "code",
   "execution_count": 1,
   "metadata": {},
   "outputs": [],
   "source": [
    "# импортирую необходимые библиотеки\n",
    "import pandas as pd\n",
    "import numpy as np\n",
    "import matplotlib as mpl\n",
    "import matplotlib.pyplot as plt\n",
    "import seaborn as sns\n",
    "import plotly.express as px\n",
    "from scipy import stats as st\n",
    "from IPython.display import set_matplotlib_formats\n",
    "from pandas.plotting import register_matplotlib_converters\n",
    "register_matplotlib_converters()\n",
    "import warnings; warnings.filterwarnings(action = 'ignore') \n",
    "from plotly import graph_objects as go\n",
    "from matplotlib.ticker import MultipleLocator\n"
   ]
  },
  {
   "cell_type": "code",
   "execution_count": 2,
   "metadata": {},
   "outputs": [],
   "source": [
    "pd.set_option('display.max_colwidth', False)"
   ]
  },
  {
   "cell_type": "code",
   "execution_count": 3,
   "metadata": {},
   "outputs": [],
   "source": [
    "data = pd.read_csv('/datasets/logs_exp.csv', sep='\\t')\n"
   ]
  },
  {
   "cell_type": "code",
   "execution_count": 4,
   "metadata": {},
   "outputs": [
    {
     "name": "stdout",
     "output_type": "stream",
     "text": [
      "<class 'pandas.core.frame.DataFrame'>\n",
      "RangeIndex: 244126 entries, 0 to 244125\n",
      "Data columns (total 4 columns):\n",
      " #   Column          Non-Null Count   Dtype \n",
      "---  ------          --------------   ----- \n",
      " 0   EventName       244126 non-null  object\n",
      " 1   DeviceIDHash    244126 non-null  int64 \n",
      " 2   EventTimestamp  244126 non-null  int64 \n",
      " 3   ExpId           244126 non-null  int64 \n",
      "dtypes: int64(3), object(1)\n",
      "memory usage: 7.5+ MB\n"
     ]
    },
    {
     "data": {
      "text/html": [
       "<div>\n",
       "<style scoped>\n",
       "    .dataframe tbody tr th:only-of-type {\n",
       "        vertical-align: middle;\n",
       "    }\n",
       "\n",
       "    .dataframe tbody tr th {\n",
       "        vertical-align: top;\n",
       "    }\n",
       "\n",
       "    .dataframe thead th {\n",
       "        text-align: right;\n",
       "    }\n",
       "</style>\n",
       "<table border=\"1\" class=\"dataframe\">\n",
       "  <thead>\n",
       "    <tr style=\"text-align: right;\">\n",
       "      <th></th>\n",
       "      <th>EventName</th>\n",
       "      <th>DeviceIDHash</th>\n",
       "      <th>EventTimestamp</th>\n",
       "      <th>ExpId</th>\n",
       "    </tr>\n",
       "  </thead>\n",
       "  <tbody>\n",
       "    <tr>\n",
       "      <th>0</th>\n",
       "      <td>MainScreenAppear</td>\n",
       "      <td>4575588528974610257</td>\n",
       "      <td>1564029816</td>\n",
       "      <td>246</td>\n",
       "    </tr>\n",
       "    <tr>\n",
       "      <th>1</th>\n",
       "      <td>MainScreenAppear</td>\n",
       "      <td>7416695313311560658</td>\n",
       "      <td>1564053102</td>\n",
       "      <td>246</td>\n",
       "    </tr>\n",
       "    <tr>\n",
       "      <th>2</th>\n",
       "      <td>PaymentScreenSuccessful</td>\n",
       "      <td>3518123091307005509</td>\n",
       "      <td>1564054127</td>\n",
       "      <td>248</td>\n",
       "    </tr>\n",
       "    <tr>\n",
       "      <th>3</th>\n",
       "      <td>CartScreenAppear</td>\n",
       "      <td>3518123091307005509</td>\n",
       "      <td>1564054127</td>\n",
       "      <td>248</td>\n",
       "    </tr>\n",
       "    <tr>\n",
       "      <th>4</th>\n",
       "      <td>PaymentScreenSuccessful</td>\n",
       "      <td>6217807653094995999</td>\n",
       "      <td>1564055322</td>\n",
       "      <td>248</td>\n",
       "    </tr>\n",
       "  </tbody>\n",
       "</table>\n",
       "</div>"
      ],
      "text/plain": [
       "                 EventName         DeviceIDHash  EventTimestamp  ExpId\n",
       "0  MainScreenAppear         4575588528974610257  1564029816      246  \n",
       "1  MainScreenAppear         7416695313311560658  1564053102      246  \n",
       "2  PaymentScreenSuccessful  3518123091307005509  1564054127      248  \n",
       "3  CartScreenAppear         3518123091307005509  1564054127      248  \n",
       "4  PaymentScreenSuccessful  6217807653094995999  1564055322      248  "
      ]
     },
     "execution_count": 4,
     "metadata": {},
     "output_type": "execute_result"
    }
   ],
   "source": [
    "#посмотрю общую информацию о таблице\n",
    "data.info()\n",
    "data.head(5)"
   ]
  },
  {
   "cell_type": "code",
   "execution_count": 5,
   "metadata": {},
   "outputs": [
    {
     "name": "stdout",
     "output_type": "stream",
     "text": [
      "Пропуски EventName         0\n",
      "DeviceIDHash      0\n",
      "EventTimestamp    0\n",
      "ExpId             0\n",
      "dtype: int64\n"
     ]
    }
   ],
   "source": [
    "print('Пропуски', data.isna().sum())"
   ]
  },
  {
   "cell_type": "code",
   "execution_count": 6,
   "metadata": {},
   "outputs": [
    {
     "name": "stdout",
     "output_type": "stream",
     "text": [
      "Количество дубликатов: 413\n",
      "Доля дубликатов: 0.0016917493425526163\n"
     ]
    }
   ],
   "source": [
    "print('Количество дубликатов:', data.duplicated().sum())\n",
    "print('Доля дубликатов:',data.duplicated().sum() / len(data))"
   ]
  },
  {
   "cell_type": "markdown",
   "metadata": {},
   "source": [
    "Я импортировала необходимые библиотеки, выгрузила датасет /datasets/logs_exp.csv' и провела первичный обзор данных.\n",
    "\n",
    "Обнаружила 413 дубликатов, 0 пропусков и не подходящий формат данных в EventTimestamp "
   ]
  },
  {
   "cell_type": "markdown",
   "metadata": {},
   "source": [
    "### Предобработка данных"
   ]
  },
  {
   "cell_type": "markdown",
   "metadata": {},
   "source": [
    "Проведу предобработку данных"
   ]
  },
  {
   "cell_type": "code",
   "execution_count": 7,
   "metadata": {},
   "outputs": [],
   "source": [
    "#посмотрю названия столбцов \n",
    "#data.columns.to_list()"
   ]
  },
  {
   "cell_type": "code",
   "execution_count": 8,
   "metadata": {},
   "outputs": [],
   "source": [
    "#приведу названия столбцов к \"хорошему тону\"\n",
    "\n",
    "#data.columns = ['event', 'user_id', 'date_time', 'group_id']\n",
    "#data.head()"
   ]
  },
  {
   "cell_type": "code",
   "execution_count": 9,
   "metadata": {},
   "outputs": [],
   "source": [
    "data = data.rename(columns={'EventName': 'event', 'DeviceIDHash': 'user_id', \n",
    "                            'EventTimestamp': 'date_time', 'ExpId': 'group_id'})"
   ]
  },
  {
   "cell_type": "code",
   "execution_count": 10,
   "metadata": {},
   "outputs": [
    {
     "data": {
      "text/html": [
       "<div>\n",
       "<style scoped>\n",
       "    .dataframe tbody tr th:only-of-type {\n",
       "        vertical-align: middle;\n",
       "    }\n",
       "\n",
       "    .dataframe tbody tr th {\n",
       "        vertical-align: top;\n",
       "    }\n",
       "\n",
       "    .dataframe thead th {\n",
       "        text-align: right;\n",
       "    }\n",
       "</style>\n",
       "<table border=\"1\" class=\"dataframe\">\n",
       "  <thead>\n",
       "    <tr style=\"text-align: right;\">\n",
       "      <th></th>\n",
       "      <th>event</th>\n",
       "      <th>user_id</th>\n",
       "      <th>date_time</th>\n",
       "      <th>group_id</th>\n",
       "      <th>date</th>\n",
       "    </tr>\n",
       "  </thead>\n",
       "  <tbody>\n",
       "    <tr>\n",
       "      <th>0</th>\n",
       "      <td>MainScreenAppear</td>\n",
       "      <td>4575588528974610257</td>\n",
       "      <td>2019-07-25 04:43:36</td>\n",
       "      <td>246</td>\n",
       "      <td>2019-07-25</td>\n",
       "    </tr>\n",
       "  </tbody>\n",
       "</table>\n",
       "</div>"
      ],
      "text/plain": [
       "              event              user_id           date_time  group_id  \\\n",
       "0  MainScreenAppear  4575588528974610257 2019-07-25 04:43:36  246        \n",
       "\n",
       "        date  \n",
       "0 2019-07-25  "
      ]
     },
     "execution_count": 10,
     "metadata": {},
     "output_type": "execute_result"
    }
   ],
   "source": [
    "# изменю формат данных в солбце date_time\n",
    "data['date_time'] = pd.to_datetime(data['date_time'], unit='s')\n",
    "\n",
    "# добавим поле с датой:\n",
    "\n",
    "data['date'] = pd.to_datetime(data['date_time'].dt.date)\n",
    "data.head(1)"
   ]
  },
  {
   "cell_type": "code",
   "execution_count": 11,
   "metadata": {},
   "outputs": [],
   "source": [
    "#удалю дубликаты их доля менее 1%\n",
    "data = data.drop_duplicates().reset_index(drop=True)\n"
   ]
  },
  {
   "cell_type": "code",
   "execution_count": 12,
   "metadata": {},
   "outputs": [
    {
     "data": {
      "text/html": [
       "<div>\n",
       "<style scoped>\n",
       "    .dataframe tbody tr th:only-of-type {\n",
       "        vertical-align: middle;\n",
       "    }\n",
       "\n",
       "    .dataframe tbody tr th {\n",
       "        vertical-align: top;\n",
       "    }\n",
       "\n",
       "    .dataframe thead th {\n",
       "        text-align: right;\n",
       "    }\n",
       "</style>\n",
       "<table border=\"1\" class=\"dataframe\">\n",
       "  <thead>\n",
       "    <tr style=\"text-align: right;\">\n",
       "      <th></th>\n",
       "      <th>user_id</th>\n",
       "      <th>group_id</th>\n",
       "    </tr>\n",
       "  </thead>\n",
       "  <tbody>\n",
       "  </tbody>\n",
       "</table>\n",
       "</div>"
      ],
      "text/plain": [
       "Empty DataFrame\n",
       "Columns: [user_id, group_id]\n",
       "Index: []"
      ]
     },
     "execution_count": 12,
     "metadata": {},
     "output_type": "execute_result"
    }
   ],
   "source": [
    "#на всякий проверю нет ли пользовтелей, которы попали в несколько групп\n",
    "data.groupby('user_id')['group_id'].nunique().reset_index().query('group_id > 1')"
   ]
  },
  {
   "cell_type": "markdown",
   "metadata": {},
   "source": [
    "На данном этапе я провела предобработку данных:\n",
    "- привела названия столбцов к \"хорошему тону\"\n",
    "- изменила тип данных в столбце date_time\n",
    "- удалила дубликаты\n",
    "- добавила столбец, который потребуется для дальнейших расчетов\n",
    "- пользователей, которые оказались в разных группах нет"
   ]
  },
  {
   "cell_type": "markdown",
   "metadata": {},
   "source": [
    "## Изучение и проверка данных"
   ]
  },
  {
   "cell_type": "code",
   "execution_count": 13,
   "metadata": {},
   "outputs": [
    {
     "name": "stdout",
     "output_type": "stream",
     "text": [
      "Всего событий: 243713\n"
     ]
    }
   ],
   "source": [
    "#Посмотрю сколько всего событий в логе\n",
    "print('Всего событий:',data.shape[0])"
   ]
  },
  {
   "cell_type": "code",
   "execution_count": 14,
   "metadata": {},
   "outputs": [
    {
     "name": "stdout",
     "output_type": "stream",
     "text": [
      "Всего пользователей: 7551\n"
     ]
    }
   ],
   "source": [
    " #Посмотрю сколько всего пользователей в логе\n",
    "print('Всего пользователей:', data['user_id'].nunique())"
   ]
  },
  {
   "cell_type": "code",
   "execution_count": 15,
   "metadata": {},
   "outputs": [
    {
     "name": "stdout",
     "output_type": "stream",
     "text": [
      "В среднем, событий на пользователя: 32.27559263673685\n"
     ]
    }
   ],
   "source": [
    "#Посмотрю сколько в среднем событий приходится на пользователя\n",
    "print('В среднем, событий на пользователя:', data.shape[0] / data['user_id'].nunique())"
   ]
  },
  {
   "cell_type": "code",
   "execution_count": 16,
   "metadata": {},
   "outputs": [
    {
     "data": {
      "text/plain": [
       "count    7551.000000\n",
       "mean     32.275593  \n",
       "std      65.154219  \n",
       "min      1.000000   \n",
       "25%      9.000000   \n",
       "50%      20.000000  \n",
       "75%      37.000000  \n",
       "max      2307.000000\n",
       "Name: event_count, dtype: float64"
      ]
     },
     "metadata": {},
     "output_type": "display_data"
    },
    {
     "data": {
      "image/png": "[encoded data removed]",
      "text/plain": [
       "<Figure size 1440x720 with 1 Axes>"
      ]
     },
     "metadata": {
      "needs_background": "light"
     },
     "output_type": "display_data"
    }
   ],
   "source": [
    "# гистограмма\n",
    "event_users = data.groupby('user_id').agg(event_count = ('event', 'count')).reset_index()\n",
    "\n",
    "display(event_users['event_count'].describe()) \n",
    "\n",
    "plt.figure(figsize=(20, 10))\n",
    "plt.title('Распределение количества событий на пользователя', loc='left')\n",
    "sns.distplot(event_users['event_count'], bins=50)\n",
    "plt.xlabel('Количество событий')                  \n",
    "plt.ylabel('Количество пользователей')             \n",
    "plt.show()"
   ]
  },
  {
   "cell_type": "markdown",
   "metadata": {},
   "source": [
    "Всего действий 7551, среднее количество 32. Минимальное - 1 действие. Максимальное - 2307. Кажется, что 2307 может искажать среднее.\n",
    "Медианное кол-во событий - 20. Думаю, что правильнее рассмотреть медианное кол-во действий \n"
   ]
  },
  {
   "cell_type": "markdown",
   "metadata": {},
   "source": [
    "#### Посмотрю, какой период данных у меня есть"
   ]
  },
  {
   "cell_type": "markdown",
   "metadata": {},
   "source": [
    "- Найду максимальную и минимальную дату. \n",
    "- Построю гистограмму по дате и времени. \n"
   ]
  },
  {
   "cell_type": "code",
   "execution_count": 17,
   "metadata": {},
   "outputs": [
    {
     "name": "stdout",
     "output_type": "stream",
     "text": [
      "Минимальная дата 2019-07-25 04:43:36\n",
      "Максимальная дата 2019-08-07 21:15:17\n"
     ]
    }
   ],
   "source": [
    "#дата начала и конца теста\n",
    "print('Минимальная дата', min(data['date_time']))\n",
    "print('Максимальная дата', max(data['date_time']))"
   ]
  },
  {
   "cell_type": "code",
   "execution_count": 18,
   "metadata": {},
   "outputs": [
    {
     "data": {
      "image/png": "[encoded data removed]",
      "text/plain": [
       "<Figure size 1440x720 with 1 Axes>"
      ]
     },
     "metadata": {
      "needs_background": "light"
     },
     "output_type": "display_data"
    }
   ],
   "source": [
    "# гистограммы по дате и времени:\n",
    "\n",
    "plt.title('Распределение логов по дате и времени', loc='left')\n",
    "data['date_time'].hist(bins=150, xrot=20, figsize=(20, 10),color='purple', alpha=0.4)\n",
    "plt.show()\n"
   ]
  },
  {
   "cell_type": "markdown",
   "metadata": {},
   "source": [
    "Вижу по графику, что данных с 25.07 по 31.07 сильно меньше или они отсутствуют. Рост начинается с 1.08. Полагаю, что это свзяано с техническими особенностями, так как технически в логи новых дней по некоторым пользователям могут догружаться события из прошлого — это может искажать данные.\n",
    "\n",
    "Предлагаю использовать данные с  1.08.19 по 7.08.19. "
   ]
  },
  {
   "cell_type": "code",
   "execution_count": 19,
   "metadata": {},
   "outputs": [
    {
     "data": {
      "image/png": "[encoded data removed]",
      "text/plain": [
       "<Figure size 1152x360 with 1 Axes>"
      ]
     },
     "metadata": {
      "needs_background": "light"
     },
     "output_type": "display_data"
    }
   ],
   "source": [
    "fig, axes = plt.subplots (1, 1, figsize= (16, 5))\n",
    "\n",
    "data_for_plot = (data.assign(datetime_3H = lambda x: x['date_time'].dt.floor ('3H').dt.strftime ('%m-%d %H:%M')).groupby('datetime_3H').agg({'event':'count'}). reset_index())\n",
    "\n",
    "\n",
    "sns.barplot (x= 'datetime_3H', y= 'event',  data=data_for_plot, ci = None)\n",
    "axes.set_title(\"Распределение количества событий во времени\")\n",
    "axes.set_ylabel ('Количество событий')\n",
    "axes.grid(which='both', )\n",
    "axes.tick_params(axis='x', labelrotation =90)\n",
    "axes.xaxis.set_major_locator (locator=MultipleLocator (2))\n",
    "plt.show()"
   ]
  },
  {
   "cell_type": "markdown",
   "metadata": {},
   "source": [
    "Все так же вижу по графику, что данных с 25.07 по 31.07 сильно меньше или они отсутствуют. Рост начинается с 00:00 1.08. \n",
    "\n",
    "К выводу можно добавить, что основная активность пользователей приходится на дневное время.\n",
    "\n",
    "Предлагаю использовать данные с  1.08.19 по 7.08.19. "
   ]
  },
  {
   "cell_type": "markdown",
   "metadata": {},
   "source": [
    "Отброшу данные до 1.08.19. \n",
    "\n",
    "\n",
    "Посмотрю, сколько событий и пользователей потерялось при удалении данных до 1.08.19"
   ]
  },
  {
   "cell_type": "code",
   "execution_count": 20,
   "metadata": {},
   "outputs": [
    {
     "name": "stdout",
     "output_type": "stream",
     "text": [
      "События до корректировки: 243713\n",
      "Всего пользователей 7551\n",
      "\n",
      "События после корректировки: 240887\n",
      "Всего пользователей: 7534\n",
      "\n"
     ]
    }
   ],
   "source": [
    "#посмотрю количество логов и пользователей до удаления\n",
    "old_logs = data.shape[0]\n",
    "old_users = data['user_id'].nunique()\n",
    "\n",
    "print('События до корректировки:', old_logs)\n",
    "                                                                           \n",
    "print('Всего пользователей',old_users)\n",
    "\n",
    "#исключу данные до 1.08.2019\n",
    "data = data[data['date_time'] > '2019-08-01']\n",
    "print()\n",
    "\n",
    "#посмотрю количество логов и пользователей после удаления\n",
    "print('События после корректировки:', data.shape[0]) \n",
    "print('Всего пользователей:',data['user_id'].nunique())\n",
    "print()"
   ]
  },
  {
   "cell_type": "code",
   "execution_count": 21,
   "metadata": {},
   "outputs": [
    {
     "name": "stdout",
     "output_type": "stream",
     "text": [
      "Дельта событий: -2826 (-1.2%)\n",
      "Дельта количества юзеров: -17 (-0.2%)\n"
     ]
    }
   ],
   "source": [
    "#посчитаю дельту по событиям и пользователям\n",
    "print('Дельта событий:',data.shape[0]- old_logs,'({:.1%})'.format((data.shape[0]-old_logs)/old_logs))\n",
    "print('Дельта количества юзеров:',data['user_id'].nunique()- old_users,'({:.1%})'.format((data['user_id'].nunique()-old_users)/old_users))"
   ]
  },
  {
   "cell_type": "markdown",
   "metadata": {},
   "source": [
    " Отброшено: \n",
    " - 2826 событий(1,2%)\n",
    " - 17 пользователей (0,2%)"
   ]
  },
  {
   "cell_type": "markdown",
   "metadata": {},
   "source": [
    "#### Посмотрю, что есть пользователи из всех трёх экспериментальных групп."
   ]
  },
  {
   "cell_type": "code",
   "execution_count": 22,
   "metadata": {},
   "outputs": [
    {
     "data": {
      "text/html": [
       "<div>\n",
       "<style scoped>\n",
       "    .dataframe tbody tr th:only-of-type {\n",
       "        vertical-align: middle;\n",
       "    }\n",
       "\n",
       "    .dataframe tbody tr th {\n",
       "        vertical-align: top;\n",
       "    }\n",
       "\n",
       "    .dataframe thead th {\n",
       "        text-align: right;\n",
       "    }\n",
       "</style>\n",
       "<table border=\"1\" class=\"dataframe\">\n",
       "  <thead>\n",
       "    <tr style=\"text-align: right;\">\n",
       "      <th></th>\n",
       "      <th>count_users</th>\n",
       "    </tr>\n",
       "    <tr>\n",
       "      <th>group_id</th>\n",
       "      <th></th>\n",
       "    </tr>\n",
       "  </thead>\n",
       "  <tbody>\n",
       "    <tr>\n",
       "      <th>246</th>\n",
       "      <td>79302</td>\n",
       "    </tr>\n",
       "    <tr>\n",
       "      <th>247</th>\n",
       "      <td>77022</td>\n",
       "    </tr>\n",
       "    <tr>\n",
       "      <th>248</th>\n",
       "      <td>84563</td>\n",
       "    </tr>\n",
       "  </tbody>\n",
       "</table>\n",
       "</div>"
      ],
      "text/plain": [
       "          count_users\n",
       "group_id             \n",
       "246       79302      \n",
       "247       77022      \n",
       "248       84563      "
      ]
     },
     "execution_count": 22,
     "metadata": {},
     "output_type": "execute_result"
    }
   ],
   "source": [
    "data.groupby('group_id').agg({'user_id': 'count'}).rename(columns={'user_id' : 'count_users'})"
   ]
  },
  {
   "cell_type": "markdown",
   "metadata": {},
   "source": [
    "- В группе 248 - 84 563 пользователя\n",
    "- В группе 247 - 77 022 пользователя\n",
    "- В группе 246 - 79 302 пользователя\n",
    "\n",
    "\n",
    "В целом количество пользователей в одном диапазоне"
   ]
  },
  {
   "cell_type": "markdown",
   "metadata": {},
   "source": [
    "## Изучение воронки событий"
   ]
  },
  {
   "cell_type": "code",
   "execution_count": 23,
   "metadata": {},
   "outputs": [
    {
     "data": {
      "text/html": [
       "<div>\n",
       "<style scoped>\n",
       "    .dataframe tbody tr th:only-of-type {\n",
       "        vertical-align: middle;\n",
       "    }\n",
       "\n",
       "    .dataframe tbody tr th {\n",
       "        vertical-align: top;\n",
       "    }\n",
       "\n",
       "    .dataframe thead th {\n",
       "        text-align: right;\n",
       "    }\n",
       "</style>\n",
       "<table border=\"1\" class=\"dataframe\">\n",
       "  <thead>\n",
       "    <tr style=\"text-align: right;\">\n",
       "      <th></th>\n",
       "      <th>event</th>\n",
       "      <th>total_events</th>\n",
       "    </tr>\n",
       "  </thead>\n",
       "  <tbody>\n",
       "    <tr>\n",
       "      <th>1</th>\n",
       "      <td>MainScreenAppear</td>\n",
       "      <td>117328</td>\n",
       "    </tr>\n",
       "    <tr>\n",
       "      <th>2</th>\n",
       "      <td>OffersScreenAppear</td>\n",
       "      <td>46333</td>\n",
       "    </tr>\n",
       "    <tr>\n",
       "      <th>0</th>\n",
       "      <td>CartScreenAppear</td>\n",
       "      <td>42303</td>\n",
       "    </tr>\n",
       "    <tr>\n",
       "      <th>3</th>\n",
       "      <td>PaymentScreenSuccessful</td>\n",
       "      <td>33918</td>\n",
       "    </tr>\n",
       "    <tr>\n",
       "      <th>4</th>\n",
       "      <td>Tutorial</td>\n",
       "      <td>1005</td>\n",
       "    </tr>\n",
       "  </tbody>\n",
       "</table>\n",
       "</div>"
      ],
      "text/plain": [
       "                     event  total_events\n",
       "1  MainScreenAppear         117328      \n",
       "2  OffersScreenAppear       46333       \n",
       "0  CartScreenAppear         42303       \n",
       "3  PaymentScreenSuccessful  33918       \n",
       "4  Tutorial                 1005        "
      ]
     },
     "execution_count": 23,
     "metadata": {},
     "output_type": "execute_result"
    }
   ],
   "source": [
    "#Посмотрю, какие события есть в логах и как часто они встречаются\n",
    "events = (data.groupby('event').agg({'user_id': 'count'}).reset_index().rename(columns={'user_id' : 'total_events'}).sort_values(by='total_events', ascending=False))\n",
    "events"
   ]
  },
  {
   "cell_type": "markdown",
   "metadata": {},
   "source": [
    "- Больше всего событий MainScreenAppear (появление главного экрана)\n",
    "- Меньше всего событий Tutorial (руководство)"
   ]
  },
  {
   "cell_type": "code",
   "execution_count": 24,
   "metadata": {},
   "outputs": [
    {
     "data": {
      "text/html": [
       "<div>\n",
       "<style scoped>\n",
       "    .dataframe tbody tr th:only-of-type {\n",
       "        vertical-align: middle;\n",
       "    }\n",
       "\n",
       "    .dataframe tbody tr th {\n",
       "        vertical-align: top;\n",
       "    }\n",
       "\n",
       "    .dataframe thead th {\n",
       "        text-align: right;\n",
       "    }\n",
       "</style>\n",
       "<table border=\"1\" class=\"dataframe\">\n",
       "  <thead>\n",
       "    <tr style=\"text-align: right;\">\n",
       "      <th></th>\n",
       "      <th>event</th>\n",
       "      <th>total_users</th>\n",
       "      <th>percent</th>\n",
       "    </tr>\n",
       "  </thead>\n",
       "  <tbody>\n",
       "    <tr>\n",
       "      <th>1</th>\n",
       "      <td>MainScreenAppear</td>\n",
       "      <td>7419</td>\n",
       "      <td>98.473586</td>\n",
       "    </tr>\n",
       "    <tr>\n",
       "      <th>2</th>\n",
       "      <td>OffersScreenAppear</td>\n",
       "      <td>4593</td>\n",
       "      <td>60.963632</td>\n",
       "    </tr>\n",
       "    <tr>\n",
       "      <th>0</th>\n",
       "      <td>CartScreenAppear</td>\n",
       "      <td>3734</td>\n",
       "      <td>49.561986</td>\n",
       "    </tr>\n",
       "    <tr>\n",
       "      <th>3</th>\n",
       "      <td>PaymentScreenSuccessful</td>\n",
       "      <td>3539</td>\n",
       "      <td>46.973719</td>\n",
       "    </tr>\n",
       "    <tr>\n",
       "      <th>4</th>\n",
       "      <td>Tutorial</td>\n",
       "      <td>840</td>\n",
       "      <td>11.149456</td>\n",
       "    </tr>\n",
       "  </tbody>\n",
       "</table>\n",
       "</div>"
      ],
      "text/plain": [
       "                     event  total_users    percent\n",
       "1  MainScreenAppear         7419         98.473586\n",
       "2  OffersScreenAppear       4593         60.963632\n",
       "0  CartScreenAppear         3734         49.561986\n",
       "3  PaymentScreenSuccessful  3539         46.973719\n",
       "4  Tutorial                 840          11.149456"
      ]
     },
     "execution_count": 24,
     "metadata": {},
     "output_type": "execute_result"
    }
   ],
   "source": [
    "#Посчитаю, сколько пользователей совершали каждое из этих событий\n",
    "\n",
    "user_ev = (data.groupby('event').agg({'user_id': 'nunique'}).reset_index().rename(columns={'user_id' : 'total_users'}).sort_values(by='total_users', ascending=False))\n",
    "\n",
    "user_ev['percent'] = user_ev['total_users'] / data['user_id'].nunique() * 100 \n",
    "user_ev"
   ]
  },
  {
   "cell_type": "markdown",
   "metadata": {},
   "source": [
    "Открыли главный экран 7419 пользователей (98,5%). Экран предложений открыли 4593 пользователей (61%). Корзину открыли 3734 (49,6%). До экрана оплаты дошли 3539 (47%). Туториал-инструктаж открыли 840 пользователй (11,1%)"
   ]
  },
  {
   "cell_type": "markdown",
   "metadata": {},
   "source": [
    "*Предположу такой порядок событий:*\n",
    "\n",
    "MainScreenAppear - появление главного экрана -> OffersScreenAppear - появление экрана предложений -> CartScreenAppear - появление экрана корзины -> PaymentScreenSuccessful - экран успешной оплаты \n",
    "\n",
    "Tutorial в цепочку не встраивается. Это событие не приводит к покупке, предлагаю исключить его из расчета воронки."
   ]
  },
  {
   "cell_type": "markdown",
   "metadata": {},
   "source": [
    "#### Определю долю пользователей на каждом этапе воронки"
   ]
  },
  {
   "cell_type": "code",
   "execution_count": 25,
   "metadata": {
    "scrolled": true
   },
   "outputs": [
    {
     "data": {
      "text/html": [
       "<div>\n",
       "<style scoped>\n",
       "    .dataframe tbody tr th:only-of-type {\n",
       "        vertical-align: middle;\n",
       "    }\n",
       "\n",
       "    .dataframe tbody tr th {\n",
       "        vertical-align: top;\n",
       "    }\n",
       "\n",
       "    .dataframe thead th {\n",
       "        text-align: right;\n",
       "    }\n",
       "</style>\n",
       "<table border=\"1\" class=\"dataframe\">\n",
       "  <thead>\n",
       "    <tr style=\"text-align: right;\">\n",
       "      <th></th>\n",
       "      <th>event</th>\n",
       "      <th>total_users</th>\n",
       "      <th>percent</th>\n",
       "    </tr>\n",
       "  </thead>\n",
       "  <tbody>\n",
       "    <tr>\n",
       "      <th>1</th>\n",
       "      <td>MainScreenAppear</td>\n",
       "      <td>7419</td>\n",
       "      <td>98.473586</td>\n",
       "    </tr>\n",
       "    <tr>\n",
       "      <th>2</th>\n",
       "      <td>OffersScreenAppear</td>\n",
       "      <td>4593</td>\n",
       "      <td>60.963632</td>\n",
       "    </tr>\n",
       "    <tr>\n",
       "      <th>0</th>\n",
       "      <td>CartScreenAppear</td>\n",
       "      <td>3734</td>\n",
       "      <td>49.561986</td>\n",
       "    </tr>\n",
       "    <tr>\n",
       "      <th>3</th>\n",
       "      <td>PaymentScreenSuccessful</td>\n",
       "      <td>3539</td>\n",
       "      <td>46.973719</td>\n",
       "    </tr>\n",
       "  </tbody>\n",
       "</table>\n",
       "</div>"
      ],
      "text/plain": [
       "                     event  total_users    percent\n",
       "1  MainScreenAppear         7419         98.473586\n",
       "2  OffersScreenAppear       4593         60.963632\n",
       "0  CartScreenAppear         3734         49.561986\n",
       "3  PaymentScreenSuccessful  3539         46.973719"
      ]
     },
     "execution_count": 25,
     "metadata": {},
     "output_type": "execute_result"
    }
   ],
   "source": [
    "user_ev = user_ev[user_ev['event'] != 'Tutorial']\n",
    "user_ev\n"
   ]
  },
  {
   "cell_type": "markdown",
   "metadata": {},
   "source": [
    "Больше всего пользователей на этапе MainScreenAppear (появление главного экрана) - 98,5%"
   ]
  },
  {
   "cell_type": "code",
   "execution_count": 26,
   "metadata": {},
   "outputs": [
    {
     "name": "stdout",
     "output_type": "stream",
     "text": [
      "Доля, открывших каталог: 61.908613020622724\n",
      "Доля, открывших корзину: 81.29762682342695\n",
      "Доля, открывших страницу оплаты: 94.7777182645956\n",
      "\n",
      "Потерянные с главного в каталог: 38.091386979377276\n",
      "Потерянные из каталога в корзину: 19.38901380280423\n",
      "Потерянные из корзины на экран оплаты: 13.480091441168653\n"
     ]
    }
   ],
   "source": [
    "#посмотрю, на каком шаге теряется больше всего пользователей\n",
    "\n",
    "print('Доля, открывших каталог:', ((4593/7419)*100))\n",
    "print('Доля, открывших корзину:', ((3734/4593)*100))\n",
    "print('Доля, открывших страницу оплаты:', ((3539/3734)*100))\n",
    "print()\n",
    "print('Потерянные с главного в каталог:', (100-(4593/7419)*100))\n",
    "print('Потерянные из каталога в корзину:', ((3734/4593)*100)-(4593/7419)*100)\n",
    "print('Потерянные из корзины на экран оплаты:', ((3539/3734)*100)-(3734/4593)*100)\n",
    "\n",
    "\n",
    "\n",
    "\n"
   ]
  },
  {
   "cell_type": "markdown",
   "metadata": {},
   "source": [
    "Больше всего пользователей (примерно 38%) теряется на шаге перехода с главного экрана на страницк предложений"
   ]
  },
  {
   "cell_type": "code",
   "execution_count": 27,
   "metadata": {},
   "outputs": [
    {
     "name": "stdout",
     "output_type": "stream",
     "text": [
      "Доля пользователей,которые дошли до оплаты с первого события: 47.70184661005526\n"
     ]
    }
   ],
   "source": [
    "#посмотрю долю пользователей, которая доходит от первого события до оплаты\n",
    "print('Доля пользователей,которые дошли до оплаты с первого события:', ((3539/7419)*100))"
   ]
  },
  {
   "cell_type": "code",
   "execution_count": 28,
   "metadata": {},
   "outputs": [
    {
     "name": "stdout",
     "output_type": "stream",
     "text": [
      "Пользователей всего: (100.0%)\n",
      "Доля, открывших каталог: (61.9%)\n",
      "Доля, открывших корзину: (81.3%)\n",
      "Доля, открывших страницу оплаты: (94.8%)\n"
     ]
    }
   ],
   "source": [
    "#посмотрю, на каком шаге теряется больше всего пользователей\n",
    "\n",
    "users = data.pivot_table(index='user_id',columns='event',values='date_time',aggfunc='min')\n",
    "\n",
    "print('Пользователей всего:', \n",
    "      '({:.1%})'.format(users['MainScreenAppear'].count() / users['MainScreenAppear'].count() ))\n",
    "print('Доля, открывших каталог:', \n",
    "      '({:.1%})'.format(users['OffersScreenAppear'].count() / users['MainScreenAppear'].count() ))\n",
    "print('Доля, открывших корзину:', \n",
    "      '({:.1%})'.format(users['CartScreenAppear'].count() / users['OffersScreenAppear'].count()))\n",
    "print('Доля, открывших страницу оплаты:',\n",
    "      '({:.1%})'.format(users['PaymentScreenSuccessful'].count() / users['CartScreenAppear'].count()))"
   ]
  },
  {
   "cell_type": "code",
   "execution_count": 29,
   "metadata": {},
   "outputs": [
    {
     "name": "stdout",
     "output_type": "stream",
     "text": [
      "Потерянные с главного в каталог: (38.1%)\n",
      "Потерянные из каталога в корзину: (19.4%)\n",
      "Потерянные из корзины на экран оплаты: (13.5%)\n"
     ]
    }
   ],
   "source": [
    "print('Потерянные с главного в каталог:', \n",
    "      '({:.1%})'.format(1-(users['OffersScreenAppear'].count() / users['MainScreenAppear'].count())))\n",
    "\n",
    "print('Потерянные из каталога в корзину:', \n",
    "      '({:.1%})'.format((users['CartScreenAppear'].count() / users['OffersScreenAppear'].count())-(users['OffersScreenAppear'].count()/users['MainScreenAppear'].count())))\n",
    "\n",
    "print('Потерянные из корзины на экран оплаты:', \n",
    "      '({:.1%})'.format((users['PaymentScreenSuccessful'].count() / users['CartScreenAppear'].count())-(users['CartScreenAppear'].count()/users['OffersScreenAppear'].count())))"
   ]
  },
  {
   "cell_type": "code",
   "execution_count": 30,
   "metadata": {},
   "outputs": [
    {
     "name": "stdout",
     "output_type": "stream",
     "text": [
      "Доля пользователей,которые дошли до оплаты с первого события: (47.7%)\n"
     ]
    }
   ],
   "source": [
    "print('Доля пользователей,которые дошли до оплаты с первого события:','({:.1%})'.format(users['PaymentScreenSuccessful'].count() / users['MainScreenAppear'].count()))"
   ]
  },
  {
   "cell_type": "markdown",
   "metadata": {},
   "source": [
    "## Изучение результатов эксперимента по изменению шрифта"
   ]
  },
  {
   "cell_type": "markdown",
   "metadata": {},
   "source": [
    "Известно, что 246 и 247 — контрольные группы(А/А), а 248 — экспериментальная (В).\n",
    "\n",
    "Посмотрю, сколько пользователей в каждой  группе."
   ]
  },
  {
   "cell_type": "code",
   "execution_count": 31,
   "metadata": {},
   "outputs": [
    {
     "data": {
      "text/html": [
       "<div>\n",
       "<style scoped>\n",
       "    .dataframe tbody tr th:only-of-type {\n",
       "        vertical-align: middle;\n",
       "    }\n",
       "\n",
       "    .dataframe tbody tr th {\n",
       "        vertical-align: top;\n",
       "    }\n",
       "\n",
       "    .dataframe thead th {\n",
       "        text-align: right;\n",
       "    }\n",
       "</style>\n",
       "<table border=\"1\" class=\"dataframe\">\n",
       "  <thead>\n",
       "    <tr style=\"text-align: right;\">\n",
       "      <th></th>\n",
       "      <th>count</th>\n",
       "    </tr>\n",
       "    <tr>\n",
       "      <th>group_id</th>\n",
       "      <th></th>\n",
       "    </tr>\n",
       "  </thead>\n",
       "  <tbody>\n",
       "    <tr>\n",
       "      <th>246</th>\n",
       "      <td>2484</td>\n",
       "    </tr>\n",
       "    <tr>\n",
       "      <th>247</th>\n",
       "      <td>2513</td>\n",
       "    </tr>\n",
       "    <tr>\n",
       "      <th>248</th>\n",
       "      <td>2537</td>\n",
       "    </tr>\n",
       "  </tbody>\n",
       "</table>\n",
       "</div>"
      ],
      "text/plain": [
       "          count\n",
       "group_id       \n",
       "246       2484 \n",
       "247       2513 \n",
       "248       2537 "
      ]
     },
     "execution_count": 31,
     "metadata": {},
     "output_type": "execute_result"
    }
   ],
   "source": [
    "data.groupby('group_id').agg(count=('user_id', 'nunique'))"
   ]
  },
  {
   "cell_type": "code",
   "execution_count": 32,
   "metadata": {},
   "outputs": [
    {
     "data": {
      "text/html": [
       "<div>\n",
       "<style scoped>\n",
       "    .dataframe tbody tr th:only-of-type {\n",
       "        vertical-align: middle;\n",
       "    }\n",
       "\n",
       "    .dataframe tbody tr th {\n",
       "        vertical-align: top;\n",
       "    }\n",
       "\n",
       "    .dataframe thead th {\n",
       "        text-align: right;\n",
       "    }\n",
       "</style>\n",
       "<table border=\"1\" class=\"dataframe\">\n",
       "  <thead>\n",
       "    <tr style=\"text-align: right;\">\n",
       "      <th></th>\n",
       "      <th>event</th>\n",
       "      <th>group_id</th>\n",
       "      <th>total_users</th>\n",
       "    </tr>\n",
       "  </thead>\n",
       "  <tbody>\n",
       "    <tr>\n",
       "      <th>5</th>\n",
       "      <td>MainScreenAppear</td>\n",
       "      <td>248</td>\n",
       "      <td>2493</td>\n",
       "    </tr>\n",
       "    <tr>\n",
       "      <th>8</th>\n",
       "      <td>OffersScreenAppear</td>\n",
       "      <td>248</td>\n",
       "      <td>1531</td>\n",
       "    </tr>\n",
       "    <tr>\n",
       "      <th>2</th>\n",
       "      <td>CartScreenAppear</td>\n",
       "      <td>248</td>\n",
       "      <td>1230</td>\n",
       "    </tr>\n",
       "    <tr>\n",
       "      <th>11</th>\n",
       "      <td>PaymentScreenSuccessful</td>\n",
       "      <td>248</td>\n",
       "      <td>1181</td>\n",
       "    </tr>\n",
       "    <tr>\n",
       "      <th>4</th>\n",
       "      <td>MainScreenAppear</td>\n",
       "      <td>247</td>\n",
       "      <td>2476</td>\n",
       "    </tr>\n",
       "    <tr>\n",
       "      <th>7</th>\n",
       "      <td>OffersScreenAppear</td>\n",
       "      <td>247</td>\n",
       "      <td>1520</td>\n",
       "    </tr>\n",
       "    <tr>\n",
       "      <th>1</th>\n",
       "      <td>CartScreenAppear</td>\n",
       "      <td>247</td>\n",
       "      <td>1238</td>\n",
       "    </tr>\n",
       "    <tr>\n",
       "      <th>10</th>\n",
       "      <td>PaymentScreenSuccessful</td>\n",
       "      <td>247</td>\n",
       "      <td>1158</td>\n",
       "    </tr>\n",
       "    <tr>\n",
       "      <th>3</th>\n",
       "      <td>MainScreenAppear</td>\n",
       "      <td>246</td>\n",
       "      <td>2450</td>\n",
       "    </tr>\n",
       "    <tr>\n",
       "      <th>6</th>\n",
       "      <td>OffersScreenAppear</td>\n",
       "      <td>246</td>\n",
       "      <td>1542</td>\n",
       "    </tr>\n",
       "    <tr>\n",
       "      <th>0</th>\n",
       "      <td>CartScreenAppear</td>\n",
       "      <td>246</td>\n",
       "      <td>1266</td>\n",
       "    </tr>\n",
       "    <tr>\n",
       "      <th>9</th>\n",
       "      <td>PaymentScreenSuccessful</td>\n",
       "      <td>246</td>\n",
       "      <td>1200</td>\n",
       "    </tr>\n",
       "  </tbody>\n",
       "</table>\n",
       "</div>"
      ],
      "text/plain": [
       "                      event  group_id  total_users\n",
       "5   MainScreenAppear         248       2493       \n",
       "8   OffersScreenAppear       248       1531       \n",
       "2   CartScreenAppear         248       1230       \n",
       "11  PaymentScreenSuccessful  248       1181       \n",
       "4   MainScreenAppear         247       2476       \n",
       "7   OffersScreenAppear       247       1520       \n",
       "1   CartScreenAppear         247       1238       \n",
       "10  PaymentScreenSuccessful  247       1158       \n",
       "3   MainScreenAppear         246       2450       \n",
       "6   OffersScreenAppear       246       1542       \n",
       "0   CartScreenAppear         246       1266       \n",
       "9   PaymentScreenSuccessful  246       1200       "
      ]
     },
     "execution_count": 32,
     "metadata": {},
     "output_type": "execute_result"
    }
   ],
   "source": [
    "user_group = (data.groupby(['event', 'group_id']).agg({'user_id': 'nunique'}).reset_index().rename(columns={'user_id' : 'total_users'}).sort_values(by=['group_id','total_users'], ascending=False))\n",
    "\n",
    "user_group = user_group[user_group['event'] != 'Tutorial']\n",
    "user_group"
   ]
  },
  {
   "cell_type": "markdown",
   "metadata": {},
   "source": [
    "Количество пользователей на каждом шаге по группам примерно одинаковое."
   ]
  },
  {
   "cell_type": "markdown",
   "metadata": {},
   "source": [
    "По условию заказчика нужно сопоставить доли по каждому событию:\n",
    "\n",
    "- между группами 246 и 247\n",
    "- каждой из контрольной группы по отдельности и экспериментальной (246 и 248; 247 и 248)\n",
    "- объединенной контрольной группой и экспериментальной (сумма событий 246 и 247; и 248)"
   ]
  },
  {
   "cell_type": "markdown",
   "metadata": {},
   "source": [
    "Для проверки гипотез для долей буду использовать z-test \n",
    "\n"
   ]
  },
  {
   "cell_type": "markdown",
   "metadata": {},
   "source": [
    "*Гипотезы:*\n",
    "\n",
    "- Ho: Доля пользователей не отличается\n",
    "- H1: Доля пользователей отличается"
   ]
  },
  {
   "cell_type": "markdown",
   "metadata": {},
   "source": [
    "*Событий 4:*\n",
    "\n",
    "- MainScreenAppear - появление главного экрана -> \n",
    "- OffersScreenAppear - появление экрана предложений -> \n",
    "- CartScreenAppear - появление экрана корзины -> \n",
    "- PaymentScreenSuccessful - экран успешной оплаты"
   ]
  },
  {
   "cell_type": "code",
   "execution_count": 33,
   "metadata": {},
   "outputs": [],
   "source": [
    "#функция \n",
    "def z_test(t1, t2, event, alpha, n):\n",
    "    \n",
    "    \n",
    "#уровень стат значимости с поправкой бонферрони.\n",
    "#поправка бонферрони,так как можно поделить принятый уровень значимости на число сравнений, которые проведем на одних и тех же данных, без необходимости сбора новых наблюдений для каждого теста\n",
    "    \n",
    "    bonf_alpha = alpha / n\n",
    " \n",
    "    # число пользователей в группе 1 и группе 2:\n",
    "    n_users = np.array([t1['user_id'].nunique(),t2['user_id'].nunique()])\n",
    "\n",
    "    # число пользователей, совершивших событие в группе 1 и группе 2\n",
    "    success = np.array([t1[t1['event'] == event]['user_id'].nunique(), t2[t2['event'] == event]['user_id'].nunique()])\n",
    "\n",
    "    # доля успехов в группах:\n",
    "    p1 = success[0]/n_users[0]\n",
    "    p2 = success[1]/n_users[1]\n",
    "    \n",
    "    # доля успехов в комбинированной группе (сумма событий 246 и247):\n",
    "    p_combined = (success[0] + success[1]) / (n_users[0] + n_users[1])\n",
    "\n",
    "    # разница долей в датасетах\n",
    "    difference = p1 - p2 \n",
    "\n",
    "    #статистика\n",
    "    z_value = difference /  np.sqrt(p_combined * (1 - p_combined) * (1/n_users[0] + 1/n_users[1]))\n",
    "\n",
    "    #стандартное нормальное распределение (среднее 0, ст.отклонение 1)\n",
    "    distr = st.norm(0, 1)  \n",
    "    \n",
    "    #тест двусторонний\n",
    "    p_value = (1 - distr.cdf(abs(z_value))) * 2  \n",
    "    \n",
    "    print('Событие:', event)\n",
    "    print('p-value: ', p_value)\n",
    "\n",
    "    if p_value < bonf_alpha:\n",
    "        print('Отвергаем нулевую гипотезу: доли отличаются')\n",
    "    else:\n",
    "        print(\n",
    "        'Не получилось отвергнуть нулевую гипотезу, нет оснований считать,что доли отличаются')"
   ]
  },
  {
   "cell_type": "code",
   "execution_count": 34,
   "metadata": {},
   "outputs": [
    {
     "name": "stdout",
     "output_type": "stream",
     "text": [
      "Событие: MainScreenAppear\n",
      "p-value:  0.7570597232046099\n",
      "Не получилось отвергнуть нулевую гипотезу, нет оснований считать,что доли отличаются\n",
      "\n",
      "Событие: OffersScreenAppear\n",
      "p-value:  0.2480954578522181\n",
      "Не получилось отвергнуть нулевую гипотезу, нет оснований считать,что доли отличаются\n",
      "\n",
      "Событие: CartScreenAppear\n",
      "p-value:  0.22883372237997213\n",
      "Не получилось отвергнуть нулевую гипотезу, нет оснований считать,что доли отличаются\n",
      "\n",
      "Событие: PaymentScreenSuccessful\n",
      "p-value:  0.11456679313141849\n",
      "Не получилось отвергнуть нулевую гипотезу, нет оснований считать,что доли отличаются\n",
      "\n"
     ]
    }
   ],
   "source": [
    "#статистически значимое отличие для событий для 246 и 247\n",
    "\n",
    "for event in user_group['event'].unique():\n",
    "    z_test(data[data['group_id'] == 246], data[data['group_id'] == 247], event,.05, 4)\n",
    "    print()"
   ]
  },
  {
   "cell_type": "markdown",
   "metadata": {},
   "source": [
    "В А/А между группами 246 и 247 ни для какого события нет статистически значимого отличия и нет оснований считать, что доли отличаются.\n",
    "\n"
   ]
  },
  {
   "cell_type": "code",
   "execution_count": 35,
   "metadata": {},
   "outputs": [
    {
     "name": "stdout",
     "output_type": "stream",
     "text": [
      "Событие: MainScreenAppear\n",
      "p-value:  0.2949721933554552\n",
      "Не получилось отвергнуть нулевую гипотезу, нет оснований считать,что доли отличаются\n",
      "\n",
      "Событие: OffersScreenAppear\n",
      "p-value:  0.20836205402738917\n",
      "Не получилось отвергнуть нулевую гипотезу, нет оснований считать,что доли отличаются\n",
      "\n",
      "Событие: CartScreenAppear\n",
      "p-value:  0.07842923237520116\n",
      "Не получилось отвергнуть нулевую гипотезу, нет оснований считать,что доли отличаются\n",
      "\n",
      "Событие: PaymentScreenSuccessful\n",
      "p-value:  0.2122553275697796\n",
      "Не получилось отвергнуть нулевую гипотезу, нет оснований считать,что доли отличаются\n",
      "\n"
     ]
    }
   ],
   "source": [
    "#статистически значимое отличие для событий для 246 и 248\n",
    "\n",
    "for event in user_group['event'].unique():\n",
    "    z_test(data[data['group_id'] == 246], data[data['group_id'] == 248], event, .05, 12)\n",
    "    print()"
   ]
  },
  {
   "cell_type": "markdown",
   "metadata": {},
   "source": [
    "Для групп 246 и 247 для всех событий нет основания считать, что доли отличаются\n"
   ]
  },
  {
   "cell_type": "code",
   "execution_count": 36,
   "metadata": {},
   "outputs": [
    {
     "name": "stdout",
     "output_type": "stream",
     "text": [
      "Событие: MainScreenAppear\n",
      "p-value:  0.29424526837179577\n",
      "Не получилось отвергнуть нулевую гипотезу, нет оснований считать,что доли отличаются\n",
      "\n",
      "Событие: OffersScreenAppear\n",
      "p-value:  0.43425549655188256\n",
      "Не получилось отвергнуть нулевую гипотезу, нет оснований считать,что доли отличаются\n",
      "\n",
      "Событие: CartScreenAppear\n",
      "p-value:  0.18175875284404386\n",
      "Не получилось отвергнуть нулевую гипотезу, нет оснований считать,что доли отличаются\n",
      "\n",
      "Событие: PaymentScreenSuccessful\n",
      "p-value:  0.6004294282308704\n",
      "Не получилось отвергнуть нулевую гипотезу, нет оснований считать,что доли отличаются\n",
      "\n"
     ]
    }
   ],
   "source": [
    "#статистически значимое отличие для событий для объединённой и 248 \n",
    "\n",
    "for event in user_group['event'].unique():\n",
    "    z_test(data[data['group_id'] != 248], data[data['group_id'] == 248], event,.05,12)\n",
    "    print()"
   ]
  },
  {
   "cell_type": "markdown",
   "metadata": {},
   "source": [
    "Нет оснований считать, что доли отличаются для объединенной группы и 248\n"
   ]
  },
  {
   "cell_type": "code",
   "execution_count": 37,
   "metadata": {},
   "outputs": [
    {
     "name": "stdout",
     "output_type": "stream",
     "text": [
      "Событие: MainScreenAppear\n",
      "p-value:  0.4587053616621515\n",
      "Не получилось отвергнуть нулевую гипотезу, нет оснований считать,что доли отличаются\n",
      "\n",
      "Событие: OffersScreenAppear\n",
      "p-value:  0.9197817830592261\n",
      "Не получилось отвергнуть нулевую гипотезу, нет оснований считать,что доли отличаются\n",
      "\n",
      "Событие: CartScreenAppear\n",
      "p-value:  0.5786197879539783\n",
      "Не получилось отвергнуть нулевую гипотезу, нет оснований считать,что доли отличаются\n",
      "\n",
      "Событие: PaymentScreenSuccessful\n",
      "p-value:  0.7373415053803964\n",
      "Не получилось отвергнуть нулевую гипотезу, нет оснований считать,что доли отличаются\n",
      "\n"
     ]
    }
   ],
   "source": [
    "# проверим, есть ли статистически значимая разница между контрольными группами 247 и 248:\n",
    "\n",
    "for event in user_group['event'].unique():\n",
    "    z_test(data[data['group_id'] == 247], data[data['group_id'] == 248], event,.05, 12)\n",
    "    print()"
   ]
  },
  {
   "cell_type": "markdown",
   "metadata": {},
   "source": [
    "Нет оснований считать, что доли между группами 246 и 248 отличаются.\n",
    "\n",
    "Можно сделать вывод, что изменения шрифта не отразилось на повдении юзеров"
   ]
  },
  {
   "cell_type": "markdown",
   "metadata": {},
   "source": [
    "## Вывод"
   ]
  },
  {
   "cell_type": "markdown",
   "metadata": {},
   "source": [
    "В этом исследовании я провела вывгрузку и предобработку данных, проанализировала поведение пользователей в приложении по продаже продуктов. Рассмотрела действия пользователей с 1.08 по 7.08.19.Оценила результаты A/A/B-эксперимента.\n",
    "\n",
    "Обнаружила, что было совершено всего событий 240 887, 7534-и пользователей. В среднем 32 лога на пользователя.\n",
    "\n",
    "Больше всего пользователей посетило главный экран приложения 7419. Меньше всего открыли Туториал 840.\n",
    "До оплаты дошли 3539 юзеров (47%).\n",
    "\n",
    "Существенная часть пользователей была потеряна на этапе перехода с главной страницы на страницу предложений - 38%\n",
    "\n",
    "\n",
    "В эксперименте участвовало 3 группы: 246,247 и 248. По итогам эксперимента с изменением шрифта в приложении статистически значимого различия между группами не обнаружилось. Поэтому нельзя утверждать, что изменение шрифта в данном приложении повлияло на пользовательское поведение.\n",
    "\n",
    "\n"
   ]
  }
 ],
 "metadata": {
  "ExecuteTimeLog": [
   {
    "duration": 46,
    "start_time": "2023-03-07T20:43:33.907Z"
   },
   {
    "duration": 1337,
    "start_time": "2023-03-07T20:43:37.175Z"
   },
   {
    "duration": 712,
    "start_time": "2023-03-07T20:43:38.514Z"
   },
   {
    "duration": 35,
    "start_time": "2023-03-07T20:43:48.339Z"
   },
   {
    "duration": 1678,
    "start_time": "2023-03-08T13:22:49.546Z"
   },
   {
    "duration": 569,
    "start_time": "2023-03-08T13:22:51.226Z"
   },
   {
    "duration": 54,
    "start_time": "2023-03-08T13:23:21.910Z"
   },
   {
    "duration": 5,
    "start_time": "2023-03-08T13:42:36.200Z"
   },
   {
    "duration": 205,
    "start_time": "2023-03-08T13:42:36.612Z"
   },
   {
    "duration": 49,
    "start_time": "2023-03-08T13:42:37.083Z"
   },
   {
    "duration": 98,
    "start_time": "2023-03-08T13:43:16.747Z"
   },
   {
    "duration": 7,
    "start_time": "2023-03-08T13:43:53.623Z"
   },
   {
    "duration": 15,
    "start_time": "2023-03-08T13:45:17.640Z"
   },
   {
    "duration": 232,
    "start_time": "2023-03-08T13:45:47.636Z"
   },
   {
    "duration": 119,
    "start_time": "2023-03-08T13:46:44.506Z"
   },
   {
    "duration": 175,
    "start_time": "2023-03-08T13:47:17.100Z"
   },
   {
    "duration": 6,
    "start_time": "2023-03-08T13:47:21.333Z"
   },
   {
    "duration": 5,
    "start_time": "2023-03-08T13:47:21.803Z"
   },
   {
    "duration": 288,
    "start_time": "2023-03-08T13:47:22.241Z"
   },
   {
    "duration": 52,
    "start_time": "2023-03-08T13:47:22.741Z"
   },
   {
    "duration": 133,
    "start_time": "2023-03-08T13:47:23.407Z"
   },
   {
    "duration": 154,
    "start_time": "2023-03-08T13:47:24.101Z"
   },
   {
    "duration": 91,
    "start_time": "2023-03-08T13:48:18.713Z"
   },
   {
    "duration": 144,
    "start_time": "2023-03-08T13:48:25.904Z"
   },
   {
    "duration": 37,
    "start_time": "2023-03-08T13:48:54.473Z"
   },
   {
    "duration": 7,
    "start_time": "2023-03-08T13:52:38.746Z"
   },
   {
    "duration": 12,
    "start_time": "2023-03-08T13:52:39.190Z"
   },
   {
    "duration": 154,
    "start_time": "2023-03-08T13:53:14.986Z"
   },
   {
    "duration": 432,
    "start_time": "2023-03-08T13:53:18.995Z"
   },
   {
    "duration": 153,
    "start_time": "2023-03-08T13:53:19.440Z"
   },
   {
    "duration": 4,
    "start_time": "2023-03-08T13:53:32.102Z"
   },
   {
    "duration": 365,
    "start_time": "2023-03-08T13:53:32.475Z"
   },
   {
    "duration": 120,
    "start_time": "2023-03-08T13:53:46.154Z"
   },
   {
    "duration": 9,
    "start_time": "2023-03-08T13:53:48.084Z"
   },
   {
    "duration": 327,
    "start_time": "2023-03-08T13:53:48.822Z"
   },
   {
    "duration": 146,
    "start_time": "2023-03-08T13:53:55.496Z"
   },
   {
    "duration": 8,
    "start_time": "2023-03-08T13:54:03.188Z"
   },
   {
    "duration": 339,
    "start_time": "2023-03-08T13:54:03.750Z"
   },
   {
    "duration": 6,
    "start_time": "2023-03-08T13:54:14.795Z"
   },
   {
    "duration": 8,
    "start_time": "2023-03-08T13:54:21.873Z"
   },
   {
    "duration": 2,
    "start_time": "2023-03-08T13:54:22.034Z"
   },
   {
    "duration": 226,
    "start_time": "2023-03-08T13:54:22.231Z"
   },
   {
    "duration": 45,
    "start_time": "2023-03-08T13:54:22.460Z"
   },
   {
    "duration": 27,
    "start_time": "2023-03-08T13:54:22.610Z"
   },
   {
    "duration": 134,
    "start_time": "2023-03-08T13:54:22.938Z"
   },
   {
    "duration": 5,
    "start_time": "2023-03-08T13:54:24.495Z"
   },
   {
    "duration": 13,
    "start_time": "2023-03-08T13:54:25.197Z"
   },
   {
    "duration": 145,
    "start_time": "2023-03-08T13:54:56.170Z"
   },
   {
    "duration": 106,
    "start_time": "2023-03-08T13:55:50.155Z"
   },
   {
    "duration": 56,
    "start_time": "2023-03-08T13:56:21.754Z"
   },
   {
    "duration": 72,
    "start_time": "2023-03-08T13:57:24.207Z"
   },
   {
    "duration": 85,
    "start_time": "2023-03-08T14:08:20.775Z"
   },
   {
    "duration": 8,
    "start_time": "2023-03-08T14:08:29.807Z"
   },
   {
    "duration": 8,
    "start_time": "2023-03-08T14:08:38.395Z"
   },
   {
    "duration": 13,
    "start_time": "2023-03-08T14:08:55.190Z"
   },
   {
    "duration": 4,
    "start_time": "2023-03-08T14:10:07.207Z"
   },
   {
    "duration": 4,
    "start_time": "2023-03-08T14:10:46.655Z"
   },
   {
    "duration": 8,
    "start_time": "2023-03-08T14:10:47.663Z"
   },
   {
    "duration": 9,
    "start_time": "2023-03-08T14:10:49.672Z"
   },
   {
    "duration": 763,
    "start_time": "2023-03-08T14:11:43.597Z"
   },
   {
    "duration": 773,
    "start_time": "2023-03-08T14:12:11.531Z"
   },
   {
    "duration": 516,
    "start_time": "2023-03-08T14:13:17.197Z"
   },
   {
    "duration": 14,
    "start_time": "2023-03-08T15:19:40.994Z"
   },
   {
    "duration": 29,
    "start_time": "2023-03-08T15:20:06.790Z"
   },
   {
    "duration": 39,
    "start_time": "2023-03-08T15:20:54.365Z"
   },
   {
    "duration": 89,
    "start_time": "2023-03-08T15:22:16.258Z"
   },
   {
    "duration": 37,
    "start_time": "2023-03-08T15:22:22.489Z"
   },
   {
    "duration": 35,
    "start_time": "2023-03-08T15:22:30.522Z"
   },
   {
    "duration": 30,
    "start_time": "2023-03-08T15:22:42.137Z"
   },
   {
    "duration": 57,
    "start_time": "2023-03-08T15:23:48.862Z"
   },
   {
    "duration": 105,
    "start_time": "2023-03-08T15:25:06.504Z"
   },
   {
    "duration": 437,
    "start_time": "2023-03-08T15:25:11.466Z"
   },
   {
    "duration": 1240,
    "start_time": "2023-03-08T15:25:19.054Z"
   },
   {
    "duration": 375,
    "start_time": "2023-03-08T15:25:20.298Z"
   },
   {
    "duration": 31,
    "start_time": "2023-03-08T15:25:56.418Z"
   },
   {
    "duration": 1387,
    "start_time": "2023-03-08T15:26:09.754Z"
   },
   {
    "duration": 4,
    "start_time": "2023-03-08T15:26:11.143Z"
   },
   {
    "duration": 281,
    "start_time": "2023-03-08T15:26:11.149Z"
   },
   {
    "duration": 57,
    "start_time": "2023-03-08T15:26:11.433Z"
   },
   {
    "duration": 27,
    "start_time": "2023-03-08T15:26:11.493Z"
   },
   {
    "duration": 183,
    "start_time": "2023-03-08T15:26:11.522Z"
   },
   {
    "duration": 5,
    "start_time": "2023-03-08T15:26:11.707Z"
   },
   {
    "duration": 40,
    "start_time": "2023-03-08T15:26:11.715Z"
   },
   {
    "duration": 160,
    "start_time": "2023-03-08T15:26:11.757Z"
   },
   {
    "duration": 109,
    "start_time": "2023-03-08T15:26:11.920Z"
   },
   {
    "duration": 65,
    "start_time": "2023-03-08T15:26:12.031Z"
   },
   {
    "duration": 5,
    "start_time": "2023-03-08T15:26:12.099Z"
   },
   {
    "duration": 35,
    "start_time": "2023-03-08T15:26:12.106Z"
   },
   {
    "duration": 37,
    "start_time": "2023-03-08T15:26:12.143Z"
   },
   {
    "duration": 938,
    "start_time": "2023-03-08T15:26:12.188Z"
   },
   {
    "duration": 470,
    "start_time": "2023-03-08T15:26:13.128Z"
   },
   {
    "duration": 32,
    "start_time": "2023-03-08T15:26:13.600Z"
   },
   {
    "duration": 51,
    "start_time": "2023-03-08T15:34:04.705Z"
   },
   {
    "duration": 50,
    "start_time": "2023-03-08T15:34:09.399Z"
   },
   {
    "duration": 51,
    "start_time": "2023-03-08T15:34:49.614Z"
   },
   {
    "duration": 35,
    "start_time": "2023-03-08T15:34:51.468Z"
   },
   {
    "duration": 39,
    "start_time": "2023-03-08T15:34:58.107Z"
   },
   {
    "duration": 18,
    "start_time": "2023-03-08T15:34:59.120Z"
   },
   {
    "duration": 21,
    "start_time": "2023-03-08T15:35:03.142Z"
   },
   {
    "duration": 553,
    "start_time": "2023-03-08T15:35:05.539Z"
   },
   {
    "duration": 1596,
    "start_time": "2023-03-08T15:35:16.215Z"
   },
   {
    "duration": 9,
    "start_time": "2023-03-08T15:35:17.821Z"
   },
   {
    "duration": 301,
    "start_time": "2023-03-08T15:35:17.832Z"
   },
   {
    "duration": 72,
    "start_time": "2023-03-08T15:35:18.135Z"
   },
   {
    "duration": 27,
    "start_time": "2023-03-08T15:35:18.211Z"
   },
   {
    "duration": 222,
    "start_time": "2023-03-08T15:35:18.240Z"
   },
   {
    "duration": 17,
    "start_time": "2023-03-08T15:35:18.464Z"
   },
   {
    "duration": 54,
    "start_time": "2023-03-08T15:35:18.484Z"
   },
   {
    "duration": 217,
    "start_time": "2023-03-08T15:35:18.542Z"
   },
   {
    "duration": 144,
    "start_time": "2023-03-08T15:35:18.762Z"
   },
   {
    "duration": 60,
    "start_time": "2023-03-08T15:35:18.913Z"
   },
   {
    "duration": 6,
    "start_time": "2023-03-08T15:35:18.977Z"
   },
   {
    "duration": 76,
    "start_time": "2023-03-08T15:35:18.989Z"
   },
   {
    "duration": 65,
    "start_time": "2023-03-08T15:35:19.069Z"
   },
   {
    "duration": 874,
    "start_time": "2023-03-08T15:35:19.136Z"
   },
   {
    "duration": 482,
    "start_time": "2023-03-08T15:35:20.012Z"
   },
   {
    "duration": 33,
    "start_time": "2023-03-08T15:35:20.498Z"
   },
   {
    "duration": 49,
    "start_time": "2023-03-08T15:35:20.533Z"
   },
   {
    "duration": 43,
    "start_time": "2023-03-08T15:35:20.584Z"
   },
   {
    "duration": 29,
    "start_time": "2023-03-08T15:35:20.631Z"
   },
   {
    "duration": 328,
    "start_time": "2023-03-08T15:35:20.662Z"
   },
   {
    "duration": 43,
    "start_time": "2023-03-08T15:35:20.992Z"
   },
   {
    "duration": 17,
    "start_time": "2023-03-08T15:35:21.039Z"
   },
   {
    "duration": 207,
    "start_time": "2023-03-08T15:35:21.059Z"
   },
   {
    "duration": 7,
    "start_time": "2023-03-08T15:35:22.528Z"
   },
   {
    "duration": 11,
    "start_time": "2023-03-08T15:35:22.940Z"
   },
   {
    "duration": 177,
    "start_time": "2023-03-08T15:35:23.332Z"
   },
   {
    "duration": 109,
    "start_time": "2023-03-08T15:35:24.223Z"
   },
   {
    "duration": 77,
    "start_time": "2023-03-08T15:35:24.645Z"
   },
   {
    "duration": 13,
    "start_time": "2023-03-08T15:35:26.407Z"
   },
   {
    "duration": 17,
    "start_time": "2023-03-08T15:35:27.406Z"
   },
   {
    "duration": 10,
    "start_time": "2023-03-08T15:35:28.823Z"
   },
   {
    "duration": 904,
    "start_time": "2023-03-08T15:35:30.219Z"
   },
   {
    "duration": 407,
    "start_time": "2023-03-08T15:35:31.127Z"
   },
   {
    "duration": 43,
    "start_time": "2023-03-08T15:35:35.608Z"
   },
   {
    "duration": 19,
    "start_time": "2023-03-08T15:35:40.232Z"
   },
   {
    "duration": 48,
    "start_time": "2023-03-08T15:37:35.099Z"
   },
   {
    "duration": 170,
    "start_time": "2023-03-08T15:38:08.043Z"
   },
   {
    "duration": 59,
    "start_time": "2023-03-08T15:38:18.796Z"
   },
   {
    "duration": 61,
    "start_time": "2023-03-08T15:38:39.151Z"
   },
   {
    "duration": 46,
    "start_time": "2023-03-08T15:41:02.083Z"
   },
   {
    "duration": 40,
    "start_time": "2023-03-08T15:43:14.636Z"
   },
   {
    "duration": 52,
    "start_time": "2023-03-08T15:43:25.156Z"
   },
   {
    "duration": 123,
    "start_time": "2023-03-08T15:43:44.699Z"
   },
   {
    "duration": 192,
    "start_time": "2023-03-08T15:44:16.417Z"
   },
   {
    "duration": 238,
    "start_time": "2023-03-08T15:47:24.612Z"
   },
   {
    "duration": 12,
    "start_time": "2023-03-08T15:48:18.609Z"
   },
   {
    "duration": 13,
    "start_time": "2023-03-08T16:51:16.306Z"
   },
   {
    "duration": 66,
    "start_time": "2023-03-08T16:53:02.406Z"
   },
   {
    "duration": 84,
    "start_time": "2023-03-08T16:53:12.923Z"
   },
   {
    "duration": 13,
    "start_time": "2023-03-08T16:53:20.784Z"
   },
   {
    "duration": 66,
    "start_time": "2023-03-08T16:53:48.431Z"
   },
   {
    "duration": 365,
    "start_time": "2023-03-08T17:10:08.205Z"
   },
   {
    "duration": 364,
    "start_time": "2023-03-08T17:10:21.058Z"
   },
   {
    "duration": 97,
    "start_time": "2023-03-08T17:11:22.275Z"
   },
   {
    "duration": 73,
    "start_time": "2023-03-08T17:12:17.014Z"
   },
   {
    "duration": 66,
    "start_time": "2023-03-08T17:21:00.304Z"
   },
   {
    "duration": 70,
    "start_time": "2023-03-08T17:32:20.505Z"
   },
   {
    "duration": 1515,
    "start_time": "2023-03-08T17:33:11.719Z"
   },
   {
    "duration": 4,
    "start_time": "2023-03-08T17:33:13.236Z"
   },
   {
    "duration": 217,
    "start_time": "2023-03-08T17:33:13.241Z"
   },
   {
    "duration": 43,
    "start_time": "2023-03-08T17:33:13.460Z"
   },
   {
    "duration": 59,
    "start_time": "2023-03-08T17:33:13.506Z"
   },
   {
    "duration": 172,
    "start_time": "2023-03-08T17:33:13.567Z"
   },
   {
    "duration": 4,
    "start_time": "2023-03-08T17:33:13.741Z"
   },
   {
    "duration": 14,
    "start_time": "2023-03-08T17:33:13.748Z"
   },
   {
    "duration": 171,
    "start_time": "2023-03-08T17:33:13.780Z"
   },
   {
    "duration": 111,
    "start_time": "2023-03-08T17:33:13.953Z"
   },
   {
    "duration": 57,
    "start_time": "2023-03-08T17:33:14.067Z"
   },
   {
    "duration": 4,
    "start_time": "2023-03-08T17:33:14.125Z"
   },
   {
    "duration": 12,
    "start_time": "2023-03-08T17:33:14.130Z"
   },
   {
    "duration": 8,
    "start_time": "2023-03-08T17:33:14.144Z"
   },
   {
    "duration": 810,
    "start_time": "2023-03-08T17:33:14.154Z"
   },
   {
    "duration": 480,
    "start_time": "2023-03-08T17:33:14.966Z"
   },
   {
    "duration": 34,
    "start_time": "2023-03-08T17:33:15.448Z"
   },
   {
    "duration": 20,
    "start_time": "2023-03-08T17:33:15.484Z"
   },
   {
    "duration": 57,
    "start_time": "2023-03-08T17:33:15.507Z"
   },
   {
    "duration": 44,
    "start_time": "2023-03-08T17:33:15.566Z"
   },
   {
    "duration": 189,
    "start_time": "2023-03-08T17:33:15.612Z"
   },
   {
    "duration": 0,
    "start_time": "2023-03-08T17:33:15.803Z"
   },
   {
    "duration": 0,
    "start_time": "2023-03-08T17:33:15.804Z"
   },
   {
    "duration": 0,
    "start_time": "2023-03-08T17:33:15.805Z"
   },
   {
    "duration": 4,
    "start_time": "2023-03-08T17:33:19.956Z"
   },
   {
    "duration": 2,
    "start_time": "2023-03-08T17:33:22.072Z"
   },
   {
    "duration": 205,
    "start_time": "2023-03-08T17:33:22.602Z"
   },
   {
    "duration": 36,
    "start_time": "2023-03-08T17:33:23.251Z"
   },
   {
    "duration": 16,
    "start_time": "2023-03-08T17:33:26.144Z"
   },
   {
    "duration": 104,
    "start_time": "2023-03-08T17:33:26.948Z"
   },
   {
    "duration": 4,
    "start_time": "2023-03-08T17:33:35.364Z"
   },
   {
    "duration": 12,
    "start_time": "2023-03-08T17:33:36.575Z"
   },
   {
    "duration": 132,
    "start_time": "2023-03-08T17:33:37.919Z"
   },
   {
    "duration": 84,
    "start_time": "2023-03-08T17:33:42.927Z"
   },
   {
    "duration": 45,
    "start_time": "2023-03-08T17:33:43.532Z"
   },
   {
    "duration": 3,
    "start_time": "2023-03-08T17:34:12.368Z"
   },
   {
    "duration": 8,
    "start_time": "2023-03-08T17:34:29.623Z"
   },
   {
    "duration": 4,
    "start_time": "2023-03-08T17:35:05.872Z"
   },
   {
    "duration": 9,
    "start_time": "2023-03-08T17:35:11.202Z"
   },
   {
    "duration": 778,
    "start_time": "2023-03-08T17:38:10.172Z"
   },
   {
    "duration": 363,
    "start_time": "2023-03-08T17:38:16.756Z"
   },
   {
    "duration": 421,
    "start_time": "2023-03-08T17:38:22.032Z"
   },
   {
    "duration": 369,
    "start_time": "2023-03-08T17:38:29.572Z"
   },
   {
    "duration": 99,
    "start_time": "2023-03-08T17:39:06.805Z"
   },
   {
    "duration": 365,
    "start_time": "2023-03-08T17:39:13.052Z"
   },
   {
    "duration": 373,
    "start_time": "2023-03-08T17:39:16.712Z"
   },
   {
    "duration": 25,
    "start_time": "2023-03-08T17:46:27.202Z"
   },
   {
    "duration": 13,
    "start_time": "2023-03-08T17:46:28.816Z"
   },
   {
    "duration": 12,
    "start_time": "2023-03-08T18:06:50.793Z"
   },
   {
    "duration": 13,
    "start_time": "2023-03-08T18:08:23.717Z"
   },
   {
    "duration": 40,
    "start_time": "2023-03-08T18:08:38.115Z"
   },
   {
    "duration": 12,
    "start_time": "2023-03-08T18:08:59.048Z"
   },
   {
    "duration": 11,
    "start_time": "2023-03-08T18:09:01.853Z"
   },
   {
    "duration": 12,
    "start_time": "2023-03-08T18:09:03.818Z"
   },
   {
    "duration": 27,
    "start_time": "2023-03-08T18:09:39.153Z"
   },
   {
    "duration": 78,
    "start_time": "2023-03-08T18:12:59.540Z"
   },
   {
    "duration": 1320,
    "start_time": "2023-03-08T18:13:23.520Z"
   },
   {
    "duration": 1420,
    "start_time": "2023-03-08T18:13:25.152Z"
   },
   {
    "duration": 66,
    "start_time": "2023-03-08T18:13:54.797Z"
   },
   {
    "duration": 12,
    "start_time": "2023-03-08T18:23:23.599Z"
   },
   {
    "duration": 11,
    "start_time": "2023-03-08T18:23:37.493Z"
   },
   {
    "duration": 97,
    "start_time": "2023-03-08T18:25:38.727Z"
   },
   {
    "duration": 76,
    "start_time": "2023-03-08T18:27:28.679Z"
   },
   {
    "duration": 69,
    "start_time": "2023-03-08T18:31:49.229Z"
   },
   {
    "duration": 4,
    "start_time": "2023-03-08T18:33:08.014Z"
   },
   {
    "duration": 4,
    "start_time": "2023-03-08T18:33:57.430Z"
   },
   {
    "duration": 6,
    "start_time": "2023-03-08T18:34:13.838Z"
   },
   {
    "duration": 5,
    "start_time": "2023-03-08T18:34:21.098Z"
   },
   {
    "duration": 12,
    "start_time": "2023-03-08T18:34:41.711Z"
   },
   {
    "duration": 4,
    "start_time": "2023-03-08T18:35:09.082Z"
   },
   {
    "duration": 5,
    "start_time": "2023-03-08T18:35:42.023Z"
   },
   {
    "duration": 6,
    "start_time": "2023-03-08T18:35:54.824Z"
   },
   {
    "duration": 6,
    "start_time": "2023-03-08T18:38:37.712Z"
   },
   {
    "duration": 5,
    "start_time": "2023-03-08T18:38:44.313Z"
   },
   {
    "duration": 6,
    "start_time": "2023-03-08T18:38:49.832Z"
   },
   {
    "duration": 122,
    "start_time": "2023-03-08T18:39:37.609Z"
   },
   {
    "duration": 8,
    "start_time": "2023-03-08T18:39:44.640Z"
   },
   {
    "duration": 6,
    "start_time": "2023-03-08T18:41:37.474Z"
   },
   {
    "duration": 10,
    "start_time": "2023-03-08T18:42:40.597Z"
   },
   {
    "duration": 78,
    "start_time": "2023-03-08T18:52:36.306Z"
   },
   {
    "duration": 4,
    "start_time": "2023-03-08T18:58:01.184Z"
   },
   {
    "duration": 51,
    "start_time": "2023-03-08T19:08:18.905Z"
   },
   {
    "duration": 72,
    "start_time": "2023-03-08T19:11:16.294Z"
   },
   {
    "duration": 14,
    "start_time": "2023-03-08T19:16:52.850Z"
   },
   {
    "duration": 13,
    "start_time": "2023-03-08T19:17:32.507Z"
   },
   {
    "duration": 13,
    "start_time": "2023-03-08T19:17:34.617Z"
   },
   {
    "duration": 155,
    "start_time": "2023-03-08T19:17:54.109Z"
   },
   {
    "duration": 14,
    "start_time": "2023-03-08T19:18:47.438Z"
   },
   {
    "duration": 153,
    "start_time": "2023-03-08T19:18:51.550Z"
   },
   {
    "duration": 152,
    "start_time": "2023-03-08T19:19:05.973Z"
   },
   {
    "duration": 181,
    "start_time": "2023-03-08T19:19:20.729Z"
   },
   {
    "duration": 11,
    "start_time": "2023-03-08T19:23:12.294Z"
   },
   {
    "duration": 33,
    "start_time": "2023-03-08T19:23:13.634Z"
   },
   {
    "duration": 9,
    "start_time": "2023-03-08T19:23:40.847Z"
   },
   {
    "duration": 147,
    "start_time": "2023-03-08T19:23:44.396Z"
   },
   {
    "duration": 10,
    "start_time": "2023-03-08T19:34:20.078Z"
   },
   {
    "duration": 45,
    "start_time": "2023-03-08T19:34:21.083Z"
   },
   {
    "duration": 9,
    "start_time": "2023-03-08T19:34:38.279Z"
   },
   {
    "duration": 142,
    "start_time": "2023-03-08T19:34:39.846Z"
   },
   {
    "duration": 142,
    "start_time": "2023-03-08T19:34:45.877Z"
   },
   {
    "duration": 10,
    "start_time": "2023-03-08T19:38:57.075Z"
   },
   {
    "duration": 142,
    "start_time": "2023-03-08T19:38:59.095Z"
   },
   {
    "duration": 7,
    "start_time": "2023-03-08T19:57:54.093Z"
   },
   {
    "duration": 135,
    "start_time": "2023-03-08T19:58:10.588Z"
   },
   {
    "duration": 10,
    "start_time": "2023-03-08T20:01:00.895Z"
   },
   {
    "duration": 163,
    "start_time": "2023-03-08T20:01:02.017Z"
   },
   {
    "duration": 149,
    "start_time": "2023-03-08T20:02:36.904Z"
   },
   {
    "duration": 139,
    "start_time": "2023-03-08T20:02:46.319Z"
   },
   {
    "duration": 6,
    "start_time": "2023-03-08T20:06:00.544Z"
   },
   {
    "duration": 140,
    "start_time": "2023-03-08T20:06:01.703Z"
   },
   {
    "duration": 139,
    "start_time": "2023-03-08T20:07:17.735Z"
   },
   {
    "duration": 201,
    "start_time": "2023-03-08T20:08:16.837Z"
   },
   {
    "duration": 141,
    "start_time": "2023-03-08T20:09:34.436Z"
   },
   {
    "duration": 25,
    "start_time": "2023-03-08T21:10:16.230Z"
   },
   {
    "duration": 45,
    "start_time": "2023-03-08T21:11:11.778Z"
   },
   {
    "duration": 42,
    "start_time": "2023-03-08T21:11:18.490Z"
   },
   {
    "duration": 3,
    "start_time": "2023-03-08T21:12:12.298Z"
   },
   {
    "duration": 11,
    "start_time": "2023-03-08T21:12:12.693Z"
   },
   {
    "duration": 8,
    "start_time": "2023-03-08T21:12:13.109Z"
   },
   {
    "duration": 717,
    "start_time": "2023-03-08T21:12:24.098Z"
   },
   {
    "duration": 315,
    "start_time": "2023-03-08T21:12:26.110Z"
   },
   {
    "duration": 21,
    "start_time": "2023-03-08T21:12:30.726Z"
   },
   {
    "duration": 12,
    "start_time": "2023-03-08T21:12:31.518Z"
   },
   {
    "duration": 31,
    "start_time": "2023-03-08T21:13:03.782Z"
   },
   {
    "duration": 64,
    "start_time": "2023-03-08T21:13:28.282Z"
   },
   {
    "duration": 6,
    "start_time": "2023-03-08T21:15:26.935Z"
   },
   {
    "duration": 4,
    "start_time": "2023-03-08T21:16:01.471Z"
   },
   {
    "duration": 4,
    "start_time": "2023-03-08T21:16:16.934Z"
   },
   {
    "duration": 49,
    "start_time": "2023-03-08T21:16:41.687Z"
   },
   {
    "duration": 83,
    "start_time": "2023-03-08T21:16:42.784Z"
   },
   {
    "duration": 77,
    "start_time": "2023-03-08T21:17:27.510Z"
   },
   {
    "duration": 106,
    "start_time": "2023-03-08T21:17:29.175Z"
   },
   {
    "duration": 101,
    "start_time": "2023-03-08T21:17:31.231Z"
   },
   {
    "duration": 159,
    "start_time": "2023-03-08T21:17:32.071Z"
   },
   {
    "duration": 98,
    "start_time": "2023-03-08T21:17:32.927Z"
   },
   {
    "duration": 1246,
    "start_time": "2023-03-08T21:18:19.931Z"
   },
   {
    "duration": 3,
    "start_time": "2023-03-08T21:18:21.179Z"
   },
   {
    "duration": 170,
    "start_time": "2023-03-08T21:18:21.183Z"
   },
   {
    "duration": 31,
    "start_time": "2023-03-08T21:18:21.355Z"
   },
   {
    "duration": 19,
    "start_time": "2023-03-08T21:18:21.387Z"
   },
   {
    "duration": 174,
    "start_time": "2023-03-08T21:18:21.408Z"
   },
   {
    "duration": 4,
    "start_time": "2023-03-08T21:18:21.584Z"
   },
   {
    "duration": 45,
    "start_time": "2023-03-08T21:18:21.589Z"
   },
   {
    "duration": 127,
    "start_time": "2023-03-08T21:18:21.636Z"
   },
   {
    "duration": 95,
    "start_time": "2023-03-08T21:18:21.766Z"
   },
   {
    "duration": 50,
    "start_time": "2023-03-08T21:18:21.863Z"
   },
   {
    "duration": 4,
    "start_time": "2023-03-08T21:18:21.915Z"
   },
   {
    "duration": 11,
    "start_time": "2023-03-08T21:18:21.920Z"
   },
   {
    "duration": 7,
    "start_time": "2023-03-08T21:18:21.933Z"
   },
   {
    "duration": 702,
    "start_time": "2023-03-08T21:18:21.942Z"
   },
   {
    "duration": 424,
    "start_time": "2023-03-08T21:18:22.646Z"
   },
   {
    "duration": 22,
    "start_time": "2023-03-08T21:18:23.076Z"
   },
   {
    "duration": 11,
    "start_time": "2023-03-08T21:18:23.100Z"
   },
   {
    "duration": 20,
    "start_time": "2023-03-08T21:18:23.112Z"
   },
   {
    "duration": 52,
    "start_time": "2023-03-08T21:18:23.134Z"
   },
   {
    "duration": 65,
    "start_time": "2023-03-08T21:18:23.188Z"
   },
   {
    "duration": 23,
    "start_time": "2023-03-08T21:18:23.255Z"
   },
   {
    "duration": 6,
    "start_time": "2023-03-08T21:18:23.280Z"
   },
   {
    "duration": 6,
    "start_time": "2023-03-08T21:18:23.288Z"
   },
   {
    "duration": 65,
    "start_time": "2023-03-08T21:18:23.296Z"
   },
   {
    "duration": 75,
    "start_time": "2023-03-08T21:18:23.376Z"
   },
   {
    "duration": 6,
    "start_time": "2023-03-08T21:18:23.453Z"
   },
   {
    "duration": 113,
    "start_time": "2023-03-08T21:18:23.478Z"
   },
   {
    "duration": 118,
    "start_time": "2023-03-08T21:18:23.593Z"
   },
   {
    "duration": 153,
    "start_time": "2023-03-08T21:18:23.714Z"
   },
   {
    "duration": 120,
    "start_time": "2023-03-08T21:18:23.876Z"
   },
   {
    "duration": 4,
    "start_time": "2023-03-08T21:18:29.185Z"
   },
   {
    "duration": 3,
    "start_time": "2023-03-08T21:18:29.376Z"
   },
   {
    "duration": 168,
    "start_time": "2023-03-08T21:18:29.575Z"
   },
   {
    "duration": 28,
    "start_time": "2023-03-08T21:18:29.771Z"
   },
   {
    "duration": 15,
    "start_time": "2023-03-08T21:18:29.939Z"
   },
   {
    "duration": 109,
    "start_time": "2023-03-08T21:18:30.126Z"
   },
   {
    "duration": 4,
    "start_time": "2023-03-08T21:18:30.874Z"
   },
   {
    "duration": 8,
    "start_time": "2023-03-08T21:18:31.073Z"
   },
   {
    "duration": 127,
    "start_time": "2023-03-08T21:18:31.275Z"
   },
   {
    "duration": 93,
    "start_time": "2023-03-08T21:18:31.472Z"
   },
   {
    "duration": 42,
    "start_time": "2023-03-08T21:18:31.674Z"
   },
   {
    "duration": 3,
    "start_time": "2023-03-08T21:18:32.275Z"
   },
   {
    "duration": 9,
    "start_time": "2023-03-08T21:18:32.527Z"
   },
   {
    "duration": 8,
    "start_time": "2023-03-08T21:18:33.159Z"
   },
   {
    "duration": 676,
    "start_time": "2023-03-08T21:18:33.277Z"
   },
   {
    "duration": 407,
    "start_time": "2023-03-08T21:18:33.955Z"
   },
   {
    "duration": 23,
    "start_time": "2023-03-08T21:18:34.503Z"
   },
   {
    "duration": 14,
    "start_time": "2023-03-08T21:18:34.683Z"
   },
   {
    "duration": 14,
    "start_time": "2023-03-08T21:18:35.279Z"
   },
   {
    "duration": 30,
    "start_time": "2023-03-08T21:18:36.091Z"
   },
   {
    "duration": 67,
    "start_time": "2023-03-08T21:18:36.492Z"
   },
   {
    "duration": 10,
    "start_time": "2023-03-08T21:18:37.268Z"
   },
   {
    "duration": 6,
    "start_time": "2023-03-08T21:18:37.673Z"
   },
   {
    "duration": 4,
    "start_time": "2023-03-08T21:18:38.067Z"
   },
   {
    "duration": 49,
    "start_time": "2023-03-08T21:18:38.639Z"
   },
   {
    "duration": 82,
    "start_time": "2023-03-08T21:18:38.823Z"
   },
   {
    "duration": 6,
    "start_time": "2023-03-08T21:18:39.973Z"
   },
   {
    "duration": 102,
    "start_time": "2023-03-08T21:18:40.703Z"
   },
   {
    "duration": 105,
    "start_time": "2023-03-08T21:18:41.275Z"
   },
   {
    "duration": 135,
    "start_time": "2023-03-08T21:18:41.670Z"
   },
   {
    "duration": 116,
    "start_time": "2023-03-08T21:18:42.315Z"
   },
   {
    "duration": 293,
    "start_time": "2023-03-08T21:18:56.571Z"
   },
   {
    "duration": 328,
    "start_time": "2023-03-08T21:19:02.449Z"
   },
   {
    "duration": 1327,
    "start_time": "2023-03-08T21:19:11.872Z"
   },
   {
    "duration": 3,
    "start_time": "2023-03-08T21:19:13.202Z"
   },
   {
    "duration": 179,
    "start_time": "2023-03-08T21:19:13.206Z"
   },
   {
    "duration": 29,
    "start_time": "2023-03-08T21:19:13.387Z"
   },
   {
    "duration": 21,
    "start_time": "2023-03-08T21:19:13.418Z"
   },
   {
    "duration": 156,
    "start_time": "2023-03-08T21:19:13.441Z"
   },
   {
    "duration": 4,
    "start_time": "2023-03-08T21:19:13.599Z"
   },
   {
    "duration": 15,
    "start_time": "2023-03-08T21:19:13.604Z"
   },
   {
    "duration": 122,
    "start_time": "2023-03-08T21:19:13.620Z"
   },
   {
    "duration": 102,
    "start_time": "2023-03-08T21:19:13.744Z"
   },
   {
    "duration": 43,
    "start_time": "2023-03-08T21:19:13.848Z"
   },
   {
    "duration": 3,
    "start_time": "2023-03-08T21:19:13.893Z"
   },
   {
    "duration": 11,
    "start_time": "2023-03-08T21:19:13.897Z"
   },
   {
    "duration": 6,
    "start_time": "2023-03-08T21:19:13.911Z"
   },
   {
    "duration": 655,
    "start_time": "2023-03-08T21:19:13.919Z"
   },
   {
    "duration": 378,
    "start_time": "2023-03-08T21:19:14.577Z"
   },
   {
    "duration": 26,
    "start_time": "2023-03-08T21:19:14.957Z"
   },
   {
    "duration": 11,
    "start_time": "2023-03-08T21:19:14.985Z"
   },
   {
    "duration": 31,
    "start_time": "2023-03-08T21:19:14.997Z"
   },
   {
    "duration": 46,
    "start_time": "2023-03-08T21:19:15.029Z"
   },
   {
    "duration": 70,
    "start_time": "2023-03-08T21:19:15.076Z"
   },
   {
    "duration": 8,
    "start_time": "2023-03-08T21:19:15.148Z"
   },
   {
    "duration": 15,
    "start_time": "2023-03-08T21:19:15.158Z"
   },
   {
    "duration": 15,
    "start_time": "2023-03-08T21:19:15.176Z"
   },
   {
    "duration": 76,
    "start_time": "2023-03-08T21:19:15.193Z"
   },
   {
    "duration": 67,
    "start_time": "2023-03-08T21:19:15.271Z"
   },
   {
    "duration": 6,
    "start_time": "2023-03-08T21:19:15.340Z"
   },
   {
    "duration": 116,
    "start_time": "2023-03-08T21:19:15.348Z"
   },
   {
    "duration": 103,
    "start_time": "2023-03-08T21:19:15.466Z"
   },
   {
    "duration": 128,
    "start_time": "2023-03-08T21:19:15.577Z"
   },
   {
    "duration": 103,
    "start_time": "2023-03-08T21:19:15.707Z"
   },
   {
    "duration": 4,
    "start_time": "2023-03-08T21:19:16.260Z"
   },
   {
    "duration": 3,
    "start_time": "2023-03-08T21:19:16.431Z"
   },
   {
    "duration": 161,
    "start_time": "2023-03-08T21:19:16.603Z"
   },
   {
    "duration": 28,
    "start_time": "2023-03-08T21:19:16.795Z"
   },
   {
    "duration": 14,
    "start_time": "2023-03-08T21:19:17.789Z"
   },
   {
    "duration": 105,
    "start_time": "2023-03-08T21:19:17.881Z"
   },
   {
    "duration": 3,
    "start_time": "2023-03-08T21:19:18.189Z"
   },
   {
    "duration": 8,
    "start_time": "2023-03-08T21:19:18.385Z"
   },
   {
    "duration": 111,
    "start_time": "2023-03-08T21:19:18.572Z"
   },
   {
    "duration": 98,
    "start_time": "2023-03-08T21:19:18.779Z"
   },
   {
    "duration": 42,
    "start_time": "2023-03-08T21:19:18.927Z"
   },
   {
    "duration": 4,
    "start_time": "2023-03-08T21:19:19.491Z"
   },
   {
    "duration": 7,
    "start_time": "2023-03-08T21:19:19.689Z"
   },
   {
    "duration": 7,
    "start_time": "2023-03-08T21:19:19.887Z"
   },
   {
    "duration": 639,
    "start_time": "2023-03-08T21:19:20.599Z"
   },
   {
    "duration": 398,
    "start_time": "2023-03-08T21:19:21.240Z"
   },
   {
    "duration": 282,
    "start_time": "2023-03-08T21:19:26.795Z"
   },
   {
    "duration": 308,
    "start_time": "2023-03-08T21:19:35.923Z"
   },
   {
    "duration": 304,
    "start_time": "2023-03-08T21:19:42.002Z"
   },
   {
    "duration": 341,
    "start_time": "2023-03-08T21:19:55.220Z"
   },
   {
    "duration": 549,
    "start_time": "2023-03-08T21:20:03.211Z"
   },
   {
    "duration": 277,
    "start_time": "2023-03-08T21:20:14.136Z"
   },
   {
    "duration": 312,
    "start_time": "2023-03-08T21:20:19.772Z"
   },
   {
    "duration": 387,
    "start_time": "2023-03-08T21:20:24.050Z"
   },
   {
    "duration": 23,
    "start_time": "2023-03-08T21:20:46.868Z"
   },
   {
    "duration": 13,
    "start_time": "2023-03-08T21:20:48.587Z"
   },
   {
    "duration": 13,
    "start_time": "2023-03-08T21:20:55.831Z"
   },
   {
    "duration": 28,
    "start_time": "2023-03-08T21:21:05.220Z"
   },
   {
    "duration": 63,
    "start_time": "2023-03-08T21:21:06.496Z"
   },
   {
    "duration": 9,
    "start_time": "2023-03-08T21:21:08.471Z"
   },
   {
    "duration": 8,
    "start_time": "2023-03-08T21:21:12.486Z"
   },
   {
    "duration": 3,
    "start_time": "2023-03-08T21:21:13.391Z"
   },
   {
    "duration": 46,
    "start_time": "2023-03-08T21:21:14.487Z"
   },
   {
    "duration": 66,
    "start_time": "2023-03-08T21:21:14.876Z"
   },
   {
    "duration": 7,
    "start_time": "2023-03-08T21:21:18.591Z"
   },
   {
    "duration": 101,
    "start_time": "2023-03-08T21:21:19.115Z"
   },
   {
    "duration": 112,
    "start_time": "2023-03-08T21:21:21.935Z"
   },
   {
    "duration": 146,
    "start_time": "2023-03-08T21:21:22.188Z"
   },
   {
    "duration": 104,
    "start_time": "2023-03-08T21:21:23.735Z"
   },
   {
    "duration": 1307,
    "start_time": "2023-03-09T04:33:05.515Z"
   },
   {
    "duration": 3,
    "start_time": "2023-03-09T04:33:06.824Z"
   },
   {
    "duration": 195,
    "start_time": "2023-03-09T04:33:06.829Z"
   },
   {
    "duration": 31,
    "start_time": "2023-03-09T04:33:07.026Z"
   },
   {
    "duration": 40,
    "start_time": "2023-03-09T04:33:07.060Z"
   },
   {
    "duration": 151,
    "start_time": "2023-03-09T04:33:07.102Z"
   },
   {
    "duration": 4,
    "start_time": "2023-03-09T04:33:07.255Z"
   },
   {
    "duration": 24,
    "start_time": "2023-03-09T04:33:07.260Z"
   },
   {
    "duration": 167,
    "start_time": "2023-03-09T04:33:07.285Z"
   },
   {
    "duration": 100,
    "start_time": "2023-03-09T04:33:07.454Z"
   },
   {
    "duration": 58,
    "start_time": "2023-03-09T04:33:07.556Z"
   },
   {
    "duration": 3,
    "start_time": "2023-03-09T04:33:07.616Z"
   },
   {
    "duration": 11,
    "start_time": "2023-03-09T04:33:07.621Z"
   },
   {
    "duration": 13,
    "start_time": "2023-03-09T04:33:07.636Z"
   },
   {
    "duration": 769,
    "start_time": "2023-03-09T04:33:07.651Z"
   },
   {
    "duration": 573,
    "start_time": "2023-03-09T04:33:08.422Z"
   },
   {
    "duration": 24,
    "start_time": "2023-03-09T04:33:08.997Z"
   },
   {
    "duration": 12,
    "start_time": "2023-03-09T04:33:09.023Z"
   },
   {
    "duration": 38,
    "start_time": "2023-03-09T04:33:09.037Z"
   },
   {
    "duration": 45,
    "start_time": "2023-03-09T04:33:09.076Z"
   },
   {
    "duration": 104,
    "start_time": "2023-03-09T04:33:09.123Z"
   },
   {
    "duration": 9,
    "start_time": "2023-03-09T04:33:09.229Z"
   },
   {
    "duration": 8,
    "start_time": "2023-03-09T04:33:09.240Z"
   },
   {
    "duration": 23,
    "start_time": "2023-03-09T04:33:09.250Z"
   },
   {
    "duration": 65,
    "start_time": "2023-03-09T04:33:09.276Z"
   },
   {
    "duration": 90,
    "start_time": "2023-03-09T04:33:09.343Z"
   },
   {
    "duration": 6,
    "start_time": "2023-03-09T04:33:09.435Z"
   },
   {
    "duration": 138,
    "start_time": "2023-03-09T04:33:09.443Z"
   },
   {
    "duration": 137,
    "start_time": "2023-03-09T04:33:09.585Z"
   },
   {
    "duration": 196,
    "start_time": "2023-03-09T04:33:09.724Z"
   },
   {
    "duration": 135,
    "start_time": "2023-03-09T04:33:09.922Z"
   },
   {
    "duration": 1470,
    "start_time": "2023-03-09T14:19:21.937Z"
   },
   {
    "duration": 4,
    "start_time": "2023-03-09T14:19:23.409Z"
   },
   {
    "duration": 863,
    "start_time": "2023-03-09T14:19:23.414Z"
   },
   {
    "duration": 25,
    "start_time": "2023-03-09T14:19:24.279Z"
   },
   {
    "duration": 12,
    "start_time": "2023-03-09T14:19:24.305Z"
   },
   {
    "duration": 109,
    "start_time": "2023-03-09T14:19:24.319Z"
   },
   {
    "duration": 4,
    "start_time": "2023-03-09T14:19:24.430Z"
   },
   {
    "duration": 8,
    "start_time": "2023-03-09T14:19:24.440Z"
   },
   {
    "duration": 114,
    "start_time": "2023-03-09T14:19:24.570Z"
   },
   {
    "duration": 74,
    "start_time": "2023-03-09T14:19:24.780Z"
   },
   {
    "duration": 64,
    "start_time": "2023-03-09T14:19:25.040Z"
   },
   {
    "duration": 4,
    "start_time": "2023-03-09T14:19:26.272Z"
   },
   {
    "duration": 7,
    "start_time": "2023-03-09T14:19:26.680Z"
   },
   {
    "duration": 7,
    "start_time": "2023-03-09T14:19:27.124Z"
   },
   {
    "duration": 287,
    "start_time": "2023-03-09T14:19:28.280Z"
   },
   {
    "duration": 314,
    "start_time": "2023-03-09T14:19:44.380Z"
   },
   {
    "duration": 361,
    "start_time": "2023-03-09T14:19:56.371Z"
   },
   {
    "duration": 298,
    "start_time": "2023-03-09T14:21:07.559Z"
   },
   {
    "duration": 390,
    "start_time": "2023-03-09T14:21:13.475Z"
   },
   {
    "duration": 333,
    "start_time": "2023-03-09T14:21:21.801Z"
   },
   {
    "duration": 398,
    "start_time": "2023-03-09T14:30:16.967Z"
   },
   {
    "duration": 113,
    "start_time": "2023-03-10T14:03:12.000Z"
   },
   {
    "duration": 1721,
    "start_time": "2023-03-10T14:12:01.914Z"
   },
   {
    "duration": 11,
    "start_time": "2023-03-10T14:12:04.093Z"
   },
   {
    "duration": 793,
    "start_time": "2023-03-10T14:12:04.424Z"
   },
   {
    "duration": 33,
    "start_time": "2023-03-10T14:12:05.220Z"
   },
   {
    "duration": 19,
    "start_time": "2023-03-10T14:12:05.255Z"
   },
   {
    "duration": 203,
    "start_time": "2023-03-10T14:12:05.279Z"
   },
   {
    "duration": 12,
    "start_time": "2023-03-10T14:12:06.007Z"
   },
   {
    "duration": 19,
    "start_time": "2023-03-10T14:12:06.298Z"
   },
   {
    "duration": 170,
    "start_time": "2023-03-10T14:12:06.730Z"
   },
   {
    "duration": 115,
    "start_time": "2023-03-10T14:12:07.106Z"
   },
   {
    "duration": 73,
    "start_time": "2023-03-10T14:12:07.551Z"
   },
   {
    "duration": 7,
    "start_time": "2023-03-10T14:12:08.471Z"
   },
   {
    "duration": 16,
    "start_time": "2023-03-10T14:12:08.702Z"
   },
   {
    "duration": 19,
    "start_time": "2023-03-10T14:12:08.913Z"
   },
   {
    "duration": 466,
    "start_time": "2023-03-10T14:12:09.589Z"
   },
   {
    "duration": 945,
    "start_time": "2023-03-10T14:12:10.584Z"
   },
   {
    "duration": 620,
    "start_time": "2023-03-10T14:12:11.531Z"
   },
   {
    "duration": 95,
    "start_time": "2023-03-10T14:12:13.446Z"
   },
   {
    "duration": 99,
    "start_time": "2023-03-10T14:13:13.571Z"
   },
   {
    "duration": 124,
    "start_time": "2023-03-10T14:14:04.870Z"
   },
   {
    "duration": 1951,
    "start_time": "2023-03-10T14:14:21.970Z"
   },
   {
    "duration": 1813,
    "start_time": "2023-03-10T14:14:53.871Z"
   },
   {
    "duration": 1397,
    "start_time": "2023-03-10T14:15:20.451Z"
   },
   {
    "duration": 1402,
    "start_time": "2023-03-10T14:15:55.232Z"
   },
   {
    "duration": 1417,
    "start_time": "2023-03-10T14:16:25.586Z"
   },
   {
    "duration": 3516,
    "start_time": "2023-03-10T14:16:47.302Z"
   },
   {
    "duration": 116,
    "start_time": "2023-03-10T14:17:27.219Z"
   },
   {
    "duration": 127,
    "start_time": "2023-03-10T14:17:34.196Z"
   },
   {
    "duration": 2847,
    "start_time": "2023-03-10T14:17:40.299Z"
   },
   {
    "duration": 108,
    "start_time": "2023-03-10T14:25:55.861Z"
   },
   {
    "duration": 7,
    "start_time": "2023-03-10T14:26:14.123Z"
   },
   {
    "duration": 155,
    "start_time": "2023-03-10T14:26:15.444Z"
   },
   {
    "duration": 100,
    "start_time": "2023-03-10T14:26:16.961Z"
   },
   {
    "duration": 1696,
    "start_time": "2023-03-10T14:26:32.588Z"
   },
   {
    "duration": 9,
    "start_time": "2023-03-10T14:26:34.288Z"
   },
   {
    "duration": 280,
    "start_time": "2023-03-10T14:26:34.303Z"
   },
   {
    "duration": 55,
    "start_time": "2023-03-10T14:26:34.586Z"
   },
   {
    "duration": 16,
    "start_time": "2023-03-10T14:26:34.644Z"
   },
   {
    "duration": 191,
    "start_time": "2023-03-10T14:26:34.662Z"
   },
   {
    "duration": 7,
    "start_time": "2023-03-10T14:26:34.855Z"
   },
   {
    "duration": 237,
    "start_time": "2023-03-10T14:26:34.864Z"
   },
   {
    "duration": 115,
    "start_time": "2023-03-10T14:26:35.103Z"
   },
   {
    "duration": 49,
    "start_time": "2023-03-10T14:26:35.223Z"
   },
   {
    "duration": 3,
    "start_time": "2023-03-10T14:26:35.287Z"
   },
   {
    "duration": 39,
    "start_time": "2023-03-10T14:26:35.301Z"
   },
   {
    "duration": 8,
    "start_time": "2023-03-10T14:26:35.343Z"
   },
   {
    "duration": 476,
    "start_time": "2023-03-10T14:26:35.355Z"
   },
   {
    "duration": 914,
    "start_time": "2023-03-10T14:26:35.833Z"
   },
   {
    "duration": 689,
    "start_time": "2023-03-10T14:26:36.749Z"
   },
   {
    "duration": 2921,
    "start_time": "2023-03-10T14:26:37.440Z"
   },
   {
    "duration": 33,
    "start_time": "2023-03-10T14:26:40.363Z"
   },
   {
    "duration": 55,
    "start_time": "2023-03-10T14:26:40.402Z"
   },
   {
    "duration": 31,
    "start_time": "2023-03-10T14:26:40.460Z"
   },
   {
    "duration": 70,
    "start_time": "2023-03-10T14:26:40.497Z"
   },
   {
    "duration": 145,
    "start_time": "2023-03-10T14:26:40.569Z"
   },
   {
    "duration": 15,
    "start_time": "2023-03-10T14:26:40.717Z"
   },
   {
    "duration": 17,
    "start_time": "2023-03-10T14:26:40.736Z"
   },
   {
    "duration": 9,
    "start_time": "2023-03-10T14:26:40.755Z"
   },
   {
    "duration": 91,
    "start_time": "2023-03-10T14:26:40.766Z"
   },
   {
    "duration": 112,
    "start_time": "2023-03-10T14:26:40.859Z"
   },
   {
    "duration": 21,
    "start_time": "2023-03-10T14:26:40.978Z"
   },
   {
    "duration": 172,
    "start_time": "2023-03-10T14:26:41.001Z"
   },
   {
    "duration": 160,
    "start_time": "2023-03-10T14:26:41.178Z"
   },
   {
    "duration": 196,
    "start_time": "2023-03-10T14:26:41.339Z"
   },
   {
    "duration": 157,
    "start_time": "2023-03-10T14:26:41.536Z"
   },
   {
    "duration": 5,
    "start_time": "2023-03-10T14:26:48.637Z"
   },
   {
    "duration": 8,
    "start_time": "2023-03-10T14:26:49.108Z"
   },
   {
    "duration": 268,
    "start_time": "2023-03-10T14:26:49.570Z"
   },
   {
    "duration": 33,
    "start_time": "2023-03-10T14:26:50.250Z"
   },
   {
    "duration": 35,
    "start_time": "2023-03-10T14:26:50.870Z"
   },
   {
    "duration": 135,
    "start_time": "2023-03-10T14:26:51.645Z"
   },
   {
    "duration": 7,
    "start_time": "2023-03-10T14:26:56.098Z"
   },
   {
    "duration": 165,
    "start_time": "2023-03-10T14:26:56.695Z"
   },
   {
    "duration": 3,
    "start_time": "2023-03-10T14:27:31.846Z"
   },
   {
    "duration": 6,
    "start_time": "2023-03-10T14:27:33.238Z"
   },
   {
    "duration": 205,
    "start_time": "2023-03-10T14:27:34.211Z"
   },
   {
    "duration": 114,
    "start_time": "2023-03-10T14:27:36.527Z"
   },
   {
    "duration": 73,
    "start_time": "2023-03-10T14:27:37.054Z"
   },
   {
    "duration": 4,
    "start_time": "2023-03-10T14:27:42.150Z"
   },
   {
    "duration": 9,
    "start_time": "2023-03-10T14:27:42.459Z"
   },
   {
    "duration": 8,
    "start_time": "2023-03-10T14:27:42.878Z"
   },
   {
    "duration": 461,
    "start_time": "2023-03-10T14:27:47.303Z"
   },
   {
    "duration": 976,
    "start_time": "2023-03-10T14:27:58.162Z"
   },
   {
    "duration": 552,
    "start_time": "2023-03-10T14:27:59.140Z"
   },
   {
    "duration": 2996,
    "start_time": "2023-03-10T14:27:59.694Z"
   },
   {
    "duration": 33,
    "start_time": "2023-03-10T14:28:02.692Z"
   },
   {
    "duration": 29,
    "start_time": "2023-03-10T14:28:02.728Z"
   },
   {
    "duration": 80,
    "start_time": "2023-03-10T14:28:02.759Z"
   },
   {
    "duration": 39,
    "start_time": "2023-03-10T14:28:02.916Z"
   },
   {
    "duration": 99,
    "start_time": "2023-03-10T14:28:03.309Z"
   },
   {
    "duration": 11,
    "start_time": "2023-03-10T14:28:04.334Z"
   },
   {
    "duration": 42,
    "start_time": "2023-03-10T14:30:00.408Z"
   },
   {
    "duration": 2229,
    "start_time": "2023-03-10T14:30:09.091Z"
   },
   {
    "duration": 26,
    "start_time": "2023-03-10T14:30:11.324Z"
   },
   {
    "duration": 22,
    "start_time": "2023-03-10T14:30:11.503Z"
   },
   {
    "duration": 1555,
    "start_time": "2023-03-10T14:30:27.570Z"
   },
   {
    "duration": 4,
    "start_time": "2023-03-10T14:30:29.132Z"
   },
   {
    "duration": 259,
    "start_time": "2023-03-10T14:30:29.138Z"
   },
   {
    "duration": 45,
    "start_time": "2023-03-10T14:30:29.399Z"
   },
   {
    "duration": 40,
    "start_time": "2023-03-10T14:30:29.446Z"
   },
   {
    "duration": 234,
    "start_time": "2023-03-10T14:30:29.488Z"
   },
   {
    "duration": 2,
    "start_time": "2023-03-10T14:30:29.729Z"
   },
   {
    "duration": 8,
    "start_time": "2023-03-10T14:30:29.733Z"
   },
   {
    "duration": 14,
    "start_time": "2023-03-10T14:30:29.743Z"
   },
   {
    "duration": 199,
    "start_time": "2023-03-10T14:30:29.759Z"
   },
   {
    "duration": 113,
    "start_time": "2023-03-10T14:30:29.960Z"
   },
   {
    "duration": 60,
    "start_time": "2023-03-10T14:30:30.079Z"
   },
   {
    "duration": 10,
    "start_time": "2023-03-10T14:30:30.141Z"
   },
   {
    "duration": 81,
    "start_time": "2023-03-10T14:30:30.154Z"
   },
   {
    "duration": 11,
    "start_time": "2023-03-10T14:30:30.237Z"
   },
   {
    "duration": 568,
    "start_time": "2023-03-10T14:30:30.250Z"
   },
   {
    "duration": 946,
    "start_time": "2023-03-10T14:30:30.823Z"
   },
   {
    "duration": 710,
    "start_time": "2023-03-10T14:30:31.770Z"
   },
   {
    "duration": 3340,
    "start_time": "2023-03-10T14:30:32.482Z"
   },
   {
    "duration": 22,
    "start_time": "2023-03-10T14:30:35.824Z"
   },
   {
    "duration": 11,
    "start_time": "2023-03-10T14:30:35.848Z"
   },
   {
    "duration": 30,
    "start_time": "2023-03-10T14:30:35.861Z"
   },
   {
    "duration": 49,
    "start_time": "2023-03-10T14:30:35.894Z"
   },
   {
    "duration": 84,
    "start_time": "2023-03-10T14:30:35.944Z"
   },
   {
    "duration": 10,
    "start_time": "2023-03-10T14:30:36.030Z"
   },
   {
    "duration": 9,
    "start_time": "2023-03-10T14:30:36.043Z"
   },
   {
    "duration": 24,
    "start_time": "2023-03-10T14:30:36.055Z"
   },
   {
    "duration": 72,
    "start_time": "2023-03-10T14:30:36.086Z"
   },
   {
    "duration": 100,
    "start_time": "2023-03-10T14:30:36.159Z"
   },
   {
    "duration": 17,
    "start_time": "2023-03-10T14:30:36.260Z"
   },
   {
    "duration": 182,
    "start_time": "2023-03-10T14:30:36.279Z"
   },
   {
    "duration": 165,
    "start_time": "2023-03-10T14:30:36.463Z"
   },
   {
    "duration": 209,
    "start_time": "2023-03-10T14:30:36.629Z"
   },
   {
    "duration": 167,
    "start_time": "2023-03-10T14:30:36.839Z"
   },
   {
    "duration": 116,
    "start_time": "2023-03-10T14:37:57.702Z"
   },
   {
    "duration": 79,
    "start_time": "2023-03-10T14:37:58.716Z"
   },
   {
    "duration": 104,
    "start_time": "2023-03-10T14:39:10.967Z"
   },
   {
    "duration": 80,
    "start_time": "2023-03-10T14:40:10.735Z"
   },
   {
    "duration": 83,
    "start_time": "2023-03-10T14:40:20.620Z"
   },
   {
    "duration": 118,
    "start_time": "2023-03-10T14:40:26.892Z"
   },
   {
    "duration": 6,
    "start_time": "2023-03-10T14:41:33.481Z"
   },
   {
    "duration": 5,
    "start_time": "2023-03-10T14:41:56.201Z"
   },
   {
    "duration": 121,
    "start_time": "2023-03-10T14:45:08.200Z"
   },
   {
    "duration": 151,
    "start_time": "2023-03-10T14:45:28.899Z"
   },
   {
    "duration": 126,
    "start_time": "2023-03-10T14:46:14.053Z"
   },
   {
    "duration": 124,
    "start_time": "2023-03-10T14:46:31.545Z"
   },
   {
    "duration": 101,
    "start_time": "2023-03-10T14:46:40.165Z"
   },
   {
    "duration": 126,
    "start_time": "2023-03-10T14:47:00.639Z"
   },
   {
    "duration": 5,
    "start_time": "2023-03-10T14:47:34.643Z"
   },
   {
    "duration": 5,
    "start_time": "2023-03-10T14:47:45.335Z"
   },
   {
    "duration": 7,
    "start_time": "2023-03-10T14:48:34.598Z"
   },
   {
    "duration": 4,
    "start_time": "2023-03-10T14:48:51.933Z"
   },
   {
    "duration": 19,
    "start_time": "2023-03-10T14:49:38.397Z"
   },
   {
    "duration": 6,
    "start_time": "2023-03-10T14:50:23.626Z"
   },
   {
    "duration": 7,
    "start_time": "2023-03-10T14:54:00.770Z"
   },
   {
    "duration": 7,
    "start_time": "2023-03-10T14:55:37.857Z"
   },
   {
    "duration": 1359,
    "start_time": "2023-03-11T03:44:34.581Z"
   },
   {
    "duration": 5,
    "start_time": "2023-03-11T03:44:35.942Z"
   },
   {
    "duration": 481,
    "start_time": "2023-03-11T03:44:35.949Z"
   },
   {
    "duration": 25,
    "start_time": "2023-03-11T03:44:36.432Z"
   },
   {
    "duration": 11,
    "start_time": "2023-03-11T03:44:36.458Z"
   },
   {
    "duration": 141,
    "start_time": "2023-03-11T03:44:36.470Z"
   },
   {
    "duration": 3,
    "start_time": "2023-03-11T03:44:36.612Z"
   },
   {
    "duration": 5,
    "start_time": "2023-03-11T03:44:36.616Z"
   },
   {
    "duration": 8,
    "start_time": "2023-03-11T03:44:36.623Z"
   },
   {
    "duration": 119,
    "start_time": "2023-03-11T03:44:36.633Z"
   },
   {
    "duration": 87,
    "start_time": "2023-03-11T03:44:36.754Z"
   },
   {
    "duration": 41,
    "start_time": "2023-03-11T03:44:36.843Z"
   },
   {
    "duration": 2,
    "start_time": "2023-03-11T03:44:36.886Z"
   },
   {
    "duration": 9,
    "start_time": "2023-03-11T03:44:36.890Z"
   },
   {
    "duration": 5,
    "start_time": "2023-03-11T03:44:36.901Z"
   },
   {
    "duration": 323,
    "start_time": "2023-03-11T03:44:36.908Z"
   },
   {
    "duration": 512,
    "start_time": "2023-03-11T03:44:37.232Z"
   },
   {
    "duration": 411,
    "start_time": "2023-03-11T03:44:37.745Z"
   },
   {
    "duration": 1943,
    "start_time": "2023-03-11T03:44:38.157Z"
   },
   {
    "duration": 18,
    "start_time": "2023-03-11T03:44:40.102Z"
   },
   {
    "duration": 8,
    "start_time": "2023-03-11T03:44:40.122Z"
   },
   {
    "duration": 11,
    "start_time": "2023-03-11T03:44:40.132Z"
   },
   {
    "duration": 55,
    "start_time": "2023-03-11T03:44:40.145Z"
   },
   {
    "duration": 52,
    "start_time": "2023-03-11T03:44:40.201Z"
   },
   {
    "duration": 6,
    "start_time": "2023-03-11T03:44:40.255Z"
   },
   {
    "duration": 8,
    "start_time": "2023-03-11T03:44:40.280Z"
   },
   {
    "duration": 4,
    "start_time": "2023-03-11T03:44:40.291Z"
   },
   {
    "duration": 50,
    "start_time": "2023-03-11T03:44:40.298Z"
   },
   {
    "duration": 38,
    "start_time": "2023-03-11T03:44:40.350Z"
   },
   {
    "duration": 6,
    "start_time": "2023-03-11T03:44:40.390Z"
   },
   {
    "duration": 49,
    "start_time": "2023-03-11T03:44:40.398Z"
   },
   {
    "duration": 69,
    "start_time": "2023-03-11T03:44:40.449Z"
   },
   {
    "duration": 5,
    "start_time": "2023-03-11T03:44:40.520Z"
   },
   {
    "duration": 120,
    "start_time": "2023-03-11T03:44:40.526Z"
   },
   {
    "duration": 103,
    "start_time": "2023-03-11T03:44:40.648Z"
   },
   {
    "duration": 140,
    "start_time": "2023-03-11T03:44:40.752Z"
   },
   {
    "duration": 112,
    "start_time": "2023-03-11T03:44:40.894Z"
   }
  ],
  "kernelspec": {
   "display_name": "Python 3 (ipykernel)",
   "language": "python",
   "name": "python3"
  },
  "language_info": {
   "codemirror_mode": {
    "name": "ipython",
    "version": 3
   },
   "file_extension": ".py",
   "mimetype": "text/x-python",
   "name": "python",
   "nbconvert_exporter": "python",
   "pygments_lexer": "ipython3",
   "version": "3.10.9"
  },
  "toc": {
   "base_numbering": 1,
   "nav_menu": {},
   "number_sections": true,
   "sideBar": true,
   "skip_h1_title": true,
   "title_cell": "Table of Contents",
   "title_sidebar": "Contents",
   "toc_cell": false,
   "toc_position": {},
   "toc_section_display": true,
   "toc_window_display": false
  }
 },
 "nbformat": 4,
 "nbformat_minor": 2
}
