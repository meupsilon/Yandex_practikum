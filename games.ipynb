{
 "cells": [
  {
   "cell_type": "markdown",
   "metadata": {},
   "source": [
    "# Исследование данных по компьютерным играм"
   ]
  },
  {
   "cell_type": "markdown",
   "metadata": {},
   "source": [
    "# Описание проекта"
   ]
  },
  {
   "cell_type": "markdown",
   "metadata": {},
   "source": [
    "Вы работаете в интернет-магазине «Стримчик», который продаёт по всему миру компьютерные игры. Из открытых источников доступны исторические данные о продажах игр, оценки пользователей и экспертов, жанры и платформы (например, Xbox или PlayStation). Вам нужно выявить определяющие успешность игры закономерности. Это позволит сделать ставку на потенциально популярный продукт и спланировать рекламные кампании.\n",
    "\n",
    "\n",
    "Перед вами данные до 2016 года. Представим, что сейчас декабрь 2016 г., и вы планируете кампанию на 2017-й. Нужно отработать принцип работы с данными. Неважно, прогнозируете ли вы продажи на 2017 год по данным 2016-го или же 2027-й — по данным 2026 года.\n",
    "В наборе данных попадается аббревиатура ESRB (Entertainment Software Rating Board) — это ассоциация, определяющая возрастной рейтинг компьютерных игр. ESRB оценивает игровой контент и присваивает ему подходящую возрастную категорию, например, «Для взрослых», «Для детей младшего возраста» или «Для подростков».\n"
   ]
  },
  {
   "cell_type": "markdown",
   "metadata": {},
   "source": [
    "**Цель:**\n",
    "\n",
    "* В этом проекте мы будем выявлять критерии и закономерности успешности игр. "
   ]
  },
  {
   "cell_type": "markdown",
   "metadata": {},
   "source": [
    "**Шаг 1. Откройте файл с данными и изучите общую информацию**\n",
    "Путь к файлу: /datasets/games.csv. \n",
    "\n",
    "\n",
    "**Шаг 2. Подготовьте данные**\n",
    "* Замените названия столбцов (приведите к нижнему регистру);\n",
    "* Преобразуйте данные в нужные типы. Опишите, в каких столбцах заменили тип данных и почему;\n",
    "* Обработайте пропуски при необходимости:\n",
    "* Объясните, почему заполнили пропуски определённым образом или почему не стали это делать;\n",
    "* Опишите причины, которые могли привести к пропускам;\n",
    "* Обратите внимание на аббревиатуру 'tbd' в столбце с оценкой пользователей. Отдельно разберите это значение и опишите, как его обработать;\n",
    "* Посчитайте суммарные продажи во всех регионах и запишите их в отдельный столбец.\n",
    "\n",
    "\n",
    "**Шаг 3. Проведите исследовательский анализ данных**\n",
    "* Посмотрите, сколько игр выпускалось в разные годы. Важны ли данные за все периоды?\n",
    "* Посмотрите, как менялись продажи по платформам. Выберите платформы с наибольшими суммарными продажами и постройте распределение по годам. За какой характерный срок появляются новые и исчезают старые платформы?\n",
    "* Возьмите данные за соответствующий актуальный период. Актуальный период определите самостоятельно в результате исследования предыдущих вопросов. Основной фактор — эти данные помогут построить прогноз на 2017 год.\n",
    "* Не учитывайте в работе данные за предыдущие годы.\n",
    "* Какие платформы лидируют по продажам, растут или падают? Выберите несколько потенциально прибыльных платформ.\n",
    "* Постройте график «ящик с усами» по глобальным продажам игр в разбивке по платформам. Опишите результат.\n",
    "* Посмотрите, как влияют на продажи внутри одной популярной платформы отзывы пользователей и критиков. Постройте диаграмму рассеяния и посчитайте корреляцию между отзывами и продажами. Сформулируйте выводы.\n",
    "* Соотнесите выводы с продажами игр на других платформах.\n",
    "* Посмотрите на общее распределение игр по жанрам. Что можно сказать о самых прибыльных жанрах? Выделяются ли жанры с высокими и низкими продажами?\n",
    "\n",
    "\n",
    "**Шаг 4. Составьте портрет пользователя каждого региона**\n",
    "* Определите для пользователя каждого региона (NA, EU, JP):\n",
    "* Самые популярные платформы (топ-5). Опишите различия в долях продаж.\n",
    "* Самые популярные жанры (топ-5). Поясните разницу.\n",
    "* Влияет ли рейтинг ESRB на продажи в отдельном регионе?\n",
    "\n",
    "\n",
    "**Шаг 5. Проверьте гипотезы**\n",
    "* Средние пользовательские рейтинги платформ Xbox One и PC одинаковые;\n",
    "* Средние пользовательские рейтинги жанров Action (англ. «действие», экшен-игры) и Sports (англ. «спортивные соревнования») разные.\n",
    "* Задайте самостоятельно пороговое значение alpha.\n",
    "\n",
    "\n",
    "**Поясните:**\n",
    "* Как вы сформулировали нулевую и альтернативную гипотезы;\n",
    "* Какой критерий применили для проверки гипотез и почему.\n",
    "\n",
    "\n",
    "**Шаг 6. Напишите общий вывод**\n",
    "\n"
   ]
  },
  {
   "cell_type": "markdown",
   "metadata": {},
   "source": [
    "## Шаг 1. Откройте файл с данными и изучите общую информацию"
   ]
  },
  {
   "cell_type": "markdown",
   "metadata": {},
   "source": [
    "Импортируем необходимые библиотеки "
   ]
  },
  {
   "cell_type": "code",
   "execution_count": 1,
   "metadata": {},
   "outputs": [],
   "source": [
    "import pandas as pd\n",
    "import seaborn as sns\n",
    "import numpy as np\n",
    "import matplotlib.pyplot as plt\n",
    "from datetime import datetime\n",
    "from scipy import stats as st"
   ]
  },
  {
   "cell_type": "markdown",
   "metadata": {},
   "source": [
    "Открываем файл и сохраняем его в переменную data"
   ]
  },
  {
   "cell_type": "code",
   "execution_count": 2,
   "metadata": {},
   "outputs": [
    {
     "data": {
      "text/html": [
       "<div>\n",
       "<style scoped>\n",
       "    .dataframe tbody tr th:only-of-type {\n",
       "        vertical-align: middle;\n",
       "    }\n",
       "\n",
       "    .dataframe tbody tr th {\n",
       "        vertical-align: top;\n",
       "    }\n",
       "\n",
       "    .dataframe thead th {\n",
       "        text-align: right;\n",
       "    }\n",
       "</style>\n",
       "<table border=\"1\" class=\"dataframe\">\n",
       "  <thead>\n",
       "    <tr style=\"text-align: right;\">\n",
       "      <th></th>\n",
       "      <th>Name</th>\n",
       "      <th>Platform</th>\n",
       "      <th>Year_of_Release</th>\n",
       "      <th>Genre</th>\n",
       "      <th>NA_sales</th>\n",
       "      <th>EU_sales</th>\n",
       "      <th>JP_sales</th>\n",
       "      <th>Other_sales</th>\n",
       "      <th>Critic_Score</th>\n",
       "      <th>User_Score</th>\n",
       "      <th>Rating</th>\n",
       "    </tr>\n",
       "  </thead>\n",
       "  <tbody>\n",
       "    <tr>\n",
       "      <th>0</th>\n",
       "      <td>Wii Sports</td>\n",
       "      <td>Wii</td>\n",
       "      <td>2006.0</td>\n",
       "      <td>Sports</td>\n",
       "      <td>41.36</td>\n",
       "      <td>28.96</td>\n",
       "      <td>3.77</td>\n",
       "      <td>8.45</td>\n",
       "      <td>76.0</td>\n",
       "      <td>8</td>\n",
       "      <td>E</td>\n",
       "    </tr>\n",
       "    <tr>\n",
       "      <th>1</th>\n",
       "      <td>Super Mario Bros.</td>\n",
       "      <td>NES</td>\n",
       "      <td>1985.0</td>\n",
       "      <td>Platform</td>\n",
       "      <td>29.08</td>\n",
       "      <td>3.58</td>\n",
       "      <td>6.81</td>\n",
       "      <td>0.77</td>\n",
       "      <td>NaN</td>\n",
       "      <td>NaN</td>\n",
       "      <td>NaN</td>\n",
       "    </tr>\n",
       "    <tr>\n",
       "      <th>2</th>\n",
       "      <td>Mario Kart Wii</td>\n",
       "      <td>Wii</td>\n",
       "      <td>2008.0</td>\n",
       "      <td>Racing</td>\n",
       "      <td>15.68</td>\n",
       "      <td>12.76</td>\n",
       "      <td>3.79</td>\n",
       "      <td>3.29</td>\n",
       "      <td>82.0</td>\n",
       "      <td>8.3</td>\n",
       "      <td>E</td>\n",
       "    </tr>\n",
       "    <tr>\n",
       "      <th>3</th>\n",
       "      <td>Wii Sports Resort</td>\n",
       "      <td>Wii</td>\n",
       "      <td>2009.0</td>\n",
       "      <td>Sports</td>\n",
       "      <td>15.61</td>\n",
       "      <td>10.93</td>\n",
       "      <td>3.28</td>\n",
       "      <td>2.95</td>\n",
       "      <td>80.0</td>\n",
       "      <td>8</td>\n",
       "      <td>E</td>\n",
       "    </tr>\n",
       "    <tr>\n",
       "      <th>4</th>\n",
       "      <td>Pokemon Red/Pokemon Blue</td>\n",
       "      <td>GB</td>\n",
       "      <td>1996.0</td>\n",
       "      <td>Role-Playing</td>\n",
       "      <td>11.27</td>\n",
       "      <td>8.89</td>\n",
       "      <td>10.22</td>\n",
       "      <td>1.00</td>\n",
       "      <td>NaN</td>\n",
       "      <td>NaN</td>\n",
       "      <td>NaN</td>\n",
       "    </tr>\n",
       "  </tbody>\n",
       "</table>\n",
       "</div>"
      ],
      "text/plain": [
       "                       Name Platform  Year_of_Release         Genre  NA_sales  \\\n",
       "0                Wii Sports      Wii           2006.0        Sports     41.36   \n",
       "1         Super Mario Bros.      NES           1985.0      Platform     29.08   \n",
       "2            Mario Kart Wii      Wii           2008.0        Racing     15.68   \n",
       "3         Wii Sports Resort      Wii           2009.0        Sports     15.61   \n",
       "4  Pokemon Red/Pokemon Blue       GB           1996.0  Role-Playing     11.27   \n",
       "\n",
       "   EU_sales  JP_sales  Other_sales  Critic_Score User_Score Rating  \n",
       "0     28.96      3.77         8.45          76.0          8      E  \n",
       "1      3.58      6.81         0.77           NaN        NaN    NaN  \n",
       "2     12.76      3.79         3.29          82.0        8.3      E  \n",
       "3     10.93      3.28         2.95          80.0          8      E  \n",
       "4      8.89     10.22         1.00           NaN        NaN    NaN  "
      ]
     },
     "execution_count": 2,
     "metadata": {},
     "output_type": "execute_result"
    }
   ],
   "source": [
    "data = pd.read_csv('/datasets/games.csv',sep=',', decimal = '.')\n",
    "data.head()"
   ]
  },
  {
   "cell_type": "markdown",
   "metadata": {},
   "source": [
    "**Посмотрю лбщую информацию о данных, наличие дубликатов, пропусков**"
   ]
  },
  {
   "cell_type": "code",
   "execution_count": 3,
   "metadata": {
    "scrolled": true
   },
   "outputs": [
    {
     "name": "stdout",
     "output_type": "stream",
     "text": [
      "<class 'pandas.core.frame.DataFrame'>\n",
      "RangeIndex: 16715 entries, 0 to 16714\n",
      "Data columns (total 11 columns):\n",
      " #   Column           Non-Null Count  Dtype  \n",
      "---  ------           --------------  -----  \n",
      " 0   Name             16713 non-null  object \n",
      " 1   Platform         16715 non-null  object \n",
      " 2   Year_of_Release  16446 non-null  float64\n",
      " 3   Genre            16713 non-null  object \n",
      " 4   NA_sales         16715 non-null  float64\n",
      " 5   EU_sales         16715 non-null  float64\n",
      " 6   JP_sales         16715 non-null  float64\n",
      " 7   Other_sales      16715 non-null  float64\n",
      " 8   Critic_Score     8137 non-null   float64\n",
      " 9   User_Score       10014 non-null  object \n",
      " 10  Rating           9949 non-null   object \n",
      "dtypes: float64(6), object(5)\n",
      "memory usage: 1.4+ MB\n"
     ]
    }
   ],
   "source": [
    "data.info() "
   ]
  },
  {
   "cell_type": "code",
   "execution_count": 4,
   "metadata": {
    "scrolled": true
   },
   "outputs": [
    {
     "data": {
      "text/plain": [
       "0"
      ]
     },
     "execution_count": 4,
     "metadata": {},
     "output_type": "execute_result"
    }
   ],
   "source": [
    "data.duplicated().sum()"
   ]
  },
  {
   "cell_type": "code",
   "execution_count": 5,
   "metadata": {},
   "outputs": [
    {
     "data": {
      "text/plain": [
       "Name                  2\n",
       "Platform              0\n",
       "Year_of_Release     269\n",
       "Genre                 2\n",
       "NA_sales              0\n",
       "EU_sales              0\n",
       "JP_sales              0\n",
       "Other_sales           0\n",
       "Critic_Score       8578\n",
       "User_Score         6701\n",
       "Rating             6766\n",
       "dtype: int64"
      ]
     },
     "execution_count": 5,
     "metadata": {},
     "output_type": "execute_result"
    }
   ],
   "source": [
    "data.isna().sum()"
   ]
  },
  {
   "cell_type": "code",
   "execution_count": 6,
   "metadata": {
    "scrolled": true
   },
   "outputs": [
    {
     "name": "stdout",
     "output_type": "stream",
     "text": [
      "Пропуски в Name 0.011965300628178284\n",
      "Пропуски в Year_of_Release 1.609332934489979\n",
      "Пропуски в Critic_Score 51.31917439425665\n",
      "Пропуски в User_Score 40.08973975471134\n",
      "Пропуски в Rating 40.478612025127134\n"
     ]
    }
   ],
   "source": [
    "print('Пропуски в Name',(2/16715)*100)\n",
    "print('Пропуски в Year_of_Release', (269/16715)*100)\n",
    "print('Пропуски в Critic_Score', (8578/16715)*100)\n",
    "print('Пропуски в User_Score', (6701/16715)*100)\n",
    "print('Пропуски в Rating', (6766/16715)*100)     \n"
   ]
  },
  {
   "cell_type": "markdown",
   "metadata": {},
   "source": [
    "**Вывод:**"
   ]
  },
  {
   "cell_type": "markdown",
   "metadata": {},
   "source": [
    "**Типы данных**\n",
    "* Name, Platform, Genre, User_Score, Rating - текстовое или смешанное не числовое значение\n",
    "* Year_of_Release, NA_sales, EU_sales, JP_sales, Other_sales, Critic_Score - числа с плавающей точкой\n"
   ]
  },
  {
   "cell_type": "markdown",
   "metadata": {},
   "source": [
    "**Дубликаты**\n",
    "\n",
    "Полных дубликатов в таблице нет"
   ]
  },
  {
   "cell_type": "markdown",
   "metadata": {},
   "source": [
    "**Пропуски**\n",
    "\n",
    "* в столбце Name менее 1% пропусков;\n",
    "* в столбце Year_of_Release 1,6% пропусков;\n",
    "* в столбце Critic_Score 51,3% пропусков;\n",
    "* в столбце User_Score 40 % пропусков;\n",
    "* в столбце Rating 40,5% пропусков."
   ]
  },
  {
   "cell_type": "markdown",
   "metadata": {},
   "source": [
    "## Шаг 2. Подготовьте данные"
   ]
  },
  {
   "cell_type": "markdown",
   "metadata": {},
   "source": [
    "**Заменим названия столбцов (приведем к нижнему регистру)**"
   ]
  },
  {
   "cell_type": "code",
   "execution_count": 7,
   "metadata": {
    "scrolled": true
   },
   "outputs": [
    {
     "data": {
      "text/html": [
       "<div>\n",
       "<style scoped>\n",
       "    .dataframe tbody tr th:only-of-type {\n",
       "        vertical-align: middle;\n",
       "    }\n",
       "\n",
       "    .dataframe tbody tr th {\n",
       "        vertical-align: top;\n",
       "    }\n",
       "\n",
       "    .dataframe thead th {\n",
       "        text-align: right;\n",
       "    }\n",
       "</style>\n",
       "<table border=\"1\" class=\"dataframe\">\n",
       "  <thead>\n",
       "    <tr style=\"text-align: right;\">\n",
       "      <th></th>\n",
       "      <th>name</th>\n",
       "      <th>platform</th>\n",
       "      <th>year_of_release</th>\n",
       "      <th>genre</th>\n",
       "      <th>na_sales</th>\n",
       "      <th>eu_sales</th>\n",
       "      <th>jp_sales</th>\n",
       "      <th>other_sales</th>\n",
       "      <th>critic_score</th>\n",
       "      <th>user_score</th>\n",
       "      <th>rating</th>\n",
       "    </tr>\n",
       "  </thead>\n",
       "  <tbody>\n",
       "    <tr>\n",
       "      <th>16710</th>\n",
       "      <td>Samurai Warriors: Sanada Maru</td>\n",
       "      <td>PS3</td>\n",
       "      <td>2016.0</td>\n",
       "      <td>Action</td>\n",
       "      <td>0.00</td>\n",
       "      <td>0.00</td>\n",
       "      <td>0.01</td>\n",
       "      <td>0.0</td>\n",
       "      <td>NaN</td>\n",
       "      <td>NaN</td>\n",
       "      <td>NaN</td>\n",
       "    </tr>\n",
       "    <tr>\n",
       "      <th>16711</th>\n",
       "      <td>LMA Manager 2007</td>\n",
       "      <td>X360</td>\n",
       "      <td>2006.0</td>\n",
       "      <td>Sports</td>\n",
       "      <td>0.00</td>\n",
       "      <td>0.01</td>\n",
       "      <td>0.00</td>\n",
       "      <td>0.0</td>\n",
       "      <td>NaN</td>\n",
       "      <td>NaN</td>\n",
       "      <td>NaN</td>\n",
       "    </tr>\n",
       "    <tr>\n",
       "      <th>16712</th>\n",
       "      <td>Haitaka no Psychedelica</td>\n",
       "      <td>PSV</td>\n",
       "      <td>2016.0</td>\n",
       "      <td>Adventure</td>\n",
       "      <td>0.00</td>\n",
       "      <td>0.00</td>\n",
       "      <td>0.01</td>\n",
       "      <td>0.0</td>\n",
       "      <td>NaN</td>\n",
       "      <td>NaN</td>\n",
       "      <td>NaN</td>\n",
       "    </tr>\n",
       "    <tr>\n",
       "      <th>16713</th>\n",
       "      <td>Spirits &amp; Spells</td>\n",
       "      <td>GBA</td>\n",
       "      <td>2003.0</td>\n",
       "      <td>Platform</td>\n",
       "      <td>0.01</td>\n",
       "      <td>0.00</td>\n",
       "      <td>0.00</td>\n",
       "      <td>0.0</td>\n",
       "      <td>NaN</td>\n",
       "      <td>NaN</td>\n",
       "      <td>NaN</td>\n",
       "    </tr>\n",
       "    <tr>\n",
       "      <th>16714</th>\n",
       "      <td>Winning Post 8 2016</td>\n",
       "      <td>PSV</td>\n",
       "      <td>2016.0</td>\n",
       "      <td>Simulation</td>\n",
       "      <td>0.00</td>\n",
       "      <td>0.00</td>\n",
       "      <td>0.01</td>\n",
       "      <td>0.0</td>\n",
       "      <td>NaN</td>\n",
       "      <td>NaN</td>\n",
       "      <td>NaN</td>\n",
       "    </tr>\n",
       "  </tbody>\n",
       "</table>\n",
       "</div>"
      ],
      "text/plain": [
       "                                name platform  year_of_release       genre  \\\n",
       "16710  Samurai Warriors: Sanada Maru      PS3           2016.0      Action   \n",
       "16711               LMA Manager 2007     X360           2006.0      Sports   \n",
       "16712        Haitaka no Psychedelica      PSV           2016.0   Adventure   \n",
       "16713               Spirits & Spells      GBA           2003.0    Platform   \n",
       "16714            Winning Post 8 2016      PSV           2016.0  Simulation   \n",
       "\n",
       "       na_sales  eu_sales  jp_sales  other_sales  critic_score user_score  \\\n",
       "16710      0.00      0.00      0.01          0.0           NaN        NaN   \n",
       "16711      0.00      0.01      0.00          0.0           NaN        NaN   \n",
       "16712      0.00      0.00      0.01          0.0           NaN        NaN   \n",
       "16713      0.01      0.00      0.00          0.0           NaN        NaN   \n",
       "16714      0.00      0.00      0.01          0.0           NaN        NaN   \n",
       "\n",
       "      rating  \n",
       "16710    NaN  \n",
       "16711    NaN  \n",
       "16712    NaN  \n",
       "16713    NaN  \n",
       "16714    NaN  "
      ]
     },
     "execution_count": 7,
     "metadata": {},
     "output_type": "execute_result"
    }
   ],
   "source": [
    "data.columns = data.columns.str.lower()\n",
    "data.tail()"
   ]
  },
  {
   "cell_type": "markdown",
   "metadata": {},
   "source": [
    "**Преобразую данные в нужные типы. Обработаю пропуски при необходимости:**"
   ]
  },
  {
   "cell_type": "markdown",
   "metadata": {},
   "source": [
    "Столбец 'year_of_release'"
   ]
  },
  {
   "cell_type": "code",
   "execution_count": 8,
   "metadata": {},
   "outputs": [],
   "source": [
    "data['year_of_release'] = data['year_of_release'].fillna(9999)\n",
    "data['year_of_release'] = data['year_of_release'].astype('int')\n"
   ]
  },
  {
   "cell_type": "markdown",
   "metadata": {},
   "source": [
    "Пропусков в столбце year_of_release 1,6% заменю их на 9999, так как адекватно заменить их не получится. \n",
    "Полагаю, что эти пропуски могли возникнуть из-за разных дат релизов игр на разных платформах. "
   ]
  },
  {
   "cell_type": "markdown",
   "metadata": {},
   "source": [
    "Столбец 'Critic_Score'"
   ]
  },
  {
   "cell_type": "code",
   "execution_count": 9,
   "metadata": {},
   "outputs": [
    {
     "data": {
      "text/plain": [
       "array([76., nan, 82., 80., 89., 58., 87., 91., 61., 97., 95., 77., 88.,\n",
       "       83., 94., 93., 85., 86., 98., 96., 90., 84., 73., 74., 78., 92.,\n",
       "       71., 72., 68., 62., 49., 67., 81., 66., 56., 79., 70., 59., 64.,\n",
       "       75., 60., 63., 69., 50., 25., 42., 44., 55., 48., 57., 29., 47.,\n",
       "       65., 54., 20., 53., 37., 38., 33., 52., 30., 32., 43., 45., 51.,\n",
       "       40., 46., 39., 34., 35., 41., 36., 28., 31., 27., 26., 19., 23.,\n",
       "       24., 21., 17., 22., 13.])"
      ]
     },
     "execution_count": 9,
     "metadata": {},
     "output_type": "execute_result"
    }
   ],
   "source": [
    "data['critic_score'].unique()"
   ]
  },
  {
   "cell_type": "code",
   "execution_count": 10,
   "metadata": {},
   "outputs": [],
   "source": [
    "data['critic_score'] = data['critic_score'].fillna(-1)\n"
   ]
  },
  {
   "cell_type": "markdown",
   "metadata": {},
   "source": [
    "Заполнение столбца средним исказит результаты, так как пропусков 51%. Заполню пропуски \"-1\""
   ]
  },
  {
   "cell_type": "markdown",
   "metadata": {},
   "source": [
    "Столбец 'User_Score'"
   ]
  },
  {
   "cell_type": "code",
   "execution_count": 11,
   "metadata": {},
   "outputs": [
    {
     "data": {
      "text/plain": [
       "array(['8', nan, '8.3', '8.5', '6.6', '8.4', '8.6', '7.7', '6.3', '7.4',\n",
       "       '8.2', '9', '7.9', '8.1', '8.7', '7.1', '3.4', '5.3', '4.8', '3.2',\n",
       "       '8.9', '6.4', '7.8', '7.5', '2.6', '7.2', '9.2', '7', '7.3', '4.3',\n",
       "       '7.6', '5.7', '5', '9.1', '6.5', 'tbd', '8.8', '6.9', '9.4', '6.8',\n",
       "       '6.1', '6.7', '5.4', '4', '4.9', '4.5', '9.3', '6.2', '4.2', '6',\n",
       "       '3.7', '4.1', '5.8', '5.6', '5.5', '4.4', '4.6', '5.9', '3.9',\n",
       "       '3.1', '2.9', '5.2', '3.3', '4.7', '5.1', '3.5', '2.5', '1.9', '3',\n",
       "       '2.7', '2.2', '2', '9.5', '2.1', '3.6', '2.8', '1.8', '3.8', '0',\n",
       "       '1.6', '9.6', '2.4', '1.7', '1.1', '0.3', '1.5', '0.7', '1.2',\n",
       "       '2.3', '0.5', '1.3', '0.2', '0.6', '1.4', '0.9', '1', '9.7'],\n",
       "      dtype=object)"
      ]
     },
     "execution_count": 11,
     "metadata": {},
     "output_type": "execute_result"
    }
   ],
   "source": [
    "data['user_score'].unique()"
   ]
  },
  {
   "cell_type": "code",
   "execution_count": 12,
   "metadata": {},
   "outputs": [
    {
     "data": {
      "text/plain": [
       "2424"
      ]
     },
     "execution_count": 12,
     "metadata": {},
     "output_type": "execute_result"
    }
   ],
   "source": [
    "data[data['user_score'] == 'tbd']['user_score'].count()\n"
   ]
  },
  {
   "cell_type": "code",
   "execution_count": 13,
   "metadata": {},
   "outputs": [],
   "source": [
    "data.loc[data['user_score'] == 'tbd','user_score'] = np.nan\n"
   ]
  },
  {
   "cell_type": "code",
   "execution_count": 14,
   "metadata": {},
   "outputs": [],
   "source": [
    "data['user_score'] = data['user_score'].astype('float')"
   ]
  },
  {
   "cell_type": "code",
   "execution_count": 15,
   "metadata": {},
   "outputs": [],
   "source": [
    "data['user_score'] = data['user_score'].fillna(-1)"
   ]
  },
  {
   "cell_type": "markdown",
   "metadata": {},
   "source": [
    "В стобце user_score есть tbd. Заменю их на nan, все остальные пропуски на -1\n",
    "Изменю тип данных"
   ]
  },
  {
   "cell_type": "markdown",
   "metadata": {},
   "source": [
    "Столбец 'Rating'"
   ]
  },
  {
   "cell_type": "code",
   "execution_count": 16,
   "metadata": {},
   "outputs": [
    {
     "data": {
      "text/plain": [
       "array(['E', nan, 'M', 'T', 'E10+', 'K-A', 'AO', 'EC', 'RP'], dtype=object)"
      ]
     },
     "execution_count": 16,
     "metadata": {},
     "output_type": "execute_result"
    }
   ],
   "source": [
    "data['rating'].unique()"
   ]
  },
  {
   "cell_type": "code",
   "execution_count": 17,
   "metadata": {},
   "outputs": [],
   "source": [
    "data['rating'] = data['rating'].fillna('no_rating')\n"
   ]
  },
  {
   "cell_type": "code",
   "execution_count": 18,
   "metadata": {
    "scrolled": true
   },
   "outputs": [
    {
     "data": {
      "text/plain": [
       "0                E\n",
       "1        no_rating\n",
       "2                E\n",
       "3                E\n",
       "4        no_rating\n",
       "           ...    \n",
       "16710    no_rating\n",
       "16711    no_rating\n",
       "16712    no_rating\n",
       "16713    no_rating\n",
       "16714    no_rating\n",
       "Name: rating, Length: 16715, dtype: object"
      ]
     },
     "execution_count": 18,
     "metadata": {},
     "output_type": "execute_result"
    }
   ],
   "source": [
    "data['rating']"
   ]
  },
  {
   "cell_type": "markdown",
   "metadata": {},
   "source": [
    "В столбце raiting заполнить пропуски можно было бы соотнеся с названием игр, но, возможно, на разных платформах, в разных странах возврастной рейтинг может отличаться. Поэтому заполню эти пропуски заглушкой 'no_rating'"
   ]
  },
  {
   "cell_type": "markdown",
   "metadata": {},
   "source": [
    "**Столбец name**"
   ]
  },
  {
   "cell_type": "code",
   "execution_count": 19,
   "metadata": {},
   "outputs": [
    {
     "data": {
      "text/html": [
       "<div>\n",
       "<style scoped>\n",
       "    .dataframe tbody tr th:only-of-type {\n",
       "        vertical-align: middle;\n",
       "    }\n",
       "\n",
       "    .dataframe tbody tr th {\n",
       "        vertical-align: top;\n",
       "    }\n",
       "\n",
       "    .dataframe thead th {\n",
       "        text-align: right;\n",
       "    }\n",
       "</style>\n",
       "<table border=\"1\" class=\"dataframe\">\n",
       "  <thead>\n",
       "    <tr style=\"text-align: right;\">\n",
       "      <th></th>\n",
       "      <th>name</th>\n",
       "      <th>platform</th>\n",
       "      <th>year_of_release</th>\n",
       "      <th>genre</th>\n",
       "      <th>na_sales</th>\n",
       "      <th>eu_sales</th>\n",
       "      <th>jp_sales</th>\n",
       "      <th>other_sales</th>\n",
       "      <th>critic_score</th>\n",
       "      <th>user_score</th>\n",
       "      <th>rating</th>\n",
       "    </tr>\n",
       "  </thead>\n",
       "  <tbody>\n",
       "    <tr>\n",
       "      <th>659</th>\n",
       "      <td>NaN</td>\n",
       "      <td>GEN</td>\n",
       "      <td>1993</td>\n",
       "      <td>NaN</td>\n",
       "      <td>1.78</td>\n",
       "      <td>0.53</td>\n",
       "      <td>0.00</td>\n",
       "      <td>0.08</td>\n",
       "      <td>-1.0</td>\n",
       "      <td>-1.0</td>\n",
       "      <td>no_rating</td>\n",
       "    </tr>\n",
       "    <tr>\n",
       "      <th>14244</th>\n",
       "      <td>NaN</td>\n",
       "      <td>GEN</td>\n",
       "      <td>1993</td>\n",
       "      <td>NaN</td>\n",
       "      <td>0.00</td>\n",
       "      <td>0.00</td>\n",
       "      <td>0.03</td>\n",
       "      <td>0.00</td>\n",
       "      <td>-1.0</td>\n",
       "      <td>-1.0</td>\n",
       "      <td>no_rating</td>\n",
       "    </tr>\n",
       "  </tbody>\n",
       "</table>\n",
       "</div>"
      ],
      "text/plain": [
       "      name platform  year_of_release genre  na_sales  eu_sales  jp_sales  \\\n",
       "659    NaN      GEN             1993   NaN      1.78      0.53      0.00   \n",
       "14244  NaN      GEN             1993   NaN      0.00      0.00      0.03   \n",
       "\n",
       "       other_sales  critic_score  user_score     rating  \n",
       "659           0.08          -1.0        -1.0  no_rating  \n",
       "14244         0.00          -1.0        -1.0  no_rating  "
      ]
     },
     "execution_count": 19,
     "metadata": {},
     "output_type": "execute_result"
    }
   ],
   "source": [
    "data.query('name.isnull()')\n"
   ]
  },
  {
   "cell_type": "markdown",
   "metadata": {},
   "source": [
    "2 пропуска в name и genre оказались в одном месте. Думаю, что их возникновение взаимосвязано  (без названия невозможно определить жанр). Удалю их."
   ]
  },
  {
   "cell_type": "code",
   "execution_count": 20,
   "metadata": {},
   "outputs": [],
   "source": [
    "data = data.dropna(subset=['name'])\n"
   ]
  },
  {
   "cell_type": "code",
   "execution_count": 21,
   "metadata": {},
   "outputs": [
    {
     "data": {
      "text/plain": [
       "name               0\n",
       "platform           0\n",
       "year_of_release    0\n",
       "genre              0\n",
       "na_sales           0\n",
       "eu_sales           0\n",
       "jp_sales           0\n",
       "other_sales        0\n",
       "critic_score       0\n",
       "user_score         0\n",
       "rating             0\n",
       "dtype: int64"
      ]
     },
     "execution_count": 21,
     "metadata": {},
     "output_type": "execute_result"
    }
   ],
   "source": [
    "data.isna().sum()"
   ]
  },
  {
   "cell_type": "markdown",
   "metadata": {},
   "source": [
    "**Считаю суммарные продажи во всех регионах.**"
   ]
  },
  {
   "cell_type": "code",
   "execution_count": 22,
   "metadata": {
    "scrolled": true
   },
   "outputs": [
    {
     "data": {
      "text/html": [
       "<div>\n",
       "<style scoped>\n",
       "    .dataframe tbody tr th:only-of-type {\n",
       "        vertical-align: middle;\n",
       "    }\n",
       "\n",
       "    .dataframe tbody tr th {\n",
       "        vertical-align: top;\n",
       "    }\n",
       "\n",
       "    .dataframe thead th {\n",
       "        text-align: right;\n",
       "    }\n",
       "</style>\n",
       "<table border=\"1\" class=\"dataframe\">\n",
       "  <thead>\n",
       "    <tr style=\"text-align: right;\">\n",
       "      <th></th>\n",
       "      <th>name</th>\n",
       "      <th>platform</th>\n",
       "      <th>year_of_release</th>\n",
       "      <th>genre</th>\n",
       "      <th>na_sales</th>\n",
       "      <th>eu_sales</th>\n",
       "      <th>jp_sales</th>\n",
       "      <th>other_sales</th>\n",
       "      <th>critic_score</th>\n",
       "      <th>user_score</th>\n",
       "      <th>rating</th>\n",
       "      <th>total_sales</th>\n",
       "    </tr>\n",
       "  </thead>\n",
       "  <tbody>\n",
       "    <tr>\n",
       "      <th>0</th>\n",
       "      <td>Wii Sports</td>\n",
       "      <td>Wii</td>\n",
       "      <td>2006</td>\n",
       "      <td>Sports</td>\n",
       "      <td>41.36</td>\n",
       "      <td>28.96</td>\n",
       "      <td>3.77</td>\n",
       "      <td>8.45</td>\n",
       "      <td>76.0</td>\n",
       "      <td>8.0</td>\n",
       "      <td>E</td>\n",
       "      <td>82.54</td>\n",
       "    </tr>\n",
       "    <tr>\n",
       "      <th>1</th>\n",
       "      <td>Super Mario Bros.</td>\n",
       "      <td>NES</td>\n",
       "      <td>1985</td>\n",
       "      <td>Platform</td>\n",
       "      <td>29.08</td>\n",
       "      <td>3.58</td>\n",
       "      <td>6.81</td>\n",
       "      <td>0.77</td>\n",
       "      <td>-1.0</td>\n",
       "      <td>-1.0</td>\n",
       "      <td>no_rating</td>\n",
       "      <td>40.24</td>\n",
       "    </tr>\n",
       "    <tr>\n",
       "      <th>2</th>\n",
       "      <td>Mario Kart Wii</td>\n",
       "      <td>Wii</td>\n",
       "      <td>2008</td>\n",
       "      <td>Racing</td>\n",
       "      <td>15.68</td>\n",
       "      <td>12.76</td>\n",
       "      <td>3.79</td>\n",
       "      <td>3.29</td>\n",
       "      <td>82.0</td>\n",
       "      <td>8.3</td>\n",
       "      <td>E</td>\n",
       "      <td>35.52</td>\n",
       "    </tr>\n",
       "    <tr>\n",
       "      <th>3</th>\n",
       "      <td>Wii Sports Resort</td>\n",
       "      <td>Wii</td>\n",
       "      <td>2009</td>\n",
       "      <td>Sports</td>\n",
       "      <td>15.61</td>\n",
       "      <td>10.93</td>\n",
       "      <td>3.28</td>\n",
       "      <td>2.95</td>\n",
       "      <td>80.0</td>\n",
       "      <td>8.0</td>\n",
       "      <td>E</td>\n",
       "      <td>32.77</td>\n",
       "    </tr>\n",
       "    <tr>\n",
       "      <th>4</th>\n",
       "      <td>Pokemon Red/Pokemon Blue</td>\n",
       "      <td>GB</td>\n",
       "      <td>1996</td>\n",
       "      <td>Role-Playing</td>\n",
       "      <td>11.27</td>\n",
       "      <td>8.89</td>\n",
       "      <td>10.22</td>\n",
       "      <td>1.00</td>\n",
       "      <td>-1.0</td>\n",
       "      <td>-1.0</td>\n",
       "      <td>no_rating</td>\n",
       "      <td>31.38</td>\n",
       "    </tr>\n",
       "  </tbody>\n",
       "</table>\n",
       "</div>"
      ],
      "text/plain": [
       "                       name platform  year_of_release         genre  na_sales  \\\n",
       "0                Wii Sports      Wii             2006        Sports     41.36   \n",
       "1         Super Mario Bros.      NES             1985      Platform     29.08   \n",
       "2            Mario Kart Wii      Wii             2008        Racing     15.68   \n",
       "3         Wii Sports Resort      Wii             2009        Sports     15.61   \n",
       "4  Pokemon Red/Pokemon Blue       GB             1996  Role-Playing     11.27   \n",
       "\n",
       "   eu_sales  jp_sales  other_sales  critic_score  user_score     rating  \\\n",
       "0     28.96      3.77         8.45          76.0         8.0          E   \n",
       "1      3.58      6.81         0.77          -1.0        -1.0  no_rating   \n",
       "2     12.76      3.79         3.29          82.0         8.3          E   \n",
       "3     10.93      3.28         2.95          80.0         8.0          E   \n",
       "4      8.89     10.22         1.00          -1.0        -1.0  no_rating   \n",
       "\n",
       "   total_sales  \n",
       "0        82.54  \n",
       "1        40.24  \n",
       "2        35.52  \n",
       "3        32.77  \n",
       "4        31.38  "
      ]
     },
     "execution_count": 22,
     "metadata": {},
     "output_type": "execute_result"
    }
   ],
   "source": [
    "data['total_sales'] = data['na_sales'] + data['eu_sales'] + data['jp_sales'] + data['other_sales']\n",
    "data.head()"
   ]
  },
  {
   "cell_type": "markdown",
   "metadata": {},
   "source": [
    "## Шаг 3. Проведите исследовательский анализ данных"
   ]
  },
  {
   "cell_type": "markdown",
   "metadata": {},
   "source": [
    "\n",
    "\n",
    "\n",
    "Соотнесите выводы с продажами игр на других платформах.\n",
    "\n"
   ]
  },
  {
   "cell_type": "markdown",
   "metadata": {},
   "source": [
    "**Посмотрю сколько игр выпускалось в разные годы.**"
   ]
  },
  {
   "cell_type": "code",
   "execution_count": 23,
   "metadata": {},
   "outputs": [
    {
     "data": {
      "text/plain": [
       "Text(0, 0.5, 'Количество игр')"
      ]
     },
     "execution_count": 23,
     "metadata": {},
     "output_type": "execute_result"
    },
    {
     "data": {
      "image/png": "[encoded data removed]",
      "text/plain": [
       "<Figure size 720x504 with 1 Axes>"
      ]
     },
     "metadata": {
      "needs_background": "light"
     },
     "output_type": "display_data"
    }
   ],
   "source": [
    "data[data['year_of_release'] != 9999]['year_of_release'].plot(kind='hist', bins=35, figsize=(10,7)).legend()\n",
    "plt.title('Распределение по годам релиза')\n",
    "plt.xlabel('Годы релиза')\n",
    "plt.ylabel('Количество игр')"
   ]
  },
  {
   "cell_type": "markdown",
   "metadata": {},
   "source": [
    "С 1995 года виден рост количества релизов игр.  Больше всего игр вышло в период с примерно 2007 по 2011, далее идет спад до 2015 года. Возможно это связано с тем, что с 2010 года популярность набирают телефоны и игры на них, данных по которым у нас нет."
   ]
  },
  {
   "cell_type": "markdown",
   "metadata": {},
   "source": [
    "**Посмотрите, как менялись продажи по платформам. Выберите платформы с наибольшими суммарными продажами и постройте распределение по годам. За какой характерный срок появляются новые и исчезают старые платформы?**"
   ]
  },
  {
   "cell_type": "code",
   "execution_count": 24,
   "metadata": {},
   "outputs": [
    {
     "data": {
      "text/html": [
       "<div>\n",
       "<style scoped>\n",
       "    .dataframe tbody tr th:only-of-type {\n",
       "        vertical-align: middle;\n",
       "    }\n",
       "\n",
       "    .dataframe tbody tr th {\n",
       "        vertical-align: top;\n",
       "    }\n",
       "\n",
       "    .dataframe thead th {\n",
       "        text-align: right;\n",
       "    }\n",
       "</style>\n",
       "<table border=\"1\" class=\"dataframe\">\n",
       "  <thead>\n",
       "    <tr style=\"text-align: right;\">\n",
       "      <th></th>\n",
       "      <th>platform</th>\n",
       "      <th>total_sales</th>\n",
       "    </tr>\n",
       "  </thead>\n",
       "  <tbody>\n",
       "    <tr>\n",
       "      <th>16</th>\n",
       "      <td>PS2</td>\n",
       "      <td>1255.77</td>\n",
       "    </tr>\n",
       "    <tr>\n",
       "      <th>28</th>\n",
       "      <td>X360</td>\n",
       "      <td>971.42</td>\n",
       "    </tr>\n",
       "    <tr>\n",
       "      <th>17</th>\n",
       "      <td>PS3</td>\n",
       "      <td>939.65</td>\n",
       "    </tr>\n",
       "    <tr>\n",
       "      <th>26</th>\n",
       "      <td>Wii</td>\n",
       "      <td>907.51</td>\n",
       "    </tr>\n",
       "    <tr>\n",
       "      <th>4</th>\n",
       "      <td>DS</td>\n",
       "      <td>806.12</td>\n",
       "    </tr>\n",
       "  </tbody>\n",
       "</table>\n",
       "</div>"
      ],
      "text/plain": [
       "   platform  total_sales\n",
       "16      PS2      1255.77\n",
       "28     X360       971.42\n",
       "17      PS3       939.65\n",
       "26      Wii       907.51\n",
       "4        DS       806.12"
      ]
     },
     "execution_count": 24,
     "metadata": {},
     "output_type": "execute_result"
    }
   ],
   "source": [
    "platforms = (data.groupby(['platform'],as_index = False)['total_sales'].sum()\n",
    "                                 .sort_values('total_sales',ascending = False)\n",
    "                           )\n",
    "\n",
    "platforms.head(5)\n"
   ]
  },
  {
   "cell_type": "code",
   "execution_count": 25,
   "metadata": {
    "scrolled": true
   },
   "outputs": [
    {
     "data": {
      "image/png": "[encoded data removed]",
      "text/plain": [
       "<Figure size 720x360 with 1 Axes>"
      ]
     },
     "metadata": {
      "needs_background": "light"
     },
     "output_type": "display_data"
    }
   ],
   "source": [
    "(platforms.plot(kind='bar',x='platform', y='total_sales',figsize=(10, 5),legend=False)\n",
    "                         .set(xlabel='Платформа', ylabel='Глобальные продажи')\n",
    ")\n",
    "plt.show()"
   ]
  },
  {
   "cell_type": "code",
   "execution_count": 26,
   "metadata": {},
   "outputs": [
    {
     "data": {
      "text/plain": [
       "['PS2', 'X360', 'PS3', 'Wii', 'DS']"
      ]
     },
     "execution_count": 26,
     "metadata": {},
     "output_type": "execute_result"
    }
   ],
   "source": [
    "top_platforms = platforms.head(5)['platform'].tolist()\n",
    "top_platforms"
   ]
  },
  {
   "cell_type": "markdown",
   "metadata": {},
   "source": [
    "Лидирует 6 платформ PS2, X360, PS3, Wii, DS, PS. Построю график по лидерам и посмотрю сроки их \"жизни\"."
   ]
  },
  {
   "cell_type": "code",
   "execution_count": 27,
   "metadata": {},
   "outputs": [
    {
     "data": {
      "image/png": "[encoded data removed]",
      "text/plain": [
       "<Figure size 1080x720 with 1 Axes>"
      ]
     },
     "metadata": {
      "needs_background": "light"
     },
     "output_type": "display_data"
    }
   ],
   "source": [
    "for c in top_platforms:\n",
    "    data.query('platform == @c and year_of_release != 9999').pivot_table(index = 'year_of_release',\n",
    "                        values = 'total_sales', aggfunc = 'sum').sort_values('year_of_release',\n",
    "                                                    ascending = False)['total_sales'].plot(figsize = (15, 10), label=c)\n",
    "   \n",
    "    plt.xlabel('Дата релиза', labelpad = 10)\n",
    "    plt.ylabel('Продажи', labelpad = 50)\n",
    "    plt.legend()"
   ]
  },
  {
   "cell_type": "markdown",
   "metadata": {},
   "source": [
    "По графику видно, что характерный срок \"жизни\" платформ около 10 лет. Платформа DS просуществовала с 1985 почти по 2015 год.\n",
    "\n",
    "В большей части бизнесов стратегическое планирование происходит на срок 3-5 лет, В дальнейшем анализе буду использовтаь актуальный период 3 года. В разработке и выпуске игр нужно быть гибким иследовать трендам. Поэтому выберу такой период."
   ]
  },
  {
   "cell_type": "markdown",
   "metadata": {},
   "source": [
    "**Какие платформы лидируют по продажам, растут или падают? Выберите несколько потенциально прибыльных платформ.**"
   ]
  },
  {
   "cell_type": "code",
   "execution_count": 28,
   "metadata": {},
   "outputs": [
    {
     "data": {
      "text/html": [
       "<div>\n",
       "<style scoped>\n",
       "    .dataframe tbody tr th:only-of-type {\n",
       "        vertical-align: middle;\n",
       "    }\n",
       "\n",
       "    .dataframe tbody tr th {\n",
       "        vertical-align: top;\n",
       "    }\n",
       "\n",
       "    .dataframe thead th {\n",
       "        text-align: right;\n",
       "    }\n",
       "</style>\n",
       "<table border=\"1\" class=\"dataframe\">\n",
       "  <thead>\n",
       "    <tr style=\"text-align: right;\">\n",
       "      <th></th>\n",
       "      <th>platform</th>\n",
       "      <th>total_sales</th>\n",
       "    </tr>\n",
       "  </thead>\n",
       "  <tbody>\n",
       "    <tr>\n",
       "      <th>4</th>\n",
       "      <td>PS4</td>\n",
       "      <td>314.14</td>\n",
       "    </tr>\n",
       "    <tr>\n",
       "      <th>3</th>\n",
       "      <td>PS3</td>\n",
       "      <td>181.43</td>\n",
       "    </tr>\n",
       "    <tr>\n",
       "      <th>10</th>\n",
       "      <td>XOne</td>\n",
       "      <td>159.32</td>\n",
       "    </tr>\n",
       "    <tr>\n",
       "      <th>0</th>\n",
       "      <td>3DS</td>\n",
       "      <td>143.25</td>\n",
       "    </tr>\n",
       "    <tr>\n",
       "      <th>9</th>\n",
       "      <td>X360</td>\n",
       "      <td>136.80</td>\n",
       "    </tr>\n",
       "    <tr>\n",
       "      <th>8</th>\n",
       "      <td>WiiU</td>\n",
       "      <td>64.63</td>\n",
       "    </tr>\n",
       "    <tr>\n",
       "      <th>2</th>\n",
       "      <td>PC</td>\n",
       "      <td>39.43</td>\n",
       "    </tr>\n",
       "    <tr>\n",
       "      <th>6</th>\n",
       "      <td>PSV</td>\n",
       "      <td>32.99</td>\n",
       "    </tr>\n",
       "    <tr>\n",
       "      <th>7</th>\n",
       "      <td>Wii</td>\n",
       "      <td>13.66</td>\n",
       "    </tr>\n",
       "    <tr>\n",
       "      <th>5</th>\n",
       "      <td>PSP</td>\n",
       "      <td>3.50</td>\n",
       "    </tr>\n",
       "    <tr>\n",
       "      <th>1</th>\n",
       "      <td>DS</td>\n",
       "      <td>1.54</td>\n",
       "    </tr>\n",
       "  </tbody>\n",
       "</table>\n",
       "</div>"
      ],
      "text/plain": [
       "   platform  total_sales\n",
       "4       PS4       314.14\n",
       "3       PS3       181.43\n",
       "10     XOne       159.32\n",
       "0       3DS       143.25\n",
       "9      X360       136.80\n",
       "8      WiiU        64.63\n",
       "2        PC        39.43\n",
       "6       PSV        32.99\n",
       "7       Wii        13.66\n",
       "5       PSP         3.50\n",
       "1        DS         1.54"
      ]
     },
     "execution_count": 28,
     "metadata": {},
     "output_type": "execute_result"
    }
   ],
   "source": [
    "profited_platforms = data.query('year_of_release>=2013 and year_of_release !=9999')\n",
    "top_profited_platforms = (profited_platforms.groupby(['platform'], as_index=False)['total_sales'].sum().sort_values('total_sales', ascending=False))\n",
    "\n",
    "top_profited_platforms\n"
   ]
  },
  {
   "cell_type": "markdown",
   "metadata": {},
   "source": [
    "По суммам продаж с 2013 лидируют PS4, PS3, XOne, 3DS, X360"
   ]
  },
  {
   "cell_type": "code",
   "execution_count": 29,
   "metadata": {},
   "outputs": [
    {
     "data": {
      "text/plain": [
       "array(['PS4', 'PS3', 'XOne', '3DS', 'X360', 'WiiU', 'PC', 'PSV', 'Wii',\n",
       "       'PSP', 'DS'], dtype=object)"
      ]
     },
     "execution_count": 29,
     "metadata": {},
     "output_type": "execute_result"
    }
   ],
   "source": [
    "top_profited_platforms['platform'].unique()"
   ]
  },
  {
   "cell_type": "code",
   "execution_count": 30,
   "metadata": {},
   "outputs": [],
   "source": [
    "actual_profited_platforms = ['PS4', 'PS3', 'X360', '3DS', 'XOne', 'WiiU', 'PC', 'PSV', 'Wii',\n",
    "       'DS', 'PSP']"
   ]
  },
  {
   "cell_type": "code",
   "execution_count": 31,
   "metadata": {},
   "outputs": [
    {
     "data": {
      "image/png": "[encoded data removed]",
      "text/plain": [
       "<Figure size 1080x720 with 1 Axes>"
      ]
     },
     "metadata": {
      "needs_background": "light"
     },
     "output_type": "display_data"
    }
   ],
   "source": [
    "for a in actual_profited_platforms:\n",
    "    profited_platforms.query('platform == @a').pivot_table(index = 'year_of_release',values = 'total_sales', aggfunc = 'sum').sort_values('year_of_release',ascending = False)['total_sales'].plot(figsize=(15, 10), label = a)\n",
    "    \n",
    "    plt.xticks(np.arange(2013, 2017, step=1))\n",
    "    plt.xlabel('Год релиза')\n",
    "    plt.ylabel('Продажи')\n",
    "    plt.legend()\n"
   ]
  },
  {
   "cell_type": "markdown",
   "metadata": {},
   "source": [
    "На платформах PS4, XOne продажи сначала растут, далее падают.\n",
    " \n",
    "Самые высокие результаты показывает PS4. PS3 и XOne почти в 2 раза меньше. Выберу платформы PS4, PS3 и XOne как потенциально прибыльные."
   ]
  },
  {
   "cell_type": "code",
   "execution_count": 32,
   "metadata": {},
   "outputs": [
    {
     "data": {
      "text/html": [
       "<div>\n",
       "<style scoped>\n",
       "    .dataframe tbody tr th:only-of-type {\n",
       "        vertical-align: middle;\n",
       "    }\n",
       "\n",
       "    .dataframe tbody tr th {\n",
       "        vertical-align: top;\n",
       "    }\n",
       "\n",
       "    .dataframe thead th {\n",
       "        text-align: right;\n",
       "    }\n",
       "</style>\n",
       "<table border=\"1\" class=\"dataframe\">\n",
       "  <thead>\n",
       "    <tr style=\"text-align: right;\">\n",
       "      <th></th>\n",
       "      <th>year_of_release</th>\n",
       "      <th>platform</th>\n",
       "      <th>total_sales</th>\n",
       "    </tr>\n",
       "  </thead>\n",
       "  <tbody>\n",
       "    <tr>\n",
       "      <th>2</th>\n",
       "      <td>2013</td>\n",
       "      <td>XOne</td>\n",
       "      <td>18.96</td>\n",
       "    </tr>\n",
       "    <tr>\n",
       "      <th>5</th>\n",
       "      <td>2014</td>\n",
       "      <td>XOne</td>\n",
       "      <td>54.07</td>\n",
       "    </tr>\n",
       "    <tr>\n",
       "      <th>8</th>\n",
       "      <td>2015</td>\n",
       "      <td>XOne</td>\n",
       "      <td>60.14</td>\n",
       "    </tr>\n",
       "    <tr>\n",
       "      <th>11</th>\n",
       "      <td>2016</td>\n",
       "      <td>XOne</td>\n",
       "      <td>26.15</td>\n",
       "    </tr>\n",
       "    <tr>\n",
       "      <th>1</th>\n",
       "      <td>2013</td>\n",
       "      <td>PS4</td>\n",
       "      <td>25.99</td>\n",
       "    </tr>\n",
       "    <tr>\n",
       "      <th>4</th>\n",
       "      <td>2014</td>\n",
       "      <td>PS4</td>\n",
       "      <td>100.00</td>\n",
       "    </tr>\n",
       "    <tr>\n",
       "      <th>7</th>\n",
       "      <td>2015</td>\n",
       "      <td>PS4</td>\n",
       "      <td>118.90</td>\n",
       "    </tr>\n",
       "    <tr>\n",
       "      <th>10</th>\n",
       "      <td>2016</td>\n",
       "      <td>PS4</td>\n",
       "      <td>69.25</td>\n",
       "    </tr>\n",
       "    <tr>\n",
       "      <th>0</th>\n",
       "      <td>2013</td>\n",
       "      <td>PS3</td>\n",
       "      <td>113.25</td>\n",
       "    </tr>\n",
       "    <tr>\n",
       "      <th>3</th>\n",
       "      <td>2014</td>\n",
       "      <td>PS3</td>\n",
       "      <td>47.76</td>\n",
       "    </tr>\n",
       "    <tr>\n",
       "      <th>6</th>\n",
       "      <td>2015</td>\n",
       "      <td>PS3</td>\n",
       "      <td>16.82</td>\n",
       "    </tr>\n",
       "    <tr>\n",
       "      <th>9</th>\n",
       "      <td>2016</td>\n",
       "      <td>PS3</td>\n",
       "      <td>3.60</td>\n",
       "    </tr>\n",
       "  </tbody>\n",
       "</table>\n",
       "</div>"
      ],
      "text/plain": [
       "    year_of_release platform  total_sales\n",
       "2              2013     XOne        18.96\n",
       "5              2014     XOne        54.07\n",
       "8              2015     XOne        60.14\n",
       "11             2016     XOne        26.15\n",
       "1              2013      PS4        25.99\n",
       "4              2014      PS4       100.00\n",
       "7              2015      PS4       118.90\n",
       "10             2016      PS4        69.25\n",
       "0              2013      PS3       113.25\n",
       "3              2014      PS3        47.76\n",
       "6              2015      PS3        16.82\n",
       "9              2016      PS3         3.60"
      ]
     },
     "execution_count": 32,
     "metadata": {},
     "output_type": "execute_result"
    }
   ],
   "source": [
    "more_profited_platforms = profited_platforms.query('platform == \"PS3\" or platform == \"PS4\" or platform ==\"XOne\"')\n",
    "more_profited_platforms_for_analysis = (more_profited_platforms.groupby(['year_of_release','platform'],as_index = False)['total_sales'].sum()\n",
    "                                 .sort_values('platform',ascending = False)\n",
    "                           )\n",
    "more_profited_platforms_for_analysis\n",
    "\n"
   ]
  },
  {
   "cell_type": "markdown",
   "metadata": {},
   "source": [
    "**Постройте график «ящик с усами» по глобальным продажам игр в разбивке по платформам. Опишите результат.**\n"
   ]
  },
  {
   "cell_type": "code",
   "execution_count": 33,
   "metadata": {},
   "outputs": [
    {
     "data": {
      "text/plain": [
       "count     12.000000\n",
       "mean      54.574167\n",
       "std       39.143463\n",
       "min        3.600000\n",
       "25%       24.232500\n",
       "50%       50.915000\n",
       "75%       76.937500\n",
       "max      118.900000\n",
       "Name: total_sales, dtype: float64"
      ]
     },
     "execution_count": 33,
     "metadata": {},
     "output_type": "execute_result"
    }
   ],
   "source": [
    "more_profited_platforms_for_analysis['total_sales'].describe()"
   ]
  },
  {
   "cell_type": "code",
   "execution_count": 34,
   "metadata": {},
   "outputs": [],
   "source": [
    "#plt.figure(figsize=(15,15))\n",
    "#sns.boxplot(data=profited_platforms, x='platform', y='total_sales').set(title='Продажи с 2013-2016', #xlabel='Платформы' , ylabel='Продажи')\n",
    "#plt.show()\n",
    "\n"
   ]
  },
  {
   "cell_type": "code",
   "execution_count": 35,
   "metadata": {},
   "outputs": [
    {
     "data": {
      "image/png": "[encoded data removed]",
      "text/plain": [
       "<Figure size 1224x1080 with 1 Axes>"
      ]
     },
     "metadata": {
      "needs_background": "light"
     },
     "output_type": "display_data"
    }
   ],
   "source": [
    "plt.figure(figsize=(17,15))\n",
    "sns.boxplot(x='platform', y='total_sales', data=profited_platforms , hue='platform', dodge=False)\n",
    "plt.xlabel('Платформа')\n",
    "plt.ylabel('Общие продажи')\n",
    "plt.ylim(0,3)\n",
    "plt.show()"
   ]
  },
  {
   "cell_type": "markdown",
   "metadata": {},
   "source": [
    "PS4 самый большой объем продаж.\n",
    "\n",
    "Платформы PS3, X360, PS4, 3DS, XOne выпустили какие-то хайповые и очень популярные игры, судя по выбросам.\n",
    "\n",
    "Медиана общих продаж близка на платформах XOne WiiU Wii PS4 X360\n",
    "\n",
    "PSP самый маленький объем продаж"
   ]
  },
  {
   "cell_type": "markdown",
   "metadata": {},
   "source": [
    " XOne минимальное значение около 20, медиана 40. Максимальное значение 60.\n",
    " PS4 минимальное значение около 30, медиана около 90, максимальное значение около 120.\n",
    " PS3 минимальное значение около 10, медиана около 30, максимальное значение около 120.\n",
    " Максимум PS4 и PS3 примерно на одном уровне.\n",
    " \n",
    " В среднем PS4 продается большее количество раз. PS3 меньшее."
   ]
  },
  {
   "cell_type": "markdown",
   "metadata": {},
   "source": [
    "\n",
    "**Посмотрите, как влияют на продажи внутри одной популярной платформы отзывы пользователей и критиков. Постройте диаграмму рассеяния и посчитайте корреляцию между отзывами и продажами. Сформулируйте выводы.**"
   ]
  },
  {
   "cell_type": "code",
   "execution_count": 36,
   "metadata": {},
   "outputs": [],
   "source": [
    "profited_platforms_no_score = profited_platforms[profited_platforms['user_score'] != -1]"
   ]
  },
  {
   "cell_type": "code",
   "execution_count": 37,
   "metadata": {
    "scrolled": true
   },
   "outputs": [
    {
     "name": "stdout",
     "output_type": "stream",
     "text": [
      "Коэф.корреляции -0.031957110204556376\n"
     ]
    },
    {
     "data": {
      "image/png": "[encoded data removed]",
      "text/plain": [
       "<Figure size 432x288 with 1 Axes>"
      ]
     },
     "metadata": {
      "needs_background": "light"
     },
     "output_type": "display_data"
    }
   ],
   "source": [
    "print('Коэф.корреляции',profited_platforms_no_score[profited_platforms_no_score['platform'] == 'PS4']['user_score'].corr(profited_platforms_no_score['total_sales']) )\n",
    "profited_platforms_no_score[profited_platforms_no_score['platform'] == 'PS4'].plot(x='user_score', y='total_sales', kind='scatter')\n",
    "\n",
    "plt.title('Влияние оценок пользователей на продажи PS4')\n",
    "plt.xlabel('Оценки')\n",
    "plt.ylabel('Продажи')\n",
    "plt.show()"
   ]
  },
  {
   "cell_type": "markdown",
   "metadata": {},
   "source": [
    "Корреляция между оценками пользователей и продажами PS4 очень слабая отрцательная."
   ]
  },
  {
   "cell_type": "code",
   "execution_count": null,
   "metadata": {},
   "outputs": [],
   "source": []
  },
  {
   "cell_type": "code",
   "execution_count": 38,
   "metadata": {},
   "outputs": [
    {
     "name": "stdout",
     "output_type": "stream",
     "text": [
      "Коэф.корреляции 0.0023944027357566925\n"
     ]
    },
    {
     "data": {
      "image/png": "[encoded data removed]",
      "text/plain": [
       "<Figure size 432x288 with 1 Axes>"
      ]
     },
     "metadata": {
      "needs_background": "light"
     },
     "output_type": "display_data"
    }
   ],
   "source": [
    "print('Коэф.корреляции',profited_platforms_no_score[profited_platforms_no_score['platform'] == 'PS3']['user_score'].corr(profited_platforms_no_score['total_sales']) )\n",
    "profited_platforms_no_score[profited_platforms_no_score['platform'] == 'PS3'].plot(x='user_score', y='total_sales', kind='scatter')\n",
    "\n",
    "plt.title('Влияние оценок пользователей на продажи PS3')\n",
    "plt.xlabel('Оценки')\n",
    "plt.ylabel('Продажи')\n",
    "plt.show()"
   ]
  },
  {
   "cell_type": "markdown",
   "metadata": {},
   "source": [
    "Корреляция между оценками пользователей и продажами PS3 очень слабая"
   ]
  },
  {
   "cell_type": "code",
   "execution_count": 39,
   "metadata": {},
   "outputs": [
    {
     "name": "stdout",
     "output_type": "stream",
     "text": [
      "Коэф.корреляции -0.06892505328279414\n"
     ]
    },
    {
     "data": {
      "image/png": "[encoded data removed]",
      "text/plain": [
       "<Figure size 432x288 with 1 Axes>"
      ]
     },
     "metadata": {
      "needs_background": "light"
     },
     "output_type": "display_data"
    }
   ],
   "source": [
    "print('Коэф.корреляции',profited_platforms_no_score[profited_platforms_no_score['platform'] == 'XOne']['user_score'].corr(profited_platforms_no_score['total_sales']) )\n",
    "profited_platforms_no_score[profited_platforms_no_score['platform'] == 'XOne'].plot(x='user_score', y='total_sales', kind='scatter')\n",
    "\n",
    "plt.title('Влияние оценок пользователей на продажи XOne')\n",
    "plt.xlabel('Оценки')\n",
    "plt.ylabel('Продажи')\n",
    "plt.show()"
   ]
  },
  {
   "cell_type": "markdown",
   "metadata": {},
   "source": [
    "Корреляция между оценками пользователей и продажами XOne очень слабая отрицательная"
   ]
  },
  {
   "cell_type": "code",
   "execution_count": 40,
   "metadata": {},
   "outputs": [],
   "source": [
    "profited_platforms_no_score1 = profited_platforms[profited_platforms['critic_score'] != -1]"
   ]
  },
  {
   "cell_type": "code",
   "execution_count": 41,
   "metadata": {
    "scrolled": true
   },
   "outputs": [
    {
     "name": "stdout",
     "output_type": "stream",
     "text": [
      "Коэф.корреляции 0.3342853393371919\n"
     ]
    },
    {
     "data": {
      "image/png": "[encoded data removed]",
      "text/plain": [
       "<Figure size 432x288 with 1 Axes>"
      ]
     },
     "metadata": {
      "needs_background": "light"
     },
     "output_type": "display_data"
    }
   ],
   "source": [
    "print('Коэф.корреляции',profited_platforms_no_score1[profited_platforms_no_score1['platform'] == 'PS3']['critic_score'].corr(profited_platforms_no_score1['total_sales']) )\n",
    "profited_platforms_no_score1[profited_platforms_no_score1['platform'] == 'PS3'].plot(x='critic_score', y='total_sales', kind='scatter')\n",
    "\n",
    "plt.title('Влияние оценок критиков на продажи PS3')\n",
    "plt.xlabel('Оценки')\n",
    "plt.ylabel('Продажи')\n",
    "plt.show()"
   ]
  },
  {
   "cell_type": "markdown",
   "metadata": {},
   "source": [
    "Корреляция между оценками пользователей и продажами PS3 слабая"
   ]
  },
  {
   "cell_type": "code",
   "execution_count": 42,
   "metadata": {},
   "outputs": [
    {
     "name": "stdout",
     "output_type": "stream",
     "text": [
      "Коэф.корреляции 0.40656790206178095\n"
     ]
    },
    {
     "data": {
      "image/png": "[encoded data removed]",
      "text/plain": [
       "<Figure size 432x288 with 1 Axes>"
      ]
     },
     "metadata": {
      "needs_background": "light"
     },
     "output_type": "display_data"
    }
   ],
   "source": [
    "print('Коэф.корреляции',profited_platforms_no_score1[profited_platforms_no_score1['platform'] == 'PS4']['critic_score'].corr(profited_platforms_no_score1['total_sales']) )\n",
    "profited_platforms_no_score1[profited_platforms_no_score1['platform'] == 'PS4'].plot(x='critic_score', y='total_sales', kind='scatter')\n",
    "\n",
    "plt.title('Влияние оценок критиков на продажи PS4')\n",
    "plt.xlabel('Оценки')\n",
    "plt.ylabel('Продажи')\n",
    "plt.show()"
   ]
  },
  {
   "cell_type": "markdown",
   "metadata": {},
   "source": [
    "Корреляция между оценками пользователей и продажами PS4 слабая"
   ]
  },
  {
   "cell_type": "code",
   "execution_count": 43,
   "metadata": {},
   "outputs": [
    {
     "name": "stdout",
     "output_type": "stream",
     "text": [
      "Коэф.корреляции 0.4169983280084017\n"
     ]
    },
    {
     "data": {
      "image/png": "[encoded data removed]",
      "text/plain": [
       "<Figure size 432x288 with 1 Axes>"
      ]
     },
     "metadata": {
      "needs_background": "light"
     },
     "output_type": "display_data"
    }
   ],
   "source": [
    "print('Коэф.корреляции',profited_platforms_no_score1[profited_platforms_no_score1['platform'] == 'XOne']['critic_score'].corr(profited_platforms_no_score1['total_sales']) )\n",
    "profited_platforms_no_score1[profited_platforms_no_score1['platform'] == 'XOne'].plot(x='critic_score', y='total_sales', kind='scatter')\n",
    "\n",
    "plt.title('Влияние оценок критиков на продажи PS4')\n",
    "plt.xlabel('Оценки')\n",
    "plt.ylabel('Продажи')\n",
    "plt.show()"
   ]
  },
  {
   "cell_type": "markdown",
   "metadata": {},
   "source": [
    "Корреляция между оценками пользователей и продажами XOne слабая"
   ]
  },
  {
   "cell_type": "markdown",
   "metadata": {},
   "source": [
    "**Посмотрите на общее распределение игр по жанрам. Что можно сказать о самых прибыльных жанрах? Выделяются ли жанры с высокими и низкими продажами?**"
   ]
  },
  {
   "cell_type": "code",
   "execution_count": 44,
   "metadata": {},
   "outputs": [
    {
     "data": {
      "image/png": "[encoded data removed]",
      "text/plain": [
       "<Figure size 720x360 with 1 Axes>"
      ]
     },
     "metadata": {
      "needs_background": "light"
     },
     "output_type": "display_data"
    }
   ],
   "source": [
    "(profited_platforms.pivot_table(index='genre', values='total_sales').sort_values('total_sales', ascending=False).plot(kind='bar', y='total_sales', figsize=(10, 5), legend=False).set(xlabel='Жанр', ylabel='Глобальные продажи'))\n",
    "\n",
    "plt.show()"
   ]
  },
  {
   "cell_type": "markdown",
   "metadata": {},
   "source": [
    "Самые прибыльные жанры - Shooter, Sports, Platform.\n",
    "Продажи Shooter почти в 6 раз выше, чем Adventure и почти в 2 раза больше Sports."
   ]
  },
  {
   "cell_type": "markdown",
   "metadata": {},
   "source": [
    "## Шаг 4. Составьте портрет пользователя каждого региона"
   ]
  },
  {
   "cell_type": "markdown",
   "metadata": {},
   "source": [
    "**Определите для пользователя каждого региона (NA, EU, JP):**\n",
    "\n",
    "* Самые популярные платформы (топ-5). Опишите различия в долях продаж."
   ]
  },
  {
   "cell_type": "code",
   "execution_count": 45,
   "metadata": {},
   "outputs": [
    {
     "data": {
      "image/png": "[encoded data removed]",
      "text/plain": [
       "<Figure size 432x432 with 1 Axes>"
      ]
     },
     "metadata": {},
     "output_type": "display_data"
    },
    {
     "data": {
      "image/png": "[encoded data removed]",
      "text/plain": [
       "<Figure size 432x432 with 1 Axes>"
      ]
     },
     "metadata": {},
     "output_type": "display_data"
    },
    {
     "data": {
      "image/png": "[encoded data removed]",
      "text/plain": [
       "<Figure size 432x432 with 1 Axes>"
      ]
     },
     "metadata": {},
     "output_type": "display_data"
    }
   ],
   "source": [
    "data_region = ['jp_sales', 'eu_sales', 'na_sales']\n",
    "\n",
    "for r in data_region:\n",
    "    (profited_platforms.pivot_table(index='platform', values=r, aggfunc='sum').sort_values(r, ascending=False).head(5).plot(kind='pie', y=r, autopct='%1.0f%%', figsize=(6, 6), legend=False, title = r).set(ylabel='Продажи'))\n",
    "    plt.show()"
   ]
  },
  {
   "cell_type": "markdown",
   "metadata": {},
   "source": [
    "В Японии лидирует платформа 3DS с долей 50%. \n",
    "В Европе платформа PS4.\n",
    "В Северной Америке PS4 и XOne. Европу с Северной Америкой объединяет частое более использование PS4 и XOne.\n",
    "\n",
    "В Японии 3DS пользуется популярностью в 5 раз больше, чем в Сев Америке и в 6,25 раз больше, чем в Европе. "
   ]
  },
  {
   "cell_type": "markdown",
   "metadata": {},
   "source": [
    "* Самые популярные жанры (топ-5). Поясните разницу."
   ]
  },
  {
   "cell_type": "code",
   "execution_count": 46,
   "metadata": {},
   "outputs": [
    {
     "data": {
      "image/png": "[encoded data removed]",
      "text/plain": [
       "<Figure size 432x432 with 1 Axes>"
      ]
     },
     "metadata": {},
     "output_type": "display_data"
    },
    {
     "data": {
      "image/png": "[encoded data removed]",
      "text/plain": [
       "<Figure size 432x432 with 1 Axes>"
      ]
     },
     "metadata": {},
     "output_type": "display_data"
    },
    {
     "data": {
      "image/png": "[encoded data removed]",
      "text/plain": [
       "<Figure size 432x432 with 1 Axes>"
      ]
     },
     "metadata": {},
     "output_type": "display_data"
    }
   ],
   "source": [
    "\n",
    "for r in data_region:\n",
    "    (profited_platforms.pivot_table(index='genre', values=r, aggfunc='sum').sort_values(r, ascending=False).head(5).plot(kind='pie', y=r, autopct='%1.0f%%', figsize=(6, 6), legend=False, title = r))\n",
    "    "
   ]
  },
  {
   "cell_type": "markdown",
   "metadata": {},
   "source": [
    "В Японии популярностью пользуются Role-Playing в 4 раза чаще, чем в Европе и Сев Америке.\n",
    "\n",
    "Shooter в Сев Америке и Европе пользуются популярностью примерно одинаково (29 и 27%) и в 4,5 раза чаще, чем в Японии.\n",
    "\n",
    "Action в Европе и Америке также примерно на одном уровне 34 и 36 % также как и в Японии."
   ]
  },
  {
   "cell_type": "markdown",
   "metadata": {},
   "source": [
    "**Влияет ли рейтинг ESRB на продажи в отдельном регионе?**"
   ]
  },
  {
   "cell_type": "code",
   "execution_count": 47,
   "metadata": {},
   "outputs": [
    {
     "data": {
      "image/png": "[encoded data removed]",
      "text/plain": [
       "<Figure size 432x432 with 1 Axes>"
      ]
     },
     "metadata": {},
     "output_type": "display_data"
    },
    {
     "data": {
      "image/png": "[encoded data removed]",
      "text/plain": [
       "<Figure size 432x432 with 1 Axes>"
      ]
     },
     "metadata": {},
     "output_type": "display_data"
    },
    {
     "data": {
      "image/png": "[encoded data removed]",
      "text/plain": [
       "<Figure size 432x432 with 1 Axes>"
      ]
     },
     "metadata": {},
     "output_type": "display_data"
    }
   ],
   "source": [
    "for r in data_region:\n",
    "    (profited_platforms.pivot_table(index='rating', values=r, aggfunc='sum').sort_values(r, ascending=False).head(5).plot(kind='pie', y=r, autopct='%1.0f%%', figsize=(6, 6), legend=False, title = r))\n",
    "    "
   ]
  },
  {
   "cell_type": "markdown",
   "metadata": {},
   "source": [
    "В Америке и Европе примерно на одном уровне игры с рейтингом М, игры вне рейтинга и игры с рейтингом Е.\n",
    "\n",
    "В Японии 60% игр вне рейтинга\n",
    "\n",
    "ESRB организация, которая принимает и определяет рейтинги в США и Канаде. В Японии рейтингами занимается CERO. Предположу, что игры вне рейтинга выпущены в Японии и не оценивались ESRB."
   ]
  },
  {
   "cell_type": "markdown",
   "metadata": {},
   "source": [
    "**Портреты пользователей**"
   ]
  },
  {
   "cell_type": "markdown",
   "metadata": {},
   "source": [
    "Пользователи в Японии чаще всего используют платформу 3DS, предпочитают игры в жанре Role-Playing выбирают игры вне рейтинга.\n",
    "\n",
    "Пользователи в Европе предпочитают PS4, играют в игры Action и выбирают рейтинг М.\n",
    "\n",
    "Пользователи в Сев Америке чаще всего выбирают PS4 и XOne. Выбирают игры в жанре Shooter и Action с рейтингом М"
   ]
  },
  {
   "cell_type": "markdown",
   "metadata": {},
   "source": [
    "## Шаг 5. Проверьте гипотезы"
   ]
  },
  {
   "cell_type": "markdown",
   "metadata": {},
   "source": [
    "**Средние пользовательские рейтинги платформ Xbox One и PC одинаковые;**"
   ]
  },
  {
   "cell_type": "markdown",
   "metadata": {},
   "source": [
    "H0: Средние пользовательские рейтинги платформ Xbox One и PC одинаковые;\n",
    "\n",
    "H1: Средние пользовательские рейтинги платформ Xbox One и PC отличается;"
   ]
  },
  {
   "cell_type": "code",
   "execution_count": 48,
   "metadata": {},
   "outputs": [
    {
     "name": "stdout",
     "output_type": "stream",
     "text": [
      "p-значение: 0.14759594013430463\n",
      "Не получилось отвергнуть нулевую гипотезу\n"
     ]
    }
   ],
   "source": [
    "pc_set = profited_platforms.query(\"platform == 'PC' and user_score != -1\")\n",
    "xone_set = profited_platforms.query(\"platform == 'XOne' and user_score != -1\")\n",
    "\n",
    "alpha = .05\n",
    "\n",
    "results = st.ttest_ind(xone_set['user_score'], pc_set['user_score'],equal_var=False)\n",
    "\n",
    "print('p-значение:', results.pvalue)\n",
    "\n",
    "if (results.pvalue < alpha):\n",
    "    print(\"Отвергаем нулевую гипотезу\")\n",
    "else:\n",
    "    print(\"Не получилось отвергнуть нулевую гипотезу\")\n"
   ]
  },
  {
   "cell_type": "markdown",
   "metadata": {},
   "source": [
    "Тест говорит о том, что мы не можем отвергнуть нулевую гипотезу. С большой долей вероятности средние пользовательские рейтинги не имеют статистически значимых отличий  "
   ]
  },
  {
   "cell_type": "markdown",
   "metadata": {},
   "source": [
    "**Средние пользовательские рейтинги жанров Action (англ. «действие», экшен-игры) и Sports (англ. «спортивные соревнования») разные.**"
   ]
  },
  {
   "cell_type": "markdown",
   "metadata": {},
   "source": [
    "H0: Средние пользовательские рейтинги жанров Action (англ. «действие», экшен-игры) и Sports (англ. «спортивные соревнования») одинаковые.\n",
    "\n",
    "H1: Средние пользовательские рейтинги жанров Action (англ. «действие», экшен-игры) и Sports (англ. «спортивные соревнования») отличаются."
   ]
  },
  {
   "cell_type": "code",
   "execution_count": 49,
   "metadata": {},
   "outputs": [
    {
     "name": "stdout",
     "output_type": "stream",
     "text": [
      "p-значение: 1.4460039700704315e-20\n",
      "Отвергаем нулевую гипотезу\n"
     ]
    }
   ],
   "source": [
    "sport_genre_set = profited_platforms.query(\"genre == 'Sports' and user_score != -1\")\n",
    "action_genre_set = profited_platforms.query(\"genre == 'Action' and user_score != -1\")\n",
    "\n",
    "results = st.ttest_ind(action_genre_set['user_score'],sport_genre_set['user_score'],equal_var=False)\n",
    "\n",
    "print('p-значение:', results.pvalue)\n",
    "\n",
    "if (results.pvalue  < alpha):\n",
    "    print(\"Отвергаем нулевую гипотезу\")\n",
    "else:\n",
    "    print(\"Не получилось отвергнуть нулевую гипотезу\")\n"
   ]
  },
  {
   "cell_type": "markdown",
   "metadata": {},
   "source": [
    "Тест говорит о том, что мы можем отвергнуть нулевую гипотезу. С большой долей вероятности средние пользовательские рейтинги жанров имеют статистически значимые отличия.  "
   ]
  },
  {
   "cell_type": "markdown",
   "metadata": {},
   "source": [
    "## Шаг 6. Напишите общий вывод\n"
   ]
  },
  {
   "cell_type": "markdown",
   "metadata": {},
   "source": [
    "Я открыла и изучила файл, обработала пропуски, изменила типы данных там, где это необходимо, добавила столбец с расчетами.\n",
    "\n",
    "Исходя из проведенного анализа можно сделать следующие выводы:\n",
    "* первые игры начали появляться в 1980 -ых;\n",
    "* рост выпуска игр произошел в 1995 году и продолжался до 2010;\n",
    "* c 2010 до 2015 продажи сокращались, в 2015 произошел рост;\n",
    "* после 2010 года произошел спад выпуска игр;\n",
    "* платформы с наибольшим количеством проданных экземпляров 'PS2', 'X360', 'PS3', 'Wii', 'DS';\n",
    "* срок \"жизни\" платформы около 10 лет;\n",
    "* оценки пользователей и критиков слобо коррелируют с продажами;\n",
    "* cамые прибыльные жанры - Shooter, Sports, Platform. Продажи Shooter почти в 6 раз выше, чем Adventure и почти в 2 раза больше Sports;\n",
    "* составлен портрет пользователей для Европы, Японии и Сев Америки;\n",
    "* с большой долей вероятности средние пользовательские рейтинги не имеют статистически значимых отличий;\n",
    "* cбольшой долей вероятности средние пользовательские рейтинги жанров имеют статистически значимые отличия.\n"
   ]
  },
  {
   "cell_type": "markdown",
   "metadata": {},
   "source": [
    "<div style=\"border:solid Chocolate 2px; padding: 40px\">\n",
    "\n",
    "<h2> Общий вывод по проекту <a class=\"tocSkip\"> </h2>\n",
    "\n",
    "Спасибо за твой проект! Проделана большая работа, и видно твое внимательное отношение к содержанию анализа и к оформлению. Ты молодец! Практически все ключевые этапы работы над проектом выполнены, код логичен и понятен, комментарии и выводы написаны, так что в целом справиться с задачей тебе удалось. Возле моментов, на которые стоит обратить внимание, я оставила комментарии.\n",
    "    \n",
    "**Отдельно хочу отметить положительные моменты в твоей работе:**\n",
    "    \n",
    "* На всех этапах тобой предложены интересные решения и методы для их реализации.\n",
    "* Ты грамотно используешь визуализацию. Это здорово, т.к. помогает быстро считать информацию получателю отчета.\n",
    "* Ты грамотно делаешь выводы, на основе полученной информации. \n",
    "    \n",
    "**Моменты, требующие внимания:**\n",
    "\n",
    "\n",
    "* Не все пропуски обработаны и прокомментированы. Опиши причины, которые могли привести к пропускам.  \n",
    "* Пересмотри построение диаграмм \"ящиков с усами\".\n",
    "* Нужно доработать анализ корреляции.\n",
    "* Стоит оценить прибыльность жанров на основе средних или медианных продаж.\n",
    "* Дополни вывод в оценке влияния вида возрастного рейтинга ESRB на продажи.\n",
    "* И обязательно соотнести итоговый вывод, после учета всех комментариев.\n",
    "* Остальные рекомендации ты найдешь в моих комментариях!    \n",
    "    \n",
    "**Желаю удачи и жду твой проект на повторное ревью!**\n",
    "\n"
   ]
  }
 ],
 "metadata": {
  "ExecuteTimeLog": [
   {
    "duration": 812,
    "start_time": "2022-12-14T16:13:07.407Z"
   },
   {
    "duration": 186,
    "start_time": "2022-12-14T16:13:08.223Z"
   },
   {
    "duration": 45,
    "start_time": "2022-12-14T16:49:28.737Z"
   },
   {
    "duration": 12,
    "start_time": "2022-12-14T17:18:39.449Z"
   },
   {
    "duration": 9,
    "start_time": "2022-12-14T17:18:43.228Z"
   },
   {
    "duration": 448,
    "start_time": "2022-12-14T17:34:52.749Z"
   },
   {
    "duration": 48,
    "start_time": "2022-12-14T17:35:09.225Z"
   },
   {
    "duration": 60,
    "start_time": "2022-12-14T17:35:18.682Z"
   },
   {
    "duration": 13,
    "start_time": "2022-12-14T17:36:43.614Z"
   },
   {
    "duration": 16,
    "start_time": "2022-12-14T17:36:50.498Z"
   },
   {
    "duration": 9,
    "start_time": "2022-12-14T17:37:30.296Z"
   },
   {
    "duration": 67,
    "start_time": "2022-12-14T18:06:44.117Z"
   },
   {
    "duration": 4,
    "start_time": "2022-12-14T18:09:43.937Z"
   },
   {
    "duration": 3,
    "start_time": "2022-12-14T18:09:46.284Z"
   },
   {
    "duration": 3,
    "start_time": "2022-12-14T18:10:26.160Z"
   },
   {
    "duration": 4,
    "start_time": "2022-12-14T18:10:34.360Z"
   },
   {
    "duration": 78,
    "start_time": "2022-12-14T18:13:50.309Z"
   },
   {
    "duration": 6,
    "start_time": "2022-12-14T18:14:06.136Z"
   },
   {
    "duration": 4,
    "start_time": "2022-12-14T18:32:12.682Z"
   },
   {
    "duration": 286,
    "start_time": "2022-12-14T18:32:38.423Z"
   },
   {
    "duration": 4,
    "start_time": "2022-12-14T18:32:38.974Z"
   },
   {
    "duration": 311,
    "start_time": "2022-12-14T18:32:51.238Z"
   },
   {
    "duration": 502,
    "start_time": "2022-12-14T18:33:01.123Z"
   },
   {
    "duration": 77,
    "start_time": "2022-12-14T18:33:01.979Z"
   },
   {
    "duration": 14,
    "start_time": "2022-12-14T18:33:02.806Z"
   },
   {
    "duration": 16,
    "start_time": "2022-12-14T18:33:03.102Z"
   },
   {
    "duration": 9,
    "start_time": "2022-12-14T18:33:03.415Z"
   },
   {
    "duration": 5,
    "start_time": "2022-12-14T18:33:03.719Z"
   },
   {
    "duration": 320,
    "start_time": "2022-12-14T18:33:07.279Z"
   },
   {
    "duration": 4,
    "start_time": "2022-12-14T18:33:08.615Z"
   },
   {
    "duration": 312,
    "start_time": "2022-12-14T18:33:14.334Z"
   },
   {
    "duration": 3,
    "start_time": "2022-12-14T18:34:39.540Z"
   },
   {
    "duration": 4,
    "start_time": "2022-12-14T18:34:45.730Z"
   },
   {
    "duration": 21,
    "start_time": "2022-12-14T18:34:58.138Z"
   },
   {
    "duration": 1058,
    "start_time": "2022-12-14T18:43:42.010Z"
   },
   {
    "duration": 65,
    "start_time": "2022-12-14T18:43:43.070Z"
   },
   {
    "duration": 16,
    "start_time": "2022-12-14T18:43:43.136Z"
   },
   {
    "duration": 15,
    "start_time": "2022-12-14T18:43:43.154Z"
   },
   {
    "duration": 10,
    "start_time": "2022-12-14T18:43:43.171Z"
   },
   {
    "duration": 6,
    "start_time": "2022-12-14T18:43:43.183Z"
   },
   {
    "duration": 4,
    "start_time": "2022-12-14T18:43:43.222Z"
   },
   {
    "duration": 6,
    "start_time": "2022-12-14T18:43:43.228Z"
   },
   {
    "duration": 22,
    "start_time": "2022-12-14T18:43:43.235Z"
   },
   {
    "duration": 3,
    "start_time": "2022-12-14T18:46:08.107Z"
   },
   {
    "duration": 19,
    "start_time": "2022-12-14T18:46:13.203Z"
   },
   {
    "duration": 16,
    "start_time": "2022-12-14T18:46:25.819Z"
   },
   {
    "duration": 88,
    "start_time": "2022-12-14T18:48:43.206Z"
   },
   {
    "duration": 6,
    "start_time": "2022-12-14T18:48:50.587Z"
   },
   {
    "duration": 19,
    "start_time": "2022-12-14T18:48:54.995Z"
   },
   {
    "duration": 8,
    "start_time": "2022-12-14T18:53:14.039Z"
   },
   {
    "duration": 5,
    "start_time": "2022-12-14T18:53:37.407Z"
   },
   {
    "duration": 21,
    "start_time": "2022-12-14T18:54:06.299Z"
   },
   {
    "duration": 4,
    "start_time": "2022-12-14T18:59:31.536Z"
   },
   {
    "duration": 19,
    "start_time": "2022-12-14T18:59:51.292Z"
   },
   {
    "duration": 15,
    "start_time": "2022-12-14T19:00:05.523Z"
   },
   {
    "duration": 4,
    "start_time": "2022-12-14T19:00:24.315Z"
   },
   {
    "duration": 18,
    "start_time": "2022-12-14T19:00:29.651Z"
   },
   {
    "duration": 5,
    "start_time": "2022-12-14T19:01:24.427Z"
   },
   {
    "duration": 4,
    "start_time": "2022-12-14T19:05:53.636Z"
   },
   {
    "duration": 5,
    "start_time": "2022-12-14T19:09:28.836Z"
   },
   {
    "duration": 5,
    "start_time": "2022-12-14T19:12:08.092Z"
   },
   {
    "duration": 49,
    "start_time": "2022-12-17T10:30:18.602Z"
   },
   {
    "duration": 1228,
    "start_time": "2022-12-17T10:30:27.994Z"
   },
   {
    "duration": 210,
    "start_time": "2022-12-17T10:30:29.224Z"
   },
   {
    "duration": 15,
    "start_time": "2022-12-17T10:30:29.436Z"
   },
   {
    "duration": 18,
    "start_time": "2022-12-17T10:30:29.453Z"
   },
   {
    "duration": 8,
    "start_time": "2022-12-17T10:30:29.473Z"
   },
   {
    "duration": 6,
    "start_time": "2022-12-17T10:30:29.483Z"
   },
   {
    "duration": 25,
    "start_time": "2022-12-17T10:30:29.492Z"
   },
   {
    "duration": 9,
    "start_time": "2022-12-17T10:30:29.518Z"
   },
   {
    "duration": 9,
    "start_time": "2022-12-17T10:30:29.529Z"
   },
   {
    "duration": 8,
    "start_time": "2022-12-17T10:30:29.540Z"
   },
   {
    "duration": 5,
    "start_time": "2022-12-17T10:30:31.047Z"
   },
   {
    "duration": 9,
    "start_time": "2022-12-17T10:30:31.655Z"
   },
   {
    "duration": 7,
    "start_time": "2022-12-17T10:30:59.655Z"
   },
   {
    "duration": 15,
    "start_time": "2022-12-17T10:31:24.518Z"
   },
   {
    "duration": 30,
    "start_time": "2022-12-17T11:03:18.960Z"
   },
   {
    "duration": 12,
    "start_time": "2022-12-17T11:03:37.336Z"
   },
   {
    "duration": 515,
    "start_time": "2022-12-17T13:02:48.640Z"
   },
   {
    "duration": 31,
    "start_time": "2022-12-17T13:03:03.933Z"
   },
   {
    "duration": 10,
    "start_time": "2022-12-17T13:03:42.704Z"
   },
   {
    "duration": 9,
    "start_time": "2022-12-17T13:04:18.494Z"
   },
   {
    "duration": 327,
    "start_time": "2022-12-17T13:04:29.440Z"
   },
   {
    "duration": 4,
    "start_time": "2022-12-17T13:04:46.508Z"
   },
   {
    "duration": 71,
    "start_time": "2022-12-17T13:04:47.344Z"
   },
   {
    "duration": 15,
    "start_time": "2022-12-17T13:04:48.098Z"
   },
   {
    "duration": 21,
    "start_time": "2022-12-17T13:04:48.372Z"
   },
   {
    "duration": 10,
    "start_time": "2022-12-17T13:04:48.696Z"
   },
   {
    "duration": 4,
    "start_time": "2022-12-17T13:04:48.960Z"
   },
   {
    "duration": 27,
    "start_time": "2022-12-17T13:04:51.141Z"
   },
   {
    "duration": 6,
    "start_time": "2022-12-17T13:04:52.255Z"
   },
   {
    "duration": 9,
    "start_time": "2022-12-17T15:38:06.931Z"
   },
   {
    "duration": 6,
    "start_time": "2022-12-17T15:38:14.813Z"
   },
   {
    "duration": 4,
    "start_time": "2022-12-17T15:47:27.009Z"
   },
   {
    "duration": 16,
    "start_time": "2022-12-17T15:48:14.889Z"
   },
   {
    "duration": 8,
    "start_time": "2022-12-17T15:48:24.974Z"
   },
   {
    "duration": 7,
    "start_time": "2022-12-17T15:48:25.493Z"
   },
   {
    "duration": 1184,
    "start_time": "2022-12-17T15:48:34.245Z"
   },
   {
    "duration": 68,
    "start_time": "2022-12-17T15:48:35.431Z"
   },
   {
    "duration": 18,
    "start_time": "2022-12-17T15:48:35.501Z"
   },
   {
    "duration": 41,
    "start_time": "2022-12-17T15:48:35.522Z"
   },
   {
    "duration": 37,
    "start_time": "2022-12-17T15:48:35.565Z"
   },
   {
    "duration": 31,
    "start_time": "2022-12-17T15:48:35.603Z"
   },
   {
    "duration": 56,
    "start_time": "2022-12-17T15:48:35.636Z"
   },
   {
    "duration": 27,
    "start_time": "2022-12-17T15:48:35.695Z"
   },
   {
    "duration": 35,
    "start_time": "2022-12-17T15:48:35.725Z"
   },
   {
    "duration": 48,
    "start_time": "2022-12-17T15:48:35.764Z"
   },
   {
    "duration": 16,
    "start_time": "2022-12-17T15:48:35.814Z"
   },
   {
    "duration": 35,
    "start_time": "2022-12-17T15:48:35.833Z"
   },
   {
    "duration": 31,
    "start_time": "2022-12-17T15:48:35.870Z"
   },
   {
    "duration": 3,
    "start_time": "2022-12-17T15:48:52.789Z"
   },
   {
    "duration": 71,
    "start_time": "2022-12-17T15:48:54.103Z"
   },
   {
    "duration": 18,
    "start_time": "2022-12-17T15:48:55.442Z"
   },
   {
    "duration": 19,
    "start_time": "2022-12-17T15:48:56.030Z"
   },
   {
    "duration": 10,
    "start_time": "2022-12-17T15:48:56.637Z"
   },
   {
    "duration": 6,
    "start_time": "2022-12-17T15:48:57.166Z"
   },
   {
    "duration": 31,
    "start_time": "2022-12-17T15:49:01.873Z"
   },
   {
    "duration": 5,
    "start_time": "2022-12-17T15:49:04.750Z"
   },
   {
    "duration": 4,
    "start_time": "2022-12-17T15:49:06.989Z"
   },
   {
    "duration": 7,
    "start_time": "2022-12-17T15:49:08.089Z"
   },
   {
    "duration": 9,
    "start_time": "2022-12-17T15:49:08.702Z"
   },
   {
    "duration": 7,
    "start_time": "2022-12-17T15:49:09.521Z"
   },
   {
    "duration": 7,
    "start_time": "2022-12-17T15:49:10.226Z"
   },
   {
    "duration": 7,
    "start_time": "2022-12-17T15:50:13.942Z"
   },
   {
    "duration": 5,
    "start_time": "2022-12-17T15:58:48.596Z"
   },
   {
    "duration": 7,
    "start_time": "2022-12-17T15:58:55.781Z"
   },
   {
    "duration": 13,
    "start_time": "2022-12-17T15:59:28.598Z"
   },
   {
    "duration": 14,
    "start_time": "2022-12-17T15:59:44.290Z"
   },
   {
    "duration": 6,
    "start_time": "2022-12-17T16:02:24.466Z"
   },
   {
    "duration": 5,
    "start_time": "2022-12-17T16:03:36.298Z"
   },
   {
    "duration": 7,
    "start_time": "2022-12-17T16:03:58.713Z"
   },
   {
    "duration": 1227,
    "start_time": "2022-12-17T16:28:29.103Z"
   },
   {
    "duration": 2076,
    "start_time": "2022-12-17T16:28:34.739Z"
   },
   {
    "duration": 1077,
    "start_time": "2022-12-17T16:28:37.107Z"
   },
   {
    "duration": 1097,
    "start_time": "2022-12-17T16:29:35.258Z"
   },
   {
    "duration": 18,
    "start_time": "2022-12-17T16:30:20.795Z"
   },
   {
    "duration": 267,
    "start_time": "2022-12-17T16:34:36.460Z"
   },
   {
    "duration": 232,
    "start_time": "2022-12-17T16:35:26.571Z"
   },
   {
    "duration": 234,
    "start_time": "2022-12-17T16:35:34.759Z"
   },
   {
    "duration": 208,
    "start_time": "2022-12-17T16:36:32.545Z"
   },
   {
    "duration": 247,
    "start_time": "2022-12-17T16:37:43.131Z"
   },
   {
    "duration": 265,
    "start_time": "2022-12-17T16:38:01.714Z"
   },
   {
    "duration": 215,
    "start_time": "2022-12-17T16:38:06.583Z"
   },
   {
    "duration": 74,
    "start_time": "2022-12-17T16:38:48.951Z"
   },
   {
    "duration": 74,
    "start_time": "2022-12-17T16:39:01.623Z"
   },
   {
    "duration": 248,
    "start_time": "2022-12-17T16:39:05.279Z"
   },
   {
    "duration": 13,
    "start_time": "2022-12-17T17:07:07.156Z"
   },
   {
    "duration": 561,
    "start_time": "2022-12-17T17:07:30.388Z"
   },
   {
    "duration": 18,
    "start_time": "2022-12-17T17:09:35.852Z"
   },
   {
    "duration": 15,
    "start_time": "2022-12-17T17:09:54.928Z"
   },
   {
    "duration": 87,
    "start_time": "2022-12-17T17:28:42.409Z"
   },
   {
    "duration": 18,
    "start_time": "2022-12-17T17:29:21.197Z"
   },
   {
    "duration": 17,
    "start_time": "2022-12-17T17:30:09.965Z"
   },
   {
    "duration": 10,
    "start_time": "2022-12-17T17:36:56.745Z"
   },
   {
    "duration": 8,
    "start_time": "2022-12-17T17:37:08.637Z"
   },
   {
    "duration": 288,
    "start_time": "2022-12-17T17:37:34.366Z"
   },
   {
    "duration": 4,
    "start_time": "2022-12-17T17:38:11.010Z"
   },
   {
    "duration": 13,
    "start_time": "2022-12-17T17:38:22.286Z"
   },
   {
    "duration": 180,
    "start_time": "2022-12-17T17:38:30.438Z"
   },
   {
    "duration": 339,
    "start_time": "2022-12-17T17:38:44.167Z"
   },
   {
    "duration": 128,
    "start_time": "2022-12-17T17:59:06.334Z"
   },
   {
    "duration": 131,
    "start_time": "2022-12-17T17:59:19.203Z"
   },
   {
    "duration": 11,
    "start_time": "2022-12-17T18:00:01.631Z"
   },
   {
    "duration": 15,
    "start_time": "2022-12-17T18:15:50.317Z"
   },
   {
    "duration": 17,
    "start_time": "2022-12-17T18:16:02.007Z"
   },
   {
    "duration": 9,
    "start_time": "2022-12-17T18:16:08.391Z"
   },
   {
    "duration": 9,
    "start_time": "2022-12-17T18:16:24.207Z"
   },
   {
    "duration": 264,
    "start_time": "2022-12-17T18:18:27.451Z"
   },
   {
    "duration": 9,
    "start_time": "2022-12-17T18:22:45.792Z"
   },
   {
    "duration": 25,
    "start_time": "2022-12-17T18:25:55.855Z"
   },
   {
    "duration": 45,
    "start_time": "2022-12-18T16:50:35.753Z"
   },
   {
    "duration": 1312,
    "start_time": "2022-12-18T16:50:42.614Z"
   },
   {
    "duration": 143,
    "start_time": "2022-12-18T16:50:43.929Z"
   },
   {
    "duration": 15,
    "start_time": "2022-12-18T16:50:44.074Z"
   },
   {
    "duration": 16,
    "start_time": "2022-12-18T16:50:44.091Z"
   },
   {
    "duration": 26,
    "start_time": "2022-12-18T16:50:44.110Z"
   },
   {
    "duration": 25,
    "start_time": "2022-12-18T16:50:44.140Z"
   },
   {
    "duration": 17,
    "start_time": "2022-12-18T16:50:44.167Z"
   },
   {
    "duration": 8,
    "start_time": "2022-12-18T16:50:44.186Z"
   },
   {
    "duration": 8,
    "start_time": "2022-12-18T16:50:44.196Z"
   },
   {
    "duration": 9,
    "start_time": "2022-12-18T16:50:44.208Z"
   },
   {
    "duration": 36,
    "start_time": "2022-12-18T16:50:44.219Z"
   },
   {
    "duration": 11,
    "start_time": "2022-12-18T16:50:44.257Z"
   },
   {
    "duration": 5,
    "start_time": "2022-12-18T16:50:44.270Z"
   },
   {
    "duration": 6,
    "start_time": "2022-12-18T16:50:44.277Z"
   },
   {
    "duration": 21,
    "start_time": "2022-12-18T16:50:44.285Z"
   },
   {
    "duration": 9,
    "start_time": "2022-12-18T16:50:44.307Z"
   },
   {
    "duration": 41,
    "start_time": "2022-12-18T16:50:44.317Z"
   },
   {
    "duration": 18,
    "start_time": "2022-12-18T16:50:44.359Z"
   },
   {
    "duration": 20,
    "start_time": "2022-12-18T16:50:44.379Z"
   },
   {
    "duration": 256,
    "start_time": "2022-12-18T16:50:44.400Z"
   },
   {
    "duration": 12,
    "start_time": "2022-12-18T16:50:44.657Z"
   },
   {
    "duration": 330,
    "start_time": "2022-12-18T16:50:44.671Z"
   },
   {
    "duration": 1180,
    "start_time": "2022-12-18T16:50:45.003Z"
   },
   {
    "duration": 0,
    "start_time": "2022-12-18T16:50:46.185Z"
   },
   {
    "duration": 0,
    "start_time": "2022-12-18T16:50:46.186Z"
   },
   {
    "duration": 869,
    "start_time": "2022-12-18T16:50:56.895Z"
   },
   {
    "duration": 303,
    "start_time": "2022-12-18T16:51:24.825Z"
   },
   {
    "duration": 914,
    "start_time": "2022-12-18T16:51:26.099Z"
   },
   {
    "duration": 13,
    "start_time": "2022-12-18T16:52:40.735Z"
   },
   {
    "duration": 743,
    "start_time": "2022-12-18T17:09:11.201Z"
   },
   {
    "duration": 54,
    "start_time": "2022-12-18T17:14:13.588Z"
   },
   {
    "duration": 298,
    "start_time": "2022-12-18T17:14:19.041Z"
   },
   {
    "duration": 737,
    "start_time": "2022-12-18T17:14:24.117Z"
   },
   {
    "duration": 3,
    "start_time": "2022-12-18T17:14:53.882Z"
   },
   {
    "duration": 59,
    "start_time": "2022-12-18T17:14:54.855Z"
   },
   {
    "duration": 18,
    "start_time": "2022-12-18T17:14:55.819Z"
   },
   {
    "duration": 14,
    "start_time": "2022-12-18T17:14:56.234Z"
   },
   {
    "duration": 16,
    "start_time": "2022-12-18T17:14:56.619Z"
   },
   {
    "duration": 5,
    "start_time": "2022-12-18T17:14:56.975Z"
   },
   {
    "duration": 14,
    "start_time": "2022-12-18T17:14:59.587Z"
   },
   {
    "duration": 5,
    "start_time": "2022-12-18T17:15:00.776Z"
   },
   {
    "duration": 5,
    "start_time": "2022-12-18T17:15:02.299Z"
   },
   {
    "duration": 4,
    "start_time": "2022-12-18T17:15:03.332Z"
   },
   {
    "duration": 5,
    "start_time": "2022-12-18T17:15:03.663Z"
   },
   {
    "duration": 7,
    "start_time": "2022-12-18T17:15:04.891Z"
   },
   {
    "duration": 5,
    "start_time": "2022-12-18T17:15:05.303Z"
   },
   {
    "duration": 6,
    "start_time": "2022-12-18T17:15:05.640Z"
   },
   {
    "duration": 4,
    "start_time": "2022-12-18T17:15:06.046Z"
   },
   {
    "duration": 5,
    "start_time": "2022-12-18T17:15:06.787Z"
   },
   {
    "duration": 4,
    "start_time": "2022-12-18T17:15:07.215Z"
   },
   {
    "duration": 6,
    "start_time": "2022-12-18T17:15:07.638Z"
   },
   {
    "duration": 21,
    "start_time": "2022-12-18T17:15:08.519Z"
   },
   {
    "duration": 210,
    "start_time": "2022-12-18T17:15:10.602Z"
   },
   {
    "duration": 351,
    "start_time": "2022-12-18T17:15:16.911Z"
   },
   {
    "duration": 737,
    "start_time": "2022-12-18T17:15:17.535Z"
   },
   {
    "duration": 496,
    "start_time": "2022-12-18T17:42:27.786Z"
   },
   {
    "duration": 1111,
    "start_time": "2022-12-18T17:42:48.219Z"
   },
   {
    "duration": 9,
    "start_time": "2022-12-18T17:56:36.663Z"
   },
   {
    "duration": 7,
    "start_time": "2022-12-18T17:56:43.551Z"
   },
   {
    "duration": 7,
    "start_time": "2022-12-18T17:56:46.759Z"
   },
   {
    "duration": 243,
    "start_time": "2022-12-18T17:57:11.995Z"
   },
   {
    "duration": 4,
    "start_time": "2022-12-18T17:57:47.795Z"
   },
   {
    "duration": 124,
    "start_time": "2022-12-18T17:58:41.695Z"
   },
   {
    "duration": 21,
    "start_time": "2022-12-18T17:58:49.219Z"
   },
   {
    "duration": 281,
    "start_time": "2022-12-18T17:59:01.680Z"
   },
   {
    "duration": 251,
    "start_time": "2022-12-18T17:59:17.083Z"
   },
   {
    "duration": 275,
    "start_time": "2022-12-18T17:59:30.211Z"
   },
   {
    "duration": 329,
    "start_time": "2022-12-18T17:59:36.027Z"
   },
   {
    "duration": 13,
    "start_time": "2022-12-18T18:01:23.608Z"
   },
   {
    "duration": 12,
    "start_time": "2022-12-18T18:01:49.149Z"
   },
   {
    "duration": 11,
    "start_time": "2022-12-18T18:01:57.831Z"
   },
   {
    "duration": 285,
    "start_time": "2022-12-18T18:02:46.729Z"
   },
   {
    "duration": 308,
    "start_time": "2022-12-18T18:02:58.420Z"
   },
   {
    "duration": 1397,
    "start_time": "2022-12-19T12:11:48.068Z"
   },
   {
    "duration": 132,
    "start_time": "2022-12-19T12:11:49.467Z"
   },
   {
    "duration": 17,
    "start_time": "2022-12-19T12:11:49.601Z"
   },
   {
    "duration": 20,
    "start_time": "2022-12-19T12:11:49.619Z"
   },
   {
    "duration": 26,
    "start_time": "2022-12-19T12:11:49.642Z"
   },
   {
    "duration": 6,
    "start_time": "2022-12-19T12:11:49.670Z"
   },
   {
    "duration": 16,
    "start_time": "2022-12-19T12:11:49.678Z"
   },
   {
    "duration": 8,
    "start_time": "2022-12-19T12:11:49.696Z"
   },
   {
    "duration": 10,
    "start_time": "2022-12-19T12:11:49.705Z"
   },
   {
    "duration": 4,
    "start_time": "2022-12-19T12:11:49.718Z"
   },
   {
    "duration": 13,
    "start_time": "2022-12-19T12:11:49.724Z"
   },
   {
    "duration": 12,
    "start_time": "2022-12-19T12:11:49.762Z"
   },
   {
    "duration": 7,
    "start_time": "2022-12-19T12:11:49.776Z"
   },
   {
    "duration": 8,
    "start_time": "2022-12-19T12:11:49.785Z"
   },
   {
    "duration": 10,
    "start_time": "2022-12-19T12:11:49.795Z"
   },
   {
    "duration": 11,
    "start_time": "2022-12-19T12:11:49.807Z"
   },
   {
    "duration": 10,
    "start_time": "2022-12-19T12:11:49.820Z"
   },
   {
    "duration": 9,
    "start_time": "2022-12-19T12:11:49.831Z"
   },
   {
    "duration": 33,
    "start_time": "2022-12-19T12:11:49.842Z"
   },
   {
    "duration": 295,
    "start_time": "2022-12-19T12:11:49.877Z"
   },
   {
    "duration": 15,
    "start_time": "2022-12-19T12:11:50.174Z"
   },
   {
    "duration": 296,
    "start_time": "2022-12-19T12:11:50.192Z"
   },
   {
    "duration": 5,
    "start_time": "2022-12-19T12:11:50.490Z"
   },
   {
    "duration": 398,
    "start_time": "2022-12-19T12:11:50.497Z"
   },
   {
    "duration": 114,
    "start_time": "2022-12-19T12:11:50.897Z"
   },
   {
    "duration": 0,
    "start_time": "2022-12-19T12:11:51.013Z"
   },
   {
    "duration": 0,
    "start_time": "2022-12-19T12:11:51.014Z"
   },
   {
    "duration": 15,
    "start_time": "2022-12-19T16:39:23.956Z"
   },
   {
    "duration": 116,
    "start_time": "2022-12-19T17:02:01.618Z"
   },
   {
    "duration": 51,
    "start_time": "2022-12-19T17:02:06.697Z"
   },
   {
    "duration": 136,
    "start_time": "2022-12-19T17:02:16.889Z"
   },
   {
    "duration": 134,
    "start_time": "2022-12-19T17:03:28.209Z"
   },
   {
    "duration": 157,
    "start_time": "2022-12-19T17:06:43.325Z"
   },
   {
    "duration": 166,
    "start_time": "2022-12-19T17:07:50.208Z"
   },
   {
    "duration": 222,
    "start_time": "2022-12-19T17:07:56.864Z"
   },
   {
    "duration": 184,
    "start_time": "2022-12-19T17:08:43.532Z"
   },
   {
    "duration": 226,
    "start_time": "2022-12-19T17:08:56.236Z"
   },
   {
    "duration": 18,
    "start_time": "2022-12-19T17:30:53.135Z"
   },
   {
    "duration": 268,
    "start_time": "2022-12-19T17:30:57.675Z"
   },
   {
    "duration": 5,
    "start_time": "2022-12-19T17:31:26.932Z"
   },
   {
    "duration": 295,
    "start_time": "2022-12-19T17:31:29.843Z"
   },
   {
    "duration": 15,
    "start_time": "2022-12-19T17:32:30.015Z"
   },
   {
    "duration": 49,
    "start_time": "2022-12-19T17:36:30.871Z"
   },
   {
    "duration": 3,
    "start_time": "2022-12-19T17:36:44.007Z"
   },
   {
    "duration": 4,
    "start_time": "2022-12-19T17:37:01.071Z"
   },
   {
    "duration": 22,
    "start_time": "2022-12-19T17:38:30.884Z"
   },
   {
    "duration": 20,
    "start_time": "2022-12-19T17:39:09.171Z"
   },
   {
    "duration": 1305,
    "start_time": "2022-12-19T18:00:58.937Z"
   },
   {
    "duration": 216,
    "start_time": "2022-12-19T18:01:00.244Z"
   },
   {
    "duration": 15,
    "start_time": "2022-12-19T18:01:00.462Z"
   },
   {
    "duration": 37,
    "start_time": "2022-12-19T18:01:00.479Z"
   },
   {
    "duration": 20,
    "start_time": "2022-12-19T18:01:00.517Z"
   },
   {
    "duration": 11,
    "start_time": "2022-12-19T18:01:00.539Z"
   },
   {
    "duration": 30,
    "start_time": "2022-12-19T18:01:00.552Z"
   },
   {
    "duration": 48,
    "start_time": "2022-12-19T18:01:00.583Z"
   },
   {
    "duration": 10,
    "start_time": "2022-12-19T18:01:00.633Z"
   },
   {
    "duration": 20,
    "start_time": "2022-12-19T18:01:00.646Z"
   },
   {
    "duration": 27,
    "start_time": "2022-12-19T18:01:00.668Z"
   },
   {
    "duration": 31,
    "start_time": "2022-12-19T18:01:00.697Z"
   },
   {
    "duration": 14,
    "start_time": "2022-12-19T18:01:00.729Z"
   },
   {
    "duration": 17,
    "start_time": "2022-12-19T18:01:00.745Z"
   },
   {
    "duration": 20,
    "start_time": "2022-12-19T18:01:00.764Z"
   },
   {
    "duration": 13,
    "start_time": "2022-12-19T18:01:00.786Z"
   },
   {
    "duration": 14,
    "start_time": "2022-12-19T18:01:00.800Z"
   },
   {
    "duration": 48,
    "start_time": "2022-12-19T18:01:00.815Z"
   },
   {
    "duration": 22,
    "start_time": "2022-12-19T18:01:00.865Z"
   },
   {
    "duration": 229,
    "start_time": "2022-12-19T18:01:00.889Z"
   },
   {
    "duration": 13,
    "start_time": "2022-12-19T18:01:01.121Z"
   },
   {
    "duration": 282,
    "start_time": "2022-12-19T18:01:01.136Z"
   },
   {
    "duration": 5,
    "start_time": "2022-12-19T18:01:01.420Z"
   },
   {
    "duration": 362,
    "start_time": "2022-12-19T18:01:01.426Z"
   },
   {
    "duration": 16,
    "start_time": "2022-12-19T18:01:01.790Z"
   },
   {
    "duration": 11,
    "start_time": "2022-12-19T18:01:01.808Z"
   },
   {
    "duration": 125,
    "start_time": "2022-12-19T18:01:01.821Z"
   },
   {
    "duration": 0,
    "start_time": "2022-12-19T18:01:01.948Z"
   },
   {
    "duration": 1,
    "start_time": "2022-12-19T18:01:01.948Z"
   },
   {
    "duration": 334,
    "start_time": "2022-12-19T18:07:56.918Z"
   },
   {
    "duration": 19,
    "start_time": "2022-12-19T18:08:08.766Z"
   },
   {
    "duration": 5,
    "start_time": "2022-12-19T18:08:12.506Z"
   },
   {
    "duration": 24,
    "start_time": "2022-12-19T18:08:14.130Z"
   },
   {
    "duration": 42,
    "start_time": "2022-12-19T18:08:39.046Z"
   },
   {
    "duration": 19,
    "start_time": "2022-12-19T18:10:42.121Z"
   },
   {
    "duration": 5,
    "start_time": "2022-12-19T18:12:30.341Z"
   },
   {
    "duration": 235,
    "start_time": "2022-12-19T18:25:09.145Z"
   },
   {
    "duration": 309,
    "start_time": "2022-12-19T18:25:23.041Z"
   },
   {
    "duration": 250,
    "start_time": "2022-12-19T18:25:49.193Z"
   },
   {
    "duration": 10,
    "start_time": "2022-12-19T18:26:38.454Z"
   },
   {
    "duration": 12,
    "start_time": "2022-12-19T18:26:54.043Z"
   },
   {
    "duration": 4,
    "start_time": "2022-12-19T18:27:10.002Z"
   },
   {
    "duration": 5,
    "start_time": "2022-12-19T18:27:23.921Z"
   },
   {
    "duration": 678,
    "start_time": "2022-12-19T18:27:27.213Z"
   },
   {
    "duration": 787,
    "start_time": "2022-12-19T18:27:51.421Z"
   },
   {
    "duration": 835,
    "start_time": "2022-12-19T18:28:06.053Z"
   },
   {
    "duration": 717,
    "start_time": "2022-12-19T18:28:33.449Z"
   },
   {
    "duration": 40,
    "start_time": "2022-12-19T18:29:26.673Z"
   },
   {
    "duration": 41,
    "start_time": "2022-12-19T18:30:09.378Z"
   },
   {
    "duration": 15,
    "start_time": "2022-12-19T18:34:02.463Z"
   },
   {
    "duration": 4,
    "start_time": "2022-12-19T18:34:16.300Z"
   },
   {
    "duration": 4,
    "start_time": "2022-12-19T18:34:30.103Z"
   },
   {
    "duration": 444,
    "start_time": "2022-12-19T18:34:32.110Z"
   },
   {
    "duration": 3,
    "start_time": "2022-12-19T18:34:51.279Z"
   },
   {
    "duration": 5,
    "start_time": "2022-12-19T18:36:00.115Z"
   },
   {
    "duration": 5,
    "start_time": "2022-12-19T18:36:02.222Z"
   },
   {
    "duration": 3,
    "start_time": "2022-12-19T18:36:02.656Z"
   },
   {
    "duration": 5,
    "start_time": "2022-12-19T18:36:03.244Z"
   },
   {
    "duration": 6,
    "start_time": "2022-12-19T18:36:03.475Z"
   },
   {
    "duration": 4,
    "start_time": "2022-12-19T18:36:03.720Z"
   },
   {
    "duration": 3,
    "start_time": "2022-12-19T18:36:03.940Z"
   },
   {
    "duration": 5,
    "start_time": "2022-12-19T18:36:04.180Z"
   },
   {
    "duration": 5,
    "start_time": "2022-12-19T18:36:04.695Z"
   },
   {
    "duration": 4,
    "start_time": "2022-12-19T18:36:04.952Z"
   },
   {
    "duration": 5,
    "start_time": "2022-12-19T18:36:05.196Z"
   },
   {
    "duration": 17,
    "start_time": "2022-12-19T18:36:05.647Z"
   },
   {
    "duration": 303,
    "start_time": "2022-12-19T18:36:06.527Z"
   },
   {
    "duration": 12,
    "start_time": "2022-12-19T18:36:08.485Z"
   },
   {
    "duration": 243,
    "start_time": "2022-12-19T18:36:08.900Z"
   },
   {
    "duration": 4,
    "start_time": "2022-12-19T18:36:09.340Z"
   },
   {
    "duration": 313,
    "start_time": "2022-12-19T18:36:10.356Z"
   },
   {
    "duration": 20,
    "start_time": "2022-12-19T18:36:12.320Z"
   },
   {
    "duration": 4,
    "start_time": "2022-12-19T18:36:13.592Z"
   },
   {
    "duration": 3,
    "start_time": "2022-12-19T18:36:13.947Z"
   },
   {
    "duration": 458,
    "start_time": "2022-12-19T18:36:14.347Z"
   },
   {
    "duration": 4,
    "start_time": "2022-12-19T18:36:33.736Z"
   },
   {
    "duration": 459,
    "start_time": "2022-12-19T18:36:49.814Z"
   },
   {
    "duration": 526,
    "start_time": "2022-12-19T18:37:14.536Z"
   },
   {
    "duration": 73,
    "start_time": "2022-12-19T18:37:22.452Z"
   },
   {
    "duration": 449,
    "start_time": "2022-12-19T18:37:32.520Z"
   },
   {
    "duration": 431,
    "start_time": "2022-12-19T18:37:50.744Z"
   },
   {
    "duration": 444,
    "start_time": "2022-12-19T18:39:01.804Z"
   },
   {
    "duration": 15,
    "start_time": "2022-12-19T18:56:47.573Z"
   },
   {
    "duration": 5,
    "start_time": "2022-12-19T18:56:57.301Z"
   },
   {
    "duration": 2,
    "start_time": "2022-12-19T18:56:57.801Z"
   },
   {
    "duration": 516,
    "start_time": "2022-12-19T18:56:58.162Z"
   },
   {
    "duration": 449,
    "start_time": "2022-12-19T18:57:19.006Z"
   },
   {
    "duration": 19,
    "start_time": "2022-12-19T19:03:12.946Z"
   },
   {
    "duration": 30,
    "start_time": "2022-12-19T19:20:39.531Z"
   },
   {
    "duration": 18,
    "start_time": "2022-12-19T19:22:20.784Z"
   },
   {
    "duration": 23,
    "start_time": "2022-12-19T19:22:56.739Z"
   },
   {
    "duration": 86,
    "start_time": "2022-12-19T19:32:01.297Z"
   },
   {
    "duration": 90,
    "start_time": "2022-12-19T19:32:06.576Z"
   },
   {
    "duration": 95,
    "start_time": "2022-12-19T19:32:12.006Z"
   },
   {
    "duration": 80,
    "start_time": "2022-12-19T19:32:14.719Z"
   },
   {
    "duration": 180,
    "start_time": "2022-12-19T19:32:23.910Z"
   },
   {
    "duration": 186,
    "start_time": "2022-12-19T19:36:49.839Z"
   },
   {
    "duration": 16,
    "start_time": "2022-12-19T19:39:23.345Z"
   },
   {
    "duration": 25,
    "start_time": "2022-12-19T19:57:18.542Z"
   },
   {
    "duration": 27,
    "start_time": "2022-12-19T19:57:27.402Z"
   },
   {
    "duration": 23,
    "start_time": "2022-12-19T19:57:39.763Z"
   },
   {
    "duration": 371,
    "start_time": "2022-12-19T19:57:49.896Z"
   },
   {
    "duration": 370,
    "start_time": "2022-12-19T19:58:42.402Z"
   },
   {
    "duration": 87,
    "start_time": "2022-12-19T19:59:02.995Z"
   },
   {
    "duration": 349,
    "start_time": "2022-12-19T19:59:59.893Z"
   },
   {
    "duration": 1337,
    "start_time": "2022-12-20T13:53:44.058Z"
   },
   {
    "duration": 456,
    "start_time": "2022-12-20T13:53:45.397Z"
   },
   {
    "duration": 19,
    "start_time": "2022-12-20T13:53:45.855Z"
   },
   {
    "duration": 19,
    "start_time": "2022-12-20T13:53:45.877Z"
   },
   {
    "duration": 14,
    "start_time": "2022-12-20T13:53:45.898Z"
   },
   {
    "duration": 16,
    "start_time": "2022-12-20T13:53:45.914Z"
   },
   {
    "duration": 23,
    "start_time": "2022-12-20T13:53:45.931Z"
   },
   {
    "duration": 6,
    "start_time": "2022-12-20T13:53:45.956Z"
   },
   {
    "duration": 6,
    "start_time": "2022-12-20T13:53:45.964Z"
   },
   {
    "duration": 5,
    "start_time": "2022-12-20T13:53:45.973Z"
   },
   {
    "duration": 9,
    "start_time": "2022-12-20T13:53:45.980Z"
   },
   {
    "duration": 8,
    "start_time": "2022-12-20T13:53:45.991Z"
   },
   {
    "duration": 28,
    "start_time": "2022-12-20T13:53:46.001Z"
   },
   {
    "duration": 15,
    "start_time": "2022-12-20T13:53:46.030Z"
   },
   {
    "duration": 6,
    "start_time": "2022-12-20T13:53:46.047Z"
   },
   {
    "duration": 9,
    "start_time": "2022-12-20T13:53:46.054Z"
   },
   {
    "duration": 7,
    "start_time": "2022-12-20T13:53:46.065Z"
   },
   {
    "duration": 7,
    "start_time": "2022-12-20T13:53:46.073Z"
   },
   {
    "duration": 18,
    "start_time": "2022-12-20T13:53:46.082Z"
   },
   {
    "duration": 248,
    "start_time": "2022-12-20T13:53:46.102Z"
   },
   {
    "duration": 12,
    "start_time": "2022-12-20T13:53:46.352Z"
   },
   {
    "duration": 286,
    "start_time": "2022-12-20T13:53:46.366Z"
   },
   {
    "duration": 5,
    "start_time": "2022-12-20T13:53:46.653Z"
   },
   {
    "duration": 348,
    "start_time": "2022-12-20T13:53:46.660Z"
   },
   {
    "duration": 21,
    "start_time": "2022-12-20T13:53:47.009Z"
   },
   {
    "duration": 7,
    "start_time": "2022-12-20T13:53:47.033Z"
   },
   {
    "duration": 6,
    "start_time": "2022-12-20T13:53:47.041Z"
   },
   {
    "duration": 463,
    "start_time": "2022-12-20T13:53:47.050Z"
   },
   {
    "duration": 27,
    "start_time": "2022-12-20T13:53:47.515Z"
   },
   {
    "duration": 34,
    "start_time": "2022-12-20T13:53:47.543Z"
   },
   {
    "duration": 220,
    "start_time": "2022-12-20T13:53:47.579Z"
   },
   {
    "duration": 410,
    "start_time": "2022-12-20T13:53:47.800Z"
   },
   {
    "duration": 322,
    "start_time": "2022-12-20T15:33:28.660Z"
   },
   {
    "duration": 331,
    "start_time": "2022-12-20T15:36:49.117Z"
   },
   {
    "duration": 356,
    "start_time": "2022-12-20T15:39:28.000Z"
   },
   {
    "duration": 102,
    "start_time": "2022-12-20T15:40:03.913Z"
   },
   {
    "duration": 11,
    "start_time": "2022-12-20T15:40:19.864Z"
   },
   {
    "duration": 18,
    "start_time": "2022-12-20T15:40:27.220Z"
   },
   {
    "duration": 448,
    "start_time": "2022-12-20T15:40:37.856Z"
   },
   {
    "duration": 11,
    "start_time": "2022-12-20T15:58:50.902Z"
   },
   {
    "duration": 20,
    "start_time": "2022-12-20T16:08:41.681Z"
   },
   {
    "duration": 10,
    "start_time": "2022-12-20T16:09:02.555Z"
   },
   {
    "duration": 5,
    "start_time": "2022-12-20T16:10:06.047Z"
   },
   {
    "duration": 4,
    "start_time": "2022-12-20T16:10:20.387Z"
   },
   {
    "duration": 18,
    "start_time": "2022-12-20T16:16:25.798Z"
   },
   {
    "duration": 17,
    "start_time": "2022-12-20T16:32:21.360Z"
   },
   {
    "duration": 20,
    "start_time": "2022-12-20T16:32:26.054Z"
   },
   {
    "duration": 259,
    "start_time": "2022-12-20T16:32:27.253Z"
   },
   {
    "duration": 219,
    "start_time": "2022-12-20T16:33:25.912Z"
   },
   {
    "duration": 102,
    "start_time": "2022-12-20T16:40:40.000Z"
   },
   {
    "duration": 100,
    "start_time": "2022-12-20T16:47:53.157Z"
   },
   {
    "duration": 8,
    "start_time": "2022-12-20T17:46:16.279Z"
   },
   {
    "duration": 303,
    "start_time": "2022-12-20T18:02:36.819Z"
   },
   {
    "duration": 17,
    "start_time": "2022-12-20T18:11:50.018Z"
   },
   {
    "duration": 5,
    "start_time": "2022-12-20T18:13:04.823Z"
   },
   {
    "duration": 3,
    "start_time": "2022-12-20T18:13:07.511Z"
   },
   {
    "duration": 412,
    "start_time": "2022-12-20T18:13:11.144Z"
   },
   {
    "duration": 8,
    "start_time": "2022-12-20T18:15:25.855Z"
   },
   {
    "duration": 19,
    "start_time": "2022-12-20T18:17:26.199Z"
   },
   {
    "duration": 9,
    "start_time": "2022-12-20T18:45:22.439Z"
   },
   {
    "duration": 220,
    "start_time": "2022-12-20T18:59:40.848Z"
   },
   {
    "duration": 23,
    "start_time": "2022-12-20T19:00:18.977Z"
   },
   {
    "duration": 214,
    "start_time": "2022-12-20T19:00:35.300Z"
   },
   {
    "duration": 305,
    "start_time": "2022-12-20T19:02:04.329Z"
   },
   {
    "duration": 12,
    "start_time": "2022-12-20T19:32:30.978Z"
   },
   {
    "duration": 11,
    "start_time": "2022-12-20T19:36:58.298Z"
   },
   {
    "duration": 18,
    "start_time": "2022-12-20T19:38:00.565Z"
   },
   {
    "duration": 11,
    "start_time": "2022-12-20T19:58:10.099Z"
   },
   {
    "duration": 1518,
    "start_time": "2022-12-20T19:58:25.556Z"
   },
   {
    "duration": 130,
    "start_time": "2022-12-20T19:59:34.563Z"
   },
   {
    "duration": 1221,
    "start_time": "2022-12-20T20:03:17.252Z"
   },
   {
    "duration": 74,
    "start_time": "2022-12-20T20:03:18.475Z"
   },
   {
    "duration": 14,
    "start_time": "2022-12-20T20:03:18.551Z"
   },
   {
    "duration": 14,
    "start_time": "2022-12-20T20:03:18.567Z"
   },
   {
    "duration": 9,
    "start_time": "2022-12-20T20:03:18.583Z"
   },
   {
    "duration": 38,
    "start_time": "2022-12-20T20:03:18.594Z"
   },
   {
    "duration": 28,
    "start_time": "2022-12-20T20:03:18.638Z"
   },
   {
    "duration": 8,
    "start_time": "2022-12-20T20:03:18.668Z"
   },
   {
    "duration": 9,
    "start_time": "2022-12-20T20:03:18.680Z"
   },
   {
    "duration": 7,
    "start_time": "2022-12-20T20:03:18.692Z"
   },
   {
    "duration": 9,
    "start_time": "2022-12-20T20:03:18.701Z"
   },
   {
    "duration": 10,
    "start_time": "2022-12-20T20:03:18.712Z"
   },
   {
    "duration": 30,
    "start_time": "2022-12-20T20:03:18.723Z"
   },
   {
    "duration": 8,
    "start_time": "2022-12-20T20:03:18.755Z"
   },
   {
    "duration": 5,
    "start_time": "2022-12-20T20:03:18.766Z"
   },
   {
    "duration": 18,
    "start_time": "2022-12-20T20:03:18.773Z"
   },
   {
    "duration": 12,
    "start_time": "2022-12-20T20:03:18.793Z"
   },
   {
    "duration": 30,
    "start_time": "2022-12-20T20:03:18.808Z"
   },
   {
    "duration": 40,
    "start_time": "2022-12-20T20:03:18.844Z"
   },
   {
    "duration": 343,
    "start_time": "2022-12-20T20:03:18.886Z"
   },
   {
    "duration": 28,
    "start_time": "2022-12-20T20:03:19.231Z"
   },
   {
    "duration": 304,
    "start_time": "2022-12-20T20:03:19.264Z"
   },
   {
    "duration": 5,
    "start_time": "2022-12-20T20:03:19.570Z"
   },
   {
    "duration": 366,
    "start_time": "2022-12-20T20:03:19.576Z"
   },
   {
    "duration": 16,
    "start_time": "2022-12-20T20:03:19.944Z"
   },
   {
    "duration": 4,
    "start_time": "2022-12-20T20:03:19.962Z"
   },
   {
    "duration": 6,
    "start_time": "2022-12-20T20:03:19.968Z"
   },
   {
    "duration": 547,
    "start_time": "2022-12-20T20:03:19.978Z"
   },
   {
    "duration": 18,
    "start_time": "2022-12-20T20:03:20.527Z"
   },
   {
    "duration": 14,
    "start_time": "2022-12-20T20:03:20.554Z"
   },
   {
    "duration": 275,
    "start_time": "2022-12-20T20:03:20.571Z"
   },
   {
    "duration": 1611,
    "start_time": "2022-12-20T20:03:20.848Z"
   },
   {
    "duration": 0,
    "start_time": "2022-12-20T20:03:22.461Z"
   },
   {
    "duration": 0,
    "start_time": "2022-12-20T20:03:22.462Z"
   },
   {
    "duration": 0,
    "start_time": "2022-12-20T20:03:22.463Z"
   },
   {
    "duration": 0,
    "start_time": "2022-12-20T20:03:22.464Z"
   },
   {
    "duration": 0,
    "start_time": "2022-12-20T20:03:22.465Z"
   },
   {
    "duration": 0,
    "start_time": "2022-12-20T20:03:22.465Z"
   },
   {
    "duration": 0,
    "start_time": "2022-12-20T20:03:22.467Z"
   },
   {
    "duration": 164,
    "start_time": "2022-12-20T20:03:34.288Z"
   },
   {
    "duration": 7,
    "start_time": "2022-12-20T20:04:48.791Z"
   },
   {
    "duration": 191,
    "start_time": "2022-12-20T20:10:04.053Z"
   },
   {
    "duration": 135,
    "start_time": "2022-12-20T20:10:26.337Z"
   },
   {
    "duration": 142,
    "start_time": "2022-12-20T20:12:33.508Z"
   },
   {
    "duration": 135,
    "start_time": "2022-12-20T20:13:32.192Z"
   },
   {
    "duration": 149,
    "start_time": "2022-12-20T20:14:05.392Z"
   },
   {
    "duration": 143,
    "start_time": "2022-12-20T20:17:03.756Z"
   },
   {
    "duration": 128,
    "start_time": "2022-12-20T20:17:06.769Z"
   },
   {
    "duration": 142,
    "start_time": "2022-12-20T20:18:34.888Z"
   },
   {
    "duration": 137,
    "start_time": "2022-12-20T20:19:12.865Z"
   },
   {
    "duration": 69,
    "start_time": "2022-12-20T20:19:39.336Z"
   },
   {
    "duration": 143,
    "start_time": "2022-12-20T20:20:08.041Z"
   },
   {
    "duration": 182,
    "start_time": "2022-12-20T20:21:13.689Z"
   },
   {
    "duration": 52,
    "start_time": "2022-12-21T04:24:52.435Z"
   },
   {
    "duration": 1255,
    "start_time": "2022-12-21T05:23:18.927Z"
   },
   {
    "duration": 104,
    "start_time": "2022-12-21T05:23:20.184Z"
   },
   {
    "duration": 13,
    "start_time": "2022-12-21T05:23:20.290Z"
   },
   {
    "duration": 13,
    "start_time": "2022-12-21T05:23:20.305Z"
   },
   {
    "duration": 8,
    "start_time": "2022-12-21T05:23:20.319Z"
   },
   {
    "duration": 8,
    "start_time": "2022-12-21T05:23:20.329Z"
   },
   {
    "duration": 29,
    "start_time": "2022-12-21T05:23:20.338Z"
   },
   {
    "duration": 7,
    "start_time": "2022-12-21T05:23:20.368Z"
   },
   {
    "duration": 8,
    "start_time": "2022-12-21T05:23:20.377Z"
   },
   {
    "duration": 7,
    "start_time": "2022-12-21T05:23:20.387Z"
   },
   {
    "duration": 13,
    "start_time": "2022-12-21T05:23:20.395Z"
   },
   {
    "duration": 11,
    "start_time": "2022-12-21T05:23:20.410Z"
   },
   {
    "duration": 6,
    "start_time": "2022-12-21T05:23:20.423Z"
   },
   {
    "duration": 6,
    "start_time": "2022-12-21T05:23:20.431Z"
   },
   {
    "duration": 12,
    "start_time": "2022-12-21T05:23:20.438Z"
   },
   {
    "duration": 6,
    "start_time": "2022-12-21T05:23:20.451Z"
   },
   {
    "duration": 7,
    "start_time": "2022-12-21T05:23:20.459Z"
   },
   {
    "duration": 8,
    "start_time": "2022-12-21T05:23:20.467Z"
   },
   {
    "duration": 12,
    "start_time": "2022-12-21T05:23:35.886Z"
   },
   {
    "duration": 96,
    "start_time": "2022-12-21T05:28:43.794Z"
   },
   {
    "duration": 19,
    "start_time": "2022-12-21T05:29:16.388Z"
   },
   {
    "duration": 19,
    "start_time": "2022-12-21T05:29:21.625Z"
   },
   {
    "duration": 292,
    "start_time": "2022-12-21T05:40:36.458Z"
   },
   {
    "duration": 331,
    "start_time": "2022-12-21T05:41:26.171Z"
   },
   {
    "duration": 281,
    "start_time": "2022-12-21T05:42:11.765Z"
   },
   {
    "duration": 49,
    "start_time": "2022-12-21T05:43:54.300Z"
   },
   {
    "duration": 11,
    "start_time": "2022-12-21T05:44:51.023Z"
   },
   {
    "duration": 11,
    "start_time": "2022-12-21T05:44:51.985Z"
   },
   {
    "duration": 10,
    "start_time": "2022-12-21T05:44:56.503Z"
   },
   {
    "duration": 1064,
    "start_time": "2022-12-21T05:47:37.376Z"
   },
   {
    "duration": 65,
    "start_time": "2022-12-21T05:47:38.441Z"
   },
   {
    "duration": 13,
    "start_time": "2022-12-21T05:47:38.508Z"
   },
   {
    "duration": 14,
    "start_time": "2022-12-21T05:47:38.524Z"
   },
   {
    "duration": 9,
    "start_time": "2022-12-21T05:47:38.540Z"
   },
   {
    "duration": 6,
    "start_time": "2022-12-21T05:47:38.551Z"
   },
   {
    "duration": 14,
    "start_time": "2022-12-21T05:47:38.558Z"
   },
   {
    "duration": 8,
    "start_time": "2022-12-21T05:47:38.574Z"
   },
   {
    "duration": 33,
    "start_time": "2022-12-21T05:47:38.583Z"
   },
   {
    "duration": 3,
    "start_time": "2022-12-21T05:47:38.619Z"
   },
   {
    "duration": 17,
    "start_time": "2022-12-21T05:47:38.623Z"
   },
   {
    "duration": 9,
    "start_time": "2022-12-21T05:47:38.641Z"
   },
   {
    "duration": 8,
    "start_time": "2022-12-21T05:47:38.651Z"
   },
   {
    "duration": 6,
    "start_time": "2022-12-21T05:47:38.660Z"
   },
   {
    "duration": 13,
    "start_time": "2022-12-21T05:47:38.667Z"
   },
   {
    "duration": 10,
    "start_time": "2022-12-21T05:47:38.682Z"
   },
   {
    "duration": 6,
    "start_time": "2022-12-21T05:47:38.694Z"
   },
   {
    "duration": 7,
    "start_time": "2022-12-21T05:47:38.701Z"
   },
   {
    "duration": 18,
    "start_time": "2022-12-21T05:47:38.710Z"
   },
   {
    "duration": 211,
    "start_time": "2022-12-21T05:47:38.729Z"
   },
   {
    "duration": 11,
    "start_time": "2022-12-21T05:47:38.941Z"
   },
   {
    "duration": 269,
    "start_time": "2022-12-21T05:47:38.953Z"
   },
   {
    "duration": 4,
    "start_time": "2022-12-21T05:47:39.224Z"
   },
   {
    "duration": 313,
    "start_time": "2022-12-21T05:47:39.230Z"
   },
   {
    "duration": 13,
    "start_time": "2022-12-21T05:47:39.545Z"
   },
   {
    "duration": 4,
    "start_time": "2022-12-21T05:47:39.559Z"
   },
   {
    "duration": 15,
    "start_time": "2022-12-21T05:47:39.564Z"
   },
   {
    "duration": 415,
    "start_time": "2022-12-21T05:47:39.582Z"
   },
   {
    "duration": 23,
    "start_time": "2022-12-21T05:47:39.999Z"
   },
   {
    "duration": 7,
    "start_time": "2022-12-21T05:47:40.023Z"
   },
   {
    "duration": 201,
    "start_time": "2022-12-21T05:47:40.032Z"
   },
   {
    "duration": 194,
    "start_time": "2022-12-21T05:47:40.234Z"
   },
   {
    "duration": 123,
    "start_time": "2022-12-21T05:47:40.430Z"
   },
   {
    "duration": 134,
    "start_time": "2022-12-21T05:47:40.555Z"
   },
   {
    "duration": 128,
    "start_time": "2022-12-21T05:47:40.691Z"
   },
   {
    "duration": 135,
    "start_time": "2022-12-21T05:47:40.820Z"
   },
   {
    "duration": 137,
    "start_time": "2022-12-21T05:47:40.957Z"
   },
   {
    "duration": 175,
    "start_time": "2022-12-21T05:47:41.096Z"
   },
   {
    "duration": 287,
    "start_time": "2022-12-21T05:47:41.273Z"
   },
   {
    "duration": 369,
    "start_time": "2022-12-21T05:47:41.562Z"
   },
   {
    "duration": 318,
    "start_time": "2022-12-21T05:47:41.933Z"
   },
   {
    "duration": 10,
    "start_time": "2022-12-21T05:47:42.253Z"
   },
   {
    "duration": 13,
    "start_time": "2022-12-21T05:47:42.265Z"
   },
   {
    "duration": 56,
    "start_time": "2022-12-21T15:18:15.247Z"
   },
   {
    "duration": 1327,
    "start_time": "2022-12-21T15:18:27.068Z"
   },
   {
    "duration": 205,
    "start_time": "2022-12-21T15:18:28.398Z"
   },
   {
    "duration": 14,
    "start_time": "2022-12-21T15:18:28.604Z"
   },
   {
    "duration": 16,
    "start_time": "2022-12-21T15:18:28.621Z"
   },
   {
    "duration": 10,
    "start_time": "2022-12-21T15:18:28.638Z"
   },
   {
    "duration": 5,
    "start_time": "2022-12-21T15:18:28.650Z"
   },
   {
    "duration": 34,
    "start_time": "2022-12-21T15:18:28.656Z"
   },
   {
    "duration": 8,
    "start_time": "2022-12-21T15:18:28.693Z"
   },
   {
    "duration": 7,
    "start_time": "2022-12-21T15:18:28.702Z"
   },
   {
    "duration": 5,
    "start_time": "2022-12-21T15:18:28.712Z"
   },
   {
    "duration": 7,
    "start_time": "2022-12-21T15:18:28.718Z"
   },
   {
    "duration": 8,
    "start_time": "2022-12-21T15:18:28.726Z"
   },
   {
    "duration": 14,
    "start_time": "2022-12-21T15:18:28.736Z"
   },
   {
    "duration": 27,
    "start_time": "2022-12-21T15:18:28.752Z"
   },
   {
    "duration": 4,
    "start_time": "2022-12-21T15:18:28.781Z"
   },
   {
    "duration": 7,
    "start_time": "2022-12-21T15:18:28.786Z"
   },
   {
    "duration": 7,
    "start_time": "2022-12-21T15:18:28.794Z"
   },
   {
    "duration": 7,
    "start_time": "2022-12-21T15:18:28.803Z"
   },
   {
    "duration": 20,
    "start_time": "2022-12-21T15:18:28.812Z"
   },
   {
    "duration": 16,
    "start_time": "2022-12-21T15:18:28.833Z"
   },
   {
    "duration": 260,
    "start_time": "2022-12-21T15:18:28.851Z"
   },
   {
    "duration": 12,
    "start_time": "2022-12-21T15:18:29.113Z"
   },
   {
    "duration": 272,
    "start_time": "2022-12-21T15:18:29.127Z"
   },
   {
    "duration": 5,
    "start_time": "2022-12-21T15:18:29.400Z"
   },
   {
    "duration": 341,
    "start_time": "2022-12-21T15:18:29.407Z"
   },
   {
    "duration": 15,
    "start_time": "2022-12-21T15:18:29.750Z"
   },
   {
    "duration": 5,
    "start_time": "2022-12-21T15:18:29.766Z"
   },
   {
    "duration": 6,
    "start_time": "2022-12-21T15:18:29.774Z"
   },
   {
    "duration": 457,
    "start_time": "2022-12-21T15:18:29.781Z"
   },
   {
    "duration": 18,
    "start_time": "2022-12-21T15:18:30.240Z"
   },
   {
    "duration": 28,
    "start_time": "2022-12-21T15:18:30.260Z"
   },
   {
    "duration": 229,
    "start_time": "2022-12-21T15:18:30.290Z"
   },
   {
    "duration": 236,
    "start_time": "2022-12-21T15:18:30.521Z"
   },
   {
    "duration": 225,
    "start_time": "2022-12-21T15:18:30.758Z"
   },
   {
    "duration": 168,
    "start_time": "2022-12-21T15:18:30.985Z"
   },
   {
    "duration": 143,
    "start_time": "2022-12-21T15:18:31.154Z"
   },
   {
    "duration": 164,
    "start_time": "2022-12-21T15:18:31.299Z"
   },
   {
    "duration": 164,
    "start_time": "2022-12-21T15:18:31.465Z"
   },
   {
    "duration": 184,
    "start_time": "2022-12-21T15:18:31.631Z"
   },
   {
    "duration": 315,
    "start_time": "2022-12-21T15:18:31.816Z"
   },
   {
    "duration": 414,
    "start_time": "2022-12-21T15:18:32.132Z"
   },
   {
    "duration": 340,
    "start_time": "2022-12-21T15:18:32.548Z"
   },
   {
    "duration": 11,
    "start_time": "2022-12-21T15:18:32.890Z"
   },
   {
    "duration": 20,
    "start_time": "2022-12-21T15:18:32.902Z"
   },
   {
    "duration": 202,
    "start_time": "2022-12-21T15:20:54.338Z"
   },
   {
    "duration": 8,
    "start_time": "2022-12-21T15:51:43.437Z"
   },
   {
    "duration": 10,
    "start_time": "2022-12-21T15:52:05.016Z"
   },
   {
    "duration": 89,
    "start_time": "2022-12-21T16:22:28.396Z"
   },
   {
    "duration": 251,
    "start_time": "2022-12-21T16:22:35.354Z"
   },
   {
    "duration": 222,
    "start_time": "2022-12-21T16:23:02.626Z"
   },
   {
    "duration": 217,
    "start_time": "2022-12-21T16:23:41.368Z"
   },
   {
    "duration": 97,
    "start_time": "2022-12-21T16:41:40.638Z"
   },
   {
    "duration": 162,
    "start_time": "2022-12-21T16:47:38.141Z"
   },
   {
    "duration": 122,
    "start_time": "2022-12-21T16:50:02.644Z"
   },
   {
    "duration": 570,
    "start_time": "2022-12-21T16:50:29.098Z"
   },
   {
    "duration": 608,
    "start_time": "2022-12-21T16:50:43.942Z"
   },
   {
    "duration": 84,
    "start_time": "2022-12-21T16:51:10.366Z"
   },
   {
    "duration": 519,
    "start_time": "2022-12-21T16:51:27.201Z"
   },
   {
    "duration": 513,
    "start_time": "2022-12-21T16:51:32.578Z"
   },
   {
    "duration": 536,
    "start_time": "2022-12-21T16:51:41.048Z"
   },
   {
    "duration": 469,
    "start_time": "2022-12-21T16:51:51.036Z"
   },
   {
    "duration": 512,
    "start_time": "2022-12-21T17:00:42.242Z"
   },
   {
    "duration": 87,
    "start_time": "2022-12-21T17:18:23.229Z"
   },
   {
    "duration": 288,
    "start_time": "2022-12-21T17:34:04.725Z"
   },
   {
    "duration": 155,
    "start_time": "2022-12-21T17:34:18.085Z"
   },
   {
    "duration": 11,
    "start_time": "2022-12-21T17:41:36.734Z"
   },
   {
    "duration": 4,
    "start_time": "2022-12-21T17:41:41.870Z"
   },
   {
    "duration": 888,
    "start_time": "2022-12-21T17:41:42.741Z"
   },
   {
    "duration": 836,
    "start_time": "2022-12-21T17:42:04.638Z"
   },
   {
    "duration": 879,
    "start_time": "2022-12-21T17:42:34.941Z"
   },
   {
    "duration": 5,
    "start_time": "2022-12-21T17:43:14.758Z"
   },
   {
    "duration": 168,
    "start_time": "2022-12-21T17:43:16.077Z"
   },
   {
    "duration": 131,
    "start_time": "2022-12-21T17:48:49.222Z"
   },
   {
    "duration": 145,
    "start_time": "2022-12-21T17:49:16.733Z"
   },
   {
    "duration": 10,
    "start_time": "2022-12-21T17:53:59.942Z"
   },
   {
    "duration": 4,
    "start_time": "2022-12-21T17:54:02.233Z"
   },
   {
    "duration": 163,
    "start_time": "2022-12-21T17:54:02.899Z"
   },
   {
    "duration": 149,
    "start_time": "2022-12-21T17:54:36.532Z"
   },
   {
    "duration": 156,
    "start_time": "2022-12-21T17:54:59.561Z"
   },
   {
    "duration": 22,
    "start_time": "2022-12-21T18:09:28.751Z"
   },
   {
    "duration": 493,
    "start_time": "2022-12-21T18:11:32.564Z"
   },
   {
    "duration": 602,
    "start_time": "2022-12-21T18:15:13.947Z"
   },
   {
    "duration": 483,
    "start_time": "2022-12-21T18:15:23.351Z"
   },
   {
    "duration": 500,
    "start_time": "2022-12-21T18:15:32.549Z"
   },
   {
    "duration": 496,
    "start_time": "2022-12-21T18:15:48.402Z"
   },
   {
    "duration": 457,
    "start_time": "2022-12-21T18:17:16.312Z"
   },
   {
    "duration": 512,
    "start_time": "2022-12-21T18:17:22.807Z"
   },
   {
    "duration": 1166,
    "start_time": "2022-12-21T18:31:04.298Z"
   },
   {
    "duration": 75,
    "start_time": "2022-12-21T18:31:05.465Z"
   },
   {
    "duration": 14,
    "start_time": "2022-12-21T18:31:05.541Z"
   },
   {
    "duration": 54,
    "start_time": "2022-12-21T18:31:05.557Z"
   },
   {
    "duration": 51,
    "start_time": "2022-12-21T18:31:05.613Z"
   },
   {
    "duration": 35,
    "start_time": "2022-12-21T18:31:05.666Z"
   },
   {
    "duration": 64,
    "start_time": "2022-12-21T18:31:05.702Z"
   },
   {
    "duration": 43,
    "start_time": "2022-12-21T18:31:05.767Z"
   },
   {
    "duration": 51,
    "start_time": "2022-12-21T18:31:05.812Z"
   },
   {
    "duration": 43,
    "start_time": "2022-12-21T18:31:05.867Z"
   },
   {
    "duration": 29,
    "start_time": "2022-12-21T18:31:05.912Z"
   },
   {
    "duration": 54,
    "start_time": "2022-12-21T18:31:05.943Z"
   },
   {
    "duration": 50,
    "start_time": "2022-12-21T18:31:05.998Z"
   },
   {
    "duration": 41,
    "start_time": "2022-12-21T18:31:06.050Z"
   },
   {
    "duration": 37,
    "start_time": "2022-12-21T18:31:06.092Z"
   },
   {
    "duration": 43,
    "start_time": "2022-12-21T18:31:06.131Z"
   },
   {
    "duration": 51,
    "start_time": "2022-12-21T18:31:06.175Z"
   },
   {
    "duration": 67,
    "start_time": "2022-12-21T18:31:06.228Z"
   },
   {
    "duration": 51,
    "start_time": "2022-12-21T18:31:06.296Z"
   },
   {
    "duration": 16,
    "start_time": "2022-12-21T18:31:06.348Z"
   },
   {
    "duration": 72,
    "start_time": "2022-12-21T18:31:06.365Z"
   },
   {
    "duration": 51,
    "start_time": "2022-12-21T18:31:06.438Z"
   },
   {
    "duration": 252,
    "start_time": "2022-12-21T18:31:06.490Z"
   },
   {
    "duration": 11,
    "start_time": "2022-12-21T18:31:06.744Z"
   },
   {
    "duration": 310,
    "start_time": "2022-12-21T18:31:06.757Z"
   },
   {
    "duration": 4,
    "start_time": "2022-12-21T18:31:07.069Z"
   },
   {
    "duration": 382,
    "start_time": "2022-12-21T18:31:07.078Z"
   },
   {
    "duration": 23,
    "start_time": "2022-12-21T18:31:07.463Z"
   },
   {
    "duration": 51,
    "start_time": "2022-12-21T18:31:07.488Z"
   },
   {
    "duration": 49,
    "start_time": "2022-12-21T18:31:07.540Z"
   },
   {
    "duration": 508,
    "start_time": "2022-12-21T18:31:07.590Z"
   },
   {
    "duration": 20,
    "start_time": "2022-12-21T18:31:08.099Z"
   },
   {
    "duration": 77,
    "start_time": "2022-12-21T18:31:08.121Z"
   },
   {
    "duration": 46,
    "start_time": "2022-12-21T18:31:08.199Z"
   },
   {
    "duration": 575,
    "start_time": "2022-12-21T18:31:08.247Z"
   },
   {
    "duration": 4,
    "start_time": "2022-12-21T18:31:08.824Z"
   },
   {
    "duration": 177,
    "start_time": "2022-12-21T18:31:08.830Z"
   },
   {
    "duration": 138,
    "start_time": "2022-12-21T18:31:09.008Z"
   },
   {
    "duration": 153,
    "start_time": "2022-12-21T18:31:09.148Z"
   },
   {
    "duration": 4,
    "start_time": "2022-12-21T18:31:09.303Z"
   },
   {
    "duration": 146,
    "start_time": "2022-12-21T18:31:09.308Z"
   },
   {
    "duration": 157,
    "start_time": "2022-12-21T18:31:09.456Z"
   },
   {
    "duration": 149,
    "start_time": "2022-12-21T18:31:09.614Z"
   },
   {
    "duration": 192,
    "start_time": "2022-12-21T18:31:09.765Z"
   },
   {
    "duration": 397,
    "start_time": "2022-12-21T18:31:09.958Z"
   },
   {
    "duration": 336,
    "start_time": "2022-12-21T18:31:10.357Z"
   },
   {
    "duration": 321,
    "start_time": "2022-12-21T18:31:10.694Z"
   },
   {
    "duration": 13,
    "start_time": "2022-12-21T18:31:11.017Z"
   },
   {
    "duration": 15,
    "start_time": "2022-12-21T18:31:11.032Z"
   }
  ],
  "kernelspec": {
   "display_name": "Python 3 (ipykernel)",
   "language": "python",
   "name": "python3"
  },
  "language_info": {
   "codemirror_mode": {
    "name": "ipython",
    "version": 3
   },
   "file_extension": ".py",
   "mimetype": "text/x-python",
   "name": "python",
   "nbconvert_exporter": "python",
   "pygments_lexer": "ipython3",
   "version": "3.10.9"
  },
  "toc": {
   "base_numbering": 1,
   "nav_menu": {},
   "number_sections": true,
   "sideBar": true,
   "skip_h1_title": true,
   "title_cell": "Table of Contents",
   "title_sidebar": "Contents",
   "toc_cell": false,
   "toc_position": {},
   "toc_section_display": true,
   "toc_window_display": false
  }
 },
 "nbformat": 4,
 "nbformat_minor": 2
}
