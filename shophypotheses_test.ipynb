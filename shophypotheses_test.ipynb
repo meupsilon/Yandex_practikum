{
 "cells": [
  {
   "cell_type": "markdown",
   "metadata": {},
   "source": [
    "# Приоритезация гипотез и анализ результатов А/В теста "
   ]
  },
  {
   "cell_type": "markdown",
   "metadata": {},
   "source": [
    "## Введение"
   ]
  },
  {
   "cell_type": "markdown",
   "metadata": {},
   "source": [
    "Цель - провести анализ данных от отдела маркетинга, запустить А/В тест и проанализировать его результаты, составить рекомендации."
   ]
  },
  {
   "cell_type": "markdown",
   "metadata": {},
   "source": [
    "План\n",
    "\n",
    "*Выгрузить и провести предобработку данных*\n",
    "\n",
    "\n",
    "*Провечти приоритезацию гипотез*\n",
    "- Использовать фреймворки ICE и RICE\n",
    "\n",
    "\n",
    "*Провести анализ A/B-теста*\n",
    "\n",
    "\n",
    "\n",
    "*Вывод*\n",
    "- Описать рекомендации"
   ]
  },
  {
   "cell_type": "markdown",
   "metadata": {},
   "source": [
    "## Выгрузка и предобработка данных"
   ]
  },
  {
   "cell_type": "markdown",
   "metadata": {},
   "source": [
    "### Выгрузка данных"
   ]
  },
  {
   "cell_type": "code",
   "execution_count": 1,
   "metadata": {},
   "outputs": [],
   "source": [
    "# выгружу необходимые библиотеки\n",
    "\n",
    "import pandas as pd\n",
    "import numpy as np\n",
    "import matplotlib.pyplot as plt\n",
    "import seaborn as sns\n",
    "import math\n",
    "import datetime as dt\n",
    "import scipy.stats as stats\n",
    "import warnings\n",
    "\n",
    "from scipy import stats as st"
   ]
  },
  {
   "cell_type": "code",
   "execution_count": 2,
   "metadata": {},
   "outputs": [],
   "source": [
    "pd.set_option('display.max_colwidth', False)"
   ]
  },
  {
   "cell_type": "code",
   "execution_count": 3,
   "metadata": {},
   "outputs": [],
   "source": [
    "hypothesis = pd.read_csv('/datasets/hypothesis.csv')\n",
    "orders = pd.read_csv('/datasets/orders.csv')\n",
    "visitors = pd.read_csv('/datasets/visitors.csv')\n",
    "\n",
    "\n"
   ]
  },
  {
   "cell_type": "code",
   "execution_count": 4,
   "metadata": {},
   "outputs": [
    {
     "data": {
      "text/html": [
       "<div>\n",
       "<style scoped>\n",
       "    .dataframe tbody tr th:only-of-type {\n",
       "        vertical-align: middle;\n",
       "    }\n",
       "\n",
       "    .dataframe tbody tr th {\n",
       "        vertical-align: top;\n",
       "    }\n",
       "\n",
       "    .dataframe thead th {\n",
       "        text-align: right;\n",
       "    }\n",
       "</style>\n",
       "<table border=\"1\" class=\"dataframe\">\n",
       "  <thead>\n",
       "    <tr style=\"text-align: right;\">\n",
       "      <th></th>\n",
       "      <th>Hypothesis</th>\n",
       "      <th>Reach</th>\n",
       "      <th>Impact</th>\n",
       "      <th>Confidence</th>\n",
       "      <th>Efforts</th>\n",
       "    </tr>\n",
       "  </thead>\n",
       "  <tbody>\n",
       "    <tr>\n",
       "      <th>0</th>\n",
       "      <td>Добавить два новых канала привлечения трафика, что позволит привлекать на 30% больше пользователей</td>\n",
       "      <td>3</td>\n",
       "      <td>10</td>\n",
       "      <td>8</td>\n",
       "      <td>6</td>\n",
       "    </tr>\n",
       "    <tr>\n",
       "      <th>1</th>\n",
       "      <td>Запустить собственную службу доставки, что сократит срок доставки заказов</td>\n",
       "      <td>2</td>\n",
       "      <td>5</td>\n",
       "      <td>4</td>\n",
       "      <td>10</td>\n",
       "    </tr>\n",
       "    <tr>\n",
       "      <th>2</th>\n",
       "      <td>Добавить блоки рекомендаций товаров на сайт интернет магазина, чтобы повысить конверсию и средний чек заказа</td>\n",
       "      <td>8</td>\n",
       "      <td>3</td>\n",
       "      <td>7</td>\n",
       "      <td>3</td>\n",
       "    </tr>\n",
       "    <tr>\n",
       "      <th>3</th>\n",
       "      <td>Изменить структура категорий, что увеличит конверсию, т.к. пользователи быстрее найдут нужный товар</td>\n",
       "      <td>8</td>\n",
       "      <td>3</td>\n",
       "      <td>3</td>\n",
       "      <td>8</td>\n",
       "    </tr>\n",
       "    <tr>\n",
       "      <th>4</th>\n",
       "      <td>Изменить цвет фона главной страницы, чтобы увеличить вовлеченность пользователей</td>\n",
       "      <td>3</td>\n",
       "      <td>1</td>\n",
       "      <td>1</td>\n",
       "      <td>1</td>\n",
       "    </tr>\n",
       "    <tr>\n",
       "      <th>5</th>\n",
       "      <td>Добавить страницу отзывов клиентов о магазине, что позволит увеличить количество заказов</td>\n",
       "      <td>3</td>\n",
       "      <td>2</td>\n",
       "      <td>2</td>\n",
       "      <td>3</td>\n",
       "    </tr>\n",
       "    <tr>\n",
       "      <th>6</th>\n",
       "      <td>Показать на главной странице баннеры с актуальными акциями и распродажами, чтобы увеличить конверсию</td>\n",
       "      <td>5</td>\n",
       "      <td>3</td>\n",
       "      <td>8</td>\n",
       "      <td>3</td>\n",
       "    </tr>\n",
       "    <tr>\n",
       "      <th>7</th>\n",
       "      <td>Добавить форму подписки на все основные страницы, чтобы собрать базу клиентов для email-рассылок</td>\n",
       "      <td>10</td>\n",
       "      <td>7</td>\n",
       "      <td>8</td>\n",
       "      <td>5</td>\n",
       "    </tr>\n",
       "    <tr>\n",
       "      <th>8</th>\n",
       "      <td>Запустить акцию, дающую скидку на товар в день рождения</td>\n",
       "      <td>1</td>\n",
       "      <td>9</td>\n",
       "      <td>9</td>\n",
       "      <td>5</td>\n",
       "    </tr>\n",
       "  </tbody>\n",
       "</table>\n",
       "</div>"
      ],
      "text/plain": [
       "                                                                                                     Hypothesis  \\\n",
       "0  Добавить два новых канала привлечения трафика, что позволит привлекать на 30% больше пользователей             \n",
       "1  Запустить собственную службу доставки, что сократит срок доставки заказов                                      \n",
       "2  Добавить блоки рекомендаций товаров на сайт интернет магазина, чтобы повысить конверсию и средний чек заказа   \n",
       "3  Изменить структура категорий, что увеличит конверсию, т.к. пользователи быстрее найдут нужный товар            \n",
       "4  Изменить цвет фона главной страницы, чтобы увеличить вовлеченность пользователей                               \n",
       "5  Добавить страницу отзывов клиентов о магазине, что позволит увеличить количество заказов                       \n",
       "6  Показать на главной странице баннеры с актуальными акциями и распродажами, чтобы увеличить конверсию           \n",
       "7  Добавить форму подписки на все основные страницы, чтобы собрать базу клиентов для email-рассылок               \n",
       "8  Запустить акцию, дающую скидку на товар в день рождения                                                        \n",
       "\n",
       "   Reach  Impact  Confidence  Efforts  \n",
       "0  3      10      8           6        \n",
       "1  2      5       4           10       \n",
       "2  8      3       7           3        \n",
       "3  8      3       3           8        \n",
       "4  3      1       1           1        \n",
       "5  3      2       2           3        \n",
       "6  5      3       8           3        \n",
       "7  10     7       8           5        \n",
       "8  1      9       9           5        "
      ]
     },
     "execution_count": 4,
     "metadata": {},
     "output_type": "execute_result"
    }
   ],
   "source": [
    "hypothesis"
   ]
  },
  {
   "cell_type": "code",
   "execution_count": 5,
   "metadata": {},
   "outputs": [
    {
     "data": {
      "text/html": [
       "<div>\n",
       "<style scoped>\n",
       "    .dataframe tbody tr th:only-of-type {\n",
       "        vertical-align: middle;\n",
       "    }\n",
       "\n",
       "    .dataframe tbody tr th {\n",
       "        vertical-align: top;\n",
       "    }\n",
       "\n",
       "    .dataframe thead th {\n",
       "        text-align: right;\n",
       "    }\n",
       "</style>\n",
       "<table border=\"1\" class=\"dataframe\">\n",
       "  <thead>\n",
       "    <tr style=\"text-align: right;\">\n",
       "      <th></th>\n",
       "      <th>transactionId</th>\n",
       "      <th>visitorId</th>\n",
       "      <th>date</th>\n",
       "      <th>revenue</th>\n",
       "      <th>group</th>\n",
       "    </tr>\n",
       "  </thead>\n",
       "  <tbody>\n",
       "    <tr>\n",
       "      <th>0</th>\n",
       "      <td>3667963787</td>\n",
       "      <td>3312258926</td>\n",
       "      <td>2019-08-15</td>\n",
       "      <td>1650</td>\n",
       "      <td>B</td>\n",
       "    </tr>\n",
       "    <tr>\n",
       "      <th>1</th>\n",
       "      <td>2804400009</td>\n",
       "      <td>3642806036</td>\n",
       "      <td>2019-08-15</td>\n",
       "      <td>730</td>\n",
       "      <td>B</td>\n",
       "    </tr>\n",
       "    <tr>\n",
       "      <th>2</th>\n",
       "      <td>2961555356</td>\n",
       "      <td>4069496402</td>\n",
       "      <td>2019-08-15</td>\n",
       "      <td>400</td>\n",
       "      <td>A</td>\n",
       "    </tr>\n",
       "    <tr>\n",
       "      <th>3</th>\n",
       "      <td>3797467345</td>\n",
       "      <td>1196621759</td>\n",
       "      <td>2019-08-15</td>\n",
       "      <td>9759</td>\n",
       "      <td>B</td>\n",
       "    </tr>\n",
       "    <tr>\n",
       "      <th>4</th>\n",
       "      <td>2282983706</td>\n",
       "      <td>2322279887</td>\n",
       "      <td>2019-08-15</td>\n",
       "      <td>2308</td>\n",
       "      <td>B</td>\n",
       "    </tr>\n",
       "    <tr>\n",
       "      <th>...</th>\n",
       "      <td>...</td>\n",
       "      <td>...</td>\n",
       "      <td>...</td>\n",
       "      <td>...</td>\n",
       "      <td>...</td>\n",
       "    </tr>\n",
       "    <tr>\n",
       "      <th>1192</th>\n",
       "      <td>2662137336</td>\n",
       "      <td>3733762160</td>\n",
       "      <td>2019-08-14</td>\n",
       "      <td>6490</td>\n",
       "      <td>B</td>\n",
       "    </tr>\n",
       "    <tr>\n",
       "      <th>1193</th>\n",
       "      <td>2203539145</td>\n",
       "      <td>370388673</td>\n",
       "      <td>2019-08-14</td>\n",
       "      <td>3190</td>\n",
       "      <td>A</td>\n",
       "    </tr>\n",
       "    <tr>\n",
       "      <th>1194</th>\n",
       "      <td>1807773912</td>\n",
       "      <td>573423106</td>\n",
       "      <td>2019-08-14</td>\n",
       "      <td>10550</td>\n",
       "      <td>A</td>\n",
       "    </tr>\n",
       "    <tr>\n",
       "      <th>1195</th>\n",
       "      <td>1947021204</td>\n",
       "      <td>1614305549</td>\n",
       "      <td>2019-08-14</td>\n",
       "      <td>100</td>\n",
       "      <td>A</td>\n",
       "    </tr>\n",
       "    <tr>\n",
       "      <th>1196</th>\n",
       "      <td>3936777065</td>\n",
       "      <td>2108080724</td>\n",
       "      <td>2019-08-15</td>\n",
       "      <td>202740</td>\n",
       "      <td>B</td>\n",
       "    </tr>\n",
       "  </tbody>\n",
       "</table>\n",
       "<p>1197 rows × 5 columns</p>\n",
       "</div>"
      ],
      "text/plain": [
       "      transactionId   visitorId        date  revenue group\n",
       "0     3667963787     3312258926  2019-08-15  1650     B   \n",
       "1     2804400009     3642806036  2019-08-15  730      B   \n",
       "2     2961555356     4069496402  2019-08-15  400      A   \n",
       "3     3797467345     1196621759  2019-08-15  9759     B   \n",
       "4     2282983706     2322279887  2019-08-15  2308     B   \n",
       "...          ...            ...         ...   ...    ..   \n",
       "1192  2662137336     3733762160  2019-08-14  6490     B   \n",
       "1193  2203539145     370388673   2019-08-14  3190     A   \n",
       "1194  1807773912     573423106   2019-08-14  10550    A   \n",
       "1195  1947021204     1614305549  2019-08-14  100      A   \n",
       "1196  3936777065     2108080724  2019-08-15  202740   B   \n",
       "\n",
       "[1197 rows x 5 columns]"
      ]
     },
     "execution_count": 5,
     "metadata": {},
     "output_type": "execute_result"
    }
   ],
   "source": [
    "orders"
   ]
  },
  {
   "cell_type": "code",
   "execution_count": 6,
   "metadata": {},
   "outputs": [
    {
     "data": {
      "text/html": [
       "<div>\n",
       "<style scoped>\n",
       "    .dataframe tbody tr th:only-of-type {\n",
       "        vertical-align: middle;\n",
       "    }\n",
       "\n",
       "    .dataframe tbody tr th {\n",
       "        vertical-align: top;\n",
       "    }\n",
       "\n",
       "    .dataframe thead th {\n",
       "        text-align: right;\n",
       "    }\n",
       "</style>\n",
       "<table border=\"1\" class=\"dataframe\">\n",
       "  <thead>\n",
       "    <tr style=\"text-align: right;\">\n",
       "      <th></th>\n",
       "      <th>date</th>\n",
       "      <th>group</th>\n",
       "      <th>visitors</th>\n",
       "    </tr>\n",
       "  </thead>\n",
       "  <tbody>\n",
       "    <tr>\n",
       "      <th>0</th>\n",
       "      <td>2019-08-01</td>\n",
       "      <td>A</td>\n",
       "      <td>719</td>\n",
       "    </tr>\n",
       "    <tr>\n",
       "      <th>1</th>\n",
       "      <td>2019-08-02</td>\n",
       "      <td>A</td>\n",
       "      <td>619</td>\n",
       "    </tr>\n",
       "    <tr>\n",
       "      <th>2</th>\n",
       "      <td>2019-08-03</td>\n",
       "      <td>A</td>\n",
       "      <td>507</td>\n",
       "    </tr>\n",
       "    <tr>\n",
       "      <th>3</th>\n",
       "      <td>2019-08-04</td>\n",
       "      <td>A</td>\n",
       "      <td>717</td>\n",
       "    </tr>\n",
       "    <tr>\n",
       "      <th>4</th>\n",
       "      <td>2019-08-05</td>\n",
       "      <td>A</td>\n",
       "      <td>756</td>\n",
       "    </tr>\n",
       "    <tr>\n",
       "      <th>...</th>\n",
       "      <td>...</td>\n",
       "      <td>...</td>\n",
       "      <td>...</td>\n",
       "    </tr>\n",
       "    <tr>\n",
       "      <th>57</th>\n",
       "      <td>2019-08-27</td>\n",
       "      <td>B</td>\n",
       "      <td>720</td>\n",
       "    </tr>\n",
       "    <tr>\n",
       "      <th>58</th>\n",
       "      <td>2019-08-28</td>\n",
       "      <td>B</td>\n",
       "      <td>654</td>\n",
       "    </tr>\n",
       "    <tr>\n",
       "      <th>59</th>\n",
       "      <td>2019-08-29</td>\n",
       "      <td>B</td>\n",
       "      <td>531</td>\n",
       "    </tr>\n",
       "    <tr>\n",
       "      <th>60</th>\n",
       "      <td>2019-08-30</td>\n",
       "      <td>B</td>\n",
       "      <td>490</td>\n",
       "    </tr>\n",
       "    <tr>\n",
       "      <th>61</th>\n",
       "      <td>2019-08-31</td>\n",
       "      <td>B</td>\n",
       "      <td>718</td>\n",
       "    </tr>\n",
       "  </tbody>\n",
       "</table>\n",
       "<p>62 rows × 3 columns</p>\n",
       "</div>"
      ],
      "text/plain": [
       "          date group  visitors\n",
       "0   2019-08-01  A     719     \n",
       "1   2019-08-02  A     619     \n",
       "2   2019-08-03  A     507     \n",
       "3   2019-08-04  A     717     \n",
       "4   2019-08-05  A     756     \n",
       "..         ... ..     ...     \n",
       "57  2019-08-27  B     720     \n",
       "58  2019-08-28  B     654     \n",
       "59  2019-08-29  B     531     \n",
       "60  2019-08-30  B     490     \n",
       "61  2019-08-31  B     718     \n",
       "\n",
       "[62 rows x 3 columns]"
      ]
     },
     "execution_count": 6,
     "metadata": {},
     "output_type": "execute_result"
    }
   ],
   "source": [
    "visitors"
   ]
  },
  {
   "cell_type": "markdown",
   "metadata": {},
   "source": [
    "### Обзор  данных"
   ]
  },
  {
   "cell_type": "code",
   "execution_count": 7,
   "metadata": {
    "scrolled": true
   },
   "outputs": [
    {
     "name": "stdout",
     "output_type": "stream",
     "text": [
      "<class 'pandas.core.frame.DataFrame'>\n",
      "RangeIndex: 9 entries, 0 to 8\n",
      "Data columns (total 5 columns):\n",
      " #   Column      Non-Null Count  Dtype \n",
      "---  ------      --------------  ----- \n",
      " 0   Hypothesis  9 non-null      object\n",
      " 1   Reach       9 non-null      int64 \n",
      " 2   Impact      9 non-null      int64 \n",
      " 3   Confidence  9 non-null      int64 \n",
      " 4   Efforts     9 non-null      int64 \n",
      "dtypes: int64(4), object(1)\n",
      "memory usage: 488.0+ bytes\n",
      "<class 'pandas.core.frame.DataFrame'>\n",
      "RangeIndex: 1197 entries, 0 to 1196\n",
      "Data columns (total 5 columns):\n",
      " #   Column         Non-Null Count  Dtype \n",
      "---  ------         --------------  ----- \n",
      " 0   transactionId  1197 non-null   int64 \n",
      " 1   visitorId      1197 non-null   int64 \n",
      " 2   date           1197 non-null   object\n",
      " 3   revenue        1197 non-null   int64 \n",
      " 4   group          1197 non-null   object\n",
      "dtypes: int64(3), object(2)\n",
      "memory usage: 46.9+ KB\n",
      "<class 'pandas.core.frame.DataFrame'>\n",
      "RangeIndex: 62 entries, 0 to 61\n",
      "Data columns (total 3 columns):\n",
      " #   Column    Non-Null Count  Dtype \n",
      "---  ------    --------------  ----- \n",
      " 0   date      62 non-null     object\n",
      " 1   group     62 non-null     object\n",
      " 2   visitors  62 non-null     int64 \n",
      "dtypes: int64(1), object(2)\n",
      "memory usage: 1.6+ KB\n"
     ]
    }
   ],
   "source": [
    "hypothesis.info() #изучу общую информацю hypothesis\n",
    "\n",
    "orders.info() #изучу общую информацю orders\n",
    "\n",
    "visitors.info() #изучу общую информацю visitors"
   ]
  },
  {
   "cell_type": "code",
   "execution_count": 8,
   "metadata": {},
   "outputs": [
    {
     "name": "stdout",
     "output_type": "stream",
     "text": [
      "Дубликаты 0\n",
      "Пропуски Hypothesis    0\n",
      "Reach         0\n",
      "Impact        0\n",
      "Confidence    0\n",
      "Efforts       0\n",
      "dtype: int64\n"
     ]
    }
   ],
   "source": [
    "#проверю на дубликаты hypothesis\n",
    "print('Дубликаты', hypothesis.duplicated().sum())\n",
    "print('Пропуски', hypothesis.isna().sum())\n",
    "\n"
   ]
  },
  {
   "cell_type": "code",
   "execution_count": 9,
   "metadata": {},
   "outputs": [
    {
     "name": "stdout",
     "output_type": "stream",
     "text": [
      "Дубликаты 0\n",
      "Пропуски transactionId    0\n",
      "visitorId        0\n",
      "date             0\n",
      "revenue          0\n",
      "group            0\n",
      "dtype: int64\n"
     ]
    }
   ],
   "source": [
    "#проверю на дубликаты и пропуски orders\n",
    "print('Дубликаты', orders.duplicated().sum())\n",
    "print('Пропуски', orders.isna().sum())"
   ]
  },
  {
   "cell_type": "code",
   "execution_count": 10,
   "metadata": {},
   "outputs": [
    {
     "name": "stdout",
     "output_type": "stream",
     "text": [
      "Дубликаты 0\n",
      "Пропуски date        0\n",
      "group       0\n",
      "visitors    0\n",
      "dtype: int64\n"
     ]
    }
   ],
   "source": [
    "#проверю на дубликаты и пропуски visitors\n",
    "print('Дубликаты', visitors.duplicated().sum())\n",
    "print('Пропуски', visitors.isna().sum())"
   ]
  },
  {
   "cell_type": "markdown",
   "metadata": {},
   "source": [
    "Пропусков и дубликатов в данных нет. "
   ]
  },
  {
   "cell_type": "markdown",
   "metadata": {},
   "source": [
    "### Предобработка данных"
   ]
  },
  {
   "cell_type": "markdown",
   "metadata": {},
   "source": [
    "#### Предобработка hypothesis"
   ]
  },
  {
   "cell_type": "code",
   "execution_count": 11,
   "metadata": {
    "scrolled": true
   },
   "outputs": [
    {
     "data": {
      "text/html": [
       "<div>\n",
       "<style scoped>\n",
       "    .dataframe tbody tr th:only-of-type {\n",
       "        vertical-align: middle;\n",
       "    }\n",
       "\n",
       "    .dataframe tbody tr th {\n",
       "        vertical-align: top;\n",
       "    }\n",
       "\n",
       "    .dataframe thead th {\n",
       "        text-align: right;\n",
       "    }\n",
       "</style>\n",
       "<table border=\"1\" class=\"dataframe\">\n",
       "  <thead>\n",
       "    <tr style=\"text-align: right;\">\n",
       "      <th></th>\n",
       "      <th>hypothesis</th>\n",
       "      <th>reach</th>\n",
       "      <th>impact</th>\n",
       "      <th>confidence</th>\n",
       "      <th>efforts</th>\n",
       "    </tr>\n",
       "  </thead>\n",
       "  <tbody>\n",
       "    <tr>\n",
       "      <th>0</th>\n",
       "      <td>Добавить два новых канала привлечения трафика, что позволит привлекать на 30% больше пользователей</td>\n",
       "      <td>3</td>\n",
       "      <td>10</td>\n",
       "      <td>8</td>\n",
       "      <td>6</td>\n",
       "    </tr>\n",
       "    <tr>\n",
       "      <th>1</th>\n",
       "      <td>Запустить собственную службу доставки, что сократит срок доставки заказов</td>\n",
       "      <td>2</td>\n",
       "      <td>5</td>\n",
       "      <td>4</td>\n",
       "      <td>10</td>\n",
       "    </tr>\n",
       "    <tr>\n",
       "      <th>2</th>\n",
       "      <td>Добавить блоки рекомендаций товаров на сайт интернет магазина, чтобы повысить конверсию и средний чек заказа</td>\n",
       "      <td>8</td>\n",
       "      <td>3</td>\n",
       "      <td>7</td>\n",
       "      <td>3</td>\n",
       "    </tr>\n",
       "    <tr>\n",
       "      <th>3</th>\n",
       "      <td>Изменить структура категорий, что увеличит конверсию, т.к. пользователи быстрее найдут нужный товар</td>\n",
       "      <td>8</td>\n",
       "      <td>3</td>\n",
       "      <td>3</td>\n",
       "      <td>8</td>\n",
       "    </tr>\n",
       "    <tr>\n",
       "      <th>4</th>\n",
       "      <td>Изменить цвет фона главной страницы, чтобы увеличить вовлеченность пользователей</td>\n",
       "      <td>3</td>\n",
       "      <td>1</td>\n",
       "      <td>1</td>\n",
       "      <td>1</td>\n",
       "    </tr>\n",
       "  </tbody>\n",
       "</table>\n",
       "</div>"
      ],
      "text/plain": [
       "                                                                                                     hypothesis  \\\n",
       "0  Добавить два новых канала привлечения трафика, что позволит привлекать на 30% больше пользователей             \n",
       "1  Запустить собственную службу доставки, что сократит срок доставки заказов                                      \n",
       "2  Добавить блоки рекомендаций товаров на сайт интернет магазина, чтобы повысить конверсию и средний чек заказа   \n",
       "3  Изменить структура категорий, что увеличит конверсию, т.к. пользователи быстрее найдут нужный товар            \n",
       "4  Изменить цвет фона главной страницы, чтобы увеличить вовлеченность пользователей                               \n",
       "\n",
       "   reach  impact  confidence  efforts  \n",
       "0  3      10      8           6        \n",
       "1  2      5       4           10       \n",
       "2  8      3       7           3        \n",
       "3  8      3       3           8        \n",
       "4  3      1       1           1        "
      ]
     },
     "execution_count": 11,
     "metadata": {},
     "output_type": "execute_result"
    }
   ],
   "source": [
    "#приведу названия стобцов hypothesis к нижнему регистру\n",
    "hypothesis.columns = hypothesis.columns.str.lower()\n",
    "hypothesis.head()"
   ]
  },
  {
   "cell_type": "markdown",
   "metadata": {},
   "source": [
    "#### Предобработка orders"
   ]
  },
  {
   "cell_type": "code",
   "execution_count": 12,
   "metadata": {},
   "outputs": [
    {
     "data": {
      "text/plain": [
       "['transactionId', 'visitorId', 'date', 'revenue', 'group']"
      ]
     },
     "execution_count": 12,
     "metadata": {},
     "output_type": "execute_result"
    }
   ],
   "source": [
    "orders.columns.to_list()"
   ]
  },
  {
   "cell_type": "code",
   "execution_count": 13,
   "metadata": {},
   "outputs": [
    {
     "data": {
      "text/html": [
       "<div>\n",
       "<style scoped>\n",
       "    .dataframe tbody tr th:only-of-type {\n",
       "        vertical-align: middle;\n",
       "    }\n",
       "\n",
       "    .dataframe tbody tr th {\n",
       "        vertical-align: top;\n",
       "    }\n",
       "\n",
       "    .dataframe thead th {\n",
       "        text-align: right;\n",
       "    }\n",
       "</style>\n",
       "<table border=\"1\" class=\"dataframe\">\n",
       "  <thead>\n",
       "    <tr style=\"text-align: right;\">\n",
       "      <th></th>\n",
       "      <th>transaction_id</th>\n",
       "      <th>visitor_id</th>\n",
       "      <th>date</th>\n",
       "      <th>revenue</th>\n",
       "      <th>group</th>\n",
       "    </tr>\n",
       "  </thead>\n",
       "  <tbody>\n",
       "    <tr>\n",
       "      <th>0</th>\n",
       "      <td>3667963787</td>\n",
       "      <td>3312258926</td>\n",
       "      <td>2019-08-15</td>\n",
       "      <td>1650</td>\n",
       "      <td>B</td>\n",
       "    </tr>\n",
       "    <tr>\n",
       "      <th>1</th>\n",
       "      <td>2804400009</td>\n",
       "      <td>3642806036</td>\n",
       "      <td>2019-08-15</td>\n",
       "      <td>730</td>\n",
       "      <td>B</td>\n",
       "    </tr>\n",
       "    <tr>\n",
       "      <th>2</th>\n",
       "      <td>2961555356</td>\n",
       "      <td>4069496402</td>\n",
       "      <td>2019-08-15</td>\n",
       "      <td>400</td>\n",
       "      <td>A</td>\n",
       "    </tr>\n",
       "    <tr>\n",
       "      <th>3</th>\n",
       "      <td>3797467345</td>\n",
       "      <td>1196621759</td>\n",
       "      <td>2019-08-15</td>\n",
       "      <td>9759</td>\n",
       "      <td>B</td>\n",
       "    </tr>\n",
       "    <tr>\n",
       "      <th>4</th>\n",
       "      <td>2282983706</td>\n",
       "      <td>2322279887</td>\n",
       "      <td>2019-08-15</td>\n",
       "      <td>2308</td>\n",
       "      <td>B</td>\n",
       "    </tr>\n",
       "  </tbody>\n",
       "</table>\n",
       "</div>"
      ],
      "text/plain": [
       "   transaction_id  visitor_id        date  revenue group\n",
       "0  3667963787      3312258926  2019-08-15  1650     B   \n",
       "1  2804400009      3642806036  2019-08-15  730      B   \n",
       "2  2961555356      4069496402  2019-08-15  400      A   \n",
       "3  3797467345      1196621759  2019-08-15  9759     B   \n",
       "4  2282983706      2322279887  2019-08-15  2308     B   "
      ]
     },
     "execution_count": 13,
     "metadata": {},
     "output_type": "execute_result"
    }
   ],
   "source": [
    "#изменю названия стобцов orders\n",
    "orders.columns = ['transaction_id', 'visitor_id', 'date', 'revenue', 'group']\n",
    "orders.head()"
   ]
  },
  {
   "cell_type": "code",
   "execution_count": 14,
   "metadata": {},
   "outputs": [],
   "source": [
    "# изменю тип данных для столбцов, которые содержат даты\n",
    "orders['date'] = pd.to_datetime(orders['date'])"
   ]
  },
  {
   "cell_type": "code",
   "execution_count": 15,
   "metadata": {},
   "outputs": [
    {
     "name": "stdout",
     "output_type": "stream",
     "text": [
      "<class 'pandas.core.frame.DataFrame'>\n",
      "RangeIndex: 1197 entries, 0 to 1196\n",
      "Data columns (total 5 columns):\n",
      " #   Column          Non-Null Count  Dtype         \n",
      "---  ------          --------------  -----         \n",
      " 0   transaction_id  1197 non-null   int64         \n",
      " 1   visitor_id      1197 non-null   int64         \n",
      " 2   date            1197 non-null   datetime64[ns]\n",
      " 3   revenue         1197 non-null   int64         \n",
      " 4   group           1197 non-null   object        \n",
      "dtypes: datetime64[ns](1), int64(3), object(1)\n",
      "memory usage: 46.9+ KB\n"
     ]
    }
   ],
   "source": [
    "orders.info()"
   ]
  },
  {
   "cell_type": "markdown",
   "metadata": {},
   "source": [
    "#### Предобработка  visitors"
   ]
  },
  {
   "cell_type": "code",
   "execution_count": 16,
   "metadata": {},
   "outputs": [],
   "source": [
    "# изменю тип данных для столбцов, которые содержат даты\n",
    "visitors['date'] = pd.to_datetime(visitors['date'])\n"
   ]
  },
  {
   "cell_type": "code",
   "execution_count": 17,
   "metadata": {},
   "outputs": [
    {
     "name": "stdout",
     "output_type": "stream",
     "text": [
      "<class 'pandas.core.frame.DataFrame'>\n",
      "RangeIndex: 62 entries, 0 to 61\n",
      "Data columns (total 3 columns):\n",
      " #   Column    Non-Null Count  Dtype         \n",
      "---  ------    --------------  -----         \n",
      " 0   date      62 non-null     datetime64[ns]\n",
      " 1   group     62 non-null     object        \n",
      " 2   visitors  62 non-null     int64         \n",
      "dtypes: datetime64[ns](1), int64(1), object(1)\n",
      "memory usage: 1.6+ KB\n"
     ]
    }
   ],
   "source": [
    "visitors.info()"
   ]
  },
  {
   "cell_type": "markdown",
   "metadata": {},
   "source": [
    "Провела предобработку данных:\n",
    "- привела названия столбцов к \"хорошему тону\"\n",
    "- изменила типы данных в стобцах с датами"
   ]
  },
  {
   "cell_type": "code",
   "execution_count": 18,
   "metadata": {},
   "outputs": [
    {
     "name": "stdout",
     "output_type": "stream",
     "text": [
      "начало теста 2019-08-01 00:00:00\n",
      "конец теста 2019-08-31 00:00:00\n"
     ]
    }
   ],
   "source": [
    "#дата начала и конца теста\n",
    "print('начало теста', min(orders['date']))\n",
    "print('конец теста', max(orders['date']))"
   ]
  },
  {
   "cell_type": "code",
   "execution_count": 19,
   "metadata": {},
   "outputs": [
    {
     "name": "stdout",
     "output_type": "stream",
     "text": [
      "['B' 'A']\n"
     ]
    }
   ],
   "source": [
    "#посомтрю, какие группы есть в тесте\n",
    "groupss = orders['group'].unique()\n",
    "print(groupss)\n"
   ]
  },
  {
   "cell_type": "code",
   "execution_count": 20,
   "metadata": {},
   "outputs": [
    {
     "name": "stdout",
     "output_type": "stream",
     "text": [
      "Количество посетителей в группе А: 18736\n",
      "Количество посетителей в группе В: 18916\n",
      "Отличие между кол-вом посетителей в групах 0.95 %\n"
     ]
    }
   ],
   "source": [
    "#посмотрю, сколько юзеров в каждой группе\n",
    "visitors_a = visitors.query('group == \"A\"')['visitors'].sum()\n",
    "visitors_b = visitors.query('group == \"B\"')['visitors'].sum()\n",
    "\n",
    "group_dif = ((abs(1-(visitors_a/visitors_b)))*100).round(2)\n",
    "print('Количество посетителей в группе А:', visitors_a)\n",
    "print('Количество посетителей в группе В:', visitors_b)\n",
    "print(f'Отличие между кол-вом посетителей в групах {group_dif} %')\n"
   ]
  },
  {
   "cell_type": "markdown",
   "metadata": {},
   "source": [
    "Группа А отличается от группы B менее чем на прцент."
   ]
  },
  {
   "cell_type": "code",
   "execution_count": 21,
   "metadata": {},
   "outputs": [
    {
     "name": "stdout",
     "output_type": "stream",
     "text": [
      "58\n"
     ]
    }
   ],
   "source": [
    "#поищу одних и тех же юзеров в разных группах\n",
    "\n",
    "users_a = orders[orders.group == 'A']['visitor_id'].unique()\n",
    "users_b = orders[orders.group == 'B']['visitor_id'].unique()\n",
    "how_m_users = list(set(users_a)&set(users_b))\n",
    "print(len(how_m_users))"
   ]
  },
  {
   "cell_type": "markdown",
   "metadata": {},
   "source": [
    "Обнаружилось 58 юзеров, которые оказались в двух группах теста одновременно. Возможно изначально некорректно был настроен траффик или какие-то еще процессы. Тест проведен некорректно.\n",
    "\n",
    "В данном тесте я не буду исключать этих пользователей, так как скорее всего они зацепили и таблицу visitors, а в ней нет id и я их не найду и не смогу удалить. \n",
    "\n",
    "Если говорить о цифрах, то 58 пользователей составляют менее 0,5% и не должны повлиятт на дальнейшийанализ"
   ]
  },
  {
   "cell_type": "markdown",
   "metadata": {},
   "source": [
    "## Приоритезация гипотез"
   ]
  },
  {
   "cell_type": "markdown",
   "metadata": {},
   "source": [
    "Приоритезирую гипотезы, которые предоставил отдел маркетинга с помощью фреймворка ICE. Отсортирую по убыванию приоритета"
   ]
  },
  {
   "cell_type": "code",
   "execution_count": 22,
   "metadata": {},
   "outputs": [
    {
     "data": {
      "text/html": [
       "<div>\n",
       "<style scoped>\n",
       "    .dataframe tbody tr th:only-of-type {\n",
       "        vertical-align: middle;\n",
       "    }\n",
       "\n",
       "    .dataframe tbody tr th {\n",
       "        vertical-align: top;\n",
       "    }\n",
       "\n",
       "    .dataframe thead th {\n",
       "        text-align: right;\n",
       "    }\n",
       "</style>\n",
       "<table border=\"1\" class=\"dataframe\">\n",
       "  <thead>\n",
       "    <tr style=\"text-align: right;\">\n",
       "      <th></th>\n",
       "      <th>hypothesis</th>\n",
       "      <th>ice</th>\n",
       "    </tr>\n",
       "  </thead>\n",
       "  <tbody>\n",
       "    <tr>\n",
       "      <th>8</th>\n",
       "      <td>Запустить акцию, дающую скидку на товар в день рождения</td>\n",
       "      <td>16.200000</td>\n",
       "    </tr>\n",
       "    <tr>\n",
       "      <th>0</th>\n",
       "      <td>Добавить два новых канала привлечения трафика, что позволит привлекать на 30% больше пользователей</td>\n",
       "      <td>13.333333</td>\n",
       "    </tr>\n",
       "    <tr>\n",
       "      <th>7</th>\n",
       "      <td>Добавить форму подписки на все основные страницы, чтобы собрать базу клиентов для email-рассылок</td>\n",
       "      <td>11.200000</td>\n",
       "    </tr>\n",
       "    <tr>\n",
       "      <th>6</th>\n",
       "      <td>Показать на главной странице баннеры с актуальными акциями и распродажами, чтобы увеличить конверсию</td>\n",
       "      <td>8.000000</td>\n",
       "    </tr>\n",
       "    <tr>\n",
       "      <th>2</th>\n",
       "      <td>Добавить блоки рекомендаций товаров на сайт интернет магазина, чтобы повысить конверсию и средний чек заказа</td>\n",
       "      <td>7.000000</td>\n",
       "    </tr>\n",
       "    <tr>\n",
       "      <th>1</th>\n",
       "      <td>Запустить собственную службу доставки, что сократит срок доставки заказов</td>\n",
       "      <td>2.000000</td>\n",
       "    </tr>\n",
       "    <tr>\n",
       "      <th>5</th>\n",
       "      <td>Добавить страницу отзывов клиентов о магазине, что позволит увеличить количество заказов</td>\n",
       "      <td>1.333333</td>\n",
       "    </tr>\n",
       "    <tr>\n",
       "      <th>3</th>\n",
       "      <td>Изменить структура категорий, что увеличит конверсию, т.к. пользователи быстрее найдут нужный товар</td>\n",
       "      <td>1.125000</td>\n",
       "    </tr>\n",
       "    <tr>\n",
       "      <th>4</th>\n",
       "      <td>Изменить цвет фона главной страницы, чтобы увеличить вовлеченность пользователей</td>\n",
       "      <td>1.000000</td>\n",
       "    </tr>\n",
       "  </tbody>\n",
       "</table>\n",
       "</div>"
      ],
      "text/plain": [
       "                                                                                                     hypothesis  \\\n",
       "8  Запустить акцию, дающую скидку на товар в день рождения                                                        \n",
       "0  Добавить два новых канала привлечения трафика, что позволит привлекать на 30% больше пользователей             \n",
       "7  Добавить форму подписки на все основные страницы, чтобы собрать базу клиентов для email-рассылок               \n",
       "6  Показать на главной странице баннеры с актуальными акциями и распродажами, чтобы увеличить конверсию           \n",
       "2  Добавить блоки рекомендаций товаров на сайт интернет магазина, чтобы повысить конверсию и средний чек заказа   \n",
       "1  Запустить собственную службу доставки, что сократит срок доставки заказов                                      \n",
       "5  Добавить страницу отзывов клиентов о магазине, что позволит увеличить количество заказов                       \n",
       "3  Изменить структура категорий, что увеличит конверсию, т.к. пользователи быстрее найдут нужный товар            \n",
       "4  Изменить цвет фона главной страницы, чтобы увеличить вовлеченность пользователей                               \n",
       "\n",
       "         ice  \n",
       "8  16.200000  \n",
       "0  13.333333  \n",
       "7  11.200000  \n",
       "6  8.000000   \n",
       "2  7.000000   \n",
       "1  2.000000   \n",
       "5  1.333333   \n",
       "3  1.125000   \n",
       "4  1.000000   "
      ]
     },
     "execution_count": 22,
     "metadata": {},
     "output_type": "execute_result"
    }
   ],
   "source": [
    "hypothesis['ice'] = hypothesis['impact'] * hypothesis['confidence'] / hypothesis['efforts']\n",
    "\n",
    "hypothesis[['hypothesis', 'ice']].sort_values(by='ice', ascending=False)"
   ]
  },
  {
   "cell_type": "markdown",
   "metadata": {},
   "source": [
    "На данном этапе можно выделить топ-3 гипотез:\n",
    "- 8 Запустить акцию, дающую скидку на товар в день рождения\n",
    "- 0 Добавить два новых канала привлечения трафика, что позволит привлекать на 30% больше пользователей\n",
    "- 7 Добавить форму подписки на все основные страницы, чтобы собрать базу клиентов для email-рассылок"
   ]
  },
  {
   "cell_type": "markdown",
   "metadata": {},
   "source": [
    "Посмотрю с помощью  фреймворка RICE. Отсортирую по убыванию приоритета."
   ]
  },
  {
   "cell_type": "code",
   "execution_count": 23,
   "metadata": {},
   "outputs": [
    {
     "data": {
      "text/html": [
       "<div>\n",
       "<style scoped>\n",
       "    .dataframe tbody tr th:only-of-type {\n",
       "        vertical-align: middle;\n",
       "    }\n",
       "\n",
       "    .dataframe tbody tr th {\n",
       "        vertical-align: top;\n",
       "    }\n",
       "\n",
       "    .dataframe thead th {\n",
       "        text-align: right;\n",
       "    }\n",
       "</style>\n",
       "<table border=\"1\" class=\"dataframe\">\n",
       "  <thead>\n",
       "    <tr style=\"text-align: right;\">\n",
       "      <th></th>\n",
       "      <th>hypothesis</th>\n",
       "      <th>rice</th>\n",
       "    </tr>\n",
       "  </thead>\n",
       "  <tbody>\n",
       "    <tr>\n",
       "      <th>7</th>\n",
       "      <td>Добавить форму подписки на все основные страницы, чтобы собрать базу клиентов для email-рассылок</td>\n",
       "      <td>112.0</td>\n",
       "    </tr>\n",
       "    <tr>\n",
       "      <th>2</th>\n",
       "      <td>Добавить блоки рекомендаций товаров на сайт интернет магазина, чтобы повысить конверсию и средний чек заказа</td>\n",
       "      <td>56.0</td>\n",
       "    </tr>\n",
       "    <tr>\n",
       "      <th>0</th>\n",
       "      <td>Добавить два новых канала привлечения трафика, что позволит привлекать на 30% больше пользователей</td>\n",
       "      <td>40.0</td>\n",
       "    </tr>\n",
       "    <tr>\n",
       "      <th>6</th>\n",
       "      <td>Показать на главной странице баннеры с актуальными акциями и распродажами, чтобы увеличить конверсию</td>\n",
       "      <td>40.0</td>\n",
       "    </tr>\n",
       "    <tr>\n",
       "      <th>8</th>\n",
       "      <td>Запустить акцию, дающую скидку на товар в день рождения</td>\n",
       "      <td>16.2</td>\n",
       "    </tr>\n",
       "    <tr>\n",
       "      <th>3</th>\n",
       "      <td>Изменить структура категорий, что увеличит конверсию, т.к. пользователи быстрее найдут нужный товар</td>\n",
       "      <td>9.0</td>\n",
       "    </tr>\n",
       "    <tr>\n",
       "      <th>1</th>\n",
       "      <td>Запустить собственную службу доставки, что сократит срок доставки заказов</td>\n",
       "      <td>4.0</td>\n",
       "    </tr>\n",
       "    <tr>\n",
       "      <th>5</th>\n",
       "      <td>Добавить страницу отзывов клиентов о магазине, что позволит увеличить количество заказов</td>\n",
       "      <td>4.0</td>\n",
       "    </tr>\n",
       "    <tr>\n",
       "      <th>4</th>\n",
       "      <td>Изменить цвет фона главной страницы, чтобы увеличить вовлеченность пользователей</td>\n",
       "      <td>3.0</td>\n",
       "    </tr>\n",
       "  </tbody>\n",
       "</table>\n",
       "</div>"
      ],
      "text/plain": [
       "                                                                                                     hypothesis  \\\n",
       "7  Добавить форму подписки на все основные страницы, чтобы собрать базу клиентов для email-рассылок               \n",
       "2  Добавить блоки рекомендаций товаров на сайт интернет магазина, чтобы повысить конверсию и средний чек заказа   \n",
       "0  Добавить два новых канала привлечения трафика, что позволит привлекать на 30% больше пользователей             \n",
       "6  Показать на главной странице баннеры с актуальными акциями и распродажами, чтобы увеличить конверсию           \n",
       "8  Запустить акцию, дающую скидку на товар в день рождения                                                        \n",
       "3  Изменить структура категорий, что увеличит конверсию, т.к. пользователи быстрее найдут нужный товар            \n",
       "1  Запустить собственную службу доставки, что сократит срок доставки заказов                                      \n",
       "5  Добавить страницу отзывов клиентов о магазине, что позволит увеличить количество заказов                       \n",
       "4  Изменить цвет фона главной страницы, чтобы увеличить вовлеченность пользователей                               \n",
       "\n",
       "    rice  \n",
       "7  112.0  \n",
       "2  56.0   \n",
       "0  40.0   \n",
       "6  40.0   \n",
       "8  16.2   \n",
       "3  9.0    \n",
       "1  4.0    \n",
       "5  4.0    \n",
       "4  3.0    "
      ]
     },
     "execution_count": 23,
     "metadata": {},
     "output_type": "execute_result"
    }
   ],
   "source": [
    "hypothesis['rice'] = hypothesis['reach'] * hypothesis['impact'] * hypothesis['confidence'] / hypothesis['efforts']\n",
    "hypothesis[['hypothesis', 'rice']].sort_values(by='rice', ascending=False)"
   ]
  },
  {
   "cell_type": "markdown",
   "metadata": {},
   "source": [
    "По фреймворку RICE в топ-3 вошли следующие гипотезы\n",
    "- 7 Добавить форму подписки на все основные страницы, чтобы собрать базу клиентов для email-рассылок\n",
    "- 2 Добавить блоки рекомендаций товаров на сайт интернет магазина, чтобы повысить конверсию и средний чек заказа\t\n",
    "- 0 Добавить два новых канала привлечения трафика, что позволит привлекать на 30% больше пользователей"
   ]
  },
  {
   "cell_type": "markdown",
   "metadata": {},
   "source": [
    "Посмотрю, как изменилась приоритизация гипотез при применении RICE вместо ICE. "
   ]
  },
  {
   "cell_type": "code",
   "execution_count": 24,
   "metadata": {},
   "outputs": [
    {
     "data": {
      "text/html": [
       "<div>\n",
       "<style scoped>\n",
       "    .dataframe tbody tr th:only-of-type {\n",
       "        vertical-align: middle;\n",
       "    }\n",
       "\n",
       "    .dataframe tbody tr th {\n",
       "        vertical-align: top;\n",
       "    }\n",
       "\n",
       "    .dataframe thead th {\n",
       "        text-align: right;\n",
       "    }\n",
       "</style>\n",
       "<table border=\"1\" class=\"dataframe\">\n",
       "  <thead>\n",
       "    <tr style=\"text-align: right;\">\n",
       "      <th></th>\n",
       "      <th>hypothesis</th>\n",
       "      <th>ice</th>\n",
       "      <th>rice</th>\n",
       "    </tr>\n",
       "  </thead>\n",
       "  <tbody>\n",
       "    <tr>\n",
       "      <th>7</th>\n",
       "      <td>Добавить форму подписки на все основные страницы, чтобы собрать базу клиентов для email-рассылок</td>\n",
       "      <td>11.200000</td>\n",
       "      <td>112.0</td>\n",
       "    </tr>\n",
       "    <tr>\n",
       "      <th>2</th>\n",
       "      <td>Добавить блоки рекомендаций товаров на сайт интернет магазина, чтобы повысить конверсию и средний чек заказа</td>\n",
       "      <td>7.000000</td>\n",
       "      <td>56.0</td>\n",
       "    </tr>\n",
       "    <tr>\n",
       "      <th>0</th>\n",
       "      <td>Добавить два новых канала привлечения трафика, что позволит привлекать на 30% больше пользователей</td>\n",
       "      <td>13.333333</td>\n",
       "      <td>40.0</td>\n",
       "    </tr>\n",
       "    <tr>\n",
       "      <th>6</th>\n",
       "      <td>Показать на главной странице баннеры с актуальными акциями и распродажами, чтобы увеличить конверсию</td>\n",
       "      <td>8.000000</td>\n",
       "      <td>40.0</td>\n",
       "    </tr>\n",
       "    <tr>\n",
       "      <th>8</th>\n",
       "      <td>Запустить акцию, дающую скидку на товар в день рождения</td>\n",
       "      <td>16.200000</td>\n",
       "      <td>16.2</td>\n",
       "    </tr>\n",
       "    <tr>\n",
       "      <th>3</th>\n",
       "      <td>Изменить структура категорий, что увеличит конверсию, т.к. пользователи быстрее найдут нужный товар</td>\n",
       "      <td>1.125000</td>\n",
       "      <td>9.0</td>\n",
       "    </tr>\n",
       "    <tr>\n",
       "      <th>1</th>\n",
       "      <td>Запустить собственную службу доставки, что сократит срок доставки заказов</td>\n",
       "      <td>2.000000</td>\n",
       "      <td>4.0</td>\n",
       "    </tr>\n",
       "    <tr>\n",
       "      <th>5</th>\n",
       "      <td>Добавить страницу отзывов клиентов о магазине, что позволит увеличить количество заказов</td>\n",
       "      <td>1.333333</td>\n",
       "      <td>4.0</td>\n",
       "    </tr>\n",
       "    <tr>\n",
       "      <th>4</th>\n",
       "      <td>Изменить цвет фона главной страницы, чтобы увеличить вовлеченность пользователей</td>\n",
       "      <td>1.000000</td>\n",
       "      <td>3.0</td>\n",
       "    </tr>\n",
       "  </tbody>\n",
       "</table>\n",
       "</div>"
      ],
      "text/plain": [
       "                                                                                                     hypothesis  \\\n",
       "7  Добавить форму подписки на все основные страницы, чтобы собрать базу клиентов для email-рассылок               \n",
       "2  Добавить блоки рекомендаций товаров на сайт интернет магазина, чтобы повысить конверсию и средний чек заказа   \n",
       "0  Добавить два новых канала привлечения трафика, что позволит привлекать на 30% больше пользователей             \n",
       "6  Показать на главной странице баннеры с актуальными акциями и распродажами, чтобы увеличить конверсию           \n",
       "8  Запустить акцию, дающую скидку на товар в день рождения                                                        \n",
       "3  Изменить структура категорий, что увеличит конверсию, т.к. пользователи быстрее найдут нужный товар            \n",
       "1  Запустить собственную службу доставки, что сократит срок доставки заказов                                      \n",
       "5  Добавить страницу отзывов клиентов о магазине, что позволит увеличить количество заказов                       \n",
       "4  Изменить цвет фона главной страницы, чтобы увеличить вовлеченность пользователей                               \n",
       "\n",
       "         ice   rice  \n",
       "7  11.200000  112.0  \n",
       "2  7.000000   56.0   \n",
       "0  13.333333  40.0   \n",
       "6  8.000000   40.0   \n",
       "8  16.200000  16.2   \n",
       "3  1.125000   9.0    \n",
       "1  2.000000   4.0    \n",
       "5  1.333333   4.0    \n",
       "4  1.000000   3.0    "
      ]
     },
     "execution_count": 24,
     "metadata": {},
     "output_type": "execute_result"
    }
   ],
   "source": [
    "hypothesis[['hypothesis','ice', 'rice']].sort_values(by='rice', ascending=False)"
   ]
  },
  {
   "cell_type": "markdown",
   "metadata": {},
   "source": [
    "При применении фреймворка  RICE вместо ICE:\n",
    "- гипотеза 7 поднялась с 3 места на 1\n",
    "- гипотеза 0 опустилась со 2 на 3 место\n",
    "- гипотеза 2 поднялась с 5 места на 2 \n",
    "- гипотеза 8 опустилась с 1 на 5\n",
    "\n",
    "Фреймворк RICE учитывает охват пользователей, которых коснется изменение, поэтому гипотезы, которые касаются большего количества пользователей более приоритетны."
   ]
  },
  {
   "cell_type": "markdown",
   "metadata": {},
   "source": [
    "Вывод:\n",
    "\n",
    "Выбор в пользу определенной гипотезы необходимо прнимать, учитывая основные цели и риски.\n",
    "\n",
    "По методике, ICE (не учитывает при ранжировании охват юзеров) рекомендую обратить внимание на следующие гипотезы:\n",
    "\n",
    "- 8 Запустить акцию, дающую скидку на товар в день рождения\n",
    "- 0 Добавить два новых канала привлечения трафика, что позволит привлекать на 30% больше пользователей\n",
    "- 7 Добавить форму подписки на все основные страницы, чтобы собрать базу клиентов для email-рассылок\n",
    "\n",
    "\n",
    "\n"
   ]
  },
  {
   "cell_type": "markdown",
   "metadata": {},
   "source": [
    "По методике, RICE (учитывает при ранжировании охват юзеров) рекомендую обратить внимание на следующие гипотезы:\n",
    "\n",
    "- 7 Добавить форму подписки на все основные страницы, чтобы собрать базу клиентов для email-рассылок\n",
    "- 2 Добавить блоки рекомендаций товаров на сайт интернет магазина, чтобы повысить конверсию и средний чек заказа\n",
    "- 0 Добавить два новых канала привлечения трафика, что позволит привлекать на 30% больше пользователей"
   ]
  },
  {
   "cell_type": "markdown",
   "metadata": {},
   "source": [
    "## Анализ A/B-теста"
   ]
  },
  {
   "cell_type": "markdown",
   "metadata": {},
   "source": [
    "#### График кумулятивной выручки по группам. "
   ]
  },
  {
   "cell_type": "markdown",
   "metadata": {},
   "source": [
    "Сделайте выводы и предположения"
   ]
  },
  {
   "cell_type": "code",
   "execution_count": 25,
   "metadata": {},
   "outputs": [
    {
     "data": {
      "image/png": "[encoded data removed]",
      "text/plain": [
       "<Figure size 432x288 with 1 Axes>"
      ]
     },
     "metadata": {
      "needs_background": "light"
     },
     "output_type": "display_data"
    }
   ],
   "source": [
    "dates_grouped = orders[['date', 'group']].drop_duplicates()\n",
    "\n",
    "orders_grouped = dates_grouped.apply(\n",
    "    lambda x: orders[\n",
    "        np.logical_and(\n",
    "            orders['date'] <= x['date'], orders['group'] == x['group']\n",
    "        )\n",
    "    ].agg(\n",
    "        {\n",
    "            'date': 'max',\n",
    "            'group': 'max',\n",
    "            'transaction_id': 'nunique',\n",
    "            'visitor_id': 'nunique',\n",
    "            'revenue': 'sum',\n",
    "        }\n",
    "    ),\n",
    "    axis=1,\n",
    ").sort_values(by=['date', 'group'])\n",
    "\n",
    "orders_grouped.head(6)\n",
    "\n",
    "visitors_grouped = dates_grouped.apply(\n",
    "    lambda x: visitors[\n",
    "        np.logical_and(\n",
    "            visitors['date'] <= x['date'], visitors['group'] == x['group']\n",
    "        )\n",
    "    ].agg(\n",
    "        {\n",
    "            'date': 'max', \n",
    "            'group': 'max', \n",
    "            'visitors': 'sum'\n",
    "        }\n",
    "    ),\n",
    "    axis=1,\n",
    ").sort_values(by=['date', 'group'])\n",
    "\n",
    "visitors_grouped.head(6)\n",
    "\n",
    "cumulative_data = orders_grouped.merge(\n",
    "    visitors_grouped, \n",
    "    left_on=['date', 'group'], \n",
    "    right_on=['date', 'group']\n",
    ")\n",
    "\n",
    "cumulative_data.columns = ['date', 'group', 'orders', 'buyers', 'revenue', 'visitors']\n",
    "\n",
    "cumulative_data['conversion'] = cumulative_data['orders'] / cumulative_data['visitors']\n",
    "cumulative_data.head(6)\n",
    "\n",
    "# датафрейм с кумулятивным количеством заказов и кумулятивной выручкой по дням в группе А\n",
    "cumulative_revenue_a = cumulative_data[cumulative_data['group']=='A'][['date','revenue', 'orders']]\n",
    "\n",
    "# датафрейм с кумулятивным количеством заказов и кумулятивной выручкой по дням в группе B\n",
    "cumulative_revenue_b = cumulative_data[cumulative_data['group']=='B'][['date','revenue', 'orders']]\n",
    "\n",
    "#график кумулятивной выручки по группам\n",
    "plt.plot(cumulative_revenue_a['date'], cumulative_revenue_a['revenue'],color='purple', label='A')\n",
    "plt.plot(cumulative_revenue_b['date'], cumulative_revenue_b['revenue'],color='green', label='B')\n",
    "plt.title('Динамика кумулятивной выручки по группам')\n",
    "plt.ylabel('Выручка')\n",
    "plt.xticks(rotation=90)\n",
    "plt.xlabel('дата')\n",
    "\n",
    "plt.legend()\n",
    "plt.show()"
   ]
  },
  {
   "cell_type": "markdown",
   "metadata": {},
   "source": [
    "- График выручки ггруппы В плавно растет до примерно 20.08, 21.08 происходит резкий скачок графика и дальнейший рост.\n",
    "- График выручки группы А растет плавно и линейно, без скачков.\n",
    "- Исходя из графиков выручка В больше А"
   ]
  },
  {
   "cell_type": "markdown",
   "metadata": {},
   "source": [
    "#### График кумулятивного среднего чека по группам"
   ]
  },
  {
   "cell_type": "code",
   "execution_count": 26,
   "metadata": {},
   "outputs": [
    {
     "data": {
      "image/png": "[encoded data removed]",
      "text/plain": [
       "<Figure size 432x288 with 1 Axes>"
      ]
     },
     "metadata": {
      "needs_background": "light"
     },
     "output_type": "display_data"
    }
   ],
   "source": [
    "#график А\n",
    "plt.plot(cumulative_revenue_a['date'],cumulative_revenue_a['revenue'] / cumulative_revenue_a['orders'], color='purple', label='A')\n",
    "#график В\n",
    "plt.plot(cumulative_revenue_b['date'],cumulative_revenue_b['revenue'] / cumulative_revenue_b['orders'], color='green',label='B')\n",
    "\n",
    "plt.title('График кумулятивного среднего чека по группам')\n",
    "plt.ylabel('Выручка')\n",
    "plt.legend()\n",
    "plt.xticks(rotation=90)\n",
    "plt.xlabel('дата')\n",
    "plt.show()"
   ]
  },
  {
   "cell_type": "markdown",
   "metadata": {},
   "source": [
    "- В начале теста средний чек в группе А падает до примерно 6.08. Коснувшись низшей точки,средний чек в группе  А начинает расти до 13.08 и далее плавно стабилищируется.\n",
    "- Средний чек в группе В растет волнообразно примерно до 18.08, далее резкий рост примерно до 20.08 и плавное линейное снижение. Возможно в группу В попал очень большой заказ в даты резкого роста. Которые, кстати, совпадают с датами роста на графике выручки по группе В"
   ]
  },
  {
   "cell_type": "markdown",
   "metadata": {},
   "source": [
    "#### График относительного изменения кумулятивного среднего чека группы B к группе A."
   ]
  },
  {
   "cell_type": "code",
   "execution_count": 27,
   "metadata": {},
   "outputs": [
    {
     "data": {
      "image/png": "[encoded data removed]",
      "text/plain": [
       "<Figure size 432x288 with 1 Axes>"
      ]
     },
     "metadata": {
      "needs_background": "light"
     },
     "output_type": "display_data"
    }
   ],
   "source": [
    "# собираем данные в одном датафрейме\n",
    "cumulative_revenue_ab = cumulative_revenue_a.merge(\n",
    "    cumulative_revenue_b, \n",
    "    left_on='date', \n",
    "    right_on='date', \n",
    "    how='left', \n",
    "    suffixes=['_a', '_b']\n",
    ")\n",
    "\n",
    "# cтроим отношение средних чеков\n",
    "plt.plot(cumulative_revenue_ab['date'],(cumulative_revenue_ab['revenue_b']/cumulative_revenue_ab['orders_b'])/(cumulative_revenue_ab['revenue_a']/cumulative_revenue_ab['orders_a'])-1)\n",
    "\n",
    "# добавляем ось X\n",
    "plt.axhline(y=0, color='black', linestyle='--')\n",
    "plt.title('График относительного изменения кумулятивного среднего чека группы B к A')\n",
    "plt.xticks(rotation=90)\n",
    "plt.xlabel('дата')\n",
    "plt.ylabel('')\n",
    "plt.show()"
   ]
  },
  {
   "cell_type": "markdown",
   "metadata": {},
   "source": [
    "- График имеет резкие скачки в нескольких точках: примерно 4.08, 8-9.08, примерно 20.08.\n",
    "- Есть несколько резких падений графика: после 5.08, 13.08.\n",
    "- Плавное снижение после 20.08\n",
    "\n",
    "Это может говорить о каких-то крупных заказа эти данные или других аномальных вещах"
   ]
  },
  {
   "cell_type": "markdown",
   "metadata": {},
   "source": [
    "#### График кумулятивного среднего количества заказов на посетителя по группам. "
   ]
  },
  {
   "cell_type": "code",
   "execution_count": 28,
   "metadata": {},
   "outputs": [
    {
     "data": {
      "image/png": "[encoded data removed]",
      "text/plain": [
       "<Figure size 432x288 with 1 Axes>"
      ]
     },
     "metadata": {
      "needs_background": "light"
     },
     "output_type": "display_data"
    }
   ],
   "source": [
    "# отделяем данные по группе A\n",
    "cumulative_data_a = cumulative_data[cumulative_data['group']=='A']\n",
    "\n",
    "# отделяем данные по группе B\n",
    "cumulative_data_b = cumulative_data[cumulative_data['group']=='B']\n",
    "\n",
    "# строим графики\n",
    "plt.plot(cumulative_data_a['date'], cumulative_data_a['conversion'], color='purple', label='A')\n",
    "plt.plot(cumulative_data_b['date'], cumulative_data_b['conversion'], color='green', label='B')\n",
    "plt.legend()\n",
    "plt.title('Кумулятивное среднее количество заказов')\n",
    "plt.xlabel('дата')\n",
    "plt.ylabel('Конверсия')\n",
    "plt.xticks(rotation=90)\n",
    "plt.show()"
   ]
  },
  {
   "cell_type": "markdown",
   "metadata": {},
   "source": [
    "- В обеих группах в начале теста с 1.08 по 5.08 графики резко колеблются.\n",
    "- После 5.08 конверсия в группе В резко растет примерно до 10.08, фиксируется примерно в одном диапазоне с тенденцией к плавному снижению.\n",
    "- Конверсия в группе А резко падает примерно с 3.08, с 8.09 фиксируется и продолжает падать на всем таймлайне."
   ]
  },
  {
   "cell_type": "markdown",
   "metadata": {},
   "source": [
    "#### График относительного изменения кумулятивного среднего количества заказов на посетителя группы B к группе A"
   ]
  },
  {
   "cell_type": "code",
   "execution_count": 29,
   "metadata": {},
   "outputs": [
    {
     "data": {
      "image/png": "[encoded data removed]",
      "text/plain": [
       "<Figure size 432x288 with 1 Axes>"
      ]
     },
     "metadata": {
      "needs_background": "light"
     },
     "output_type": "display_data"
    }
   ],
   "source": [
    "cumulative_conversions_ab = (cumulative_data_a[['date','conversion']].merge(cumulative_data_b[['date','conversion']],left_on='date',right_on='date',how='left',suffixes=['_a', '_b']))\n",
    "\n",
    "plt.plot(cumulative_conversions_ab['date'],cumulative_conversions_ab['conversion_b']/cumulative_conversions_ab['conversion_a']-1)\n",
    "\n",
    "plt.axhline(y=0, color='black', linestyle='--')\n",
    "plt.axhline(y=0.15, color='grey', linestyle='--')\n",
    "plt.title('График относительного изменения кумулятивного среднего количества заказов на посетителя группы B к группе A')\n",
    "plt.xticks(rotation=90)\n",
    "plt.xlabel('дата')\n",
    "plt.ylabel('кум. конверсия')\n",
    "plt.show()"
   ]
  },
  {
   "cell_type": "markdown",
   "metadata": {},
   "source": [
    "- Группа В до 5.08 показывала результат ниже группы А\n",
    "- С 5.08 группа В показывает рост\n",
    "- Примерно с 20.08 кумулятивная конверсия группы В плавно снижается до 29.08\n",
    "\n",
    "Нужно посмотреть аномалии, которые выделялись и напрошлых графиках.\n"
   ]
  },
  {
   "cell_type": "markdown",
   "metadata": {},
   "source": [
    "#### Точечный график количества заказов по пользователям."
   ]
  },
  {
   "cell_type": "code",
   "execution_count": 30,
   "metadata": {},
   "outputs": [
    {
     "data": {
      "image/png": "[encoded data removed]",
      "text/plain": [
       "<Figure size 432x288 with 1 Axes>"
      ]
     },
     "metadata": {
      "needs_background": "light"
     },
     "output_type": "display_data"
    }
   ],
   "source": [
    "orders_by_users = (orders.groupby('visitor_id', as_index=False).agg({'transaction_id': 'nunique'}))\n",
    "orders_by_users.columns =  ['visitor_id', 'orders']\n",
    "\n",
    "x_values = pd.Series(range(0,len(orders_by_users)))\n",
    "\n",
    "#точечная диаграмма\n",
    "plt.scatter(x_values, orders_by_users['orders'], color='purple', alpha=0.4)\n",
    "plt.title('Количество заказов по пользователям')\n",
    "plt.xlabel('Пользователи')\n",
    "plt.ylabel('Кол-во заказов')\n",
    "plt.show()"
   ]
  },
  {
   "cell_type": "markdown",
   "metadata": {},
   "source": [
    "- Большая часть пользователей совершает 1 заказ.\n",
    "- Есть пользователи, которые совершили от 2 до 6 заказов, на графике их точек довольно большое количество.\n",
    "- Есть пользователи, которые совершили более 8 заказов - их меньшее количество"
   ]
  },
  {
   "cell_type": "markdown",
   "metadata": {},
   "source": [
    "#### 95-й и 99-й перцентили количества заказов на пользователя. "
   ]
  },
  {
   "cell_type": "markdown",
   "metadata": {},
   "source": [
    "Чтобы определить грань, где начинаются аномальные данные посчитаю  95-й и 99-й перцентили количества заказов на пользователя."
   ]
  },
  {
   "cell_type": "code",
   "execution_count": 31,
   "metadata": {},
   "outputs": [
    {
     "data": {
      "text/plain": [
       "array([2., 4.])"
      ]
     },
     "execution_count": 31,
     "metadata": {},
     "output_type": "execute_result"
    }
   ],
   "source": [
    "np.percentile(orders_by_users['orders'], [95, 99])\n"
   ]
  },
  {
   "cell_type": "markdown",
   "metadata": {},
   "source": [
    "- 1% пользователей совершил 4 и более заказов во время теста.\n",
    "- не больше 5% пользователей совершали больше 2 заказов\n",
    "\n",
    "Отсеку далее количество заказов свыше 4"
   ]
  },
  {
   "cell_type": "markdown",
   "metadata": {},
   "source": [
    "#### Точечный график стоимостей заказов"
   ]
  },
  {
   "cell_type": "code",
   "execution_count": 32,
   "metadata": {},
   "outputs": [
    {
     "data": {
      "image/png": "[encoded data removed]",
      "text/plain": [
       "<Figure size 432x288 with 1 Axes>"
      ]
     },
     "metadata": {
      "needs_background": "light"
     },
     "output_type": "display_data"
    }
   ],
   "source": [
    "x_values = pd.Series(range(0,len(orders['revenue'])))\n",
    "\n",
    "#точечная диаграмма\n",
    "plt.scatter(x_values, orders['revenue'], color='purple', alpha=0.4)\n",
    "plt.title('Cтоимость заказов по пользователям')\n",
    "plt.xlabel('Количество пользователей')\n",
    "plt.ylabel('Стоимость заказов')\n",
    "plt.show()\n"
   ]
  },
  {
   "cell_type": "markdown",
   "metadata": {},
   "source": [
    "- Один из заказов улетел в космос и его стоимость превышает 1,2 и искажает график\n",
    "- Большая часть распределена в диапазоне до 0,1"
   ]
  },
  {
   "cell_type": "markdown",
   "metadata": {},
   "source": [
    "#### 95-й и 99-й перцентили стоимости заказов"
   ]
  },
  {
   "cell_type": "markdown",
   "metadata": {},
   "source": [
    "Чтобы определить грань, где начинаются аномальные данные посчитаю  95-й и 99-й перцентили стоимости заказов на пользователя."
   ]
  },
  {
   "cell_type": "markdown",
   "metadata": {},
   "source": [
    "- Не более 5% заказов дороже 28 000\n",
    "- Не более 1% заказов дороже 58 233\n",
    "\n",
    "Отсеку суммы заказов, превыщающие 99 ый перцентили. "
   ]
  },
  {
   "cell_type": "markdown",
   "metadata": {},
   "source": [
    "#### Расчет статистической значимости различий в среднем количестве заказов на посетителя между группами по «сырым» данным"
   ]
  },
  {
   "cell_type": "markdown",
   "metadata": {},
   "source": [
    "Расчитаю статистическую значимость различий в конверсии между группами по «сырым» данным. На данном этапе не буду удалять выбросы, которые обнаружила выше.\n",
    "\n",
    "Гипотезы:\n",
    "\n",
    "- Но: конверсия между группами не отличается\n",
    "- Н1: конверсия между группами отличается\n",
    " \n",
    "- Уровень значимости:alpha = 0.05 \n",
    "\n",
    "\n",
    "Буду использовать проверку критерием Манна-Уитни, так как  работа с самими значениями невозможна из-за выбросов, сильно сдвигающих параметрические результаты.\n"
   ]
  },
  {
   "cell_type": "code",
   "execution_count": 33,
   "metadata": {},
   "outputs": [],
   "source": [
    "visitors_daily_a = visitors[visitors['group'] == 'A'][['date', 'visitors']]\n",
    "visitors_daily_a.columns = ['date', 'visitors_per_date_a']\n",
    "\n",
    "visitors_cummulative_a = visitors_daily_a.apply(\n",
    "    lambda x: visitors_daily_a[visitors_daily_a['date'] <= x['date']].agg(\n",
    "        {'date': 'max', 'visitors_per_date_a': 'sum'}\n",
    "    ),\n",
    "    axis=1,\n",
    ")\n",
    "visitors_cummulative_a.columns = ['date', 'visitors_cummulative_a']\n",
    "\n",
    "visitors_daily_b = visitors[visitors['group'] == 'B'][['date', 'visitors']]\n",
    "visitors_daily_b.columns = ['date', 'visitors_per_date_b']\n",
    "\n",
    "visitors_cummulative_b = visitors_daily_b.apply(\n",
    "    lambda x: visitors_daily_b[visitors_daily_b['date'] <= x['date']].agg(\n",
    "        {'date': 'max', 'visitors_per_date_b': 'sum'}\n",
    "    ),\n",
    "    axis=1,\n",
    ")\n",
    "visitors_cummulative_b.columns = ['date', 'visitors_cummulative_b']\n",
    "\n",
    "orders_daily_a = (\n",
    "    orders[orders['group'] == 'A'][['date', 'transaction_id', 'visitor_id', 'revenue']]\n",
    "    .groupby('date', as_index=False)\n",
    "    .agg({'transaction_id': pd.Series.nunique, 'revenue': 'sum'})\n",
    ")\n",
    "orders_daily_a.columns = ['date', 'orders_daily_a', 'revenue_per_date_a']\n",
    "\n",
    "orders_cummulative_a = orders_daily_a.apply(\n",
    "    lambda x: orders_daily_a[orders_daily_a['date'] <= x['date']].agg(\n",
    "        {'date': 'max', 'orders_daily_a': 'sum', 'revenue_per_date_a': 'sum'}\n",
    "    ),\n",
    "    axis=1,\n",
    ").sort_values(by=['date'])\n",
    "\n",
    "orders_cummulative_a.columns = ['date','orders_cummulative_a','revenue_cummulative_a']\n",
    "\n",
    "orders_daily_b = (\n",
    "    orders[orders['group'] == 'B'][['date', 'transaction_id', 'visitor_id', 'revenue']]\n",
    "    .groupby('date', as_index=False)\n",
    "    .agg({'transaction_id': pd.Series.nunique, 'revenue': 'sum'})\n",
    ")\n",
    "orders_daily_b.columns = ['date', 'orders_daily_b', 'revenue_per_date_b']\n",
    "\n",
    "orders_cummulative_b = orders_daily_b.apply(\n",
    "    lambda x: orders_daily_b[orders_daily_b['date'] <= x['date']].agg(\n",
    "        {'date': 'max', 'orders_daily_b': 'sum', 'revenue_per_date_b': 'sum'}\n",
    "    ),\n",
    "    axis=1,\n",
    ").sort_values(by=['date'])\n",
    "\n",
    "orders_cummulative_b.columns = ['date','orders_cummulative_b','revenue_cummulative_b']\n",
    "\n",
    "\n",
    "data = (\n",
    "    orders_daily_a.merge(\n",
    "        orders_daily_b, left_on='date', right_on='date', how='left'\n",
    "    )\n",
    "    .merge(orders_cummulative_a, left_on='date', right_on='date', how='left')\n",
    "    .merge(orders_cummulative_b, left_on='date', right_on='date', how='left')\n",
    "    .merge(visitors_daily_a, left_on='date', right_on='date', how='left')\n",
    "    .merge(visitors_daily_b, left_on='date', right_on='date', how='left')\n",
    "    .merge(visitors_cummulative_a, left_on='date', right_on='date', how='left')\n",
    "    .merge(visitors_cummulative_b, left_on='date', right_on='date', how='left')\n",
    ")\n"
   ]
  },
  {
   "cell_type": "code",
   "execution_count": 34,
   "metadata": {},
   "outputs": [],
   "source": [
    " #переменная группыА\n",
    "orders_by_users_a = (\n",
    "    orders[orders['group'] == 'A']\n",
    "    .groupby('visitor_id', as_index=False)\n",
    "    .agg({'transaction_id': pd.Series.nunique})\n",
    ")\n",
    "orders_by_users_a.columns = ['visitor_id', 'orders']\n",
    "\n",
    "#переменная группы В\n",
    "orders_by_users_b = (\n",
    "    orders[orders['group'] == 'B']\n",
    "    .groupby('visitor_id', as_index=False)\n",
    "    .agg({'transaction_id': pd.Series.nunique})\n",
    ")\n",
    "orders_by_users_b.columns = ['visitor_id', 'orders']\n"
   ]
  },
  {
   "cell_type": "markdown",
   "metadata": {},
   "source": []
  },
  {
   "cell_type": "code",
   "execution_count": 35,
   "metadata": {},
   "outputs": [],
   "source": [
    "#переменная sample_a\n",
    "sample_a = pd.concat([orders_by_users_a['orders'],\n",
    "                      pd.Series(\n",
    "                          0, \n",
    "                          index=np.arange(data['visitors_per_date_a'].sum() - \n",
    "                                          len(orders_by_users_a['orders'])), \n",
    "                          name='orders')],axis=0\n",
    "                    )\n",
    "\n",
    "# переменная sample_b\n",
    "sample_b = pd.concat([orders_by_users_b['orders'],\n",
    "                      pd.Series(\n",
    "                          0, \n",
    "                          index=np.arange(data['visitors_per_date_b'].sum() - \n",
    "                                          len(orders_by_users_b['orders'])), \n",
    "                          name='orders')],axis=0\n",
    "                    )"
   ]
  },
  {
   "cell_type": "code",
   "execution_count": 36,
   "metadata": {},
   "outputs": [],
   "source": [
    "# Функция для проверки гипотезы о равенстве групп data A и data B\n",
    "def statistic_sign(data_a, data_b):\n",
    "    alpha = 0.05\n",
    "    p_value = stats.mannwhitneyu(data_a, data_b)[1]\n",
    "    print(\"P-value: {0:.5f}\".format(p_value))\n",
    "\n",
    "    if (p_value < alpha):\n",
    "        print(\"Отвергаем нулевую гипотезу: есть основания считать, что есть отличия\")\n",
    "    else:\n",
    "        print(\"Не получилось отвергнуть нулевую гипотезу, нет оснований считать, что есть отличия\")\n",
    "    \n",
    "    print(\"Прирост В к А: {0:.5%}\".format(data_b.mean() / data_a.mean()-1))"
   ]
  },
  {
   "cell_type": "code",
   "execution_count": 37,
   "metadata": {
    "scrolled": true
   },
   "outputs": [
    {
     "name": "stdout",
     "output_type": "stream",
     "text": [
      "P-value: 0.01679\n",
      "Отвергаем нулевую гипотезу: есть основания считать, что есть отличия\n",
      "Прирост В к А: 13.80788%\n"
     ]
    }
   ],
   "source": [
    "statistic_sign(sample_a, sample_b)"
   ]
  },
  {
   "cell_type": "markdown",
   "metadata": {},
   "source": [
    "\n",
    "- Отвергаем нулевую гипотезу \" Но: конверсия между группами не отличается\", так как p-value 0.01679 < 0.05\n",
    "- По \"сырым\" данным отличия между конверсиями групп А и В есть.\n",
    "- Относительный выйгрыш группы B равен 13,8 %"
   ]
  },
  {
   "cell_type": "markdown",
   "metadata": {},
   "source": [
    "#### Расчет статистической значимости различий в среднем чеке заказа между группами по «сырым» данным. "
   ]
  },
  {
   "cell_type": "markdown",
   "metadata": {},
   "source": [
    "Аналогично рассчитаю статистическую значимость различий в среднем чеке между группами по «сырым» данным.\n",
    "\n",
    "Гипотезы:\n",
    "\n",
    "- Но: средний чек  между группами не отличается\n",
    "\n",
    "- Н1: средний чек между группами отличается\n",
    " \n",
    "\n",
    "Уровень значимости:alpha = 0.05\n",
    "\n"
   ]
  },
  {
   "cell_type": "code",
   "execution_count": 38,
   "metadata": {},
   "outputs": [
    {
     "name": "stdout",
     "output_type": "stream",
     "text": [
      "P-value: 0.72929\n",
      "Не получилось отвергнуть нулевую гипотезу, нет оснований считать, что есть отличия\n",
      "Прирост В к А: 25.87137%\n"
     ]
    }
   ],
   "source": [
    "statistic_sign(orders[orders['group']=='A']['revenue'], orders[orders['group']=='B']['revenue'])\n"
   ]
  },
  {
   "cell_type": "markdown",
   "metadata": {},
   "source": [
    "- Не отвергаем Но, p-value 0.72929 > 0.05\n",
    "- По сырым данным нет оснований считать, что отличия между средними чеками есть \n",
    "- Относительный выйгрыш группы B равен 25.9 %"
   ]
  },
  {
   "cell_type": "markdown",
   "metadata": {},
   "source": [
    "#### Расчет статистической значимости различий в среднем количестве заказов на посетителя между группами по «очищенным» данным"
   ]
  },
  {
   "cell_type": "markdown",
   "metadata": {},
   "source": [
    "Выше я рассчитывала перцентили стоимости заказов и перцентили количества заказов на пользователя.\n",
    "Для дальнейшего расчета я отсеку по 1% пользователей со стоимостью заказов выше 58233 и 1% пользователей с количеством заказов выше 4  "
   ]
  },
  {
   "cell_type": "markdown",
   "metadata": {},
   "source": [
    "Продублирую гипотезы:\n",
    "- Но: конверсия между группами не отличается\n",
    "- Н1: конверсия между группами отличается"
   ]
  },
  {
   "cell_type": "code",
   "execution_count": 39,
   "metadata": {},
   "outputs": [
    {
     "data": {
      "text/plain": [
       "1099    148427295 \n",
       "949     887908475 \n",
       "744     888512513 \n",
       "1103    1164614297\n",
       "1136    1307669133\n",
       "Name: visitor_id, dtype: int64"
      ]
     },
     "metadata": {},
     "output_type": "display_data"
    },
    {
     "data": {
      "text/plain": [
       "15"
      ]
     },
     "execution_count": 39,
     "metadata": {},
     "output_type": "execute_result"
    }
   ],
   "source": [
    "#много заказов\n",
    "too_much_orders = np.percentile(orders_by_users['orders'], 99)\n",
    "#самые дорогие заказы\n",
    "so_exp_orders = np.percentile(orders['revenue'], 99)\n",
    "\n",
    "#\"выделяющиеся\" юзеры заказали > 99 percentile\n",
    "users_with_too_much_orders = pd.concat([orders_by_users_a[orders_by_users_a['orders'] > too_much_orders]['visitor_id'],orders_by_users_b[orders_by_users_b['orders'] > too_much_orders]['visitor_id'],],axis=0,)\n",
    "\n",
    "#\"выделяющиеся\" юзеры заплатили > 99 percentile\n",
    "users_with_so_exp_orders = orders[orders['revenue'] > so_exp_orders]['visitor_id']\n",
    "\n",
    "\n",
    "n_users = (pd.concat([users_with_too_much_orders, users_with_so_exp_orders], axis=0).drop_duplicates().sort_values())\n",
    "display(n_users.head(5))\n",
    "n_users.shape[0]"
   ]
  },
  {
   "cell_type": "markdown",
   "metadata": {},
   "source": [
    "15 \"выдающихся\" аномальных юзеров. \n",
    "Далее посмотрю, повлияли ли их действия на результаты теста: расчитаю статистическую значимость различий в среднем количестве заказов по посетителям между группами теста по \"чистым\" данным."
   ]
  },
  {
   "cell_type": "code",
   "execution_count": 40,
   "metadata": {},
   "outputs": [],
   "source": [
    "#подготовлю выборки количества заказов по пользователям по группам теста\n",
    "sample_a_filter = pd.concat([orders_by_users_a[np.logical_not(orders_by_users_a['visitor_id'].isin(n_users))]['orders'],pd.Series(0,index=np.arange(data['visitors_per_date_a'].sum() - len(orders_by_users_a['orders'])),name='orders',),],axis=0,)\n",
    "\n",
    "sample_b_filter = pd.concat([orders_by_users_b[np.logical_not(orders_by_users_b['visitor_id'].isin(n_users))]['orders'],pd.Series(0,index=np.arange(data['visitors_per_date_b'].sum() - len(orders_by_users_b['orders'])),name='orders',),],axis=0,)"
   ]
  },
  {
   "cell_type": "code",
   "execution_count": 41,
   "metadata": {},
   "outputs": [
    {
     "name": "stdout",
     "output_type": "stream",
     "text": [
      "P-value: 0.01438\n",
      "Отвергаем нулевую гипотезу: есть основания считать, что есть отличия\n",
      "Прирост В к А: 15.33131%\n"
     ]
    }
   ],
   "source": [
    "statistic_sign(sample_a_filter, sample_b_filter)"
   ]
  },
  {
   "cell_type": "markdown",
   "metadata": {},
   "source": [
    "- Отвергаем Но, p-value 0.01438 > 0.05\n",
    "- По \"чистым\" данным есть основание считать, что отличия между средним количеством заказов на пользователя есть. \n",
    "- Относительный выйгрыш группы B равен 15.3 %"
   ]
  },
  {
   "cell_type": "markdown",
   "metadata": {},
   "source": [
    "#### Расчет статистической значимости различий в среднем чеке заказа между группами по «очищенным» данным.  "
   ]
  },
  {
   "cell_type": "markdown",
   "metadata": {},
   "source": [
    "Посмотрю, повлияли ли действия \"выдающихся\" юзеров на результаты теста: расчитаю статистическую значимость различий среднем чеке заказа между группами по «очищенным» данным."
   ]
  },
  {
   "cell_type": "markdown",
   "metadata": {},
   "source": [
    "Продублирую гипотезы:\n",
    "\n",
    "- Но: средний чек  между группами не отличается\n",
    "\n",
    "- Н1: средний чек между группами отличается"
   ]
  },
  {
   "cell_type": "code",
   "execution_count": 42,
   "metadata": {
    "scrolled": true
   },
   "outputs": [
    {
     "name": "stdout",
     "output_type": "stream",
     "text": [
      "P-value: 0.85091\n",
      "Не получилось отвергнуть нулевую гипотезу, нет оснований считать, что есть отличия\n",
      "Прирост В к А: -0.57489%\n"
     ]
    }
   ],
   "source": [
    "statistic_sign(orders[(orders['group']=='A') & np.logical_not(orders['visitor_id'].isin(n_users))]['revenue'],orders[(orders['group']=='B') & np.logical_not(orders['visitor_id'].isin(n_users))]['revenue'])"
   ]
  },
  {
   "cell_type": "markdown",
   "metadata": {},
   "source": [
    "- Но отвергнуть не вышло, p-value 0.85091 > 0.05\n",
    "- По \"чистым\" данным нет оснований считать, что средний чек между группами отличается. \n"
   ]
  },
  {
   "cell_type": "markdown",
   "metadata": {},
   "source": [
    "## Вывод"
   ]
  },
  {
   "cell_type": "markdown",
   "metadata": {},
   "source": [
    "#### Рекомендации по тесту"
   ]
  },
  {
   "cell_type": "markdown",
   "metadata": {},
   "source": [
    "Остановить тест, зафиксировать победу группы В. \n",
    "- И по \"сырым\" данным и по \"чистым\" есть основание считать, что отличия между средним количеством заказов на пользователя есть.\n",
    "- Относительный выйгрыш группы B равен 15.3 % по \"чистым данным.\n",
    "- Нет оснований считать, что средний чек между группами отличается ни по \"сырым\", ни по \"чистым\" данным"
   ]
  },
  {
   "cell_type": "markdown",
   "metadata": {},
   "source": [
    "Я провела анализ данных, предоставленных интернет-магазином.\n",
    "Совместно с отделом маркетинга мы подготовили список гипотез для увеличения выручки.\n",
    "Я приоритизировали гипотезы, используя фреймворки ICE и RICE\n",
    "Запустила A/B-тест и проанализировала результаты, на основании которых подготовила рекомендацию остановаить тест, зафиксировав победу группы Б"
   ]
  }
 ],
 "metadata": {
  "ExecuteTimeLog": [
   {
    "duration": 1431,
    "start_time": "2023-03-05T18:38:11.106Z"
   },
   {
    "duration": 84,
    "start_time": "2023-03-05T18:39:28.590Z"
   },
   {
    "duration": 29,
    "start_time": "2023-03-05T18:39:43.637Z"
   },
   {
    "duration": 28,
    "start_time": "2023-03-05T18:40:00.278Z"
   },
   {
    "duration": 1077,
    "start_time": "2023-03-05T18:40:06.893Z"
   },
   {
    "duration": 38,
    "start_time": "2023-03-05T18:40:10.705Z"
   },
   {
    "duration": 48,
    "start_time": "2023-03-05T18:40:33.238Z"
   },
   {
    "duration": 6,
    "start_time": "2023-03-05T18:40:39.115Z"
   },
   {
    "duration": 33,
    "start_time": "2023-03-05T18:40:40.032Z"
   },
   {
    "duration": 30,
    "start_time": "2023-03-05T18:44:44.306Z"
   },
   {
    "duration": 46,
    "start_time": "2023-03-05T18:45:37.060Z"
   },
   {
    "duration": 27,
    "start_time": "2023-03-05T18:45:46.181Z"
   },
   {
    "duration": 28,
    "start_time": "2023-03-05T18:45:50.554Z"
   },
   {
    "duration": 8,
    "start_time": "2023-03-05T18:45:57.630Z"
   },
   {
    "duration": 4,
    "start_time": "2023-03-05T18:45:58.037Z"
   },
   {
    "duration": 29,
    "start_time": "2023-03-05T18:45:58.552Z"
   },
   {
    "duration": 28,
    "start_time": "2023-03-05T18:47:07.572Z"
   },
   {
    "duration": 92,
    "start_time": "2023-03-05T18:47:57.193Z"
   },
   {
    "duration": 49,
    "start_time": "2023-03-05T18:48:11.239Z"
   },
   {
    "duration": 67,
    "start_time": "2023-03-05T18:48:52.337Z"
   },
   {
    "duration": 35,
    "start_time": "2023-03-05T18:49:00.622Z"
   },
   {
    "duration": 35,
    "start_time": "2023-03-05T18:49:08.840Z"
   },
   {
    "duration": 29,
    "start_time": "2023-03-05T18:49:15.674Z"
   },
   {
    "duration": 32,
    "start_time": "2023-03-05T18:49:20.458Z"
   },
   {
    "duration": 29,
    "start_time": "2023-03-05T18:49:24.969Z"
   },
   {
    "duration": 4,
    "start_time": "2023-03-05T18:49:36.166Z"
   },
   {
    "duration": 29,
    "start_time": "2023-03-05T18:49:37.465Z"
   },
   {
    "duration": 49,
    "start_time": "2023-03-05T18:49:39.764Z"
   },
   {
    "duration": 18,
    "start_time": "2023-03-05T18:49:40.740Z"
   },
   {
    "duration": 4,
    "start_time": "2023-03-05T18:49:47.666Z"
   },
   {
    "duration": 28,
    "start_time": "2023-03-05T18:49:48.040Z"
   },
   {
    "duration": 39,
    "start_time": "2023-03-05T18:49:48.874Z"
   },
   {
    "duration": 28,
    "start_time": "2023-03-05T18:49:49.586Z"
   },
   {
    "duration": 10,
    "start_time": "2023-03-05T18:50:10.267Z"
   },
   {
    "duration": 10,
    "start_time": "2023-03-05T18:50:20.598Z"
   },
   {
    "duration": 10,
    "start_time": "2023-03-05T18:50:25.364Z"
   },
   {
    "duration": 11,
    "start_time": "2023-03-05T18:50:28.091Z"
   },
   {
    "duration": 11,
    "start_time": "2023-03-05T18:50:28.554Z"
   },
   {
    "duration": 62,
    "start_time": "2023-03-05T18:50:38.014Z"
   },
   {
    "duration": 36,
    "start_time": "2023-03-05T18:50:39.522Z"
   },
   {
    "duration": 73,
    "start_time": "2023-03-05T18:52:06.539Z"
   },
   {
    "duration": 13,
    "start_time": "2023-03-05T18:52:15.258Z"
   },
   {
    "duration": 12,
    "start_time": "2023-03-05T18:52:24.840Z"
   },
   {
    "duration": 28,
    "start_time": "2023-03-05T18:53:11.886Z"
   },
   {
    "duration": 50,
    "start_time": "2023-03-05T18:53:12.316Z"
   },
   {
    "duration": 25,
    "start_time": "2023-03-05T18:53:12.794Z"
   },
   {
    "duration": 24,
    "start_time": "2023-03-05T18:54:31.722Z"
   },
   {
    "duration": 23,
    "start_time": "2023-03-05T18:54:51.821Z"
   },
   {
    "duration": 13,
    "start_time": "2023-03-05T18:55:03.083Z"
   },
   {
    "duration": 75,
    "start_time": "2023-03-05T18:56:35.118Z"
   },
   {
    "duration": 27,
    "start_time": "2023-03-05T18:58:12.393Z"
   },
   {
    "duration": 27,
    "start_time": "2023-03-05T18:58:54.237Z"
   },
   {
    "duration": 10,
    "start_time": "2023-03-05T18:59:12.666Z"
   },
   {
    "duration": 6,
    "start_time": "2023-03-05T18:59:21.081Z"
   },
   {
    "duration": 11,
    "start_time": "2023-03-05T18:59:49.683Z"
   },
   {
    "duration": 6,
    "start_time": "2023-03-05T18:59:57.183Z"
   },
   {
    "duration": 6,
    "start_time": "2023-03-05T19:00:15.070Z"
   },
   {
    "duration": 8,
    "start_time": "2023-03-05T19:00:31.791Z"
   },
   {
    "duration": 7,
    "start_time": "2023-03-05T19:01:01.157Z"
   },
   {
    "duration": 15,
    "start_time": "2023-03-05T19:01:17.022Z"
   },
   {
    "duration": 8,
    "start_time": "2023-03-05T19:01:26.314Z"
   },
   {
    "duration": 7,
    "start_time": "2023-03-05T19:01:46.941Z"
   },
   {
    "duration": 76,
    "start_time": "2023-03-05T19:04:18.686Z"
   },
   {
    "duration": 80,
    "start_time": "2023-03-05T19:04:29.437Z"
   },
   {
    "duration": 86,
    "start_time": "2023-03-05T19:04:38.090Z"
   },
   {
    "duration": 76,
    "start_time": "2023-03-05T19:04:50.810Z"
   },
   {
    "duration": 9,
    "start_time": "2023-03-05T19:05:05.318Z"
   },
   {
    "duration": 13,
    "start_time": "2023-03-05T19:05:06.169Z"
   },
   {
    "duration": 11,
    "start_time": "2023-03-05T19:05:06.697Z"
   },
   {
    "duration": 9,
    "start_time": "2023-03-05T19:05:25.737Z"
   },
   {
    "duration": 4,
    "start_time": "2023-03-05T19:05:46.174Z"
   },
   {
    "duration": 6,
    "start_time": "2023-03-05T19:06:28.010Z"
   },
   {
    "duration": 5,
    "start_time": "2023-03-05T19:07:36.377Z"
   },
   {
    "duration": 222,
    "start_time": "2023-03-05T19:08:03.205Z"
   },
   {
    "duration": 4,
    "start_time": "2023-03-05T19:08:23.178Z"
   },
   {
    "duration": 12,
    "start_time": "2023-03-05T19:08:34.273Z"
   },
   {
    "duration": 6,
    "start_time": "2023-03-05T19:09:19.449Z"
   },
   {
    "duration": 51,
    "start_time": "2023-03-05T19:09:29.331Z"
   },
   {
    "duration": 19,
    "start_time": "2023-03-05T19:09:44.552Z"
   },
   {
    "duration": 8,
    "start_time": "2023-03-05T19:09:48.748Z"
   },
   {
    "duration": 15,
    "start_time": "2023-03-05T19:09:50.655Z"
   },
   {
    "duration": 12,
    "start_time": "2023-03-05T19:09:54.081Z"
   },
   {
    "duration": 11,
    "start_time": "2023-03-05T19:11:26.198Z"
   },
   {
    "duration": 4,
    "start_time": "2023-03-05T19:11:32.237Z"
   },
   {
    "duration": 11,
    "start_time": "2023-03-05T19:11:32.686Z"
   },
   {
    "duration": 6,
    "start_time": "2023-03-05T19:12:25.797Z"
   },
   {
    "duration": 9,
    "start_time": "2023-03-05T19:12:26.385Z"
   },
   {
    "duration": 14,
    "start_time": "2023-03-05T19:12:30.442Z"
   },
   {
    "duration": 10,
    "start_time": "2023-03-05T19:12:31.425Z"
   },
   {
    "duration": 10,
    "start_time": "2023-03-05T19:12:33.252Z"
   },
   {
    "duration": 8,
    "start_time": "2023-03-05T19:12:35.257Z"
   },
   {
    "duration": 12,
    "start_time": "2023-03-05T19:12:35.653Z"
   },
   {
    "duration": 4,
    "start_time": "2023-03-05T19:12:38.000Z"
   },
   {
    "duration": 18,
    "start_time": "2023-03-05T19:12:38.435Z"
   },
   {
    "duration": 19,
    "start_time": "2023-03-05T19:15:04.925Z"
   },
   {
    "duration": 7,
    "start_time": "2023-03-05T19:15:40.665Z"
   },
   {
    "duration": 7,
    "start_time": "2023-03-05T19:15:41.385Z"
   },
   {
    "duration": 7,
    "start_time": "2023-03-05T19:15:41.792Z"
   },
   {
    "duration": 22,
    "start_time": "2023-03-05T19:17:14.456Z"
   },
   {
    "duration": 15,
    "start_time": "2023-03-05T19:19:16.285Z"
   },
   {
    "duration": 27,
    "start_time": "2023-03-05T19:23:07.028Z"
   },
   {
    "duration": 15,
    "start_time": "2023-03-05T19:24:17.358Z"
   },
   {
    "duration": 16,
    "start_time": "2023-03-05T19:24:54.258Z"
   },
   {
    "duration": 21,
    "start_time": "2023-03-05T19:25:10.820Z"
   },
   {
    "duration": 22,
    "start_time": "2023-03-05T19:32:05.050Z"
   },
   {
    "duration": 864,
    "start_time": "2023-03-05T19:39:54.421Z"
   },
   {
    "duration": 718,
    "start_time": "2023-03-05T19:40:52.665Z"
   },
   {
    "duration": 707,
    "start_time": "2023-03-05T19:41:07.457Z"
   },
   {
    "duration": 812,
    "start_time": "2023-03-05T19:41:18.756Z"
   },
   {
    "duration": 729,
    "start_time": "2023-03-05T19:41:26.667Z"
   },
   {
    "duration": 723,
    "start_time": "2023-03-05T19:41:42.658Z"
   },
   {
    "duration": 504,
    "start_time": "2023-03-05T19:45:00.398Z"
   },
   {
    "duration": 353,
    "start_time": "2023-03-05T19:45:13.164Z"
   },
   {
    "duration": 560,
    "start_time": "2023-03-05T19:47:44.614Z"
   },
   {
    "duration": 10,
    "start_time": "2023-03-05T19:55:30.078Z"
   },
   {
    "duration": 217,
    "start_time": "2023-03-05T19:56:02.164Z"
   },
   {
    "duration": 192,
    "start_time": "2023-03-05T19:56:15.482Z"
   },
   {
    "duration": 208,
    "start_time": "2023-03-05T19:56:29.514Z"
   },
   {
    "duration": 5,
    "start_time": "2023-03-05T19:57:38.486Z"
   },
   {
    "duration": 220,
    "start_time": "2023-03-05T19:58:20.990Z"
   },
   {
    "duration": 217,
    "start_time": "2023-03-05T19:58:25.759Z"
   },
   {
    "duration": 259,
    "start_time": "2023-03-05T19:58:29.214Z"
   },
   {
    "duration": 220,
    "start_time": "2023-03-05T19:58:33.766Z"
   },
   {
    "duration": 196,
    "start_time": "2023-03-05T19:58:42.398Z"
   },
   {
    "duration": 11,
    "start_time": "2023-03-05T19:59:28.857Z"
   },
   {
    "duration": 307,
    "start_time": "2023-03-05T20:01:00.790Z"
   },
   {
    "duration": 454,
    "start_time": "2023-03-05T20:02:04.107Z"
   },
   {
    "duration": 503,
    "start_time": "2023-03-05T20:02:16.761Z"
   },
   {
    "duration": 13,
    "start_time": "2023-03-05T20:02:56.214Z"
   },
   {
    "duration": 445,
    "start_time": "2023-03-05T20:03:00.006Z"
   },
   {
    "duration": 10,
    "start_time": "2023-03-05T20:03:01.482Z"
   },
   {
    "duration": 333,
    "start_time": "2023-03-05T20:04:28.075Z"
   },
   {
    "duration": 88,
    "start_time": "2023-03-05T20:04:50.518Z"
   },
   {
    "duration": 343,
    "start_time": "2023-03-05T20:04:54.529Z"
   },
   {
    "duration": 668,
    "start_time": "2023-03-05T20:05:17.374Z"
   },
   {
    "duration": 1351,
    "start_time": "2023-03-06T14:53:25.997Z"
   },
   {
    "duration": 193,
    "start_time": "2023-03-06T14:53:27.351Z"
   },
   {
    "duration": 13,
    "start_time": "2023-03-06T14:53:27.546Z"
   },
   {
    "duration": 13,
    "start_time": "2023-03-06T14:53:27.562Z"
   },
   {
    "duration": 11,
    "start_time": "2023-03-06T14:53:27.577Z"
   },
   {
    "duration": 32,
    "start_time": "2023-03-06T14:53:27.589Z"
   },
   {
    "duration": 6,
    "start_time": "2023-03-06T14:53:27.623Z"
   },
   {
    "duration": 8,
    "start_time": "2023-03-06T14:53:27.630Z"
   },
   {
    "duration": 6,
    "start_time": "2023-03-06T14:53:27.639Z"
   },
   {
    "duration": 8,
    "start_time": "2023-03-06T14:53:27.648Z"
   },
   {
    "duration": 11,
    "start_time": "2023-03-06T14:53:27.658Z"
   },
   {
    "duration": 13,
    "start_time": "2023-03-06T14:53:27.671Z"
   },
   {
    "duration": 38,
    "start_time": "2023-03-06T14:53:27.685Z"
   },
   {
    "duration": 11,
    "start_time": "2023-03-06T14:53:27.725Z"
   },
   {
    "duration": 5,
    "start_time": "2023-03-06T14:53:27.738Z"
   },
   {
    "duration": 12,
    "start_time": "2023-03-06T14:53:27.744Z"
   },
   {
    "duration": 12,
    "start_time": "2023-03-06T14:53:27.757Z"
   },
   {
    "duration": 14,
    "start_time": "2023-03-06T14:53:27.770Z"
   },
   {
    "duration": 41,
    "start_time": "2023-03-06T14:53:27.786Z"
   },
   {
    "duration": 571,
    "start_time": "2023-03-06T14:53:27.829Z"
   },
   {
    "duration": 195,
    "start_time": "2023-03-06T14:53:28.402Z"
   },
   {
    "duration": 379,
    "start_time": "2023-03-06T14:53:28.598Z"
   },
   {
    "duration": 130,
    "start_time": "2023-03-06T14:53:28.979Z"
   },
   {
    "duration": 4,
    "start_time": "2023-03-06T14:53:29.111Z"
   },
   {
    "duration": 155,
    "start_time": "2023-03-06T14:53:29.122Z"
   },
   {
    "duration": 3,
    "start_time": "2023-03-06T14:53:29.279Z"
   },
   {
    "duration": 379,
    "start_time": "2023-03-06T14:53:29.284Z"
   },
   {
    "duration": 9,
    "start_time": "2023-03-06T14:53:29.666Z"
   },
   {
    "duration": 43,
    "start_time": "2023-03-06T14:53:29.677Z"
   },
   {
    "duration": 3,
    "start_time": "2023-03-06T14:53:31.694Z"
   },
   {
    "duration": 78,
    "start_time": "2023-03-06T14:53:32.217Z"
   },
   {
    "duration": 8,
    "start_time": "2023-03-06T14:53:32.483Z"
   },
   {
    "duration": 13,
    "start_time": "2023-03-06T14:53:32.665Z"
   },
   {
    "duration": 10,
    "start_time": "2023-03-06T14:53:32.885Z"
   },
   {
    "duration": 24,
    "start_time": "2023-03-06T14:53:33.287Z"
   },
   {
    "duration": 7,
    "start_time": "2023-03-06T14:53:33.486Z"
   },
   {
    "duration": 7,
    "start_time": "2023-03-06T14:53:33.665Z"
   },
   {
    "duration": 7,
    "start_time": "2023-03-06T14:53:33.866Z"
   },
   {
    "duration": 9,
    "start_time": "2023-03-06T14:53:34.664Z"
   },
   {
    "duration": 4,
    "start_time": "2023-03-06T14:53:35.061Z"
   },
   {
    "duration": 9,
    "start_time": "2023-03-06T14:53:35.257Z"
   },
   {
    "duration": 5,
    "start_time": "2023-03-06T14:53:35.461Z"
   },
   {
    "duration": 12,
    "start_time": "2023-03-06T14:53:35.662Z"
   },
   {
    "duration": 4,
    "start_time": "2023-03-06T14:53:36.057Z"
   },
   {
    "duration": 15,
    "start_time": "2023-03-06T14:53:36.253Z"
   },
   {
    "duration": 11,
    "start_time": "2023-03-06T14:53:37.145Z"
   },
   {
    "duration": 14,
    "start_time": "2023-03-06T14:53:37.688Z"
   },
   {
    "duration": 11,
    "start_time": "2023-03-06T14:53:38.329Z"
   },
   {
    "duration": 502,
    "start_time": "2023-03-06T14:53:39.357Z"
   },
   {
    "duration": 279,
    "start_time": "2023-03-06T14:53:40.033Z"
   },
   {
    "duration": 322,
    "start_time": "2023-03-06T14:53:40.609Z"
   },
   {
    "duration": 116,
    "start_time": "2023-03-06T14:53:41.890Z"
   },
   {
    "duration": 6,
    "start_time": "2023-03-06T14:53:42.865Z"
   },
   {
    "duration": 132,
    "start_time": "2023-03-06T14:53:43.658Z"
   },
   {
    "duration": 4,
    "start_time": "2023-03-06T14:53:46.893Z"
   },
   {
    "duration": 385,
    "start_time": "2023-03-06T14:53:47.701Z"
   },
   {
    "duration": 9,
    "start_time": "2023-03-06T14:53:48.941Z"
   },
   {
    "duration": 466,
    "start_time": "2023-03-06T15:00:52.094Z"
   },
   {
    "duration": 49,
    "start_time": "2023-03-06T15:16:58.485Z"
   },
   {
    "duration": 208,
    "start_time": "2023-03-06T15:17:04.172Z"
   },
   {
    "duration": 296,
    "start_time": "2023-03-06T15:17:24.345Z"
   },
   {
    "duration": 271,
    "start_time": "2023-03-06T15:17:28.969Z"
   },
   {
    "duration": 211,
    "start_time": "2023-03-06T15:17:47.437Z"
   },
   {
    "duration": 98,
    "start_time": "2023-03-06T15:25:20.853Z"
   },
   {
    "duration": 202,
    "start_time": "2023-03-06T15:25:30.925Z"
   },
   {
    "duration": 219,
    "start_time": "2023-03-06T15:26:58.413Z"
   },
   {
    "duration": 400,
    "start_time": "2023-03-06T15:27:10.598Z"
   },
   {
    "duration": 227,
    "start_time": "2023-03-06T15:27:25.633Z"
   },
   {
    "duration": 477,
    "start_time": "2023-03-06T15:27:37.969Z"
   },
   {
    "duration": 199,
    "start_time": "2023-03-06T15:27:47.410Z"
   },
   {
    "duration": 210,
    "start_time": "2023-03-06T15:28:03.974Z"
   },
   {
    "duration": 196,
    "start_time": "2023-03-06T15:28:17.370Z"
   },
   {
    "duration": 277,
    "start_time": "2023-03-06T15:29:15.350Z"
   },
   {
    "duration": 305,
    "start_time": "2023-03-06T15:30:48.726Z"
   },
   {
    "duration": 204,
    "start_time": "2023-03-06T15:31:20.710Z"
   },
   {
    "duration": 529,
    "start_time": "2023-03-06T15:31:46.066Z"
   },
   {
    "duration": 218,
    "start_time": "2023-03-06T15:31:48.635Z"
   },
   {
    "duration": 362,
    "start_time": "2023-03-06T15:31:50.571Z"
   },
   {
    "duration": 210,
    "start_time": "2023-03-06T15:31:52.582Z"
   },
   {
    "duration": 280,
    "start_time": "2023-03-06T15:31:54.543Z"
   },
   {
    "duration": 127,
    "start_time": "2023-03-06T15:31:56.322Z"
   },
   {
    "duration": 127,
    "start_time": "2023-03-06T15:32:38.274Z"
   },
   {
    "duration": 121,
    "start_time": "2023-03-06T15:32:44.754Z"
   },
   {
    "duration": 118,
    "start_time": "2023-03-06T15:32:50.740Z"
   },
   {
    "duration": 348,
    "start_time": "2023-03-06T15:33:39.315Z"
   },
   {
    "duration": 131,
    "start_time": "2023-03-06T15:36:23.195Z"
   },
   {
    "duration": 140,
    "start_time": "2023-03-06T15:36:40.830Z"
   },
   {
    "duration": 145,
    "start_time": "2023-03-06T15:36:47.569Z"
   },
   {
    "duration": 135,
    "start_time": "2023-03-06T15:36:52.882Z"
   },
   {
    "duration": 215,
    "start_time": "2023-03-06T15:37:16.439Z"
   },
   {
    "duration": 138,
    "start_time": "2023-03-06T15:37:21.938Z"
   },
   {
    "duration": 156,
    "start_time": "2023-03-06T15:38:06.378Z"
   },
   {
    "duration": 125,
    "start_time": "2023-03-06T15:42:32.891Z"
   },
   {
    "duration": 5,
    "start_time": "2023-03-06T15:45:19.371Z"
   },
   {
    "duration": 4,
    "start_time": "2023-03-06T15:51:53.624Z"
   },
   {
    "duration": 74,
    "start_time": "2023-03-06T15:51:54.584Z"
   },
   {
    "duration": 8,
    "start_time": "2023-03-06T15:51:54.983Z"
   },
   {
    "duration": 13,
    "start_time": "2023-03-06T15:51:55.547Z"
   },
   {
    "duration": 10,
    "start_time": "2023-03-06T15:51:55.992Z"
   },
   {
    "duration": 24,
    "start_time": "2023-03-06T15:51:56.891Z"
   },
   {
    "duration": 7,
    "start_time": "2023-03-06T15:51:58.796Z"
   },
   {
    "duration": 8,
    "start_time": "2023-03-06T15:51:58.984Z"
   },
   {
    "duration": 7,
    "start_time": "2023-03-06T15:51:59.184Z"
   },
   {
    "duration": 10,
    "start_time": "2023-03-06T15:52:00.075Z"
   },
   {
    "duration": 4,
    "start_time": "2023-03-06T15:52:01.436Z"
   },
   {
    "duration": 8,
    "start_time": "2023-03-06T15:52:02.878Z"
   },
   {
    "duration": 5,
    "start_time": "2023-03-06T15:52:03.067Z"
   },
   {
    "duration": 12,
    "start_time": "2023-03-06T15:52:03.267Z"
   },
   {
    "duration": 4,
    "start_time": "2023-03-06T15:52:03.667Z"
   },
   {
    "duration": 11,
    "start_time": "2023-03-06T15:52:03.871Z"
   },
   {
    "duration": 11,
    "start_time": "2023-03-06T15:52:05.091Z"
   },
   {
    "duration": 12,
    "start_time": "2023-03-06T15:52:08.324Z"
   },
   {
    "duration": 9,
    "start_time": "2023-03-06T16:00:24.320Z"
   },
   {
    "duration": 289,
    "start_time": "2023-03-06T16:06:17.169Z"
   },
   {
    "duration": 286,
    "start_time": "2023-03-06T16:06:29.059Z"
   },
   {
    "duration": 603,
    "start_time": "2023-03-06T16:06:32.121Z"
   },
   {
    "duration": 285,
    "start_time": "2023-03-06T16:07:16.337Z"
   },
   {
    "duration": 303,
    "start_time": "2023-03-06T16:19:38.250Z"
   },
   {
    "duration": 402,
    "start_time": "2023-03-06T16:23:29.214Z"
   },
   {
    "duration": 388,
    "start_time": "2023-03-06T16:25:14.510Z"
   },
   {
    "duration": 473,
    "start_time": "2023-03-06T16:26:27.489Z"
   },
   {
    "duration": 414,
    "start_time": "2023-03-06T16:31:17.897Z"
   },
   {
    "duration": 159,
    "start_time": "2023-03-06T16:34:14.105Z"
   },
   {
    "duration": 219,
    "start_time": "2023-03-06T16:34:22.138Z"
   },
   {
    "duration": 212,
    "start_time": "2023-03-06T16:34:24.238Z"
   },
   {
    "duration": 201,
    "start_time": "2023-03-06T16:34:33.578Z"
   },
   {
    "duration": 208,
    "start_time": "2023-03-06T16:34:40.038Z"
   },
   {
    "duration": 361,
    "start_time": "2023-03-06T16:43:17.328Z"
   },
   {
    "duration": 343,
    "start_time": "2023-03-06T16:43:34.392Z"
   },
   {
    "duration": 6,
    "start_time": "2023-03-06T16:43:35.015Z"
   },
   {
    "duration": 222,
    "start_time": "2023-03-06T16:44:56.667Z"
   },
   {
    "duration": 142,
    "start_time": "2023-03-06T16:44:57.351Z"
   },
   {
    "duration": 6,
    "start_time": "2023-03-06T16:44:58.367Z"
   },
   {
    "duration": 4,
    "start_time": "2023-03-06T16:44:59.435Z"
   },
   {
    "duration": 27,
    "start_time": "2023-03-06T16:45:00.633Z"
   },
   {
    "duration": 5,
    "start_time": "2023-03-06T17:23:12.037Z"
   },
   {
    "duration": 32,
    "start_time": "2023-03-06T17:23:12.738Z"
   },
   {
    "duration": 4,
    "start_time": "2023-03-06T17:23:24.371Z"
   },
   {
    "duration": 21,
    "start_time": "2023-03-06T17:23:26.874Z"
   },
   {
    "duration": 41,
    "start_time": "2023-03-06T17:39:39.157Z"
   },
   {
    "duration": 4,
    "start_time": "2023-03-06T17:39:54.285Z"
   },
   {
    "duration": 5,
    "start_time": "2023-03-06T17:45:47.219Z"
   },
   {
    "duration": 35,
    "start_time": "2023-03-06T17:45:48.134Z"
   },
   {
    "duration": 10,
    "start_time": "2023-03-06T17:55:45.442Z"
   },
   {
    "duration": 4,
    "start_time": "2023-03-06T17:56:47.433Z"
   },
   {
    "duration": 27,
    "start_time": "2023-03-06T17:56:48.017Z"
   },
   {
    "duration": 10,
    "start_time": "2023-03-06T17:56:52.820Z"
   },
   {
    "duration": 4,
    "start_time": "2023-03-06T17:57:47.373Z"
   },
   {
    "duration": 21,
    "start_time": "2023-03-06T17:57:48.629Z"
   },
   {
    "duration": 14,
    "start_time": "2023-03-06T17:57:50.622Z"
   },
   {
    "duration": 5,
    "start_time": "2023-03-06T18:02:32.574Z"
   },
   {
    "duration": 27,
    "start_time": "2023-03-06T18:02:33.039Z"
   },
   {
    "duration": 12,
    "start_time": "2023-03-06T18:02:34.726Z"
   },
   {
    "duration": 15,
    "start_time": "2023-03-06T18:02:36.710Z"
   },
   {
    "duration": 9,
    "start_time": "2023-03-06T18:02:37.311Z"
   },
   {
    "duration": 24,
    "start_time": "2023-03-06T18:02:38.038Z"
   },
   {
    "duration": 12,
    "start_time": "2023-03-06T18:02:57.901Z"
   },
   {
    "duration": 10,
    "start_time": "2023-03-06T18:04:20.810Z"
   },
   {
    "duration": 12,
    "start_time": "2023-03-06T18:14:56.718Z"
   },
   {
    "duration": 14,
    "start_time": "2023-03-06T18:17:51.458Z"
   },
   {
    "duration": 9,
    "start_time": "2023-03-06T18:21:17.774Z"
   },
   {
    "duration": 12,
    "start_time": "2023-03-06T18:21:22.228Z"
   },
   {
    "duration": 25,
    "start_time": "2023-03-06T18:21:22.730Z"
   },
   {
    "duration": 13,
    "start_time": "2023-03-06T18:26:49.396Z"
   },
   {
    "duration": 8,
    "start_time": "2023-03-06T18:27:44.174Z"
   },
   {
    "duration": 21,
    "start_time": "2023-03-06T18:27:44.800Z"
   },
   {
    "duration": 3,
    "start_time": "2023-03-06T18:29:09.379Z"
   },
   {
    "duration": 22,
    "start_time": "2023-03-06T18:29:09.914Z"
   },
   {
    "duration": 9,
    "start_time": "2023-03-06T18:29:19.344Z"
   },
   {
    "duration": 18,
    "start_time": "2023-03-06T18:29:24.826Z"
   },
   {
    "duration": 8,
    "start_time": "2023-03-06T18:29:26.233Z"
   },
   {
    "duration": 22,
    "start_time": "2023-03-06T18:29:26.867Z"
   },
   {
    "duration": 48,
    "start_time": "2023-03-06T18:33:09.305Z"
   },
   {
    "duration": 11,
    "start_time": "2023-03-06T18:35:55.119Z"
   },
   {
    "duration": 9,
    "start_time": "2023-03-06T18:35:56.889Z"
   },
   {
    "duration": 22,
    "start_time": "2023-03-06T18:35:57.470Z"
   },
   {
    "duration": 10,
    "start_time": "2023-03-06T18:37:29.942Z"
   },
   {
    "duration": 6,
    "start_time": "2023-03-06T18:46:26.611Z"
   },
   {
    "duration": 189,
    "start_time": "2023-03-06T18:46:28.236Z"
   },
   {
    "duration": 237,
    "start_time": "2023-03-06T18:46:34.031Z"
   },
   {
    "duration": 163,
    "start_time": "2023-03-06T18:46:34.270Z"
   },
   {
    "duration": 7,
    "start_time": "2023-03-06T18:46:37.947Z"
   },
   {
    "duration": 4,
    "start_time": "2023-03-06T18:46:38.971Z"
   },
   {
    "duration": 32,
    "start_time": "2023-03-06T18:46:39.475Z"
   },
   {
    "duration": 12,
    "start_time": "2023-03-06T18:46:41.003Z"
   },
   {
    "duration": 3,
    "start_time": "2023-03-06T19:15:34.980Z"
   },
   {
    "duration": 77,
    "start_time": "2023-03-06T19:15:35.524Z"
   },
   {
    "duration": 9,
    "start_time": "2023-03-06T19:15:35.934Z"
   },
   {
    "duration": 16,
    "start_time": "2023-03-06T19:15:36.429Z"
   },
   {
    "duration": 15,
    "start_time": "2023-03-06T19:15:37.108Z"
   },
   {
    "duration": 32,
    "start_time": "2023-03-06T19:15:37.530Z"
   },
   {
    "duration": 8,
    "start_time": "2023-03-06T19:15:37.732Z"
   },
   {
    "duration": 10,
    "start_time": "2023-03-06T19:15:37.932Z"
   },
   {
    "duration": 7,
    "start_time": "2023-03-06T19:15:38.124Z"
   },
   {
    "duration": 11,
    "start_time": "2023-03-06T19:15:38.890Z"
   },
   {
    "duration": 4,
    "start_time": "2023-03-06T19:15:39.273Z"
   },
   {
    "duration": 12,
    "start_time": "2023-03-06T19:15:39.496Z"
   },
   {
    "duration": 6,
    "start_time": "2023-03-06T19:15:39.665Z"
   },
   {
    "duration": 14,
    "start_time": "2023-03-06T19:15:39.860Z"
   },
   {
    "duration": 5,
    "start_time": "2023-03-06T19:15:40.262Z"
   },
   {
    "duration": 17,
    "start_time": "2023-03-06T19:15:40.441Z"
   },
   {
    "duration": 1225,
    "start_time": "2023-03-06T19:15:48.609Z"
   },
   {
    "duration": 77,
    "start_time": "2023-03-06T19:15:49.836Z"
   },
   {
    "duration": 16,
    "start_time": "2023-03-06T19:15:49.915Z"
   },
   {
    "duration": 17,
    "start_time": "2023-03-06T19:15:49.933Z"
   },
   {
    "duration": 14,
    "start_time": "2023-03-06T19:15:49.954Z"
   },
   {
    "duration": 32,
    "start_time": "2023-03-06T19:15:49.970Z"
   },
   {
    "duration": 21,
    "start_time": "2023-03-06T19:15:50.004Z"
   },
   {
    "duration": 7,
    "start_time": "2023-03-06T19:15:50.027Z"
   },
   {
    "duration": 7,
    "start_time": "2023-03-06T19:15:50.037Z"
   },
   {
    "duration": 19,
    "start_time": "2023-03-06T19:15:50.046Z"
   },
   {
    "duration": 26,
    "start_time": "2023-03-06T19:15:50.067Z"
   },
   {
    "duration": 12,
    "start_time": "2023-03-06T19:15:50.095Z"
   },
   {
    "duration": 13,
    "start_time": "2023-03-06T19:15:50.109Z"
   },
   {
    "duration": 15,
    "start_time": "2023-03-06T19:15:50.126Z"
   },
   {
    "duration": 5,
    "start_time": "2023-03-06T19:15:50.143Z"
   },
   {
    "duration": 18,
    "start_time": "2023-03-06T19:15:50.150Z"
   },
   {
    "duration": 14,
    "start_time": "2023-03-06T19:15:50.170Z"
   },
   {
    "duration": 42,
    "start_time": "2023-03-06T19:15:50.186Z"
   },
   {
    "duration": 13,
    "start_time": "2023-03-06T19:15:50.230Z"
   },
   {
    "duration": 633,
    "start_time": "2023-03-06T19:15:50.245Z"
   },
   {
    "duration": 200,
    "start_time": "2023-03-06T19:15:50.880Z"
   },
   {
    "duration": 299,
    "start_time": "2023-03-06T19:15:51.081Z"
   },
   {
    "duration": 224,
    "start_time": "2023-03-06T19:15:51.382Z"
   },
   {
    "duration": 362,
    "start_time": "2023-03-06T19:15:51.608Z"
   },
   {
    "duration": 147,
    "start_time": "2023-03-06T19:15:51.972Z"
   },
   {
    "duration": 5,
    "start_time": "2023-03-06T19:15:52.121Z"
   },
   {
    "duration": 173,
    "start_time": "2023-03-06T19:15:52.127Z"
   },
   {
    "duration": 314,
    "start_time": "2023-03-06T19:15:52.302Z"
   },
   {
    "duration": 161,
    "start_time": "2023-03-06T19:15:52.621Z"
   },
   {
    "duration": 7,
    "start_time": "2023-03-06T19:15:52.784Z"
   },
   {
    "duration": 17,
    "start_time": "2023-03-06T19:15:52.792Z"
   },
   {
    "duration": 39,
    "start_time": "2023-03-06T19:15:52.811Z"
   },
   {
    "duration": 10,
    "start_time": "2023-03-06T19:15:52.853Z"
   },
   {
    "duration": 23,
    "start_time": "2023-03-06T19:15:52.864Z"
   },
   {
    "duration": 14,
    "start_time": "2023-03-06T19:15:52.888Z"
   },
   {
    "duration": 27,
    "start_time": "2023-03-06T19:15:52.903Z"
   },
   {
    "duration": 105,
    "start_time": "2023-03-06T19:15:52.932Z"
   },
   {
    "duration": 3,
    "start_time": "2023-03-06T19:15:58.230Z"
   },
   {
    "duration": 74,
    "start_time": "2023-03-06T19:15:58.548Z"
   },
   {
    "duration": 8,
    "start_time": "2023-03-06T19:15:58.780Z"
   },
   {
    "duration": 14,
    "start_time": "2023-03-06T19:15:59.012Z"
   },
   {
    "duration": 12,
    "start_time": "2023-03-06T19:15:59.680Z"
   },
   {
    "duration": 25,
    "start_time": "2023-03-06T19:16:00.080Z"
   },
   {
    "duration": 7,
    "start_time": "2023-03-06T19:16:00.320Z"
   },
   {
    "duration": 9,
    "start_time": "2023-03-06T19:16:00.476Z"
   },
   {
    "duration": 8,
    "start_time": "2023-03-06T19:16:00.664Z"
   },
   {
    "duration": 12,
    "start_time": "2023-03-06T19:16:01.464Z"
   },
   {
    "duration": 4,
    "start_time": "2023-03-06T19:16:01.904Z"
   },
   {
    "duration": 11,
    "start_time": "2023-03-06T19:16:02.080Z"
   },
   {
    "duration": 6,
    "start_time": "2023-03-06T19:16:02.280Z"
   },
   {
    "duration": 15,
    "start_time": "2023-03-06T19:16:02.476Z"
   },
   {
    "duration": 3,
    "start_time": "2023-03-06T19:16:02.899Z"
   },
   {
    "duration": 11,
    "start_time": "2023-03-06T19:16:03.116Z"
   },
   {
    "duration": 11,
    "start_time": "2023-03-06T19:16:03.932Z"
   },
   {
    "duration": 11,
    "start_time": "2023-03-06T19:16:04.516Z"
   },
   {
    "duration": 14,
    "start_time": "2023-03-06T19:16:05.138Z"
   },
   {
    "duration": 468,
    "start_time": "2023-03-06T19:16:06.533Z"
   },
   {
    "duration": 193,
    "start_time": "2023-03-06T19:16:07.152Z"
   },
   {
    "duration": 301,
    "start_time": "2023-03-06T19:16:07.777Z"
   },
   {
    "duration": 222,
    "start_time": "2023-03-06T19:16:08.408Z"
   },
   {
    "duration": 318,
    "start_time": "2023-03-06T19:16:09.012Z"
   },
   {
    "duration": 137,
    "start_time": "2023-03-06T19:16:09.623Z"
   },
   {
    "duration": 6,
    "start_time": "2023-03-06T19:16:10.440Z"
   },
   {
    "duration": 148,
    "start_time": "2023-03-06T19:16:11.104Z"
   },
   {
    "duration": 222,
    "start_time": "2023-03-06T19:16:12.568Z"
   },
   {
    "duration": 251,
    "start_time": "2023-03-06T19:16:12.791Z"
   },
   {
    "duration": 9,
    "start_time": "2023-03-06T19:16:13.148Z"
   },
   {
    "duration": 4,
    "start_time": "2023-03-06T19:16:13.336Z"
   },
   {
    "duration": 21,
    "start_time": "2023-03-06T19:16:13.564Z"
   },
   {
    "duration": 8,
    "start_time": "2023-03-06T19:16:14.416Z"
   },
   {
    "duration": 18,
    "start_time": "2023-03-06T19:16:15.454Z"
   },
   {
    "duration": 11,
    "start_time": "2023-03-06T19:16:15.920Z"
   },
   {
    "duration": 33,
    "start_time": "2023-03-06T19:16:16.120Z"
   },
   {
    "duration": 16,
    "start_time": "2023-03-06T19:16:17.133Z"
   },
   {
    "duration": 12,
    "start_time": "2023-03-06T19:16:46.515Z"
   },
   {
    "duration": 1182,
    "start_time": "2023-03-07T07:38:18.935Z"
   },
   {
    "duration": 204,
    "start_time": "2023-03-07T07:38:20.120Z"
   },
   {
    "duration": 12,
    "start_time": "2023-03-07T07:38:20.326Z"
   },
   {
    "duration": 15,
    "start_time": "2023-03-07T07:38:20.339Z"
   },
   {
    "duration": 31,
    "start_time": "2023-03-07T07:38:20.357Z"
   },
   {
    "duration": 41,
    "start_time": "2023-03-07T07:38:20.390Z"
   },
   {
    "duration": 7,
    "start_time": "2023-03-07T07:38:20.434Z"
   },
   {
    "duration": 7,
    "start_time": "2023-03-07T07:38:20.443Z"
   },
   {
    "duration": 7,
    "start_time": "2023-03-07T07:38:20.452Z"
   },
   {
    "duration": 11,
    "start_time": "2023-03-07T07:38:20.461Z"
   },
   {
    "duration": 40,
    "start_time": "2023-03-07T07:38:20.474Z"
   },
   {
    "duration": 13,
    "start_time": "2023-03-07T07:38:20.516Z"
   },
   {
    "duration": 25,
    "start_time": "2023-03-07T07:38:20.531Z"
   },
   {
    "duration": 21,
    "start_time": "2023-03-07T07:38:20.559Z"
   },
   {
    "duration": 9,
    "start_time": "2023-03-07T07:38:20.582Z"
   },
   {
    "duration": 13,
    "start_time": "2023-03-07T07:38:20.593Z"
   },
   {
    "duration": 15,
    "start_time": "2023-03-07T07:38:20.608Z"
   },
   {
    "duration": 11,
    "start_time": "2023-03-07T07:38:20.625Z"
   },
   {
    "duration": 21,
    "start_time": "2023-03-07T07:38:20.637Z"
   },
   {
    "duration": 556,
    "start_time": "2023-03-07T07:38:20.660Z"
   },
   {
    "duration": 206,
    "start_time": "2023-03-07T07:38:21.217Z"
   },
   {
    "duration": 293,
    "start_time": "2023-03-07T07:38:21.425Z"
   },
   {
    "duration": 213,
    "start_time": "2023-03-07T07:38:21.719Z"
   },
   {
    "duration": 296,
    "start_time": "2023-03-07T07:38:21.934Z"
   },
   {
    "duration": 136,
    "start_time": "2023-03-07T07:38:22.232Z"
   },
   {
    "duration": 5,
    "start_time": "2023-03-07T07:38:22.369Z"
   },
   {
    "duration": 167,
    "start_time": "2023-03-07T07:38:22.376Z"
   },
   {
    "duration": 296,
    "start_time": "2023-03-07T07:38:22.545Z"
   },
   {
    "duration": 140,
    "start_time": "2023-03-07T07:38:22.843Z"
   },
   {
    "duration": 7,
    "start_time": "2023-03-07T07:38:22.984Z"
   },
   {
    "duration": 3,
    "start_time": "2023-03-07T07:38:22.993Z"
   },
   {
    "duration": 32,
    "start_time": "2023-03-07T07:38:23.013Z"
   },
   {
    "duration": 9,
    "start_time": "2023-03-07T07:38:23.046Z"
   },
   {
    "duration": 12,
    "start_time": "2023-03-07T07:38:23.057Z"
   },
   {
    "duration": 8,
    "start_time": "2023-03-07T07:38:23.070Z"
   },
   {
    "duration": 39,
    "start_time": "2023-03-07T07:38:23.080Z"
   },
   {
    "duration": 9,
    "start_time": "2023-03-07T07:38:23.121Z"
   },
   {
    "duration": 54,
    "start_time": "2023-03-07T11:51:41.198Z"
   },
   {
    "duration": 1277,
    "start_time": "2023-03-07T11:51:51.833Z"
   },
   {
    "duration": 196,
    "start_time": "2023-03-07T11:51:53.112Z"
   },
   {
    "duration": 11,
    "start_time": "2023-03-07T11:51:53.309Z"
   },
   {
    "duration": 35,
    "start_time": "2023-03-07T11:51:53.322Z"
   },
   {
    "duration": 9,
    "start_time": "2023-03-07T11:51:53.490Z"
   },
   {
    "duration": 23,
    "start_time": "2023-03-07T11:51:54.389Z"
   },
   {
    "duration": 7,
    "start_time": "2023-03-07T11:51:54.793Z"
   },
   {
    "duration": 7,
    "start_time": "2023-03-07T11:51:55.225Z"
   },
   {
    "duration": 6,
    "start_time": "2023-03-07T11:51:55.630Z"
   },
   {
    "duration": 8,
    "start_time": "2023-03-07T11:51:57.197Z"
   },
   {
    "duration": 4,
    "start_time": "2023-03-07T11:51:58.466Z"
   },
   {
    "duration": 8,
    "start_time": "2023-03-07T11:51:59.109Z"
   },
   {
    "duration": 5,
    "start_time": "2023-03-07T11:51:59.326Z"
   },
   {
    "duration": 15,
    "start_time": "2023-03-07T11:51:59.535Z"
   },
   {
    "duration": 4,
    "start_time": "2023-03-07T11:51:59.921Z"
   },
   {
    "duration": 18,
    "start_time": "2023-03-07T11:52:00.125Z"
   },
   {
    "duration": 12,
    "start_time": "2023-03-07T11:52:01.398Z"
   },
   {
    "duration": 7,
    "start_time": "2023-03-07T12:06:51.771Z"
   },
   {
    "duration": 9,
    "start_time": "2023-03-07T12:10:23.802Z"
   },
   {
    "duration": 7,
    "start_time": "2023-03-07T12:14:30.373Z"
   },
   {
    "duration": 7,
    "start_time": "2023-03-07T12:20:25.014Z"
   },
   {
    "duration": 7,
    "start_time": "2023-03-07T12:20:44.942Z"
   },
   {
    "duration": 6,
    "start_time": "2023-03-07T12:20:52.708Z"
   },
   {
    "duration": 9,
    "start_time": "2023-03-07T12:23:47.902Z"
   },
   {
    "duration": 5,
    "start_time": "2023-03-07T12:23:49.008Z"
   },
   {
    "duration": 5,
    "start_time": "2023-03-07T12:37:15.496Z"
   },
   {
    "duration": 7,
    "start_time": "2023-03-07T12:38:36.715Z"
   },
   {
    "duration": 6,
    "start_time": "2023-03-07T12:39:09.699Z"
   },
   {
    "duration": 5,
    "start_time": "2023-03-07T12:39:24.199Z"
   },
   {
    "duration": 4,
    "start_time": "2023-03-07T12:39:46.952Z"
   },
   {
    "duration": 77,
    "start_time": "2023-03-07T12:39:47.492Z"
   },
   {
    "duration": 155,
    "start_time": "2023-03-07T12:39:50.867Z"
   },
   {
    "duration": 4,
    "start_time": "2023-03-07T12:39:55.431Z"
   },
   {
    "duration": 81,
    "start_time": "2023-03-07T12:39:56.227Z"
   },
   {
    "duration": 9,
    "start_time": "2023-03-07T12:39:56.699Z"
   },
   {
    "duration": 11,
    "start_time": "2023-03-07T12:39:57.900Z"
   },
   {
    "duration": 11,
    "start_time": "2023-03-07T12:39:58.327Z"
   },
   {
    "duration": 22,
    "start_time": "2023-03-07T12:39:58.963Z"
   },
   {
    "duration": 6,
    "start_time": "2023-03-07T12:39:59.291Z"
   },
   {
    "duration": 7,
    "start_time": "2023-03-07T12:39:59.603Z"
   },
   {
    "duration": 7,
    "start_time": "2023-03-07T12:39:59.945Z"
   },
   {
    "duration": 8,
    "start_time": "2023-03-07T12:40:01.262Z"
   },
   {
    "duration": 6,
    "start_time": "2023-03-07T12:41:06.321Z"
   },
   {
    "duration": 9,
    "start_time": "2023-03-07T12:41:06.698Z"
   },
   {
    "duration": 4,
    "start_time": "2023-03-07T12:41:07.204Z"
   },
   {
    "duration": 12,
    "start_time": "2023-03-07T12:41:07.627Z"
   },
   {
    "duration": 5,
    "start_time": "2023-03-07T12:44:58.524Z"
   },
   {
    "duration": 11,
    "start_time": "2023-03-07T12:46:22.289Z"
   },
   {
    "duration": 4,
    "start_time": "2023-03-07T12:47:04.895Z"
   },
   {
    "duration": 3,
    "start_time": "2023-03-07T12:47:54.283Z"
   },
   {
    "duration": 4,
    "start_time": "2023-03-07T12:48:17.628Z"
   },
   {
    "duration": 9,
    "start_time": "2023-03-07T12:48:28.231Z"
   },
   {
    "duration": 10,
    "start_time": "2023-03-07T12:48:28.880Z"
   },
   {
    "duration": 9,
    "start_time": "2023-03-07T12:49:01.283Z"
   },
   {
    "duration": 12,
    "start_time": "2023-03-07T12:49:08.175Z"
   },
   {
    "duration": 11,
    "start_time": "2023-03-07T12:49:11.003Z"
   },
   {
    "duration": 10,
    "start_time": "2023-03-07T12:49:13.415Z"
   },
   {
    "duration": 619,
    "start_time": "2023-03-07T12:49:18.535Z"
   },
   {
    "duration": 10,
    "start_time": "2023-03-07T12:49:19.724Z"
   },
   {
    "duration": 13,
    "start_time": "2023-03-07T12:49:20.576Z"
   },
   {
    "duration": 483,
    "start_time": "2023-03-07T12:49:43.593Z"
   },
   {
    "duration": 3,
    "start_time": "2023-03-07T12:49:55.792Z"
   },
   {
    "duration": 3,
    "start_time": "2023-03-07T12:49:56.335Z"
   },
   {
    "duration": 88,
    "start_time": "2023-03-07T12:49:56.530Z"
   },
   {
    "duration": 10,
    "start_time": "2023-03-07T12:49:56.709Z"
   },
   {
    "duration": 15,
    "start_time": "2023-03-07T12:49:56.892Z"
   },
   {
    "duration": 9,
    "start_time": "2023-03-07T12:49:57.080Z"
   },
   {
    "duration": 23,
    "start_time": "2023-03-07T12:49:57.400Z"
   },
   {
    "duration": 6,
    "start_time": "2023-03-07T12:49:57.589Z"
   },
   {
    "duration": 7,
    "start_time": "2023-03-07T12:49:57.783Z"
   },
   {
    "duration": 6,
    "start_time": "2023-03-07T12:49:57.924Z"
   },
   {
    "duration": 8,
    "start_time": "2023-03-07T12:49:58.612Z"
   },
   {
    "duration": 4,
    "start_time": "2023-03-07T12:49:59.278Z"
   },
   {
    "duration": 10,
    "start_time": "2023-03-07T12:49:59.466Z"
   },
   {
    "duration": 5,
    "start_time": "2023-03-07T12:49:59.627Z"
   },
   {
    "duration": 11,
    "start_time": "2023-03-07T12:49:59.792Z"
   },
   {
    "duration": 5,
    "start_time": "2023-03-07T12:50:00.143Z"
   },
   {
    "duration": 10,
    "start_time": "2023-03-07T12:50:00.340Z"
   },
   {
    "duration": 6,
    "start_time": "2023-03-07T12:50:01.036Z"
   },
   {
    "duration": 4,
    "start_time": "2023-03-07T12:50:01.204Z"
   },
   {
    "duration": 9,
    "start_time": "2023-03-07T12:50:01.392Z"
   },
   {
    "duration": 7,
    "start_time": "2023-03-07T12:50:01.772Z"
   },
   {
    "duration": 11,
    "start_time": "2023-03-07T12:50:02.642Z"
   },
   {
    "duration": 12,
    "start_time": "2023-03-07T12:50:03.401Z"
   },
   {
    "duration": 12,
    "start_time": "2023-03-07T12:50:03.986Z"
   },
   {
    "duration": 555,
    "start_time": "2023-03-07T12:50:05.378Z"
   },
   {
    "duration": 208,
    "start_time": "2023-03-07T12:50:13.144Z"
   },
   {
    "duration": 418,
    "start_time": "2023-03-07T12:50:17.996Z"
   },
   {
    "duration": 217,
    "start_time": "2023-03-07T12:50:30.597Z"
   },
   {
    "duration": 271,
    "start_time": "2023-03-07T12:50:48.878Z"
   },
   {
    "duration": 185,
    "start_time": "2023-03-07T12:51:43.995Z"
   },
   {
    "duration": 5,
    "start_time": "2023-03-07T12:51:47.936Z"
   },
   {
    "duration": 129,
    "start_time": "2023-03-07T12:51:51.651Z"
   },
   {
    "duration": 208,
    "start_time": "2023-03-07T12:51:58.472Z"
   },
   {
    "duration": 130,
    "start_time": "2023-03-07T12:51:59.419Z"
   },
   {
    "duration": 7,
    "start_time": "2023-03-07T12:52:00.523Z"
   },
   {
    "duration": 4,
    "start_time": "2023-03-07T12:52:00.997Z"
   },
   {
    "duration": 23,
    "start_time": "2023-03-07T12:52:01.243Z"
   },
   {
    "duration": 9,
    "start_time": "2023-03-07T12:52:07.175Z"
   },
   {
    "duration": 13,
    "start_time": "2023-03-07T12:52:10.180Z"
   },
   {
    "duration": 9,
    "start_time": "2023-03-07T12:52:11.300Z"
   },
   {
    "duration": 23,
    "start_time": "2023-03-07T12:52:11.667Z"
   },
   {
    "duration": 9,
    "start_time": "2023-03-07T12:52:14.091Z"
   },
   {
    "duration": 1269,
    "start_time": "2023-03-07T15:13:17.713Z"
   },
   {
    "duration": 3,
    "start_time": "2023-03-07T15:13:18.985Z"
   },
   {
    "duration": 93,
    "start_time": "2023-03-07T15:13:18.990Z"
   },
   {
    "duration": 12,
    "start_time": "2023-03-07T15:13:19.085Z"
   },
   {
    "duration": 18,
    "start_time": "2023-03-07T15:13:19.100Z"
   },
   {
    "duration": 24,
    "start_time": "2023-03-07T15:13:19.120Z"
   },
   {
    "duration": 26,
    "start_time": "2023-03-07T15:13:19.145Z"
   },
   {
    "duration": 6,
    "start_time": "2023-03-07T15:13:19.172Z"
   },
   {
    "duration": 8,
    "start_time": "2023-03-07T15:13:19.180Z"
   },
   {
    "duration": 14,
    "start_time": "2023-03-07T15:13:19.209Z"
   },
   {
    "duration": 15,
    "start_time": "2023-03-07T15:13:19.225Z"
   },
   {
    "duration": 7,
    "start_time": "2023-03-07T15:13:19.242Z"
   },
   {
    "duration": 11,
    "start_time": "2023-03-07T15:13:19.251Z"
   },
   {
    "duration": 6,
    "start_time": "2023-03-07T15:13:19.265Z"
   },
   {
    "duration": 14,
    "start_time": "2023-03-07T15:13:19.272Z"
   },
   {
    "duration": 33,
    "start_time": "2023-03-07T15:13:19.306Z"
   },
   {
    "duration": 12,
    "start_time": "2023-03-07T15:13:19.340Z"
   },
   {
    "duration": 9,
    "start_time": "2023-03-07T15:13:19.354Z"
   },
   {
    "duration": 10,
    "start_time": "2023-03-07T15:13:19.364Z"
   },
   {
    "duration": 14,
    "start_time": "2023-03-07T15:13:19.375Z"
   },
   {
    "duration": 7,
    "start_time": "2023-03-07T15:13:19.390Z"
   },
   {
    "duration": 28,
    "start_time": "2023-03-07T15:13:19.399Z"
   },
   {
    "duration": 14,
    "start_time": "2023-03-07T15:13:19.429Z"
   },
   {
    "duration": 13,
    "start_time": "2023-03-07T15:13:19.444Z"
   },
   {
    "duration": 658,
    "start_time": "2023-03-07T15:13:19.459Z"
   },
   {
    "duration": 245,
    "start_time": "2023-03-07T15:13:20.120Z"
   },
   {
    "duration": 375,
    "start_time": "2023-03-07T15:13:20.367Z"
   },
   {
    "duration": 295,
    "start_time": "2023-03-07T15:13:20.744Z"
   },
   {
    "duration": 338,
    "start_time": "2023-03-07T15:13:21.041Z"
   },
   {
    "duration": 156,
    "start_time": "2023-03-07T15:13:21.381Z"
   },
   {
    "duration": 7,
    "start_time": "2023-03-07T15:13:21.540Z"
   },
   {
    "duration": 182,
    "start_time": "2023-03-07T15:13:21.549Z"
   },
   {
    "duration": 348,
    "start_time": "2023-03-07T15:13:21.734Z"
   },
   {
    "duration": 155,
    "start_time": "2023-03-07T15:13:22.084Z"
   },
   {
    "duration": 8,
    "start_time": "2023-03-07T15:13:22.240Z"
   },
   {
    "duration": 14,
    "start_time": "2023-03-07T15:13:22.250Z"
   },
   {
    "duration": 23,
    "start_time": "2023-03-07T15:13:22.266Z"
   },
   {
    "duration": 13,
    "start_time": "2023-03-07T15:13:22.305Z"
   },
   {
    "duration": 17,
    "start_time": "2023-03-07T15:13:22.321Z"
   },
   {
    "duration": 23,
    "start_time": "2023-03-07T15:13:22.340Z"
   },
   {
    "duration": 105,
    "start_time": "2023-03-07T15:13:22.367Z"
   },
   {
    "duration": 27,
    "start_time": "2023-03-07T15:13:22.474Z"
   }
  ],
  "kernelspec": {
   "display_name": "Python 3 (ipykernel)",
   "language": "python",
   "name": "python3"
  },
  "language_info": {
   "codemirror_mode": {
    "name": "ipython",
    "version": 3
   },
   "file_extension": ".py",
   "mimetype": "text/x-python",
   "name": "python",
   "nbconvert_exporter": "python",
   "pygments_lexer": "ipython3",
   "version": "3.10.9"
  },
  "toc": {
   "base_numbering": 1,
   "nav_menu": {},
   "number_sections": true,
   "sideBar": true,
   "skip_h1_title": true,
   "title_cell": "Table of Contents",
   "title_sidebar": "Contents",
   "toc_cell": false,
   "toc_position": {},
   "toc_section_display": true,
   "toc_window_display": false
  }
 },
 "nbformat": 4,
 "nbformat_minor": 2
}
