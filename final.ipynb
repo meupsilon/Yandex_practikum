{
 "cells": [
  {
   "cell_type": "markdown",
   "id": "6b70f0e4",
   "metadata": {},
   "source": [
    "# Определение неэффективных операторов в \"Нупозвони\""
   ]
  },
  {
   "cell_type": "markdown",
   "id": "5802d7ee",
   "metadata": {},
   "source": [
    "## Введение"
   ]
  },
  {
   "cell_type": "markdown",
   "id": "49b5b5dd",
   "metadata": {},
   "source": [
    "Телеком компании \"Нупозвони\" необходимо найти неэффективных операторов\n",
    "\n",
    "**Цель** -- определение неэффективных сотрудников коллцентра по критериям:\n",
    "- много пропущенных входящих вызовов,\n",
    "- долгое ожидания ответа при входящих внешних вызовах,\n",
    "- мало исходящих вывозов — в случае тех колл-центров, что специализируются на обзвонах, а не обработке входящих звонков."
   ]
  },
  {
   "cell_type": "markdown",
   "id": "f359d318",
   "metadata": {},
   "source": [
    "**План**\n",
    "\n",
    "*Ознакомление с данными. Предобработка.*\n",
    "*Анализ данных*\n",
    "- типы данных\n",
    "- пропуски и аномалии\n",
    "\n",
    "*Анализ эффективности операторов*\n",
    "- посмотрю пропущенные звонки (смотрим пропущенные входящие),\n",
    "- посмотрю время ожидания входящих звонков(сверх 5 минут),\n",
    "- выделю неэффективных операторов (посмотрю их долю по отношению ко всем)\n",
    "\n",
    "*Проверка гипотез*\n",
    "- Время ожидания ответа на входящий звонок зависит от тарифного плана\n",
    "- Эффективность работы операторов в понедельник отличается от эффективности по всем другим дням. \n",
    "\n",
    "*Вывод*"
   ]
  },
  {
   "cell_type": "markdown",
   "id": "50c46d97",
   "metadata": {},
   "source": [
    "### Ознакомление с данными. Предобработка"
   ]
  },
  {
   "cell_type": "code",
   "execution_count": 1,
   "id": "bbe04aa7",
   "metadata": {},
   "outputs": [],
   "source": [
    "#импорт библиотек\n",
    "import pandas as pd\n",
    "import numpy as np\n",
    "import warnings\n",
    "warnings.filterwarnings('ignore')\n",
    "import matplotlib.pyplot as plt\n",
    "%matplotlib inline\n",
    "import matplotlib.cm as cm\n",
    "import seaborn as sns\n",
    "import plotly.express as px\n",
    "import scipy\n",
    "import datetime\n"
   ]
  },
  {
   "cell_type": "markdown",
   "id": "b7d68d37",
   "metadata": {},
   "source": [
    "#### Выгрузка и изучение данных"
   ]
  },
  {
   "cell_type": "code",
   "execution_count": 2,
   "id": "d52bf007",
   "metadata": {},
   "outputs": [],
   "source": [
    "#открою таблицу с данными по операторам\n",
    "try:\n",
    "    data_st = pd.read_csv('https://code.s3.yandex.net/datasets/telecom_dataset.csv')\n",
    "except:\n",
    "    data_st = pd.read_csv('/datasets/telecom_dataset.csv')"
   ]
  },
  {
   "cell_type": "code",
   "execution_count": 3,
   "id": "3005c465",
   "metadata": {},
   "outputs": [
    {
     "data": {
      "text/html": [
       "<div>\n",
       "<style scoped>\n",
       "    .dataframe tbody tr th:only-of-type {\n",
       "        vertical-align: middle;\n",
       "    }\n",
       "\n",
       "    .dataframe tbody tr th {\n",
       "        vertical-align: top;\n",
       "    }\n",
       "\n",
       "    .dataframe thead th {\n",
       "        text-align: right;\n",
       "    }\n",
       "</style>\n",
       "<table border=\"1\" class=\"dataframe\">\n",
       "  <thead>\n",
       "    <tr style=\"text-align: right;\">\n",
       "      <th></th>\n",
       "      <th>user_id</th>\n",
       "      <th>date</th>\n",
       "      <th>direction</th>\n",
       "      <th>internal</th>\n",
       "      <th>operator_id</th>\n",
       "      <th>is_missed_call</th>\n",
       "      <th>calls_count</th>\n",
       "      <th>call_duration</th>\n",
       "      <th>total_call_duration</th>\n",
       "    </tr>\n",
       "  </thead>\n",
       "  <tbody>\n",
       "    <tr>\n",
       "      <th>0</th>\n",
       "      <td>166377</td>\n",
       "      <td>2019-08-04 00:00:00+03:00</td>\n",
       "      <td>in</td>\n",
       "      <td>False</td>\n",
       "      <td>NaN</td>\n",
       "      <td>True</td>\n",
       "      <td>2</td>\n",
       "      <td>0</td>\n",
       "      <td>4</td>\n",
       "    </tr>\n",
       "    <tr>\n",
       "      <th>1</th>\n",
       "      <td>166377</td>\n",
       "      <td>2019-08-05 00:00:00+03:00</td>\n",
       "      <td>out</td>\n",
       "      <td>True</td>\n",
       "      <td>880022.0</td>\n",
       "      <td>True</td>\n",
       "      <td>3</td>\n",
       "      <td>0</td>\n",
       "      <td>5</td>\n",
       "    </tr>\n",
       "    <tr>\n",
       "      <th>2</th>\n",
       "      <td>166377</td>\n",
       "      <td>2019-08-05 00:00:00+03:00</td>\n",
       "      <td>out</td>\n",
       "      <td>True</td>\n",
       "      <td>880020.0</td>\n",
       "      <td>True</td>\n",
       "      <td>1</td>\n",
       "      <td>0</td>\n",
       "      <td>1</td>\n",
       "    </tr>\n",
       "    <tr>\n",
       "      <th>3</th>\n",
       "      <td>166377</td>\n",
       "      <td>2019-08-05 00:00:00+03:00</td>\n",
       "      <td>out</td>\n",
       "      <td>True</td>\n",
       "      <td>880020.0</td>\n",
       "      <td>False</td>\n",
       "      <td>1</td>\n",
       "      <td>10</td>\n",
       "      <td>18</td>\n",
       "    </tr>\n",
       "    <tr>\n",
       "      <th>4</th>\n",
       "      <td>166377</td>\n",
       "      <td>2019-08-05 00:00:00+03:00</td>\n",
       "      <td>out</td>\n",
       "      <td>False</td>\n",
       "      <td>880022.0</td>\n",
       "      <td>True</td>\n",
       "      <td>3</td>\n",
       "      <td>0</td>\n",
       "      <td>25</td>\n",
       "    </tr>\n",
       "  </tbody>\n",
       "</table>\n",
       "</div>"
      ],
      "text/plain": [
       "   user_id                       date direction internal  operator_id  \\\n",
       "0   166377  2019-08-04 00:00:00+03:00        in    False          NaN   \n",
       "1   166377  2019-08-05 00:00:00+03:00       out     True     880022.0   \n",
       "2   166377  2019-08-05 00:00:00+03:00       out     True     880020.0   \n",
       "3   166377  2019-08-05 00:00:00+03:00       out     True     880020.0   \n",
       "4   166377  2019-08-05 00:00:00+03:00       out    False     880022.0   \n",
       "\n",
       "   is_missed_call  calls_count  call_duration  total_call_duration  \n",
       "0            True            2              0                    4  \n",
       "1            True            3              0                    5  \n",
       "2            True            1              0                    1  \n",
       "3           False            1             10                   18  \n",
       "4            True            3              0                   25  "
      ]
     },
     "execution_count": 3,
     "metadata": {},
     "output_type": "execute_result"
    }
   ],
   "source": [
    " data_st.head()"
   ]
  },
  {
   "cell_type": "code",
   "execution_count": 4,
   "id": "f213cc49",
   "metadata": {
    "scrolled": true
   },
   "outputs": [
    {
     "name": "stdout",
     "output_type": "stream",
     "text": [
      "<class 'pandas.core.frame.DataFrame'>\n",
      "RangeIndex: 53902 entries, 0 to 53901\n",
      "Data columns (total 9 columns):\n",
      " #   Column               Non-Null Count  Dtype  \n",
      "---  ------               --------------  -----  \n",
      " 0   user_id              53902 non-null  int64  \n",
      " 1   date                 53902 non-null  object \n",
      " 2   direction            53902 non-null  object \n",
      " 3   internal             53785 non-null  object \n",
      " 4   operator_id          45730 non-null  float64\n",
      " 5   is_missed_call       53902 non-null  bool   \n",
      " 6   calls_count          53902 non-null  int64  \n",
      " 7   call_duration        53902 non-null  int64  \n",
      " 8   total_call_duration  53902 non-null  int64  \n",
      "dtypes: bool(1), float64(1), int64(4), object(3)\n",
      "memory usage: 3.3+ MB\n"
     ]
    }
   ],
   "source": [
    "#посмотрю общую информацию о таблице\n",
    "data_st.info()"
   ]
  },
  {
   "cell_type": "code",
   "execution_count": 5,
   "id": "7c6298e4",
   "metadata": {},
   "outputs": [],
   "source": [
    "#открою таблицу с данными по клиентам\n",
    "try:\n",
    "    data_client = pd.read_csv('https://code.s3.yandex.net/datasets/telecom_clients.csv')\n",
    "except:\n",
    "    data_client = pd.read_csv('/datasets/telecom_clients.csv')"
   ]
  },
  {
   "cell_type": "code",
   "execution_count": 6,
   "id": "a633fabf",
   "metadata": {},
   "outputs": [
    {
     "name": "stdout",
     "output_type": "stream",
     "text": [
      "<class 'pandas.core.frame.DataFrame'>\n",
      "RangeIndex: 732 entries, 0 to 731\n",
      "Data columns (total 3 columns):\n",
      " #   Column       Non-Null Count  Dtype \n",
      "---  ------       --------------  ----- \n",
      " 0   user_id      732 non-null    int64 \n",
      " 1   tariff_plan  732 non-null    object\n",
      " 2   date_start   732 non-null    object\n",
      "dtypes: int64(1), object(2)\n",
      "memory usage: 17.3+ KB\n"
     ]
    }
   ],
   "source": [
    "#посмотрю общую информацию о таблице\n",
    "data_client.info()"
   ]
  },
  {
   "cell_type": "markdown",
   "id": "ba668019",
   "metadata": {},
   "source": [
    "Общий вывод:\n",
    "\n",
    "*датасет data_st*\n",
    " - состоит из 53 902 строк,\n",
    " - есть пропуски данных в operator_id, internal,\n",
    " - тип данных в operator_id float\n",
    " \n",
    " *датасет data_client*\n",
    " - состоит из 732 строк,\n",
    " - типы даннных в порядке,\n",
    " - пропусков нет.\n",
    " "
   ]
  },
  {
   "cell_type": "markdown",
   "id": "f27e6d5c",
   "metadata": {},
   "source": [
    "#### Предобработка данных"
   ]
  },
  {
   "cell_type": "markdown",
   "id": "aa71ae4b",
   "metadata": {},
   "source": [
    "#### Поиск и обработка дубликатов"
   ]
  },
  {
   "cell_type": "code",
   "execution_count": 7,
   "id": "4a562d93",
   "metadata": {},
   "outputs": [
    {
     "name": "stdout",
     "output_type": "stream",
     "text": [
      "Количество дубликатов в таблице data_st: 4900\n",
      "Количество дубликатов в датасете data_client: 0\n"
     ]
    }
   ],
   "source": [
    "#посмотрю, сколько дубликатов в каждм датасете\n",
    "\n",
    "print('Количество дубликатов в таблице data_st:', data_st.duplicated().sum())\n",
    "print('Количество дубликатов в датасете data_client:', data_client.duplicated().sum())"
   ]
  },
  {
   "cell_type": "code",
   "execution_count": 8,
   "id": "293f1c94",
   "metadata": {},
   "outputs": [
    {
     "name": "stdout",
     "output_type": "stream",
     "text": [
      "Доля дубликатов в данных 9.090571778412675\n"
     ]
    }
   ],
   "source": [
    "#посчитаю долю дубликатов\n",
    "print('Доля дубликатов в данных',(4900/53902)*100)"
   ]
  },
  {
   "cell_type": "markdown",
   "id": "20dac427",
   "metadata": {},
   "source": [
    "Дубликаты есть в таблице с данными по операторам, удалю их, так как их доля 9% "
   ]
  },
  {
   "cell_type": "code",
   "execution_count": 9,
   "id": "b97acd43",
   "metadata": {},
   "outputs": [],
   "source": [
    "#удаление дубликатов в data_st\n",
    "data_st.drop_duplicates(inplace = True)"
   ]
  },
  {
   "cell_type": "code",
   "execution_count": 10,
   "id": "5dd74a39",
   "metadata": {},
   "outputs": [
    {
     "name": "stdout",
     "output_type": "stream",
     "text": [
      "Количество дубликатов в таблице data_st: 0\n"
     ]
    }
   ],
   "source": [
    "#проверю, все ли сработало\n",
    "print('Количество дубликатов в таблице data_st:', data_st.duplicated().sum())"
   ]
  },
  {
   "cell_type": "code",
   "execution_count": 11,
   "id": "a806941a",
   "metadata": {},
   "outputs": [],
   "source": [
    "#приведу столбец с датой к нужному типу\n",
    "data_client['date_start'] = pd.to_datetime(data_client['date_start'], format='%Y-%m-%d')"
   ]
  },
  {
   "cell_type": "code",
   "execution_count": 12,
   "id": "22a2da3f",
   "metadata": {},
   "outputs": [],
   "source": [
    "#выделю столбец с днем совершения транзакции, день пригодится в дальнейшем анализе\n",
    "def split_date(df):\n",
    "    '''\n",
    "    Функция приведения даты в тип данных datetime без учета времени\n",
    "    \n",
    "    '''\n",
    "    date = df['date'].split()[0]\n",
    "    date = pd.to_datetime(date, format='%Y-%m-%d')\n",
    "    return date"
   ]
  },
  {
   "cell_type": "code",
   "execution_count": 13,
   "id": "276e8012",
   "metadata": {},
   "outputs": [],
   "source": [
    " data_st['day'] = data_st.apply(split_date, axis=1)"
   ]
  },
  {
   "cell_type": "code",
   "execution_count": 14,
   "id": "b30a5e36",
   "metadata": {},
   "outputs": [
    {
     "data": {
      "text/html": [
       "<div>\n",
       "<style scoped>\n",
       "    .dataframe tbody tr th:only-of-type {\n",
       "        vertical-align: middle;\n",
       "    }\n",
       "\n",
       "    .dataframe tbody tr th {\n",
       "        vertical-align: top;\n",
       "    }\n",
       "\n",
       "    .dataframe thead th {\n",
       "        text-align: right;\n",
       "    }\n",
       "</style>\n",
       "<table border=\"1\" class=\"dataframe\">\n",
       "  <thead>\n",
       "    <tr style=\"text-align: right;\">\n",
       "      <th></th>\n",
       "      <th>user_id</th>\n",
       "      <th>date</th>\n",
       "      <th>direction</th>\n",
       "      <th>internal</th>\n",
       "      <th>operator_id</th>\n",
       "      <th>is_missed_call</th>\n",
       "      <th>calls_count</th>\n",
       "      <th>call_duration</th>\n",
       "      <th>total_call_duration</th>\n",
       "      <th>day</th>\n",
       "    </tr>\n",
       "  </thead>\n",
       "  <tbody>\n",
       "    <tr>\n",
       "      <th>0</th>\n",
       "      <td>166377</td>\n",
       "      <td>2019-08-04 00:00:00+03:00</td>\n",
       "      <td>in</td>\n",
       "      <td>False</td>\n",
       "      <td>NaN</td>\n",
       "      <td>True</td>\n",
       "      <td>2</td>\n",
       "      <td>0</td>\n",
       "      <td>4</td>\n",
       "      <td>2019-08-04</td>\n",
       "    </tr>\n",
       "    <tr>\n",
       "      <th>1</th>\n",
       "      <td>166377</td>\n",
       "      <td>2019-08-05 00:00:00+03:00</td>\n",
       "      <td>out</td>\n",
       "      <td>True</td>\n",
       "      <td>880022.0</td>\n",
       "      <td>True</td>\n",
       "      <td>3</td>\n",
       "      <td>0</td>\n",
       "      <td>5</td>\n",
       "      <td>2019-08-05</td>\n",
       "    </tr>\n",
       "    <tr>\n",
       "      <th>2</th>\n",
       "      <td>166377</td>\n",
       "      <td>2019-08-05 00:00:00+03:00</td>\n",
       "      <td>out</td>\n",
       "      <td>True</td>\n",
       "      <td>880020.0</td>\n",
       "      <td>True</td>\n",
       "      <td>1</td>\n",
       "      <td>0</td>\n",
       "      <td>1</td>\n",
       "      <td>2019-08-05</td>\n",
       "    </tr>\n",
       "    <tr>\n",
       "      <th>3</th>\n",
       "      <td>166377</td>\n",
       "      <td>2019-08-05 00:00:00+03:00</td>\n",
       "      <td>out</td>\n",
       "      <td>True</td>\n",
       "      <td>880020.0</td>\n",
       "      <td>False</td>\n",
       "      <td>1</td>\n",
       "      <td>10</td>\n",
       "      <td>18</td>\n",
       "      <td>2019-08-05</td>\n",
       "    </tr>\n",
       "    <tr>\n",
       "      <th>4</th>\n",
       "      <td>166377</td>\n",
       "      <td>2019-08-05 00:00:00+03:00</td>\n",
       "      <td>out</td>\n",
       "      <td>False</td>\n",
       "      <td>880022.0</td>\n",
       "      <td>True</td>\n",
       "      <td>3</td>\n",
       "      <td>0</td>\n",
       "      <td>25</td>\n",
       "      <td>2019-08-05</td>\n",
       "    </tr>\n",
       "  </tbody>\n",
       "</table>\n",
       "</div>"
      ],
      "text/plain": [
       "   user_id                       date direction internal  operator_id  \\\n",
       "0   166377  2019-08-04 00:00:00+03:00        in    False          NaN   \n",
       "1   166377  2019-08-05 00:00:00+03:00       out     True     880022.0   \n",
       "2   166377  2019-08-05 00:00:00+03:00       out     True     880020.0   \n",
       "3   166377  2019-08-05 00:00:00+03:00       out     True     880020.0   \n",
       "4   166377  2019-08-05 00:00:00+03:00       out    False     880022.0   \n",
       "\n",
       "   is_missed_call  calls_count  call_duration  total_call_duration        day  \n",
       "0            True            2              0                    4 2019-08-04  \n",
       "1            True            3              0                    5 2019-08-05  \n",
       "2            True            1              0                    1 2019-08-05  \n",
       "3           False            1             10                   18 2019-08-05  \n",
       "4            True            3              0                   25 2019-08-05  "
      ]
     },
     "execution_count": 14,
     "metadata": {},
     "output_type": "execute_result"
    }
   ],
   "source": [
    "data_st.head()"
   ]
  },
  {
   "cell_type": "markdown",
   "id": "926ff839",
   "metadata": {},
   "source": [
    "#### Поиск и обработка пропусков в данных"
   ]
  },
  {
   "cell_type": "code",
   "execution_count": 15,
   "id": "12fe059f",
   "metadata": {},
   "outputs": [
    {
     "name": "stdout",
     "output_type": "stream",
     "text": [
      "<class 'pandas.core.frame.DataFrame'>\n",
      "Int64Index: 49002 entries, 0 to 53901\n",
      "Data columns (total 10 columns):\n",
      " #   Column               Non-Null Count  Dtype         \n",
      "---  ------               --------------  -----         \n",
      " 0   user_id              49002 non-null  int64         \n",
      " 1   date                 49002 non-null  object        \n",
      " 2   direction            49002 non-null  object        \n",
      " 3   internal             48892 non-null  object        \n",
      " 4   operator_id          41546 non-null  float64       \n",
      " 5   is_missed_call       49002 non-null  bool          \n",
      " 6   calls_count          49002 non-null  int64         \n",
      " 7   call_duration        49002 non-null  int64         \n",
      " 8   total_call_duration  49002 non-null  int64         \n",
      " 9   day                  49002 non-null  datetime64[ns]\n",
      "dtypes: bool(1), datetime64[ns](1), float64(1), int64(4), object(3)\n",
      "memory usage: 3.8+ MB\n"
     ]
    }
   ],
   "source": [
    "#посмотрим, где есть пропуски\n",
    "data_st.info()"
   ]
  },
  {
   "cell_type": "code",
   "execution_count": 16,
   "id": "05bdaf1b",
   "metadata": {},
   "outputs": [],
   "source": [
    "#выделю часть с пропусками в operator_id\n",
    "data_st_Nan = data_st[data_st['operator_id'].isna() == True]"
   ]
  },
  {
   "cell_type": "code",
   "execution_count": 17,
   "id": "f90e62fc",
   "metadata": {},
   "outputs": [],
   "source": [
    "data_st = data_st[data_st['operator_id'].isna() == False]"
   ]
  },
  {
   "cell_type": "code",
   "execution_count": 18,
   "id": "5146e74f",
   "metadata": {},
   "outputs": [
    {
     "name": "stdout",
     "output_type": "stream",
     "text": [
      "<class 'pandas.core.frame.DataFrame'>\n",
      "Int64Index: 41546 entries, 1 to 53899\n",
      "Data columns (total 10 columns):\n",
      " #   Column               Non-Null Count  Dtype         \n",
      "---  ------               --------------  -----         \n",
      " 0   user_id              41546 non-null  int64         \n",
      " 1   date                 41546 non-null  object        \n",
      " 2   direction            41546 non-null  object        \n",
      " 3   internal             41491 non-null  object        \n",
      " 4   operator_id          41546 non-null  float64       \n",
      " 5   is_missed_call       41546 non-null  bool          \n",
      " 6   calls_count          41546 non-null  int64         \n",
      " 7   call_duration        41546 non-null  int64         \n",
      " 8   total_call_duration  41546 non-null  int64         \n",
      " 9   day                  41546 non-null  datetime64[ns]\n",
      "dtypes: bool(1), datetime64[ns](1), float64(1), int64(4), object(3)\n",
      "memory usage: 3.2+ MB\n"
     ]
    }
   ],
   "source": [
    "data_st.info()"
   ]
  },
  {
   "cell_type": "code",
   "execution_count": 19,
   "id": "5a8528ac",
   "metadata": {
    "scrolled": true
   },
   "outputs": [
    {
     "data": {
      "text/html": [
       "<div>\n",
       "<style scoped>\n",
       "    .dataframe tbody tr th:only-of-type {\n",
       "        vertical-align: middle;\n",
       "    }\n",
       "\n",
       "    .dataframe tbody tr th {\n",
       "        vertical-align: top;\n",
       "    }\n",
       "\n",
       "    .dataframe thead th {\n",
       "        text-align: right;\n",
       "    }\n",
       "</style>\n",
       "<table border=\"1\" class=\"dataframe\">\n",
       "  <thead>\n",
       "    <tr style=\"text-align: right;\">\n",
       "      <th></th>\n",
       "      <th>user_id</th>\n",
       "      <th>date</th>\n",
       "      <th>direction</th>\n",
       "      <th>internal</th>\n",
       "      <th>operator_id</th>\n",
       "      <th>is_missed_call</th>\n",
       "      <th>calls_count</th>\n",
       "      <th>call_duration</th>\n",
       "      <th>total_call_duration</th>\n",
       "      <th>day</th>\n",
       "    </tr>\n",
       "  </thead>\n",
       "  <tbody>\n",
       "    <tr>\n",
       "      <th>1924</th>\n",
       "      <td>166406</td>\n",
       "      <td>2019-09-02 00:00:00+03:00</td>\n",
       "      <td>in</td>\n",
       "      <td>NaN</td>\n",
       "      <td>879898.0</td>\n",
       "      <td>False</td>\n",
       "      <td>1</td>\n",
       "      <td>2</td>\n",
       "      <td>9</td>\n",
       "      <td>2019-09-02</td>\n",
       "    </tr>\n",
       "    <tr>\n",
       "      <th>6210</th>\n",
       "      <td>166541</td>\n",
       "      <td>2019-09-26 00:00:00+03:00</td>\n",
       "      <td>in</td>\n",
       "      <td>NaN</td>\n",
       "      <td>908960.0</td>\n",
       "      <td>False</td>\n",
       "      <td>1</td>\n",
       "      <td>393</td>\n",
       "      <td>423</td>\n",
       "      <td>2019-09-26</td>\n",
       "    </tr>\n",
       "    <tr>\n",
       "      <th>6216</th>\n",
       "      <td>166541</td>\n",
       "      <td>2019-09-26 00:00:00+03:00</td>\n",
       "      <td>in</td>\n",
       "      <td>NaN</td>\n",
       "      <td>908958.0</td>\n",
       "      <td>False</td>\n",
       "      <td>2</td>\n",
       "      <td>547</td>\n",
       "      <td>612</td>\n",
       "      <td>2019-09-26</td>\n",
       "    </tr>\n",
       "    <tr>\n",
       "      <th>7528</th>\n",
       "      <td>166604</td>\n",
       "      <td>2019-11-01 00:00:00+03:00</td>\n",
       "      <td>in</td>\n",
       "      <td>NaN</td>\n",
       "      <td>893402.0</td>\n",
       "      <td>False</td>\n",
       "      <td>1</td>\n",
       "      <td>94</td>\n",
       "      <td>117</td>\n",
       "      <td>2019-11-01</td>\n",
       "    </tr>\n",
       "    <tr>\n",
       "      <th>8650</th>\n",
       "      <td>166658</td>\n",
       "      <td>2019-09-24 00:00:00+03:00</td>\n",
       "      <td>in</td>\n",
       "      <td>NaN</td>\n",
       "      <td>890404.0</td>\n",
       "      <td>False</td>\n",
       "      <td>1</td>\n",
       "      <td>150</td>\n",
       "      <td>157</td>\n",
       "      <td>2019-09-24</td>\n",
       "    </tr>\n",
       "  </tbody>\n",
       "</table>\n",
       "</div>"
      ],
      "text/plain": [
       "      user_id                       date direction internal  operator_id  \\\n",
       "1924   166406  2019-09-02 00:00:00+03:00        in      NaN     879898.0   \n",
       "6210   166541  2019-09-26 00:00:00+03:00        in      NaN     908960.0   \n",
       "6216   166541  2019-09-26 00:00:00+03:00        in      NaN     908958.0   \n",
       "7528   166604  2019-11-01 00:00:00+03:00        in      NaN     893402.0   \n",
       "8650   166658  2019-09-24 00:00:00+03:00        in      NaN     890404.0   \n",
       "\n",
       "      is_missed_call  calls_count  call_duration  total_call_duration  \\\n",
       "1924           False            1              2                    9   \n",
       "6210           False            1            393                  423   \n",
       "6216           False            2            547                  612   \n",
       "7528           False            1             94                  117   \n",
       "8650           False            1            150                  157   \n",
       "\n",
       "            day  \n",
       "1924 2019-09-02  \n",
       "6210 2019-09-26  \n",
       "6216 2019-09-26  \n",
       "7528 2019-11-01  \n",
       "8650 2019-09-24  "
      ]
     },
     "execution_count": 19,
     "metadata": {},
     "output_type": "execute_result"
    }
   ],
   "source": [
    "data_st[data_st['internal'].isna() == True].head()"
   ]
  },
  {
   "cell_type": "code",
   "execution_count": 20,
   "id": "df85c1a7",
   "metadata": {},
   "outputs": [
    {
     "name": "stdout",
     "output_type": "stream",
     "text": [
      "Пропуски в internal 0.1323833822750686\n"
     ]
    }
   ],
   "source": [
    "print('Пропуски в internal',(((41546-41491)/41546)*100))"
   ]
  },
  {
   "cell_type": "markdown",
   "id": "af3def95",
   "metadata": {},
   "source": [
    "Удалю пропуски в internal их менее 1% и их возникновение не ясно"
   ]
  },
  {
   "cell_type": "code",
   "execution_count": 21,
   "id": "0d28b57b",
   "metadata": {},
   "outputs": [],
   "source": [
    "data_st = data_st.dropna(axis=0, how='any')"
   ]
  },
  {
   "cell_type": "code",
   "execution_count": 22,
   "id": "4cc7086d",
   "metadata": {},
   "outputs": [
    {
     "name": "stdout",
     "output_type": "stream",
     "text": [
      "<class 'pandas.core.frame.DataFrame'>\n",
      "Int64Index: 41491 entries, 1 to 53899\n",
      "Data columns (total 10 columns):\n",
      " #   Column               Non-Null Count  Dtype         \n",
      "---  ------               --------------  -----         \n",
      " 0   user_id              41491 non-null  int64         \n",
      " 1   date                 41491 non-null  object        \n",
      " 2   direction            41491 non-null  object        \n",
      " 3   internal             41491 non-null  object        \n",
      " 4   operator_id          41491 non-null  float64       \n",
      " 5   is_missed_call       41491 non-null  bool          \n",
      " 6   calls_count          41491 non-null  int64         \n",
      " 7   call_duration        41491 non-null  int64         \n",
      " 8   total_call_duration  41491 non-null  int64         \n",
      " 9   day                  41491 non-null  datetime64[ns]\n",
      "dtypes: bool(1), datetime64[ns](1), float64(1), int64(4), object(3)\n",
      "memory usage: 3.2+ MB\n"
     ]
    }
   ],
   "source": [
    "data_st.info()"
   ]
  },
  {
   "cell_type": "code",
   "execution_count": 23,
   "id": "5704d895",
   "metadata": {},
   "outputs": [],
   "source": [
    "#изменю тип данных в operator_id на целочисленные\n",
    "data_st['operator_id'] = data_st['operator_id'].astype('int64')"
   ]
  },
  {
   "cell_type": "markdown",
   "id": "696d0594",
   "metadata": {},
   "source": [
    "**Общий вывод:**\n",
    "\n",
    "*На данном этапе я:*\n",
    "\n",
    "- выделила столбец с днем,\n",
    "- изменила тип данных в столбце operator_id и date_start,\n",
    "- обработала дубликаты и пропуски"
   ]
  },
  {
   "cell_type": "markdown",
   "id": "51dd4f5e",
   "metadata": {},
   "source": [
    "### Исследовательский анализ данных"
   ]
  },
  {
   "cell_type": "markdown",
   "id": "5f5fa3bc",
   "metadata": {},
   "source": [
    "#### Датасет data_st"
   ]
  },
  {
   "cell_type": "code",
   "execution_count": 24,
   "id": "0e393ecf",
   "metadata": {
    "scrolled": false
   },
   "outputs": [
    {
     "data": {
      "image/png": "[encoded data removed]",
      "text/plain": [
       "<Figure size 720x360 with 1 Axes>"
      ]
     },
     "metadata": {
      "needs_background": "light"
     },
     "output_type": "display_data"
    }
   ],
   "source": [
    "#посмотрим график по длительности звонка\n",
    "data_st['call_duration'].hist(bins=100, figsize=(10,5))\n",
    "plt.title('Распределение параметр длительность звонка', fontsize=10)\n",
    "plt.xlabel('Длительность звонка', fontsize=8)\n",
    "plt.ylabel('Количество', fontsize=8)\n",
    "plt.show()"
   ]
  },
  {
   "cell_type": "code",
   "execution_count": 25,
   "id": "818e82cd",
   "metadata": {
    "scrolled": true
   },
   "outputs": [
    {
     "data": {
      "text/plain": [
       "count     41491.000000\n",
       "mean       1010.940011\n",
       "std        4066.666485\n",
       "min           0.000000\n",
       "25%           0.000000\n",
       "50%         106.000000\n",
       "75%         772.000000\n",
       "max      144395.000000\n",
       "Name: call_duration, dtype: float64"
      ]
     },
     "execution_count": 25,
     "metadata": {},
     "output_type": "execute_result"
    }
   ],
   "source": [
    "data_st['call_duration'].describe()"
   ]
  },
  {
   "cell_type": "markdown",
   "id": "90ce7485",
   "metadata": {},
   "source": [
    "Максимальная длительность звонка 144 395, такое значение нереалистично и, возможно, имеет место быть техническая проблема записи и хранения данных или телефонии.\n",
    "\n",
    "Среднняя длителньость звонка 1010\n",
    "\n",
    "Есть звонки по 0 сек"
   ]
  },
  {
   "cell_type": "code",
   "execution_count": 26,
   "id": "5ebf24d2",
   "metadata": {},
   "outputs": [
    {
     "data": {
      "image/png": "[encoded data removed]",
      "text/plain": [
       "<Figure size 720x360 with 1 Axes>"
      ]
     },
     "metadata": {
      "needs_background": "light"
     },
     "output_type": "display_data"
    }
   ],
   "source": [
    "#посмотрим график по количеству звонков\n",
    "data_st['calls_count'].hist(bins=100, figsize=(10,5))\n",
    "plt.title('Распределение параметра количество звонков', fontsize=10)\n",
    "plt.xlabel('Количество звонков', fontsize=8)\n",
    "plt.ylabel('Количество', fontsize=8)\n",
    "plt.show()"
   ]
  },
  {
   "cell_type": "code",
   "execution_count": 27,
   "id": "946fa445",
   "metadata": {},
   "outputs": [
    {
     "data": {
      "text/plain": [
       "count    41491.000000\n",
       "mean        16.921381\n",
       "std         59.786187\n",
       "min          1.000000\n",
       "25%          1.000000\n",
       "50%          4.000000\n",
       "75%         14.000000\n",
       "max       4817.000000\n",
       "Name: calls_count, dtype: float64"
      ]
     },
     "execution_count": 27,
     "metadata": {},
     "output_type": "execute_result"
    }
   ],
   "source": [
    "data_st['calls_count'].describe()"
   ]
  },
  {
   "cell_type": "markdown",
   "id": "f2934e66",
   "metadata": {},
   "source": [
    "Параметр количество звонков:\n",
    "\n",
    "Самое большое количество звонков 4817\n",
    "\n",
    "Среднее кол-во звонков 17"
   ]
  },
  {
   "cell_type": "code",
   "execution_count": 28,
   "id": "3bdc651b",
   "metadata": {},
   "outputs": [
    {
     "data": {
      "image/png": "[encoded data removed]",
      "text/plain": [
       "<Figure size 720x360 with 1 Axes>"
      ]
     },
     "metadata": {
      "needs_background": "light"
     },
     "output_type": "display_data"
    }
   ],
   "source": [
    "#посмотрим график по общей длительности звонков\n",
    "\n",
    "data_st['total_call_duration'].hist(bins=500, figsize=(10,5))\n",
    "plt.title('Распределение параметра общая длительность звонка', fontsize=10)\n",
    "plt.xlabel('Длительность звонков', fontsize=8)\n",
    "plt.ylabel('Количество', fontsize=8)\n",
    "plt.show()"
   ]
  },
  {
   "cell_type": "code",
   "execution_count": 29,
   "id": "4d66164a",
   "metadata": {},
   "outputs": [
    {
     "data": {
      "text/plain": [
       "count     41491.000000\n",
       "mean       1323.153238\n",
       "std        4788.953155\n",
       "min           0.000000\n",
       "25%          67.000000\n",
       "50%         289.000000\n",
       "75%        1107.000000\n",
       "max      166155.000000\n",
       "Name: total_call_duration, dtype: float64"
      ]
     },
     "execution_count": 29,
     "metadata": {},
     "output_type": "execute_result"
    }
   ],
   "source": [
    "data_st['total_call_duration'].describe()"
   ]
  },
  {
   "cell_type": "markdown",
   "id": "6d9fdf2f",
   "metadata": {},
   "source": [
    "Общая длительность звонков:\n",
    "\n",
    "- максимальная -- 166 155\n",
    "\n",
    "- средняя длительность 1323 сек"
   ]
  },
  {
   "cell_type": "markdown",
   "id": "ed626d49",
   "metadata": {},
   "source": [
    "Максимальная длительность звонка 144 395, такое значение нереалистично и, возможно, имеет место быть техническая проблема записи и хранения данных или телефонии.\n",
    "\n",
    "Среднняя длителньость звонка 1010\n",
    "\n",
    "Есть звонки по 0 сек\n",
    "Далее почищу выбросы"
   ]
  },
  {
   "cell_type": "code",
   "execution_count": 30,
   "id": "6653d34b",
   "metadata": {},
   "outputs": [],
   "source": [
    "#функция для чистки данных\n",
    "def create_boxplots(df, parametrs):\n",
    "    for parametr, parametr_synonym in parametrs.items():\n",
    "        df.boxplot(parametr).set(title='Распределение данных', ylabel=parametr_synonym)\n",
    "        plt.show()\n",
    "        df = df[df[parametr] <= df[parametr].quantile(0.97)]\n",
    "    return df"
   ]
  },
  {
   "cell_type": "code",
   "execution_count": 31,
   "id": "c27a0a5e",
   "metadata": {},
   "outputs": [],
   "source": [
    "variables = {'calls_count':'Количество звонков', 'call_duration':'Длительность звонков (без учета времени ожидания)', 'total_call_duration':'Длительность звонков (с учетом времени ожидания)'}"
   ]
  },
  {
   "cell_type": "code",
   "execution_count": 32,
   "id": "e1cf125f",
   "metadata": {},
   "outputs": [
    {
     "data": {
      "image/png": "[encoded data removed]",
      "text/plain": [
       "<Figure size 432x288 with 1 Axes>"
      ]
     },
     "metadata": {
      "needs_background": "light"
     },
     "output_type": "display_data"
    },
    {
     "data": {
      "image/png": "[encoded data removed]",
      "text/plain": [
       "<Figure size 432x288 with 1 Axes>"
      ]
     },
     "metadata": {
      "needs_background": "light"
     },
     "output_type": "display_data"
    },
    {
     "data": {
      "image/png": "[encoded data removed]",
      "text/plain": [
       "<Figure size 432x288 with 1 Axes>"
      ]
     },
     "metadata": {
      "needs_background": "light"
     },
     "output_type": "display_data"
    }
   ],
   "source": [
    "data_st = create_boxplots(data_st, variables)"
   ]
  },
  {
   "cell_type": "markdown",
   "id": "f60b380c",
   "metadata": {},
   "source": [
    "Данные после очистки"
   ]
  },
  {
   "cell_type": "code",
   "execution_count": 33,
   "id": "7ad59329",
   "metadata": {},
   "outputs": [
    {
     "data": {
      "image/png": "[encoded data removed]",
      "text/plain": [
       "<Figure size 720x360 with 1 Axes>"
      ]
     },
     "metadata": {
      "needs_background": "light"
     },
     "output_type": "display_data"
    }
   ],
   "source": [
    "data_st['call_duration'].hist(bins='auto', figsize=(10,5))\n",
    "plt.title('Распределение параметр длительность звонка', fontsize=10)\n",
    "plt.xlabel('Длительность звонка', fontsize=8)\n",
    "plt.ylabel('Количество', fontsize=8)\n",
    "plt.show()"
   ]
  },
  {
   "cell_type": "code",
   "execution_count": 34,
   "id": "aba69c74",
   "metadata": {},
   "outputs": [
    {
     "data": {
      "text/plain": [
       "count    37893.000000\n",
       "mean       415.497717\n",
       "std        675.242558\n",
       "min          0.000000\n",
       "25%          0.000000\n",
       "50%         77.000000\n",
       "75%        538.000000\n",
       "max       3484.000000\n",
       "Name: call_duration, dtype: float64"
      ]
     },
     "execution_count": 34,
     "metadata": {},
     "output_type": "execute_result"
    }
   ],
   "source": [
    "data_st['call_duration'].describe()"
   ]
  },
  {
   "cell_type": "code",
   "execution_count": 35,
   "id": "4a7f42fd",
   "metadata": {},
   "outputs": [
    {
     "data": {
      "image/png": "[encoded data removed]",
      "text/plain": [
       "<Figure size 720x360 with 1 Axes>"
      ]
     },
     "metadata": {
      "needs_background": "light"
     },
     "output_type": "display_data"
    }
   ],
   "source": [
    "data_st['calls_count'].hist(bins=30, figsize=(10,5))\n",
    "plt.title('Распределение параметра количество звонков', fontsize=10)\n",
    "plt.xlabel('Количество звонков', fontsize=8)\n",
    "plt.ylabel('Количество', fontsize=8)\n",
    "plt.show()"
   ]
  },
  {
   "cell_type": "code",
   "execution_count": 36,
   "id": "805bc38f",
   "metadata": {},
   "outputs": [
    {
     "data": {
      "text/plain": [
       "count    37893.000000\n",
       "mean         8.555881\n",
       "std         12.520435\n",
       "min          1.000000\n",
       "25%          1.000000\n",
       "50%          4.000000\n",
       "75%         10.000000\n",
       "max         87.000000\n",
       "Name: calls_count, dtype: float64"
      ]
     },
     "execution_count": 36,
     "metadata": {},
     "output_type": "execute_result"
    }
   ],
   "source": [
    "data_st['calls_count'].describe()"
   ]
  },
  {
   "cell_type": "code",
   "execution_count": 37,
   "id": "d5459f90",
   "metadata": {},
   "outputs": [
    {
     "data": {
      "image/png": "[encoded data removed]",
      "text/plain": [
       "<Figure size 720x360 with 1 Axes>"
      ]
     },
     "metadata": {
      "needs_background": "light"
     },
     "output_type": "display_data"
    }
   ],
   "source": [
    "data_st['total_call_duration'].hist(bins='auto', figsize=(10,5))\n",
    "plt.title('Распределение параметра общая длительность звонка', fontsize=10)\n",
    "plt.xlabel('Длительность звонков', fontsize=8)\n",
    "plt.ylabel('Количество', fontsize=8)\n",
    "plt.show()"
   ]
  },
  {
   "cell_type": "code",
   "execution_count": 38,
   "id": "90296967",
   "metadata": {},
   "outputs": [
    {
     "data": {
      "text/plain": [
       "count    37893.000000\n",
       "mean       568.347901\n",
       "std        758.843437\n",
       "min          0.000000\n",
       "25%         59.000000\n",
       "50%        229.000000\n",
       "75%        766.000000\n",
       "max       3550.000000\n",
       "Name: total_call_duration, dtype: float64"
      ]
     },
     "execution_count": 38,
     "metadata": {},
     "output_type": "execute_result"
    }
   ],
   "source": [
    "data_st['total_call_duration'].describe()"
   ]
  },
  {
   "cell_type": "markdown",
   "id": "5b29073c",
   "metadata": {},
   "source": [
    "Итак, теперь средняя длительность звонка составляет 229 секунд, самый длительнный звонок 3550 сек (около 60 минут - такое может быть, в зависимости от задач кол-центра).\n",
    "\n",
    "Количество звонков в день максимальное 87, среднее 8. Здесь пока рано делать выводы об операторах и их эффективности.\n",
    "\n",
    "Странно малое кол-во звонков."
   ]
  },
  {
   "cell_type": "code",
   "execution_count": 39,
   "id": "2c289773",
   "metadata": {},
   "outputs": [
    {
     "name": "stdout",
     "output_type": "stream",
     "text": [
      "Диапазон дат в датасете c 2019-08-02 00:00:00 по 2019-11-28 00:00:00\n"
     ]
    }
   ],
   "source": [
    "#посмотрю диапазон дат\n",
    "print('Диапазон дат в датасете c', data_st['day'].min(), 'по', data_st['day'].max())"
   ]
  },
  {
   "cell_type": "markdown",
   "id": "3c2b8500",
   "metadata": {},
   "source": [
    "#### Таблица data_client"
   ]
  },
  {
   "cell_type": "code",
   "execution_count": 40,
   "id": "12878fbf",
   "metadata": {},
   "outputs": [
    {
     "name": "stdout",
     "output_type": "stream",
     "text": [
      "<class 'pandas.core.frame.DataFrame'>\n",
      "RangeIndex: 732 entries, 0 to 731\n",
      "Data columns (total 3 columns):\n",
      " #   Column       Non-Null Count  Dtype         \n",
      "---  ------       --------------  -----         \n",
      " 0   user_id      732 non-null    int64         \n",
      " 1   tariff_plan  732 non-null    object        \n",
      " 2   date_start   732 non-null    datetime64[ns]\n",
      "dtypes: datetime64[ns](1), int64(1), object(1)\n",
      "memory usage: 17.3+ KB\n"
     ]
    }
   ],
   "source": [
    "data_client.info()"
   ]
  },
  {
   "cell_type": "code",
   "execution_count": 41,
   "id": "544d5779",
   "metadata": {},
   "outputs": [
    {
     "data": {
      "text/plain": [
       "C    395\n",
       "B    261\n",
       "A     76\n",
       "Name: tariff_plan, dtype: int64"
      ]
     },
     "execution_count": 41,
     "metadata": {},
     "output_type": "execute_result"
    }
   ],
   "source": [
    "#посмотрим как распределены тарифы\n",
    "data_client['tariff_plan'].value_counts()\n"
   ]
  },
  {
   "cell_type": "code",
   "execution_count": 42,
   "id": "6ff81e6c",
   "metadata": {},
   "outputs": [
    {
     "name": "stdout",
     "output_type": "stream",
     "text": [
      "Диапазон дат в датасете c 2019-08-01 00:00:00 по 2019-10-31 00:00:00\n"
     ]
    }
   ],
   "source": [
    "print('Диапазон дат в датасете c', data_client['date_start'].min(),'по', data_client['date_start'].max())\n"
   ]
  },
  {
   "cell_type": "markdown",
   "id": "314790e7",
   "metadata": {},
   "source": [
    "### Анализ эффективности операторов"
   ]
  },
  {
   "cell_type": "code",
   "execution_count": 43,
   "id": "e3b335ec",
   "metadata": {
    "scrolled": true
   },
   "outputs": [
    {
     "data": {
      "text/html": [
       "<div>\n",
       "<style scoped>\n",
       "    .dataframe tbody tr th:only-of-type {\n",
       "        vertical-align: middle;\n",
       "    }\n",
       "\n",
       "    .dataframe tbody tr th {\n",
       "        vertical-align: top;\n",
       "    }\n",
       "\n",
       "    .dataframe thead th {\n",
       "        text-align: right;\n",
       "    }\n",
       "</style>\n",
       "<table border=\"1\" class=\"dataframe\">\n",
       "  <thead>\n",
       "    <tr style=\"text-align: right;\">\n",
       "      <th></th>\n",
       "      <th>user_id</th>\n",
       "      <th>direction</th>\n",
       "      <th>internal</th>\n",
       "      <th>operator_id</th>\n",
       "      <th>is_missed_call</th>\n",
       "      <th>calls_count</th>\n",
       "      <th>call_duration</th>\n",
       "      <th>total_call_duration</th>\n",
       "      <th>day</th>\n",
       "      <th>tariff_plan</th>\n",
       "      <th>date_start</th>\n",
       "    </tr>\n",
       "  </thead>\n",
       "  <tbody>\n",
       "    <tr>\n",
       "      <th>0</th>\n",
       "      <td>166377</td>\n",
       "      <td>out</td>\n",
       "      <td>True</td>\n",
       "      <td>880022</td>\n",
       "      <td>True</td>\n",
       "      <td>3</td>\n",
       "      <td>0</td>\n",
       "      <td>5</td>\n",
       "      <td>2019-08-05</td>\n",
       "      <td>B</td>\n",
       "      <td>2019-08-01</td>\n",
       "    </tr>\n",
       "    <tr>\n",
       "      <th>1</th>\n",
       "      <td>166377</td>\n",
       "      <td>out</td>\n",
       "      <td>True</td>\n",
       "      <td>880020</td>\n",
       "      <td>True</td>\n",
       "      <td>1</td>\n",
       "      <td>0</td>\n",
       "      <td>1</td>\n",
       "      <td>2019-08-05</td>\n",
       "      <td>B</td>\n",
       "      <td>2019-08-01</td>\n",
       "    </tr>\n",
       "    <tr>\n",
       "      <th>2</th>\n",
       "      <td>166377</td>\n",
       "      <td>out</td>\n",
       "      <td>True</td>\n",
       "      <td>880020</td>\n",
       "      <td>False</td>\n",
       "      <td>1</td>\n",
       "      <td>10</td>\n",
       "      <td>18</td>\n",
       "      <td>2019-08-05</td>\n",
       "      <td>B</td>\n",
       "      <td>2019-08-01</td>\n",
       "    </tr>\n",
       "    <tr>\n",
       "      <th>3</th>\n",
       "      <td>166377</td>\n",
       "      <td>out</td>\n",
       "      <td>False</td>\n",
       "      <td>880022</td>\n",
       "      <td>True</td>\n",
       "      <td>3</td>\n",
       "      <td>0</td>\n",
       "      <td>25</td>\n",
       "      <td>2019-08-05</td>\n",
       "      <td>B</td>\n",
       "      <td>2019-08-01</td>\n",
       "    </tr>\n",
       "    <tr>\n",
       "      <th>4</th>\n",
       "      <td>166377</td>\n",
       "      <td>out</td>\n",
       "      <td>False</td>\n",
       "      <td>880020</td>\n",
       "      <td>False</td>\n",
       "      <td>2</td>\n",
       "      <td>3</td>\n",
       "      <td>29</td>\n",
       "      <td>2019-08-05</td>\n",
       "      <td>B</td>\n",
       "      <td>2019-08-01</td>\n",
       "    </tr>\n",
       "  </tbody>\n",
       "</table>\n",
       "</div>"
      ],
      "text/plain": [
       "   user_id direction internal  operator_id  is_missed_call  calls_count  \\\n",
       "0   166377       out     True       880022            True            3   \n",
       "1   166377       out     True       880020            True            1   \n",
       "2   166377       out     True       880020           False            1   \n",
       "3   166377       out    False       880022            True            3   \n",
       "4   166377       out    False       880020           False            2   \n",
       "\n",
       "   call_duration  total_call_duration        day tariff_plan date_start  \n",
       "0              0                    5 2019-08-05           B 2019-08-01  \n",
       "1              0                    1 2019-08-05           B 2019-08-01  \n",
       "2             10                   18 2019-08-05           B 2019-08-01  \n",
       "3              0                   25 2019-08-05           B 2019-08-01  \n",
       "4              3                   29 2019-08-05           B 2019-08-01  "
      ]
     },
     "execution_count": 43,
     "metadata": {},
     "output_type": "execute_result"
    }
   ],
   "source": [
    "#объединю таблицу стаф и клиент\n",
    "total_table = data_st.merge(data_client, on='user_id', how='left')\n",
    "total_table = total_table.drop('date', axis=1)\n",
    "total_table.head()"
   ]
  },
  {
   "cell_type": "code",
   "execution_count": 44,
   "id": "1fea4bab",
   "metadata": {},
   "outputs": [
    {
     "data": {
      "text/html": [
       "<div>\n",
       "<style scoped>\n",
       "    .dataframe tbody tr th:only-of-type {\n",
       "        vertical-align: middle;\n",
       "    }\n",
       "\n",
       "    .dataframe tbody tr th {\n",
       "        vertical-align: top;\n",
       "    }\n",
       "\n",
       "    .dataframe thead th {\n",
       "        text-align: right;\n",
       "    }\n",
       "</style>\n",
       "<table border=\"1\" class=\"dataframe\">\n",
       "  <thead>\n",
       "    <tr style=\"text-align: right;\">\n",
       "      <th></th>\n",
       "      <th>user_id</th>\n",
       "      <th>is_missed_call</th>\n",
       "      <th>calls_count</th>\n",
       "      <th>call_duration</th>\n",
       "      <th>total_call_duration</th>\n",
       "    </tr>\n",
       "    <tr>\n",
       "      <th>operator_id</th>\n",
       "      <th></th>\n",
       "      <th></th>\n",
       "      <th></th>\n",
       "      <th></th>\n",
       "      <th></th>\n",
       "    </tr>\n",
       "  </thead>\n",
       "  <tbody>\n",
       "    <tr>\n",
       "      <th>879896</th>\n",
       "      <td>18471066</td>\n",
       "      <td>47</td>\n",
       "      <td>552</td>\n",
       "      <td>30343</td>\n",
       "      <td>39310</td>\n",
       "    </tr>\n",
       "    <tr>\n",
       "      <th>879898</th>\n",
       "      <td>30452298</td>\n",
       "      <td>89</td>\n",
       "      <td>3651</td>\n",
       "      <td>62101</td>\n",
       "      <td>127735</td>\n",
       "    </tr>\n",
       "    <tr>\n",
       "      <th>880020</th>\n",
       "      <td>3327540</td>\n",
       "      <td>6</td>\n",
       "      <td>45</td>\n",
       "      <td>2245</td>\n",
       "      <td>2525</td>\n",
       "    </tr>\n",
       "    <tr>\n",
       "      <th>880022</th>\n",
       "      <td>11646390</td>\n",
       "      <td>29</td>\n",
       "      <td>197</td>\n",
       "      <td>15147</td>\n",
       "      <td>18925</td>\n",
       "    </tr>\n",
       "    <tr>\n",
       "      <th>880026</th>\n",
       "      <td>30114237</td>\n",
       "      <td>87</td>\n",
       "      <td>2189</td>\n",
       "      <td>149891</td>\n",
       "      <td>171872</td>\n",
       "    </tr>\n",
       "  </tbody>\n",
       "</table>\n",
       "</div>"
      ],
      "text/plain": [
       "              user_id  is_missed_call  calls_count  call_duration  \\\n",
       "operator_id                                                         \n",
       "879896       18471066              47          552          30343   \n",
       "879898       30452298              89         3651          62101   \n",
       "880020        3327540               6           45           2245   \n",
       "880022       11646390              29          197          15147   \n",
       "880026       30114237              87         2189         149891   \n",
       "\n",
       "             total_call_duration  \n",
       "operator_id                       \n",
       "879896                     39310  \n",
       "879898                    127735  \n",
       "880020                      2525  \n",
       "880022                     18925  \n",
       "880026                    171872  "
      ]
     },
     "execution_count": 44,
     "metadata": {},
     "output_type": "execute_result"
    }
   ],
   "source": [
    "#посчитаю сколько всего звонков по каждому оператору\n",
    "total_calls_by_operator = total_table.groupby(['operator_id']).agg(sum)\n",
    "total_calls_by_operator.head()"
   ]
  },
  {
   "cell_type": "markdown",
   "id": "83af7c6c",
   "metadata": {},
   "source": [
    "#### Критерий эффективности -- пропущенные звонки"
   ]
  },
  {
   "cell_type": "markdown",
   "id": "0f21df0b",
   "metadata": {},
   "source": [
    "Буду смотреть пропущенные входящие звонки. В отрасли нормальноу значение пропущенных звонков от 5 до 8%. Возьмем 8%"
   ]
  },
  {
   "cell_type": "code",
   "execution_count": 46,
   "id": "c90a4a7c",
   "metadata": {},
   "outputs": [
    {
     "data": {
      "text/html": [
       "<div>\n",
       "<style scoped>\n",
       "    .dataframe tbody tr th:only-of-type {\n",
       "        vertical-align: middle;\n",
       "    }\n",
       "\n",
       "    .dataframe tbody tr th {\n",
       "        vertical-align: top;\n",
       "    }\n",
       "\n",
       "    .dataframe thead th {\n",
       "        text-align: right;\n",
       "    }\n",
       "</style>\n",
       "<table border=\"1\" class=\"dataframe\">\n",
       "  <thead>\n",
       "    <tr style=\"text-align: right;\">\n",
       "      <th></th>\n",
       "      <th>user_id</th>\n",
       "      <th>direction</th>\n",
       "      <th>internal</th>\n",
       "      <th>operator_id</th>\n",
       "      <th>is_missed_call</th>\n",
       "      <th>calls_count</th>\n",
       "      <th>call_duration</th>\n",
       "      <th>total_call_duration</th>\n",
       "      <th>day</th>\n",
       "      <th>tariff_plan</th>\n",
       "      <th>date_start</th>\n",
       "    </tr>\n",
       "  </thead>\n",
       "  <tbody>\n",
       "    <tr>\n",
       "      <th>568</th>\n",
       "      <td>166405</td>\n",
       "      <td>in</td>\n",
       "      <td>False</td>\n",
       "      <td>882684</td>\n",
       "      <td>True</td>\n",
       "      <td>1</td>\n",
       "      <td>0</td>\n",
       "      <td>7</td>\n",
       "      <td>2019-08-19</td>\n",
       "      <td>B</td>\n",
       "      <td>2019-08-02</td>\n",
       "    </tr>\n",
       "    <tr>\n",
       "      <th>569</th>\n",
       "      <td>166405</td>\n",
       "      <td>in</td>\n",
       "      <td>False</td>\n",
       "      <td>882686</td>\n",
       "      <td>True</td>\n",
       "      <td>1</td>\n",
       "      <td>0</td>\n",
       "      <td>5</td>\n",
       "      <td>2019-08-19</td>\n",
       "      <td>B</td>\n",
       "      <td>2019-08-02</td>\n",
       "    </tr>\n",
       "    <tr>\n",
       "      <th>590</th>\n",
       "      <td>166405</td>\n",
       "      <td>in</td>\n",
       "      <td>False</td>\n",
       "      <td>882684</td>\n",
       "      <td>True</td>\n",
       "      <td>1</td>\n",
       "      <td>0</td>\n",
       "      <td>14</td>\n",
       "      <td>2019-08-24</td>\n",
       "      <td>B</td>\n",
       "      <td>2019-08-02</td>\n",
       "    </tr>\n",
       "    <tr>\n",
       "      <th>606</th>\n",
       "      <td>166405</td>\n",
       "      <td>in</td>\n",
       "      <td>False</td>\n",
       "      <td>882686</td>\n",
       "      <td>True</td>\n",
       "      <td>2</td>\n",
       "      <td>0</td>\n",
       "      <td>50</td>\n",
       "      <td>2019-08-28</td>\n",
       "      <td>B</td>\n",
       "      <td>2019-08-02</td>\n",
       "    </tr>\n",
       "    <tr>\n",
       "      <th>688</th>\n",
       "      <td>166405</td>\n",
       "      <td>in</td>\n",
       "      <td>False</td>\n",
       "      <td>882686</td>\n",
       "      <td>True</td>\n",
       "      <td>1</td>\n",
       "      <td>0</td>\n",
       "      <td>8</td>\n",
       "      <td>2019-09-09</td>\n",
       "      <td>B</td>\n",
       "      <td>2019-08-02</td>\n",
       "    </tr>\n",
       "  </tbody>\n",
       "</table>\n",
       "</div>"
      ],
      "text/plain": [
       "     user_id direction internal  operator_id  is_missed_call  calls_count  \\\n",
       "568   166405        in    False       882684            True            1   \n",
       "569   166405        in    False       882686            True            1   \n",
       "590   166405        in    False       882684            True            1   \n",
       "606   166405        in    False       882686            True            2   \n",
       "688   166405        in    False       882686            True            1   \n",
       "\n",
       "     call_duration  total_call_duration        day tariff_plan date_start  \n",
       "568              0                    7 2019-08-19           B 2019-08-02  \n",
       "569              0                    5 2019-08-19           B 2019-08-02  \n",
       "590              0                   14 2019-08-24           B 2019-08-02  \n",
       "606              0                   50 2019-08-28           B 2019-08-02  \n",
       "688              0                    8 2019-09-09           B 2019-08-02  "
      ]
     },
     "execution_count": 46,
     "metadata": {},
     "output_type": "execute_result"
    }
   ],
   "source": [
    "#выделю срез только с пропущенными входящими вызовами\n",
    "abondement_calls = total_table[(total_table['direction'] == 'in') & (total_table['is_missed_call'] == True)]\n",
    "abondement_calls.head(5)"
   ]
  },
  {
   "cell_type": "code",
   "execution_count": 47,
   "id": "2c041caa",
   "metadata": {},
   "outputs": [],
   "source": [
    "def piv_tab_creator(data, p_groupby, p_agg, p_rename, p_sort, a_sort):\n",
    "    '''\n",
    "    Функция для создания сводных таблиц:\n",
    "    \n",
    "    data = датафрейм\n",
    "    p_groupby = параметр группировки\n",
    "    p_agg = параметр агрегации и метод (формат {'':''})\n",
    "    p_rename = старое наименование столбца для переименования и новое (формат {'':''})\n",
    "    p_sort = параметр сортировки\n",
    "    a_sort = вид сортировки: True по возрастанию, False - по убыванию\n",
    "    \n",
    "    '''\n",
    "    \n",
    "    if p_rename == 0:\n",
    "        data = (data\n",
    "                .groupby(p_groupby)\n",
    "                .agg(p_agg)\n",
    "                .reset_index()\n",
    "                .sort_values(by=p_sort, ascending=a_sort))\n",
    "    else:\n",
    "        data = (data\n",
    "                .groupby(p_groupby)\n",
    "                .agg(p_agg)\n",
    "                .reset_index()\n",
    "                .rename(columns=p_rename)\n",
    "                .sort_values(by=p_sort, ascending=a_sort))\n",
    "    \n",
    "    return data"
   ]
  },
  {
   "cell_type": "code",
   "execution_count": 48,
   "id": "1d32dbc2",
   "metadata": {},
   "outputs": [
    {
     "data": {
      "text/html": [
       "<div>\n",
       "<style scoped>\n",
       "    .dataframe tbody tr th:only-of-type {\n",
       "        vertical-align: middle;\n",
       "    }\n",
       "\n",
       "    .dataframe tbody tr th {\n",
       "        vertical-align: top;\n",
       "    }\n",
       "\n",
       "    .dataframe thead th {\n",
       "        text-align: right;\n",
       "    }\n",
       "</style>\n",
       "<table border=\"1\" class=\"dataframe\">\n",
       "  <thead>\n",
       "    <tr style=\"text-align: right;\">\n",
       "      <th></th>\n",
       "      <th>user_id</th>\n",
       "      <th>operator_id</th>\n",
       "      <th>a_calls</th>\n",
       "    </tr>\n",
       "  </thead>\n",
       "  <tbody>\n",
       "    <tr>\n",
       "      <th>90</th>\n",
       "      <td>167071</td>\n",
       "      <td>913942</td>\n",
       "      <td>52</td>\n",
       "    </tr>\n",
       "    <tr>\n",
       "      <th>177</th>\n",
       "      <td>167977</td>\n",
       "      <td>944226</td>\n",
       "      <td>30</td>\n",
       "    </tr>\n",
       "    <tr>\n",
       "      <th>215</th>\n",
       "      <td>168252</td>\n",
       "      <td>940588</td>\n",
       "      <td>30</td>\n",
       "    </tr>\n",
       "    <tr>\n",
       "      <th>23</th>\n",
       "      <td>166582</td>\n",
       "      <td>885890</td>\n",
       "      <td>26</td>\n",
       "    </tr>\n",
       "    <tr>\n",
       "      <th>208</th>\n",
       "      <td>168187</td>\n",
       "      <td>937956</td>\n",
       "      <td>24</td>\n",
       "    </tr>\n",
       "    <tr>\n",
       "      <th>173</th>\n",
       "      <td>167977</td>\n",
       "      <td>944216</td>\n",
       "      <td>24</td>\n",
       "    </tr>\n",
       "    <tr>\n",
       "      <th>185</th>\n",
       "      <td>168062</td>\n",
       "      <td>951508</td>\n",
       "      <td>21</td>\n",
       "    </tr>\n",
       "    <tr>\n",
       "      <th>22</th>\n",
       "      <td>166582</td>\n",
       "      <td>885876</td>\n",
       "      <td>20</td>\n",
       "    </tr>\n",
       "    <tr>\n",
       "      <th>175</th>\n",
       "      <td>167977</td>\n",
       "      <td>944220</td>\n",
       "      <td>18</td>\n",
       "    </tr>\n",
       "    <tr>\n",
       "      <th>220</th>\n",
       "      <td>168252</td>\n",
       "      <td>940630</td>\n",
       "      <td>17</td>\n",
       "    </tr>\n",
       "  </tbody>\n",
       "</table>\n",
       "</div>"
      ],
      "text/plain": [
       "     user_id  operator_id  a_calls\n",
       "90    167071       913942       52\n",
       "177   167977       944226       30\n",
       "215   168252       940588       30\n",
       "23    166582       885890       26\n",
       "208   168187       937956       24\n",
       "173   167977       944216       24\n",
       "185   168062       951508       21\n",
       "22    166582       885876       20\n",
       "175   167977       944220       18\n",
       "220   168252       940630       17"
      ]
     },
     "execution_count": 48,
     "metadata": {},
     "output_type": "execute_result"
    }
   ],
   "source": [
    "#таблица с пропущенными входящими вызовами\n",
    "abondement_calls = piv_tab_creator(data=abondement_calls, p_groupby=['user_id', 'operator_id'], p_agg={'calls_count':'sum'}, p_rename={'calls_count':'a_calls'}, p_sort='a_calls', a_sort=False)\n",
    "abondement_calls.head(10)"
   ]
  },
  {
   "cell_type": "code",
   "execution_count": 49,
   "id": "09d28a3c",
   "metadata": {},
   "outputs": [
    {
     "data": {
      "text/html": [
       "<div>\n",
       "<style scoped>\n",
       "    .dataframe tbody tr th:only-of-type {\n",
       "        vertical-align: middle;\n",
       "    }\n",
       "\n",
       "    .dataframe tbody tr th {\n",
       "        vertical-align: top;\n",
       "    }\n",
       "\n",
       "    .dataframe thead th {\n",
       "        text-align: right;\n",
       "    }\n",
       "</style>\n",
       "<table border=\"1\" class=\"dataframe\">\n",
       "  <thead>\n",
       "    <tr style=\"text-align: right;\">\n",
       "      <th></th>\n",
       "      <th>operator_id</th>\n",
       "      <th>user_id_x</th>\n",
       "      <th>is_missed_call</th>\n",
       "      <th>calls_count</th>\n",
       "      <th>call_duration</th>\n",
       "      <th>total_call_duration</th>\n",
       "      <th>user_id_y</th>\n",
       "      <th>a_calls</th>\n",
       "    </tr>\n",
       "  </thead>\n",
       "  <tbody>\n",
       "    <tr>\n",
       "      <th>0</th>\n",
       "      <td>879896</td>\n",
       "      <td>18471066</td>\n",
       "      <td>47</td>\n",
       "      <td>552</td>\n",
       "      <td>30343</td>\n",
       "      <td>39310</td>\n",
       "      <td>NaN</td>\n",
       "      <td>NaN</td>\n",
       "    </tr>\n",
       "    <tr>\n",
       "      <th>1</th>\n",
       "      <td>879898</td>\n",
       "      <td>30452298</td>\n",
       "      <td>89</td>\n",
       "      <td>3651</td>\n",
       "      <td>62101</td>\n",
       "      <td>127735</td>\n",
       "      <td>NaN</td>\n",
       "      <td>NaN</td>\n",
       "    </tr>\n",
       "    <tr>\n",
       "      <th>2</th>\n",
       "      <td>880020</td>\n",
       "      <td>3327540</td>\n",
       "      <td>6</td>\n",
       "      <td>45</td>\n",
       "      <td>2245</td>\n",
       "      <td>2525</td>\n",
       "      <td>NaN</td>\n",
       "      <td>NaN</td>\n",
       "    </tr>\n",
       "    <tr>\n",
       "      <th>3</th>\n",
       "      <td>880022</td>\n",
       "      <td>11646390</td>\n",
       "      <td>29</td>\n",
       "      <td>197</td>\n",
       "      <td>15147</td>\n",
       "      <td>18925</td>\n",
       "      <td>NaN</td>\n",
       "      <td>NaN</td>\n",
       "    </tr>\n",
       "    <tr>\n",
       "      <th>4</th>\n",
       "      <td>880026</td>\n",
       "      <td>30114237</td>\n",
       "      <td>87</td>\n",
       "      <td>2189</td>\n",
       "      <td>149891</td>\n",
       "      <td>171872</td>\n",
       "      <td>NaN</td>\n",
       "      <td>NaN</td>\n",
       "    </tr>\n",
       "  </tbody>\n",
       "</table>\n",
       "</div>"
      ],
      "text/plain": [
       "   operator_id  user_id_x  is_missed_call  calls_count  call_duration  \\\n",
       "0       879896   18471066              47          552          30343   \n",
       "1       879898   30452298              89         3651          62101   \n",
       "2       880020    3327540               6           45           2245   \n",
       "3       880022   11646390              29          197          15147   \n",
       "4       880026   30114237              87         2189         149891   \n",
       "\n",
       "   total_call_duration  user_id_y  a_calls  \n",
       "0                39310        NaN      NaN  \n",
       "1               127735        NaN      NaN  \n",
       "2                 2525        NaN      NaN  \n",
       "3                18925        NaN      NaN  \n",
       "4               171872        NaN      NaN  "
      ]
     },
     "execution_count": 49,
     "metadata": {},
     "output_type": "execute_result"
    }
   ],
   "source": [
    "#табличка с обими звонками и пропущенными\n",
    "mega_total_table = total_calls_by_operator.merge(abondement_calls, on='operator_id', how='left')\n",
    "mega_total_table.head()"
   ]
  },
  {
   "cell_type": "code",
   "execution_count": 50,
   "id": "8009ae31",
   "metadata": {},
   "outputs": [
    {
     "data": {
      "text/html": [
       "<div>\n",
       "<style scoped>\n",
       "    .dataframe tbody tr th:only-of-type {\n",
       "        vertical-align: middle;\n",
       "    }\n",
       "\n",
       "    .dataframe tbody tr th {\n",
       "        vertical-align: top;\n",
       "    }\n",
       "\n",
       "    .dataframe thead th {\n",
       "        text-align: right;\n",
       "    }\n",
       "</style>\n",
       "<table border=\"1\" class=\"dataframe\">\n",
       "  <thead>\n",
       "    <tr style=\"text-align: right;\">\n",
       "      <th></th>\n",
       "      <th>operator_id</th>\n",
       "      <th>user_id_x</th>\n",
       "      <th>is_missed_call</th>\n",
       "      <th>calls_count</th>\n",
       "      <th>call_duration</th>\n",
       "      <th>total_call_duration</th>\n",
       "      <th>user_id_y</th>\n",
       "      <th>a_calls</th>\n",
       "      <th>share_of_abondement_calls</th>\n",
       "    </tr>\n",
       "  </thead>\n",
       "  <tbody>\n",
       "    <tr>\n",
       "      <th>0</th>\n",
       "      <td>879896</td>\n",
       "      <td>18471066</td>\n",
       "      <td>47</td>\n",
       "      <td>552</td>\n",
       "      <td>30343</td>\n",
       "      <td>39310</td>\n",
       "      <td>NaN</td>\n",
       "      <td>NaN</td>\n",
       "      <td>NaN</td>\n",
       "    </tr>\n",
       "    <tr>\n",
       "      <th>1</th>\n",
       "      <td>879898</td>\n",
       "      <td>30452298</td>\n",
       "      <td>89</td>\n",
       "      <td>3651</td>\n",
       "      <td>62101</td>\n",
       "      <td>127735</td>\n",
       "      <td>NaN</td>\n",
       "      <td>NaN</td>\n",
       "      <td>NaN</td>\n",
       "    </tr>\n",
       "    <tr>\n",
       "      <th>2</th>\n",
       "      <td>880020</td>\n",
       "      <td>3327540</td>\n",
       "      <td>6</td>\n",
       "      <td>45</td>\n",
       "      <td>2245</td>\n",
       "      <td>2525</td>\n",
       "      <td>NaN</td>\n",
       "      <td>NaN</td>\n",
       "      <td>NaN</td>\n",
       "    </tr>\n",
       "    <tr>\n",
       "      <th>3</th>\n",
       "      <td>880022</td>\n",
       "      <td>11646390</td>\n",
       "      <td>29</td>\n",
       "      <td>197</td>\n",
       "      <td>15147</td>\n",
       "      <td>18925</td>\n",
       "      <td>NaN</td>\n",
       "      <td>NaN</td>\n",
       "      <td>NaN</td>\n",
       "    </tr>\n",
       "    <tr>\n",
       "      <th>4</th>\n",
       "      <td>880026</td>\n",
       "      <td>30114237</td>\n",
       "      <td>87</td>\n",
       "      <td>2189</td>\n",
       "      <td>149891</td>\n",
       "      <td>171872</td>\n",
       "      <td>NaN</td>\n",
       "      <td>NaN</td>\n",
       "      <td>NaN</td>\n",
       "    </tr>\n",
       "  </tbody>\n",
       "</table>\n",
       "</div>"
      ],
      "text/plain": [
       "   operator_id  user_id_x  is_missed_call  calls_count  call_duration  \\\n",
       "0       879896   18471066              47          552          30343   \n",
       "1       879898   30452298              89         3651          62101   \n",
       "2       880020    3327540               6           45           2245   \n",
       "3       880022   11646390              29          197          15147   \n",
       "4       880026   30114237              87         2189         149891   \n",
       "\n",
       "   total_call_duration  user_id_y  a_calls  share_of_abondement_calls  \n",
       "0                39310        NaN      NaN                        NaN  \n",
       "1               127735        NaN      NaN                        NaN  \n",
       "2                 2525        NaN      NaN                        NaN  \n",
       "3                18925        NaN      NaN                        NaN  \n",
       "4               171872        NaN      NaN                        NaN  "
      ]
     },
     "execution_count": 50,
     "metadata": {},
     "output_type": "execute_result"
    }
   ],
   "source": [
    "mega_total_table['share_of_abondement_calls'] = (mega_total_table['a_calls']/mega_total_table['calls_count'])*100\n",
    "mega_total_table.head(5)"
   ]
  },
  {
   "cell_type": "code",
   "execution_count": 51,
   "id": "9e5612c8",
   "metadata": {},
   "outputs": [
    {
     "data": {
      "text/html": [
       "<div>\n",
       "<style scoped>\n",
       "    .dataframe tbody tr th:only-of-type {\n",
       "        vertical-align: middle;\n",
       "    }\n",
       "\n",
       "    .dataframe tbody tr th {\n",
       "        vertical-align: top;\n",
       "    }\n",
       "\n",
       "    .dataframe thead th {\n",
       "        text-align: right;\n",
       "    }\n",
       "</style>\n",
       "<table border=\"1\" class=\"dataframe\">\n",
       "  <thead>\n",
       "    <tr style=\"text-align: right;\">\n",
       "      <th></th>\n",
       "      <th>share_of_abondement_calls</th>\n",
       "    </tr>\n",
       "    <tr>\n",
       "      <th>operator_id</th>\n",
       "      <th></th>\n",
       "    </tr>\n",
       "  </thead>\n",
       "  <tbody>\n",
       "    <tr>\n",
       "      <th>891414</th>\n",
       "      <td>0.045331</td>\n",
       "    </tr>\n",
       "    <tr>\n",
       "      <th>899082</th>\n",
       "      <td>0.046168</td>\n",
       "    </tr>\n",
       "    <tr>\n",
       "      <th>901884</th>\n",
       "      <td>0.046275</td>\n",
       "    </tr>\n",
       "    <tr>\n",
       "      <th>939224</th>\n",
       "      <td>0.072833</td>\n",
       "    </tr>\n",
       "    <tr>\n",
       "      <th>917852</th>\n",
       "      <td>0.073638</td>\n",
       "    </tr>\n",
       "  </tbody>\n",
       "</table>\n",
       "</div>"
      ],
      "text/plain": [
       "             share_of_abondement_calls\n",
       "operator_id                           \n",
       "891414                        0.045331\n",
       "899082                        0.046168\n",
       "901884                        0.046275\n",
       "939224                        0.072833\n",
       "917852                        0.073638"
      ]
     },
     "execution_count": 51,
     "metadata": {},
     "output_type": "execute_result"
    }
   ],
   "source": [
    "share_of_calls_1 = pd.pivot_table(mega_total_table, index='operator_id', values='share_of_abondement_calls')\n",
    "top_share_of_calls_2=share_of_calls_1.sort_values(by='share_of_abondement_calls')\n",
    "top_share_of_calls_2.head()"
   ]
  },
  {
   "cell_type": "code",
   "execution_count": 52,
   "id": "27484087",
   "metadata": {},
   "outputs": [
    {
     "data": {
      "text/html": [
       "<div>\n",
       "<style scoped>\n",
       "    .dataframe tbody tr th:only-of-type {\n",
       "        vertical-align: middle;\n",
       "    }\n",
       "\n",
       "    .dataframe tbody tr th {\n",
       "        vertical-align: top;\n",
       "    }\n",
       "\n",
       "    .dataframe thead th {\n",
       "        text-align: right;\n",
       "    }\n",
       "</style>\n",
       "<table border=\"1\" class=\"dataframe\">\n",
       "  <thead>\n",
       "    <tr style=\"text-align: right;\">\n",
       "      <th></th>\n",
       "      <th>share_of_abondement_calls</th>\n",
       "    </tr>\n",
       "    <tr>\n",
       "      <th>operator_id</th>\n",
       "      <th></th>\n",
       "    </tr>\n",
       "  </thead>\n",
       "  <tbody>\n",
       "    <tr>\n",
       "      <th>918888</th>\n",
       "      <td>9.090909</td>\n",
       "    </tr>\n",
       "    <tr>\n",
       "      <th>926872</th>\n",
       "      <td>9.677419</td>\n",
       "    </tr>\n",
       "    <tr>\n",
       "      <th>906392</th>\n",
       "      <td>9.859155</td>\n",
       "    </tr>\n",
       "    <tr>\n",
       "      <th>911142</th>\n",
       "      <td>10.000000</td>\n",
       "    </tr>\n",
       "    <tr>\n",
       "      <th>944226</th>\n",
       "      <td>10.948905</td>\n",
       "    </tr>\n",
       "    <tr>\n",
       "      <th>911102</th>\n",
       "      <td>11.111111</td>\n",
       "    </tr>\n",
       "    <tr>\n",
       "      <th>894614</th>\n",
       "      <td>12.500000</td>\n",
       "    </tr>\n",
       "    <tr>\n",
       "      <th>937368</th>\n",
       "      <td>12.500000</td>\n",
       "    </tr>\n",
       "    <tr>\n",
       "      <th>940588</th>\n",
       "      <td>12.820513</td>\n",
       "    </tr>\n",
       "    <tr>\n",
       "      <th>905862</th>\n",
       "      <td>14.563107</td>\n",
       "    </tr>\n",
       "    <tr>\n",
       "      <th>919896</th>\n",
       "      <td>20.000000</td>\n",
       "    </tr>\n",
       "    <tr>\n",
       "      <th>919166</th>\n",
       "      <td>21.428571</td>\n",
       "    </tr>\n",
       "    <tr>\n",
       "      <th>905300</th>\n",
       "      <td>24.000000</td>\n",
       "    </tr>\n",
       "    <tr>\n",
       "      <th>930242</th>\n",
       "      <td>25.000000</td>\n",
       "    </tr>\n",
       "    <tr>\n",
       "      <th>910226</th>\n",
       "      <td>25.000000</td>\n",
       "    </tr>\n",
       "    <tr>\n",
       "      <th>924936</th>\n",
       "      <td>25.000000</td>\n",
       "    </tr>\n",
       "    <tr>\n",
       "      <th>934098</th>\n",
       "      <td>33.333333</td>\n",
       "    </tr>\n",
       "    <tr>\n",
       "      <th>904344</th>\n",
       "      <td>33.333333</td>\n",
       "    </tr>\n",
       "    <tr>\n",
       "      <th>919204</th>\n",
       "      <td>50.000000</td>\n",
       "    </tr>\n",
       "    <tr>\n",
       "      <th>913886</th>\n",
       "      <td>50.000000</td>\n",
       "    </tr>\n",
       "  </tbody>\n",
       "</table>\n",
       "</div>"
      ],
      "text/plain": [
       "             share_of_abondement_calls\n",
       "operator_id                           \n",
       "918888                        9.090909\n",
       "926872                        9.677419\n",
       "906392                        9.859155\n",
       "911142                       10.000000\n",
       "944226                       10.948905\n",
       "911102                       11.111111\n",
       "894614                       12.500000\n",
       "937368                       12.500000\n",
       "940588                       12.820513\n",
       "905862                       14.563107\n",
       "919896                       20.000000\n",
       "919166                       21.428571\n",
       "905300                       24.000000\n",
       "930242                       25.000000\n",
       "910226                       25.000000\n",
       "924936                       25.000000\n",
       "934098                       33.333333\n",
       "904344                       33.333333\n",
       "919204                       50.000000\n",
       "913886                       50.000000"
      ]
     },
     "execution_count": 52,
     "metadata": {},
     "output_type": "execute_result"
    }
   ],
   "source": [
    "top_share_of_calls_3 = top_share_of_calls_2.sort_values(by='share_of_abondement_calls')\n",
    "top_share_of_calls_3.tail(20)"
   ]
  },
  {
   "cell_type": "code",
   "execution_count": 53,
   "id": "e8e66f1b",
   "metadata": {},
   "outputs": [
    {
     "data": {
      "text/html": [
       "<div>\n",
       "<style scoped>\n",
       "    .dataframe tbody tr th:only-of-type {\n",
       "        vertical-align: middle;\n",
       "    }\n",
       "\n",
       "    .dataframe tbody tr th {\n",
       "        vertical-align: top;\n",
       "    }\n",
       "\n",
       "    .dataframe thead th {\n",
       "        text-align: right;\n",
       "    }\n",
       "</style>\n",
       "<table border=\"1\" class=\"dataframe\">\n",
       "  <thead>\n",
       "    <tr style=\"text-align: right;\">\n",
       "      <th></th>\n",
       "      <th>share_of_abondement_calls</th>\n",
       "    </tr>\n",
       "    <tr>\n",
       "      <th>operator_id</th>\n",
       "      <th></th>\n",
       "    </tr>\n",
       "  </thead>\n",
       "  <tbody>\n",
       "    <tr>\n",
       "      <th>934076</th>\n",
       "      <td>9.090909</td>\n",
       "    </tr>\n",
       "    <tr>\n",
       "      <th>918888</th>\n",
       "      <td>9.090909</td>\n",
       "    </tr>\n",
       "    <tr>\n",
       "      <th>926872</th>\n",
       "      <td>9.677419</td>\n",
       "    </tr>\n",
       "    <tr>\n",
       "      <th>906392</th>\n",
       "      <td>9.859155</td>\n",
       "    </tr>\n",
       "    <tr>\n",
       "      <th>911142</th>\n",
       "      <td>10.000000</td>\n",
       "    </tr>\n",
       "  </tbody>\n",
       "</table>\n",
       "</div>"
      ],
      "text/plain": [
       "             share_of_abondement_calls\n",
       "operator_id                           \n",
       "934076                        9.090909\n",
       "918888                        9.090909\n",
       "926872                        9.677419\n",
       "906392                        9.859155\n",
       "911142                       10.000000"
      ]
     },
     "execution_count": 53,
     "metadata": {},
     "output_type": "execute_result"
    }
   ],
   "source": [
    "bad_outliers = top_share_of_calls_3.loc[top_share_of_calls_3['share_of_abondement_calls'] > 8]\n",
    "bad_outliers.head()"
   ]
  },
  {
   "cell_type": "code",
   "execution_count": 54,
   "id": "873508ab",
   "metadata": {},
   "outputs": [
    {
     "name": "stdout",
     "output_type": "stream",
     "text": [
      "<class 'pandas.core.frame.DataFrame'>\n",
      "Int64Index: 21 entries, 934076 to 913886\n",
      "Data columns (total 1 columns):\n",
      " #   Column                     Non-Null Count  Dtype  \n",
      "---  ------                     --------------  -----  \n",
      " 0   share_of_abondement_calls  21 non-null     float64\n",
      "dtypes: float64(1)\n",
      "memory usage: 336.0 bytes\n"
     ]
    }
   ],
   "source": [
    "bad_outliers.info()"
   ]
  },
  {
   "cell_type": "code",
   "execution_count": 55,
   "id": "b0f90372",
   "metadata": {},
   "outputs": [
    {
     "data": {
      "text/plain": [
       "2.203856749311295"
      ]
     },
     "execution_count": 55,
     "metadata": {},
     "output_type": "execute_result"
    }
   ],
   "source": [
    "24/1089*100"
   ]
  },
  {
   "cell_type": "markdown",
   "id": "7cec642b",
   "metadata": {},
   "source": [
    "Итак, у нас есть 24 оператора неэффективных оператора по критерию \"Пропущенные входящие звонки\". Доля пропущенных входящих звонков у этих операторов более 8%. Таких операторов 2%"
   ]
  },
  {
   "cell_type": "markdown",
   "id": "a483f06f",
   "metadata": {},
   "source": [
    "5-8 % -- это рекомендуемый бенчмарк пропущенных звонков в коллцентре по стандарту COPC, соответственно, если у оператора доля пропущенных звонков более 8 % - он неэффективный по этому критерию."
   ]
  },
  {
   "cell_type": "markdown",
   "id": "74fc38a7",
   "metadata": {},
   "source": [
    " #### Критерий эффективности -- ожидание ответа"
   ]
  },
  {
   "cell_type": "markdown",
   "id": "b7740e19",
   "metadata": {},
   "source": [
    "Будем анализировать входящие звонки (непропущенные) "
   ]
  },
  {
   "cell_type": "code",
   "execution_count": 56,
   "id": "a86a42c8",
   "metadata": {},
   "outputs": [
    {
     "data": {
      "text/html": [
       "<div>\n",
       "<style scoped>\n",
       "    .dataframe tbody tr th:only-of-type {\n",
       "        vertical-align: middle;\n",
       "    }\n",
       "\n",
       "    .dataframe tbody tr th {\n",
       "        vertical-align: top;\n",
       "    }\n",
       "\n",
       "    .dataframe thead th {\n",
       "        text-align: right;\n",
       "    }\n",
       "</style>\n",
       "<table border=\"1\" class=\"dataframe\">\n",
       "  <thead>\n",
       "    <tr style=\"text-align: right;\">\n",
       "      <th></th>\n",
       "      <th>user_id</th>\n",
       "      <th>direction</th>\n",
       "      <th>internal</th>\n",
       "      <th>operator_id</th>\n",
       "      <th>is_missed_call</th>\n",
       "      <th>calls_count</th>\n",
       "      <th>call_duration</th>\n",
       "      <th>total_call_duration</th>\n",
       "      <th>day</th>\n",
       "      <th>tariff_plan</th>\n",
       "      <th>date_start</th>\n",
       "      <th>waiting_time</th>\n",
       "    </tr>\n",
       "  </thead>\n",
       "  <tbody>\n",
       "    <tr>\n",
       "      <th>971</th>\n",
       "      <td>166405</td>\n",
       "      <td>in</td>\n",
       "      <td>False</td>\n",
       "      <td>882690</td>\n",
       "      <td>False</td>\n",
       "      <td>4</td>\n",
       "      <td>527</td>\n",
       "      <td>779</td>\n",
       "      <td>2019-10-29</td>\n",
       "      <td>B</td>\n",
       "      <td>2019-08-02</td>\n",
       "      <td>252</td>\n",
       "    </tr>\n",
       "    <tr>\n",
       "      <th>19040</th>\n",
       "      <td>167158</td>\n",
       "      <td>in</td>\n",
       "      <td>False</td>\n",
       "      <td>907502</td>\n",
       "      <td>False</td>\n",
       "      <td>1</td>\n",
       "      <td>23</td>\n",
       "      <td>51</td>\n",
       "      <td>2019-10-03</td>\n",
       "      <td>A</td>\n",
       "      <td>2019-09-04</td>\n",
       "      <td>28</td>\n",
       "    </tr>\n",
       "    <tr>\n",
       "      <th>35509</th>\n",
       "      <td>168187</td>\n",
       "      <td>in</td>\n",
       "      <td>False</td>\n",
       "      <td>937956</td>\n",
       "      <td>False</td>\n",
       "      <td>14</td>\n",
       "      <td>1295</td>\n",
       "      <td>1306</td>\n",
       "      <td>2019-11-28</td>\n",
       "      <td>A</td>\n",
       "      <td>2019-10-16</td>\n",
       "      <td>11</td>\n",
       "    </tr>\n",
       "    <tr>\n",
       "      <th>36033</th>\n",
       "      <td>168252</td>\n",
       "      <td>in</td>\n",
       "      <td>False</td>\n",
       "      <td>940624</td>\n",
       "      <td>False</td>\n",
       "      <td>18</td>\n",
       "      <td>1713</td>\n",
       "      <td>1806</td>\n",
       "      <td>2019-11-12</td>\n",
       "      <td>A</td>\n",
       "      <td>2019-10-17</td>\n",
       "      <td>93</td>\n",
       "    </tr>\n",
       "    <tr>\n",
       "      <th>29236</th>\n",
       "      <td>167852</td>\n",
       "      <td>in</td>\n",
       "      <td>False</td>\n",
       "      <td>932798</td>\n",
       "      <td>False</td>\n",
       "      <td>5</td>\n",
       "      <td>553</td>\n",
       "      <td>598</td>\n",
       "      <td>2019-11-01</td>\n",
       "      <td>C</td>\n",
       "      <td>2019-10-02</td>\n",
       "      <td>45</td>\n",
       "    </tr>\n",
       "  </tbody>\n",
       "</table>\n",
       "</div>"
      ],
      "text/plain": [
       "       user_id direction internal  operator_id  is_missed_call  calls_count  \\\n",
       "971     166405        in    False       882690           False            4   \n",
       "19040   167158        in    False       907502           False            1   \n",
       "35509   168187        in    False       937956           False           14   \n",
       "36033   168252        in    False       940624           False           18   \n",
       "29236   167852        in    False       932798           False            5   \n",
       "\n",
       "       call_duration  total_call_duration        day tariff_plan date_start  \\\n",
       "971              527                  779 2019-10-29           B 2019-08-02   \n",
       "19040             23                   51 2019-10-03           A 2019-09-04   \n",
       "35509           1295                 1306 2019-11-28           A 2019-10-16   \n",
       "36033           1713                 1806 2019-11-12           A 2019-10-17   \n",
       "29236            553                  598 2019-11-01           C 2019-10-02   \n",
       "\n",
       "       waiting_time  \n",
       "971             252  \n",
       "19040            28  \n",
       "35509            11  \n",
       "36033            93  \n",
       "29236            45  "
      ]
     },
     "execution_count": 56,
     "metadata": {},
     "output_type": "execute_result"
    }
   ],
   "source": [
    "total_table['waiting_time'] = total_table['total_call_duration'] - total_table['call_duration']\n",
    "waiting_duration = total_table.query('is_missed_call == False and direction==\"in\" and internal==False')\n",
    "waiting_duration.sample(5)"
   ]
  },
  {
   "cell_type": "code",
   "execution_count": 57,
   "id": "b5fbc0d6",
   "metadata": {
    "scrolled": true
   },
   "outputs": [
    {
     "data": {
      "image/png": "[encoded data removed]",
      "text/plain": [
       "<Figure size 1080x360 with 1 Axes>"
      ]
     },
     "metadata": {
      "needs_background": "light"
     },
     "output_type": "display_data"
    }
   ],
   "source": [
    "waiting_duration['waiting_time'].hist( bins='auto',figsize=(15,5))\n",
    "\n",
    "plt.title('Длительность ожидания вызовов', fontsize=10)\n",
    "plt.xlabel('Длительность ожидания звонков', fontsize=8)\n",
    "plt.ylabel('Количество', fontsize=8)\n",
    "plt.show()"
   ]
  },
  {
   "cell_type": "code",
   "execution_count": 58,
   "id": "d6d96f17",
   "metadata": {},
   "outputs": [
    {
     "data": {
      "text/html": [
       "<div>\n",
       "<style scoped>\n",
       "    .dataframe tbody tr th:only-of-type {\n",
       "        vertical-align: middle;\n",
       "    }\n",
       "\n",
       "    .dataframe tbody tr th {\n",
       "        vertical-align: top;\n",
       "    }\n",
       "\n",
       "    .dataframe thead th {\n",
       "        text-align: right;\n",
       "    }\n",
       "</style>\n",
       "<table border=\"1\" class=\"dataframe\">\n",
       "  <thead>\n",
       "    <tr style=\"text-align: right;\">\n",
       "      <th></th>\n",
       "      <th>waiting_time</th>\n",
       "    </tr>\n",
       "    <tr>\n",
       "      <th>operator_id</th>\n",
       "      <th></th>\n",
       "    </tr>\n",
       "  </thead>\n",
       "  <tbody>\n",
       "    <tr>\n",
       "      <th>879896</th>\n",
       "      <td>27.333333</td>\n",
       "    </tr>\n",
       "    <tr>\n",
       "      <th>879898</th>\n",
       "      <td>29.875000</td>\n",
       "    </tr>\n",
       "    <tr>\n",
       "      <th>880020</th>\n",
       "      <td>7.714286</td>\n",
       "    </tr>\n",
       "    <tr>\n",
       "      <th>880022</th>\n",
       "      <td>14.000000</td>\n",
       "    </tr>\n",
       "    <tr>\n",
       "      <th>880026</th>\n",
       "      <td>7.944444</td>\n",
       "    </tr>\n",
       "  </tbody>\n",
       "</table>\n",
       "</div>"
      ],
      "text/plain": [
       "             waiting_time\n",
       "operator_id              \n",
       "879896          27.333333\n",
       "879898          29.875000\n",
       "880020           7.714286\n",
       "880022          14.000000\n",
       "880026           7.944444"
      ]
     },
     "execution_count": 58,
     "metadata": {},
     "output_type": "execute_result"
    }
   ],
   "source": [
    "#таблица со средним временем ожмдания вызова\n",
    "avg_wait_duration = pd.pivot_table(waiting_duration, index='operator_id', values='waiting_time', aggfunc='mean')\n",
    "\n",
    "avg_wait_duration.head()"
   ]
  },
  {
   "cell_type": "markdown",
   "id": "49ba42b0",
   "metadata": {},
   "source": [
    "Будем смотреть, чтобы среднее время ожидания не превышало 300 сек (или 5 минут)."
   ]
  },
  {
   "cell_type": "code",
   "execution_count": 77,
   "id": "6755ff79",
   "metadata": {},
   "outputs": [
    {
     "data": {
      "text/html": [
       "<div>\n",
       "<style scoped>\n",
       "    .dataframe tbody tr th:only-of-type {\n",
       "        vertical-align: middle;\n",
       "    }\n",
       "\n",
       "    .dataframe tbody tr th {\n",
       "        vertical-align: top;\n",
       "    }\n",
       "\n",
       "    .dataframe thead th {\n",
       "        text-align: right;\n",
       "    }\n",
       "</style>\n",
       "<table border=\"1\" class=\"dataframe\">\n",
       "  <thead>\n",
       "    <tr style=\"text-align: right;\">\n",
       "      <th></th>\n",
       "      <th>waiting_time</th>\n",
       "    </tr>\n",
       "    <tr>\n",
       "      <th>operator_id</th>\n",
       "      <th></th>\n",
       "    </tr>\n",
       "  </thead>\n",
       "  <tbody>\n",
       "    <tr>\n",
       "      <th>882688</th>\n",
       "      <td>336.500000</td>\n",
       "    </tr>\n",
       "    <tr>\n",
       "      <th>882690</th>\n",
       "      <td>349.100000</td>\n",
       "    </tr>\n",
       "    <tr>\n",
       "      <th>906076</th>\n",
       "      <td>611.500000</td>\n",
       "    </tr>\n",
       "    <tr>\n",
       "      <th>906404</th>\n",
       "      <td>320.843750</td>\n",
       "    </tr>\n",
       "    <tr>\n",
       "      <th>906406</th>\n",
       "      <td>421.842105</td>\n",
       "    </tr>\n",
       "  </tbody>\n",
       "</table>\n",
       "</div>"
      ],
      "text/plain": [
       "             waiting_time\n",
       "operator_id              \n",
       "882688         336.500000\n",
       "882690         349.100000\n",
       "906076         611.500000\n",
       "906404         320.843750\n",
       "906406         421.842105"
      ]
     },
     "execution_count": 77,
     "metadata": {},
     "output_type": "execute_result"
    }
   ],
   "source": [
    "bad_outliers_wait = avg_wait_duration.loc[avg_wait_duration['waiting_time'] > 300]\n",
    "bad_outliers_wait.head()"
   ]
  },
  {
   "cell_type": "code",
   "execution_count": 78,
   "id": "27748917",
   "metadata": {},
   "outputs": [
    {
     "name": "stdout",
     "output_type": "stream",
     "text": [
      "<class 'pandas.core.frame.DataFrame'>\n",
      "Int64Index: 15 entries, 882688 to 958460\n",
      "Data columns (total 1 columns):\n",
      " #   Column        Non-Null Count  Dtype  \n",
      "---  ------        --------------  -----  \n",
      " 0   waiting_time  15 non-null     float64\n",
      "dtypes: float64(1)\n",
      "memory usage: 240.0 bytes\n"
     ]
    }
   ],
   "source": [
    "bad_outliers_wait.info()"
   ]
  },
  {
   "cell_type": "markdown",
   "id": "ab339baa",
   "metadata": {},
   "source": [
    "Вот и наши операторы, время ожидания вызовов у которых превышает 300 секунд (или 5 минут). Их 15. Или 1,37%"
   ]
  },
  {
   "cell_type": "markdown",
   "id": "f46b68a4",
   "metadata": {},
   "source": [
    "Посмотрю, есть ли среди операторов из bad_outliers те, кто попал в bad_outliers_wait."
   ]
  },
  {
   "cell_type": "code",
   "execution_count": 79,
   "id": "309e8179",
   "metadata": {},
   "outputs": [
    {
     "data": {
      "text/html": [
       "<div>\n",
       "<style scoped>\n",
       "    .dataframe tbody tr th:only-of-type {\n",
       "        vertical-align: middle;\n",
       "    }\n",
       "\n",
       "    .dataframe tbody tr th {\n",
       "        vertical-align: top;\n",
       "    }\n",
       "\n",
       "    .dataframe thead th {\n",
       "        text-align: right;\n",
       "    }\n",
       "</style>\n",
       "<table border=\"1\" class=\"dataframe\">\n",
       "  <thead>\n",
       "    <tr style=\"text-align: right;\">\n",
       "      <th></th>\n",
       "      <th>waiting_time</th>\n",
       "      <th>share_of_abondement_calls</th>\n",
       "    </tr>\n",
       "    <tr>\n",
       "      <th>operator_id</th>\n",
       "      <th></th>\n",
       "      <th></th>\n",
       "    </tr>\n",
       "  </thead>\n",
       "  <tbody>\n",
       "    <tr>\n",
       "      <th>882688</th>\n",
       "      <td>336.500000</td>\n",
       "      <td>NaN</td>\n",
       "    </tr>\n",
       "    <tr>\n",
       "      <th>882690</th>\n",
       "      <td>349.100000</td>\n",
       "      <td>NaN</td>\n",
       "    </tr>\n",
       "    <tr>\n",
       "      <th>906076</th>\n",
       "      <td>611.500000</td>\n",
       "      <td>NaN</td>\n",
       "    </tr>\n",
       "    <tr>\n",
       "      <th>906404</th>\n",
       "      <td>320.843750</td>\n",
       "      <td>NaN</td>\n",
       "    </tr>\n",
       "    <tr>\n",
       "      <th>906406</th>\n",
       "      <td>421.842105</td>\n",
       "      <td>NaN</td>\n",
       "    </tr>\n",
       "  </tbody>\n",
       "</table>\n",
       "</div>"
      ],
      "text/plain": [
       "             waiting_time  share_of_abondement_calls\n",
       "operator_id                                         \n",
       "882688         336.500000                        NaN\n",
       "882690         349.100000                        NaN\n",
       "906076         611.500000                        NaN\n",
       "906404         320.843750                        NaN\n",
       "906406         421.842105                        NaN"
      ]
     },
     "execution_count": 79,
     "metadata": {},
     "output_type": "execute_result"
    }
   ],
   "source": [
    "very_bad_outliers = bad_outliers_wait.merge(bad_outliers, on='operator_id', how='left')\n",
    "very_bad_outliers.head()\n"
   ]
  },
  {
   "cell_type": "code",
   "execution_count": 80,
   "id": "d1e92c30",
   "metadata": {},
   "outputs": [
    {
     "name": "stdout",
     "output_type": "stream",
     "text": [
      "<class 'pandas.core.frame.DataFrame'>\n",
      "Int64Index: 15 entries, 882688 to 958460\n",
      "Data columns (total 2 columns):\n",
      " #   Column                     Non-Null Count  Dtype  \n",
      "---  ------                     --------------  -----  \n",
      " 0   waiting_time               15 non-null     float64\n",
      " 1   share_of_abondement_calls  0 non-null      float64\n",
      "dtypes: float64(2)\n",
      "memory usage: 360.0 bytes\n"
     ]
    }
   ],
   "source": [
    "very_bad_outliers.info()"
   ]
  },
  {
   "cell_type": "markdown",
   "id": "856b704d",
   "metadata": {},
   "source": [
    "Операторы неэффективны по разным признакам: \n",
    "\n",
    "- 24 оператора имеют долю пропущенных входящих звонков более 8%\n",
    "- 15 операторов имеют время ожидания входящего внешнего  звонка более 300 секунд \n"
   ]
  },
  {
   "cell_type": "markdown",
   "id": "b57e12ad",
   "metadata": {},
   "source": [
    "Неэффективный оператор обладает одним из критериев:\n",
    "\n",
    "- имеет долю пропущеных входящих более 8% \n",
    "- среднее время ожидания входящего звонка более 300 секунд"
   ]
  },
  {
   "cell_type": "markdown",
   "id": "823d0f99",
   "metadata": {},
   "source": [
    "Неэффективны 15 операторов из таблицы very_bad_outliers, по критерию врмени ожидания ответа\n",
    "\n",
    "Неээфективны 24 оператора из таблицы bad_outliers по количеству входящих пропущенных. "
   ]
  },
  {
   "cell_type": "markdown",
   "id": "b417ca5c",
   "metadata": {},
   "source": [
    "Всего неээфективных операторов 39 (или 3,6 %) "
   ]
  },
  {
   "cell_type": "markdown",
   "id": "0417781d",
   "metadata": {},
   "source": [
    "Что имеется в виду под \"Насколько они распространены по коллцентрам\"? и как это посмотреть?\n"
   ]
  },
  {
   "cell_type": "markdown",
   "id": "17db6c03",
   "metadata": {},
   "source": [
    "## Проверка гипотез"
   ]
  },
  {
   "cell_type": "markdown",
   "id": "0f9d0e46",
   "metadata": {},
   "source": [
    "### Время ожидания зависит от тарифного плана"
   ]
  },
  {
   "cell_type": "markdown",
   "id": "d781ed53",
   "metadata": {},
   "source": [
    "Формулировка гипотез:\n",
    "\n",
    "H0 -  *Время ожидания ответа не зависит от тарифного плана*\n",
    "\n",
    "H1 -  *Время ожидания ответа зависит от тарифного плана*\n",
    "\n",
    "Тест предназначен для проверки равенства средних нескольких выборок и поможет определить значимость различий по нескольким группам. Критерий Манна-Уитни"
   ]
  },
  {
   "cell_type": "code",
   "execution_count": 65,
   "id": "47eeab39",
   "metadata": {},
   "outputs": [
    {
     "data": {
      "text/plain": [
       "10449"
      ]
     },
     "execution_count": 65,
     "metadata": {},
     "output_type": "execute_result"
    }
   ],
   "source": [
    "tariff_A = total_table.query('tariff_plan == \"A\"')['waiting_time']\n",
    "len(tariff_A)"
   ]
  },
  {
   "cell_type": "code",
   "execution_count": 66,
   "id": "4d5b9b38",
   "metadata": {},
   "outputs": [
    {
     "data": {
      "text/plain": [
       "13556"
      ]
     },
     "execution_count": 66,
     "metadata": {},
     "output_type": "execute_result"
    }
   ],
   "source": [
    "tariff_B = total_table.query('tariff_plan == \"B\"')['waiting_time']\n",
    "len(tariff_B)"
   ]
  },
  {
   "cell_type": "code",
   "execution_count": 67,
   "id": "314a0565",
   "metadata": {},
   "outputs": [
    {
     "data": {
      "text/plain": [
       "13888"
      ]
     },
     "execution_count": 67,
     "metadata": {},
     "output_type": "execute_result"
    }
   ],
   "source": [
    "tariff_C = total_table.query('tariff_plan == \"C\"')['waiting_time']\n",
    "len(tariff_C)"
   ]
  },
  {
   "cell_type": "code",
   "execution_count": 68,
   "id": "787e9af8",
   "metadata": {},
   "outputs": [],
   "source": [
    "alpha = 0.05\n",
    "results = scipy.stats.kruskal(tariff_A, tariff_B, tariff_C)"
   ]
  },
  {
   "cell_type": "code",
   "execution_count": 69,
   "id": "b37bf313",
   "metadata": {},
   "outputs": [
    {
     "name": "stdout",
     "output_type": "stream",
     "text": [
      "p-значение 1.0554173100834003e-27\n"
     ]
    }
   ],
   "source": [
    "print('p-значение', results.pvalue)"
   ]
  },
  {
   "cell_type": "code",
   "execution_count": 70,
   "id": "f55c3a25",
   "metadata": {},
   "outputs": [
    {
     "name": "stdout",
     "output_type": "stream",
     "text": [
      "Отвергаем нулевую гипотезу\n"
     ]
    }
   ],
   "source": [
    "if (results.pvalue < alpha):\n",
    "    print('Отвергаем нулевую гипотезу')\n",
    "else:\n",
    "    print('Не получилось отвергнуть нулевую гипотезу, время ожидания ответа не зависит от тарифного плана')"
   ]
  },
  {
   "cell_type": "markdown",
   "id": "ac75efdf",
   "metadata": {},
   "source": [
    "Отвергаем нулевую гипотезу. Есть основания предполагать, что время ожидания ответа зависит от тарифного плана"
   ]
  },
  {
   "cell_type": "markdown",
   "id": "15b6d942",
   "metadata": {},
   "source": [
    "### Эффективность работы операторов в понедельник отличается от эффективности по всем другим дням."
   ]
  },
  {
   "cell_type": "markdown",
   "id": "98df9ac8",
   "metadata": {},
   "source": [
    "Сформулирую гипотезы: \n",
    "\n",
    "\n",
    "*H0 - эффективнось работы операторов в понедельник не отличается от эффективности по всем другим дням*\n",
    "\n",
    "*H1 - эффективность работы операторов в понедельник отличается от эффективности по всем другим дням*\n",
    "\n",
    "\n",
    "Эффективность -- количество принятых входящих вызовов.\n",
    "\n",
    "Буду использовать t-test с поправкой equal_var = False, так как выборки  разного размера или есть сомнения, что дисперсии у совокупностей одинаковые,"
   ]
  },
  {
   "cell_type": "code",
   "execution_count": 71,
   "id": "88c521e3",
   "metadata": {},
   "outputs": [],
   "source": [
    "#добавлю название дня недели\n",
    "total_table['weekday'] = total_table['day'].dt.day_name()"
   ]
  },
  {
   "cell_type": "code",
   "execution_count": 72,
   "id": "f5887000",
   "metadata": {},
   "outputs": [],
   "source": [
    "#первый фильтр -- день недели понедельник, входящий и принятый вызов.\n",
    "filter_1 = total_table.query('(weekday==\"Monday\") and (direction == \"in\") and (is_missed_call == False)')['calls_count']"
   ]
  },
  {
   "cell_type": "code",
   "execution_count": 73,
   "id": "544ac804",
   "metadata": {},
   "outputs": [],
   "source": [
    "#второй фильтр -- день недели не понедельник, входящий и принятый вызов.\n",
    "filter_2 = total_table.query('(weekday!=\"Monday\") and (direction == \"in\") and (is_missed_call == False)')['calls_count']"
   ]
  },
  {
   "cell_type": "code",
   "execution_count": 74,
   "id": "0e4905be",
   "metadata": {},
   "outputs": [],
   "source": [
    "alpha = 0.05\n",
    "results = scipy.stats.ttest_ind(filter_1, filter_2, equal_var=False)"
   ]
  },
  {
   "cell_type": "code",
   "execution_count": 75,
   "id": "96722cd3",
   "metadata": {},
   "outputs": [
    {
     "name": "stdout",
     "output_type": "stream",
     "text": [
      "p-значение 0.8462151649841072\n"
     ]
    }
   ],
   "source": [
    "print('p-значение', results.pvalue)\n"
   ]
  },
  {
   "cell_type": "code",
   "execution_count": 76,
   "id": "df6aaf54",
   "metadata": {},
   "outputs": [
    {
     "name": "stdout",
     "output_type": "stream",
     "text": [
      "Не получилось отвергнуть нулевую гипотезу: эффективнось работы операторов в понедельник не отличается от эффективности по всем другим дням\n"
     ]
    }
   ],
   "source": [
    "if (results.pvalue < alpha):\n",
    "    print('Отвергаем нулевую гипотезу')\n",
    "else:\n",
    "    print('Не получилось отвергнуть нулевую гипотезу: эффективнось работы операторов в понедельник не отличается от эффективности по всем другим дням')"
   ]
  },
  {
   "cell_type": "markdown",
   "id": "39e7b89b",
   "metadata": {},
   "source": [
    "Нет оснований утверждать, что эффективность работы операторов в понедельник отличается от эффективности по всем другим дням"
   ]
  },
  {
   "cell_type": "markdown",
   "id": "8390f778",
   "metadata": {},
   "source": [
    "## Вывод"
   ]
  },
  {
   "cell_type": "markdown",
   "id": "b633b1fa",
   "metadata": {},
   "source": [
    "На первом этапе я исследовала общую информацию о таблицах:\n",
    "\n",
    "*датасет data_st*\n",
    " - состоит из 53 902 строк,\n",
    " - есть пропуски данных в operator_id, internal,\n",
    " - тип данных в operator_id float\n",
    " \n",
    " *датасет data_client*\n",
    " - состоит из 732 строк,\n",
    " - типы даннных в порядке,\n",
    " - пропусков нет.\n",
    " \n",
    " \n",
    " \n",
    " *Подготовила данные к дальнейшему анализу:*\n",
    "\n",
    "- выделила столбец с днем,\n",
    "- изменила тип данных в столбце operator_id и date_start,\n",
    "- обработала дубликаты и пропуски\n",
    "\n",
    "\n",
    "*Провела исследовательский анализ данных в котором заметила, что:*\n",
    " - Максимальная длительность звонка 144 395, такое значение нереалистично и, возможно, имеет место быть техническая проблема записи и хранения данных или телефонии.\n",
    "\n",
    "- Среднняя длителньость звонка 1010\n",
    "\n",
    "- Есть звонки по 0 сек\n",
    "\n",
    "*Посмотрела на эффективность операторов по разным критериям и выяснила, что*\n",
    "- есть 24 оператора неэффективных оператора по критерию \"Пропущенные входящие звонки\".\n",
    "- доля пропущенных входящих звонков у этих операторов более 8%. Таких операторов 2%.\n",
    "- 15 операторов, время ожидания вызовов у которых превышает 300 секунд (или 5 минут).\n",
    "- Таких операторов 1,37%\n",
    "\n",
    "\n",
    "*Операторы неэффективны по разным признакам:*\n",
    "\n",
    "- 24 оператора имеют долю пропущенных входящих звонков более 8%\n",
    "- 15 операторов имеют время ожидания входящего внешнего  звонка более 300 секунд \n",
    "\n",
    "\n",
    "Рекомендации:\n",
    "- углубить аналитику по операторам и их KPI,\n",
    "- провести аудит систем хранения и агрегации данных.\n",
    "\n",
    "Презентация по ссылке https://disk.yandex.ru/i/MoEQ5ykUbP1lhg\n",
    "\n"
   ]
  }
 ],
 "metadata": {
  "ExecuteTimeLog": [
   {
    "duration": 1756,
    "start_time": "2023-05-01T07:56:18.911Z"
   },
   {
    "duration": 312,
    "start_time": "2023-05-01T07:56:20.669Z"
   },
   {
    "duration": 30,
    "start_time": "2023-05-01T07:56:20.983Z"
   },
   {
    "duration": 31,
    "start_time": "2023-05-01T07:56:21.018Z"
   },
   {
    "duration": 159,
    "start_time": "2023-05-01T07:56:21.051Z"
   },
   {
    "duration": 13,
    "start_time": "2023-05-01T07:56:21.212Z"
   },
   {
    "duration": 95,
    "start_time": "2023-05-01T07:56:21.227Z"
   },
   {
    "duration": 4,
    "start_time": "2023-05-01T07:56:21.324Z"
   },
   {
    "duration": 85,
    "start_time": "2023-05-01T07:56:21.330Z"
   },
   {
    "duration": 32,
    "start_time": "2023-05-01T07:56:21.418Z"
   },
   {
    "duration": 35,
    "start_time": "2023-05-01T07:56:21.452Z"
   },
   {
    "duration": 4,
    "start_time": "2023-05-01T07:56:21.489Z"
   },
   {
    "duration": 7126,
    "start_time": "2023-05-01T07:56:21.495Z"
   },
   {
    "duration": 31,
    "start_time": "2023-05-01T07:56:28.628Z"
   },
   {
    "duration": 147,
    "start_time": "2023-05-01T07:56:28.666Z"
   },
   {
    "duration": 110,
    "start_time": "2023-05-01T07:56:28.823Z"
   },
   {
    "duration": 94,
    "start_time": "2023-05-01T07:56:28.935Z"
   },
   {
    "duration": 72,
    "start_time": "2023-05-01T07:56:29.032Z"
   },
   {
    "duration": 77,
    "start_time": "2023-05-01T07:56:29.107Z"
   },
   {
    "duration": 122,
    "start_time": "2023-05-01T07:56:29.190Z"
   },
   {
    "duration": 49,
    "start_time": "2023-05-01T07:56:29.314Z"
   },
   {
    "duration": 84,
    "start_time": "2023-05-01T07:56:29.371Z"
   },
   {
    "duration": 113,
    "start_time": "2023-05-01T07:56:29.458Z"
   },
   {
    "duration": 655,
    "start_time": "2023-05-01T07:56:29.573Z"
   },
   {
    "duration": 13,
    "start_time": "2023-05-01T07:56:30.230Z"
   },
   {
    "duration": 598,
    "start_time": "2023-05-01T07:56:30.246Z"
   },
   {
    "duration": 36,
    "start_time": "2023-05-01T07:56:30.849Z"
   },
   {
    "duration": 1429,
    "start_time": "2023-05-01T07:56:30.905Z"
   },
   {
    "duration": 17,
    "start_time": "2023-05-01T07:56:32.342Z"
   },
   {
    "duration": 165,
    "start_time": "2023-05-01T07:56:32.366Z"
   },
   {
    "duration": 98,
    "start_time": "2023-05-01T07:56:32.533Z"
   },
   {
    "duration": 919,
    "start_time": "2023-05-01T07:56:32.633Z"
   },
   {
    "duration": 424,
    "start_time": "2023-05-01T07:56:33.560Z"
   },
   {
    "duration": 15,
    "start_time": "2023-05-01T07:56:33.991Z"
   },
   {
    "duration": 311,
    "start_time": "2023-05-01T07:56:34.013Z"
   },
   {
    "duration": 40,
    "start_time": "2023-05-01T07:56:34.326Z"
   },
   {
    "duration": 416,
    "start_time": "2023-05-01T07:56:34.375Z"
   },
   {
    "duration": 12,
    "start_time": "2023-05-01T07:56:34.793Z"
   },
   {
    "duration": 80,
    "start_time": "2023-05-01T07:56:34.807Z"
   },
   {
    "duration": 52,
    "start_time": "2023-05-01T07:56:34.889Z"
   },
   {
    "duration": 84,
    "start_time": "2023-05-01T07:56:34.945Z"
   },
   {
    "duration": 73,
    "start_time": "2023-05-01T07:56:35.031Z"
   },
   {
    "duration": 69,
    "start_time": "2023-05-01T07:56:35.106Z"
   },
   {
    "duration": 63,
    "start_time": "2023-05-01T07:56:35.182Z"
   },
   {
    "duration": 66,
    "start_time": "2023-05-01T07:56:35.249Z"
   },
   {
    "duration": 64,
    "start_time": "2023-05-01T07:56:35.317Z"
   },
   {
    "duration": 108,
    "start_time": "2023-05-01T07:56:35.394Z"
   },
   {
    "duration": 124,
    "start_time": "2023-05-01T07:56:35.510Z"
   },
   {
    "duration": 85,
    "start_time": "2023-05-01T07:56:35.636Z"
   },
   {
    "duration": 44,
    "start_time": "2023-05-01T07:56:35.724Z"
   },
   {
    "duration": 97,
    "start_time": "2023-05-01T07:56:35.770Z"
   },
   {
    "duration": 101,
    "start_time": "2023-05-01T07:56:35.870Z"
   },
   {
    "duration": 113,
    "start_time": "2023-05-01T07:56:35.974Z"
   },
   {
    "duration": 58,
    "start_time": "2023-05-01T07:56:36.094Z"
   },
   {
    "duration": 63,
    "start_time": "2023-05-01T07:56:36.166Z"
   },
   {
    "duration": 134,
    "start_time": "2023-05-01T07:56:36.231Z"
   },
   {
    "duration": 754,
    "start_time": "2023-05-01T07:56:36.372Z"
   },
   {
    "duration": 35,
    "start_time": "2023-05-01T07:56:37.128Z"
   },
   {
    "duration": 137,
    "start_time": "2023-05-01T07:56:37.170Z"
   },
   {
    "duration": 35,
    "start_time": "2023-05-01T07:56:37.314Z"
   },
   {
    "duration": 75,
    "start_time": "2023-05-01T07:56:37.355Z"
   },
   {
    "duration": 90,
    "start_time": "2023-05-01T07:56:37.432Z"
   },
   {
    "duration": 60,
    "start_time": "2023-05-01T07:56:37.524Z"
   },
   {
    "duration": 247,
    "start_time": "2023-05-01T07:56:37.587Z"
   },
   {
    "duration": 13,
    "start_time": "2023-05-01T07:56:37.836Z"
   },
   {
    "duration": 80,
    "start_time": "2023-05-01T07:56:37.851Z"
   },
   {
    "duration": 52,
    "start_time": "2023-05-01T07:56:37.934Z"
   },
   {
    "duration": 6,
    "start_time": "2023-05-01T07:56:37.990Z"
   },
   {
    "duration": 41,
    "start_time": "2023-05-01T07:56:37.998Z"
   },
   {
    "duration": 84,
    "start_time": "2023-05-01T07:56:38.049Z"
   },
   {
    "duration": 26,
    "start_time": "2023-05-01T07:56:38.136Z"
   },
   {
    "duration": 97,
    "start_time": "2023-05-01T07:56:38.165Z"
   },
   {
    "duration": 154,
    "start_time": "2023-05-01T07:56:38.263Z"
   },
   {
    "duration": 14,
    "start_time": "2023-05-01T07:56:38.419Z"
   },
   {
    "duration": 62,
    "start_time": "2023-05-01T07:56:38.435Z"
   },
   {
    "duration": 51,
    "start_time": "2023-05-01T12:05:10.358Z"
   },
   {
    "duration": 1558,
    "start_time": "2023-05-01T12:05:18.321Z"
   },
   {
    "duration": 274,
    "start_time": "2023-05-01T12:05:19.881Z"
   },
   {
    "duration": 17,
    "start_time": "2023-05-01T12:05:20.157Z"
   },
   {
    "duration": 19,
    "start_time": "2023-05-01T12:05:20.176Z"
   },
   {
    "duration": 117,
    "start_time": "2023-05-01T12:05:20.196Z"
   },
   {
    "duration": 10,
    "start_time": "2023-05-01T12:05:20.315Z"
   },
   {
    "duration": 41,
    "start_time": "2023-05-01T12:05:20.327Z"
   },
   {
    "duration": 3,
    "start_time": "2023-05-01T12:05:20.370Z"
   },
   {
    "duration": 26,
    "start_time": "2023-05-01T12:05:20.375Z"
   },
   {
    "duration": 49,
    "start_time": "2023-05-01T12:05:20.404Z"
   },
   {
    "duration": 6,
    "start_time": "2023-05-01T12:05:20.456Z"
   },
   {
    "duration": 14,
    "start_time": "2023-05-01T12:05:20.463Z"
   },
   {
    "duration": 4502,
    "start_time": "2023-05-01T12:05:20.479Z"
   },
   {
    "duration": 11,
    "start_time": "2023-05-01T12:05:24.983Z"
   },
   {
    "duration": 48,
    "start_time": "2023-05-01T12:05:24.996Z"
   },
   {
    "duration": 24,
    "start_time": "2023-05-01T12:05:25.046Z"
   },
   {
    "duration": 10,
    "start_time": "2023-05-01T12:05:25.072Z"
   },
   {
    "duration": 21,
    "start_time": "2023-05-01T12:05:25.083Z"
   },
   {
    "duration": 33,
    "start_time": "2023-05-01T12:05:25.106Z"
   },
   {
    "duration": 8,
    "start_time": "2023-05-01T12:05:25.141Z"
   },
   {
    "duration": 20,
    "start_time": "2023-05-01T12:05:25.151Z"
   },
   {
    "duration": 15,
    "start_time": "2023-05-01T12:05:25.172Z"
   },
   {
    "duration": 10,
    "start_time": "2023-05-01T12:05:25.190Z"
   },
   {
    "duration": 397,
    "start_time": "2023-05-01T12:05:25.202Z"
   },
   {
    "duration": 10,
    "start_time": "2023-05-01T12:05:25.601Z"
   },
   {
    "duration": 297,
    "start_time": "2023-05-01T12:05:25.612Z"
   },
   {
    "duration": 8,
    "start_time": "2023-05-01T12:05:25.911Z"
   },
   {
    "duration": 761,
    "start_time": "2023-05-01T12:05:25.941Z"
   },
   {
    "duration": 9,
    "start_time": "2023-05-01T12:05:26.704Z"
   },
   {
    "duration": 4,
    "start_time": "2023-05-01T12:05:26.714Z"
   },
   {
    "duration": 3,
    "start_time": "2023-05-01T12:05:26.735Z"
   },
   {
    "duration": 591,
    "start_time": "2023-05-01T12:05:26.740Z"
   },
   {
    "duration": 293,
    "start_time": "2023-05-01T12:05:27.334Z"
   },
   {
    "duration": 12,
    "start_time": "2023-05-01T12:05:27.628Z"
   },
   {
    "duration": 173,
    "start_time": "2023-05-01T12:05:27.643Z"
   },
   {
    "duration": 19,
    "start_time": "2023-05-01T12:05:27.817Z"
   },
   {
    "duration": 266,
    "start_time": "2023-05-01T12:05:27.837Z"
   },
   {
    "duration": 9,
    "start_time": "2023-05-01T12:05:28.105Z"
   },
   {
    "duration": 19,
    "start_time": "2023-05-01T12:05:28.116Z"
   },
   {
    "duration": 14,
    "start_time": "2023-05-01T12:05:28.136Z"
   },
   {
    "duration": 10,
    "start_time": "2023-05-01T12:05:28.152Z"
   },
   {
    "duration": 7,
    "start_time": "2023-05-01T12:05:28.163Z"
   },
   {
    "duration": 27,
    "start_time": "2023-05-01T12:05:28.172Z"
   },
   {
    "duration": 42,
    "start_time": "2023-05-01T12:05:28.200Z"
   },
   {
    "duration": 13,
    "start_time": "2023-05-01T12:05:28.244Z"
   },
   {
    "duration": 32,
    "start_time": "2023-05-01T12:05:28.259Z"
   },
   {
    "duration": 4,
    "start_time": "2023-05-01T12:05:28.293Z"
   },
   {
    "duration": 17,
    "start_time": "2023-05-01T12:05:28.298Z"
   },
   {
    "duration": 28,
    "start_time": "2023-05-01T12:05:28.317Z"
   },
   {
    "duration": 18,
    "start_time": "2023-05-01T12:05:28.348Z"
   },
   {
    "duration": 12,
    "start_time": "2023-05-01T12:05:28.368Z"
   },
   {
    "duration": 7,
    "start_time": "2023-05-01T12:05:28.382Z"
   },
   {
    "duration": 15,
    "start_time": "2023-05-01T12:05:28.391Z"
   },
   {
    "duration": 37,
    "start_time": "2023-05-01T12:05:28.408Z"
   },
   {
    "duration": 10,
    "start_time": "2023-05-01T12:05:28.447Z"
   },
   {
    "duration": 23,
    "start_time": "2023-05-01T12:05:28.458Z"
   },
   {
    "duration": 419,
    "start_time": "2023-05-01T12:05:28.482Z"
   },
   {
    "duration": 13,
    "start_time": "2023-05-01T12:05:28.903Z"
   },
   {
    "duration": 28,
    "start_time": "2023-05-01T12:05:28.917Z"
   },
   {
    "duration": 24,
    "start_time": "2023-05-01T12:05:28.947Z"
   },
   {
    "duration": 14,
    "start_time": "2023-05-01T12:05:28.973Z"
   },
   {
    "duration": 11,
    "start_time": "2023-05-01T12:05:28.988Z"
   },
   {
    "duration": 114,
    "start_time": "2023-05-01T12:05:29.000Z"
   },
   {
    "duration": 19,
    "start_time": "2023-05-01T12:05:29.115Z"
   },
   {
    "duration": 18,
    "start_time": "2023-05-01T12:05:29.136Z"
   },
   {
    "duration": 10,
    "start_time": "2023-05-01T12:05:29.155Z"
   },
   {
    "duration": 7,
    "start_time": "2023-05-01T12:05:29.166Z"
   },
   {
    "duration": 10,
    "start_time": "2023-05-01T12:05:29.174Z"
   },
   {
    "duration": 18,
    "start_time": "2023-05-01T12:05:29.186Z"
   },
   {
    "duration": 22,
    "start_time": "2023-05-01T12:05:29.205Z"
   },
   {
    "duration": 15,
    "start_time": "2023-05-01T12:05:29.228Z"
   },
   {
    "duration": 11,
    "start_time": "2023-05-01T12:05:29.245Z"
   },
   {
    "duration": 14,
    "start_time": "2023-05-01T12:05:29.258Z"
   },
   {
    "duration": 12,
    "start_time": "2023-05-01T12:05:29.273Z"
   },
   {
    "duration": 8,
    "start_time": "2023-05-01T12:05:29.286Z"
   },
   {
    "duration": 179,
    "start_time": "2023-05-01T12:05:29.296Z"
   },
   {
    "duration": 10,
    "start_time": "2023-05-01T12:05:29.481Z"
   },
   {
    "duration": 27,
    "start_time": "2023-05-01T12:05:29.492Z"
   },
   {
    "duration": 51,
    "start_time": "2023-05-01T12:05:29.521Z"
   },
   {
    "duration": 10,
    "start_time": "2023-05-01T12:05:29.573Z"
   },
   {
    "duration": 28,
    "start_time": "2023-05-01T12:05:29.584Z"
   },
   {
    "duration": 3,
    "start_time": "2023-05-01T12:05:29.614Z"
   },
   {
    "duration": 25,
    "start_time": "2023-05-01T12:05:29.619Z"
   },
   {
    "duration": 21,
    "start_time": "2023-05-01T12:05:29.648Z"
   },
   {
    "duration": 5,
    "start_time": "2023-05-01T12:05:29.670Z"
   },
   {
    "duration": 6,
    "start_time": "2023-05-01T12:05:29.676Z"
   },
   {
    "duration": 4374,
    "start_time": "2023-05-01T12:05:29.684Z"
   },
   {
    "duration": 19,
    "start_time": "2023-05-01T12:05:34.060Z"
   },
   {
    "duration": 19,
    "start_time": "2023-05-01T12:05:34.084Z"
   },
   {
    "duration": 4,
    "start_time": "2023-05-01T12:05:34.105Z"
   },
   {
    "duration": 23,
    "start_time": "2023-05-01T12:05:34.111Z"
   },
   {
    "duration": 27,
    "start_time": "2023-05-01T12:05:34.137Z"
   },
   {
    "duration": 13,
    "start_time": "2023-05-01T12:05:34.165Z"
   },
   {
    "duration": 5,
    "start_time": "2023-05-01T12:05:34.179Z"
   },
   {
    "duration": 22,
    "start_time": "2023-05-01T12:05:34.186Z"
   },
   {
    "duration": 43,
    "start_time": "2023-05-01T12:05:34.210Z"
   },
   {
    "duration": 4,
    "start_time": "2023-05-01T12:05:34.255Z"
   },
   {
    "duration": 282,
    "start_time": "2023-05-01T12:05:34.262Z"
   },
   {
    "duration": 9,
    "start_time": "2023-05-01T12:05:34.546Z"
   },
   {
    "duration": 355,
    "start_time": "2023-05-01T12:05:34.557Z"
   },
   {
    "duration": 8,
    "start_time": "2023-05-01T12:05:34.914Z"
   },
   {
    "duration": 869,
    "start_time": "2023-05-01T12:05:34.924Z"
   },
   {
    "duration": 9,
    "start_time": "2023-05-01T12:05:35.795Z"
   },
   {
    "duration": 5,
    "start_time": "2023-05-01T12:05:35.805Z"
   },
   {
    "duration": 5,
    "start_time": "2023-05-01T12:05:35.811Z"
   },
   {
    "duration": 471,
    "start_time": "2023-05-01T12:05:35.818Z"
   },
   {
    "duration": 307,
    "start_time": "2023-05-01T12:05:36.291Z"
   },
   {
    "duration": 9,
    "start_time": "2023-05-01T12:05:36.599Z"
   },
   {
    "duration": 282,
    "start_time": "2023-05-01T12:05:37.254Z"
   },
   {
    "duration": 12,
    "start_time": "2023-05-01T12:05:37.869Z"
   },
   {
    "duration": 256,
    "start_time": "2023-05-01T12:05:38.234Z"
   },
   {
    "duration": 9,
    "start_time": "2023-05-01T12:05:38.492Z"
   },
   {
    "duration": 6,
    "start_time": "2023-05-01T12:05:38.878Z"
   },
   {
    "duration": 15,
    "start_time": "2023-05-01T12:05:39.326Z"
   },
   {
    "duration": 6,
    "start_time": "2023-05-01T12:05:39.538Z"
   },
   {
    "duration": 5,
    "start_time": "2023-05-01T12:05:39.737Z"
   },
   {
    "duration": 31,
    "start_time": "2023-05-01T12:05:40.149Z"
   },
   {
    "duration": 15,
    "start_time": "2023-05-01T12:05:40.341Z"
   },
   {
    "duration": 9,
    "start_time": "2023-05-01T12:05:40.519Z"
   },
   {
    "duration": 20,
    "start_time": "2023-05-01T12:05:41.338Z"
   },
   {
    "duration": 4,
    "start_time": "2023-05-01T12:05:41.827Z"
   },
   {
    "duration": 13,
    "start_time": "2023-05-01T12:05:41.977Z"
   },
   {
    "duration": 14,
    "start_time": "2023-05-01T12:05:42.193Z"
   },
   {
    "duration": 16,
    "start_time": "2023-05-01T12:05:42.421Z"
   },
   {
    "duration": 18,
    "start_time": "2023-05-01T12:05:42.629Z"
   },
   {
    "duration": 11,
    "start_time": "2023-05-01T12:05:42.854Z"
   },
   {
    "duration": 10,
    "start_time": "2023-05-01T12:05:43.301Z"
   },
   {
    "duration": 17,
    "start_time": "2023-05-01T12:05:43.526Z"
   },
   {
    "duration": 4,
    "start_time": "2023-05-01T12:05:43.726Z"
   },
   {
    "duration": 10,
    "start_time": "2023-05-01T12:05:59.213Z"
   },
   {
    "duration": 8,
    "start_time": "2023-05-01T13:11:53.235Z"
   },
   {
    "duration": 1993,
    "start_time": "2023-05-01T13:13:49.516Z"
   },
   {
    "duration": 13,
    "start_time": "2023-05-01T13:30:07.025Z"
   },
   {
    "duration": 1200,
    "start_time": "2023-05-01T13:30:26.422Z"
   },
   {
    "duration": 190,
    "start_time": "2023-05-01T13:30:27.624Z"
   },
   {
    "duration": 14,
    "start_time": "2023-05-01T13:30:27.816Z"
   },
   {
    "duration": 16,
    "start_time": "2023-05-01T13:30:27.833Z"
   },
   {
    "duration": 84,
    "start_time": "2023-05-01T13:30:27.851Z"
   },
   {
    "duration": 10,
    "start_time": "2023-05-01T13:30:27.937Z"
   },
   {
    "duration": 24,
    "start_time": "2023-05-01T13:30:27.948Z"
   },
   {
    "duration": 3,
    "start_time": "2023-05-01T13:30:27.973Z"
   },
   {
    "duration": 21,
    "start_time": "2023-05-01T13:30:27.977Z"
   },
   {
    "duration": 42,
    "start_time": "2023-05-01T13:30:28.000Z"
   },
   {
    "duration": 6,
    "start_time": "2023-05-01T13:30:28.043Z"
   },
   {
    "duration": 7,
    "start_time": "2023-05-01T13:30:28.050Z"
   },
   {
    "duration": 3743,
    "start_time": "2023-05-01T13:30:28.058Z"
   },
   {
    "duration": 10,
    "start_time": "2023-05-01T13:30:31.803Z"
   },
   {
    "duration": 31,
    "start_time": "2023-05-01T13:30:31.815Z"
   },
   {
    "duration": 26,
    "start_time": "2023-05-01T13:30:31.848Z"
   },
   {
    "duration": 29,
    "start_time": "2023-05-01T13:30:31.875Z"
   },
   {
    "duration": 36,
    "start_time": "2023-05-01T13:30:31.906Z"
   },
   {
    "duration": 31,
    "start_time": "2023-05-01T13:30:31.944Z"
   },
   {
    "duration": 4,
    "start_time": "2023-05-01T13:30:31.977Z"
   },
   {
    "duration": 29,
    "start_time": "2023-05-01T13:30:31.982Z"
   },
   {
    "duration": 19,
    "start_time": "2023-05-01T13:30:32.013Z"
   },
   {
    "duration": 6,
    "start_time": "2023-05-01T13:30:32.033Z"
   },
   {
    "duration": 339,
    "start_time": "2023-05-01T13:30:32.042Z"
   },
   {
    "duration": 9,
    "start_time": "2023-05-01T13:30:32.383Z"
   },
   {
    "duration": 315,
    "start_time": "2023-05-01T13:30:32.394Z"
   },
   {
    "duration": 7,
    "start_time": "2023-05-01T13:30:32.711Z"
   },
   {
    "duration": 674,
    "start_time": "2023-05-01T13:30:32.734Z"
   },
   {
    "duration": 8,
    "start_time": "2023-05-01T13:30:33.410Z"
   },
   {
    "duration": 15,
    "start_time": "2023-05-01T13:30:33.419Z"
   },
   {
    "duration": 2,
    "start_time": "2023-05-01T13:30:33.436Z"
   },
   {
    "duration": 495,
    "start_time": "2023-05-01T13:30:33.439Z"
   },
   {
    "duration": 258,
    "start_time": "2023-05-01T13:30:33.936Z"
   },
   {
    "duration": 7,
    "start_time": "2023-05-01T13:30:34.196Z"
   },
   {
    "duration": 166,
    "start_time": "2023-05-01T13:30:34.205Z"
   },
   {
    "duration": 11,
    "start_time": "2023-05-01T13:30:34.372Z"
   },
   {
    "duration": 245,
    "start_time": "2023-05-01T13:30:34.384Z"
   },
   {
    "duration": 9,
    "start_time": "2023-05-01T13:30:34.634Z"
   },
   {
    "duration": 4,
    "start_time": "2023-05-01T13:30:34.645Z"
   },
   {
    "duration": 10,
    "start_time": "2023-05-01T13:30:34.651Z"
   },
   {
    "duration": 5,
    "start_time": "2023-05-01T13:30:34.663Z"
   },
   {
    "duration": 8,
    "start_time": "2023-05-01T13:30:34.669Z"
   },
   {
    "duration": 66,
    "start_time": "2023-05-01T13:30:34.678Z"
   },
   {
    "duration": 15,
    "start_time": "2023-05-01T13:30:34.746Z"
   },
   {
    "duration": 11,
    "start_time": "2023-05-01T13:30:34.764Z"
   },
   {
    "duration": 33,
    "start_time": "2023-05-01T13:30:34.777Z"
   },
   {
    "duration": 11,
    "start_time": "2023-05-01T13:30:34.812Z"
   },
   {
    "duration": 35,
    "start_time": "2023-05-01T13:30:34.826Z"
   },
   {
    "duration": 27,
    "start_time": "2023-05-01T13:30:34.863Z"
   },
   {
    "duration": 12,
    "start_time": "2023-05-01T13:30:34.892Z"
   },
   {
    "duration": 26,
    "start_time": "2023-05-01T13:30:34.905Z"
   },
   {
    "duration": 8,
    "start_time": "2023-05-01T13:30:34.933Z"
   },
   {
    "duration": 103,
    "start_time": "2023-05-01T13:30:34.942Z"
   },
   {
    "duration": 0,
    "start_time": "2023-05-01T13:30:35.046Z"
   },
   {
    "duration": 0,
    "start_time": "2023-05-01T13:30:35.048Z"
   },
   {
    "duration": 0,
    "start_time": "2023-05-01T13:30:35.048Z"
   },
   {
    "duration": 0,
    "start_time": "2023-05-01T13:30:35.050Z"
   },
   {
    "duration": 0,
    "start_time": "2023-05-01T13:30:35.051Z"
   },
   {
    "duration": 0,
    "start_time": "2023-05-01T13:30:35.052Z"
   },
   {
    "duration": 0,
    "start_time": "2023-05-01T13:30:35.053Z"
   },
   {
    "duration": 0,
    "start_time": "2023-05-01T13:30:35.054Z"
   },
   {
    "duration": 0,
    "start_time": "2023-05-01T13:30:35.055Z"
   },
   {
    "duration": 0,
    "start_time": "2023-05-01T13:30:35.055Z"
   },
   {
    "duration": 0,
    "start_time": "2023-05-01T13:30:35.056Z"
   },
   {
    "duration": 0,
    "start_time": "2023-05-01T13:30:35.057Z"
   },
   {
    "duration": 0,
    "start_time": "2023-05-01T13:30:35.058Z"
   },
   {
    "duration": 0,
    "start_time": "2023-05-01T13:30:35.060Z"
   },
   {
    "duration": 0,
    "start_time": "2023-05-01T13:30:35.060Z"
   },
   {
    "duration": 0,
    "start_time": "2023-05-01T13:30:35.061Z"
   },
   {
    "duration": 0,
    "start_time": "2023-05-01T13:30:35.062Z"
   },
   {
    "duration": 0,
    "start_time": "2023-05-01T13:30:35.063Z"
   },
   {
    "duration": 0,
    "start_time": "2023-05-01T13:30:35.064Z"
   },
   {
    "duration": 0,
    "start_time": "2023-05-01T13:30:35.065Z"
   },
   {
    "duration": 0,
    "start_time": "2023-05-01T13:30:35.065Z"
   },
   {
    "duration": 0,
    "start_time": "2023-05-01T13:30:35.066Z"
   },
   {
    "duration": 11,
    "start_time": "2023-05-01T13:31:03.614Z"
   },
   {
    "duration": 8,
    "start_time": "2023-05-01T13:31:14.938Z"
   },
   {
    "duration": 13,
    "start_time": "2023-05-01T13:31:16.602Z"
   },
   {
    "duration": 12,
    "start_time": "2023-05-01T13:32:15.914Z"
   },
   {
    "duration": 15428,
    "start_time": "2023-05-01T13:32:39.251Z"
   },
   {
    "duration": 12,
    "start_time": "2023-05-01T13:33:58.063Z"
   },
   {
    "duration": 9,
    "start_time": "2023-05-01T13:34:30.455Z"
   },
   {
    "duration": 7,
    "start_time": "2023-05-01T13:37:11.687Z"
   },
   {
    "duration": 9,
    "start_time": "2023-05-01T13:37:34.300Z"
   },
   {
    "duration": 7,
    "start_time": "2023-05-01T13:37:43.035Z"
   },
   {
    "duration": 11,
    "start_time": "2023-05-01T13:37:43.847Z"
   },
   {
    "duration": 8,
    "start_time": "2023-05-01T13:37:47.994Z"
   },
   {
    "duration": 9,
    "start_time": "2023-05-01T13:38:03.334Z"
   },
   {
    "duration": 1394,
    "start_time": "2023-05-01T13:39:11.485Z"
   },
   {
    "duration": 9,
    "start_time": "2023-05-01T13:49:34.605Z"
   },
   {
    "duration": 1261,
    "start_time": "2023-05-01T13:49:46.048Z"
   },
   {
    "duration": 404,
    "start_time": "2023-05-01T13:49:47.311Z"
   },
   {
    "duration": 15,
    "start_time": "2023-05-01T13:49:47.716Z"
   },
   {
    "duration": 21,
    "start_time": "2023-05-01T13:49:47.733Z"
   },
   {
    "duration": 36,
    "start_time": "2023-05-01T13:49:47.755Z"
   },
   {
    "duration": 10,
    "start_time": "2023-05-01T13:49:47.792Z"
   },
   {
    "duration": 26,
    "start_time": "2023-05-01T13:49:47.804Z"
   },
   {
    "duration": 3,
    "start_time": "2023-05-01T13:49:47.831Z"
   },
   {
    "duration": 30,
    "start_time": "2023-05-01T13:49:47.837Z"
   },
   {
    "duration": 18,
    "start_time": "2023-05-01T13:49:47.870Z"
   },
   {
    "duration": 5,
    "start_time": "2023-05-01T13:49:47.889Z"
   },
   {
    "duration": 11,
    "start_time": "2023-05-01T13:49:47.895Z"
   },
   {
    "duration": 3697,
    "start_time": "2023-05-01T13:49:47.908Z"
   },
   {
    "duration": 11,
    "start_time": "2023-05-01T13:49:51.606Z"
   },
   {
    "duration": 26,
    "start_time": "2023-05-01T13:49:51.618Z"
   },
   {
    "duration": 27,
    "start_time": "2023-05-01T13:49:51.645Z"
   },
   {
    "duration": 18,
    "start_time": "2023-05-01T13:49:51.674Z"
   },
   {
    "duration": 18,
    "start_time": "2023-05-01T13:49:51.694Z"
   },
   {
    "duration": 12,
    "start_time": "2023-05-01T13:49:51.714Z"
   },
   {
    "duration": 7,
    "start_time": "2023-05-01T13:49:51.727Z"
   },
   {
    "duration": 24,
    "start_time": "2023-05-01T13:49:51.735Z"
   },
   {
    "duration": 13,
    "start_time": "2023-05-01T13:49:51.761Z"
   },
   {
    "duration": 3,
    "start_time": "2023-05-01T13:49:51.776Z"
   },
   {
    "duration": 317,
    "start_time": "2023-05-01T13:49:51.780Z"
   },
   {
    "duration": 9,
    "start_time": "2023-05-01T13:49:52.098Z"
   },
   {
    "duration": 262,
    "start_time": "2023-05-01T13:49:52.108Z"
   },
   {
    "duration": 7,
    "start_time": "2023-05-01T13:49:52.372Z"
   },
   {
    "duration": 720,
    "start_time": "2023-05-01T13:49:52.383Z"
   },
   {
    "duration": 8,
    "start_time": "2023-05-01T13:49:53.104Z"
   },
   {
    "duration": 7,
    "start_time": "2023-05-01T13:49:53.113Z"
   },
   {
    "duration": 15,
    "start_time": "2023-05-01T13:49:53.121Z"
   },
   {
    "duration": 498,
    "start_time": "2023-05-01T13:49:53.137Z"
   },
   {
    "duration": 277,
    "start_time": "2023-05-01T13:49:53.637Z"
   },
   {
    "duration": 8,
    "start_time": "2023-05-01T13:49:53.916Z"
   },
   {
    "duration": 161,
    "start_time": "2023-05-01T13:49:53.934Z"
   },
   {
    "duration": 8,
    "start_time": "2023-05-01T13:49:54.096Z"
   },
   {
    "duration": 236,
    "start_time": "2023-05-01T13:49:54.106Z"
   },
   {
    "duration": 8,
    "start_time": "2023-05-01T13:49:54.343Z"
   },
   {
    "duration": 13,
    "start_time": "2023-05-01T13:49:54.352Z"
   },
   {
    "duration": 16,
    "start_time": "2023-05-01T13:49:54.366Z"
   },
   {
    "duration": 14,
    "start_time": "2023-05-01T13:49:54.383Z"
   },
   {
    "duration": 11,
    "start_time": "2023-05-01T13:49:54.399Z"
   },
   {
    "duration": 37,
    "start_time": "2023-05-01T13:49:54.411Z"
   },
   {
    "duration": 12,
    "start_time": "2023-05-01T13:49:54.449Z"
   },
   {
    "duration": 8,
    "start_time": "2023-05-01T13:49:54.463Z"
   },
   {
    "duration": 18,
    "start_time": "2023-05-01T13:49:54.473Z"
   },
   {
    "duration": 4,
    "start_time": "2023-05-01T13:49:54.492Z"
   },
   {
    "duration": 38,
    "start_time": "2023-05-01T13:49:54.498Z"
   },
   {
    "duration": 14,
    "start_time": "2023-05-01T13:49:54.538Z"
   },
   {
    "duration": 13,
    "start_time": "2023-05-01T13:49:54.554Z"
   },
   {
    "duration": 23,
    "start_time": "2023-05-01T13:49:54.569Z"
   },
   {
    "duration": 16,
    "start_time": "2023-05-01T13:49:54.594Z"
   },
   {
    "duration": 26,
    "start_time": "2023-05-01T13:49:54.611Z"
   },
   {
    "duration": 24,
    "start_time": "2023-05-01T13:49:54.639Z"
   },
   {
    "duration": 19,
    "start_time": "2023-05-01T13:49:54.665Z"
   },
   {
    "duration": 28,
    "start_time": "2023-05-01T13:49:54.686Z"
   },
   {
    "duration": 384,
    "start_time": "2023-05-01T13:49:54.716Z"
   },
   {
    "duration": 12,
    "start_time": "2023-05-01T13:49:55.102Z"
   },
   {
    "duration": 125,
    "start_time": "2023-05-01T13:49:55.260Z"
   },
   {
    "duration": 12,
    "start_time": "2023-05-01T13:49:55.387Z"
   },
   {
    "duration": 15,
    "start_time": "2023-05-01T13:49:55.400Z"
   },
   {
    "duration": 41,
    "start_time": "2023-05-01T13:49:55.416Z"
   },
   {
    "duration": 4,
    "start_time": "2023-05-01T13:49:55.458Z"
   },
   {
    "duration": 18,
    "start_time": "2023-05-01T13:49:55.464Z"
   },
   {
    "duration": 19,
    "start_time": "2023-05-01T13:49:55.483Z"
   },
   {
    "duration": 12,
    "start_time": "2023-05-01T13:49:55.503Z"
   },
   {
    "duration": 9,
    "start_time": "2023-05-01T13:49:55.516Z"
   },
   {
    "duration": 30,
    "start_time": "2023-05-01T13:49:55.526Z"
   },
   {
    "duration": 8,
    "start_time": "2023-05-01T13:49:55.557Z"
   },
   {
    "duration": 9,
    "start_time": "2023-05-01T13:49:55.566Z"
   },
   {
    "duration": 13,
    "start_time": "2023-05-01T13:49:55.577Z"
   },
   {
    "duration": 20,
    "start_time": "2023-05-01T13:49:55.592Z"
   },
   {
    "duration": 24,
    "start_time": "2023-05-01T13:49:55.617Z"
   },
   {
    "duration": 15,
    "start_time": "2023-05-01T13:49:55.642Z"
   },
   {
    "duration": 17,
    "start_time": "2023-05-01T13:49:55.658Z"
   },
   {
    "duration": 14,
    "start_time": "2023-05-01T13:49:55.677Z"
   },
   {
    "duration": 1399,
    "start_time": "2023-05-01T13:52:29.604Z"
   },
   {
    "duration": 1126,
    "start_time": "2023-05-01T13:52:51.560Z"
   },
   {
    "duration": 16,
    "start_time": "2023-05-01T13:53:44.200Z"
   },
   {
    "duration": 17,
    "start_time": "2023-05-01T13:53:55.882Z"
   },
   {
    "duration": 37,
    "start_time": "2023-05-01T13:54:08.497Z"
   },
   {
    "duration": 24,
    "start_time": "2023-05-01T14:05:35.552Z"
   },
   {
    "duration": 24,
    "start_time": "2023-05-01T14:06:37.768Z"
   },
   {
    "duration": 10,
    "start_time": "2023-05-01T14:09:30.891Z"
   },
   {
    "duration": 9,
    "start_time": "2023-05-01T14:09:45.984Z"
   },
   {
    "duration": 9,
    "start_time": "2023-05-01T14:09:52.980Z"
   },
   {
    "duration": 10,
    "start_time": "2023-05-01T14:27:56.401Z"
   },
   {
    "duration": 12,
    "start_time": "2023-05-01T14:28:13.021Z"
   }
  ],
  "kernelspec": {
   "display_name": "Python 3 (ipykernel)",
   "language": "python",
   "name": "python3"
  },
  "language_info": {
   "codemirror_mode": {
    "name": "ipython",
    "version": 3
   },
   "file_extension": ".py",
   "mimetype": "text/x-python",
   "name": "python",
   "nbconvert_exporter": "python",
   "pygments_lexer": "ipython3",
   "version": "3.10.9"
  },
  "toc": {
   "base_numbering": 1,
   "nav_menu": {},
   "number_sections": true,
   "sideBar": true,
   "skip_h1_title": true,
   "title_cell": "Table of Contents",
   "title_sidebar": "Contents",
   "toc_cell": false,
   "toc_position": {},
   "toc_section_display": true,
   "toc_window_display": false
  }
 },
 "nbformat": 4,
 "nbformat_minor": 5
}
